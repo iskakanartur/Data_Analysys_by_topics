{
 "cells": [
  {
   "cell_type": "markdown",
   "id": "61f9662a",
   "metadata": {},
   "source": [
    "# P Value and Hypothesis Testing\n",
    "- credits go to https://www.youtube.com/watch?v=5Z9OIYA8He8\n",
    "- khan academy https://www.youtube.com/watch?v=KS6KEWaoOOE"
   ]
  },
  {
   "cell_type": "markdown",
   "id": "a9debc56",
   "metadata": {},
   "source": [
    "## A quick intro to Probability"
   ]
  },
  {
   "cell_type": "code",
   "execution_count": null,
   "id": "aed18c18",
   "metadata": {},
   "outputs": [],
   "source": [
    "### Probablities and a p value - a case of coint flip"
   ]
  },
  {
   "cell_type": "markdown",
   "id": "612ffea3",
   "metadata": {},
   "source": [
    "<img src=\"pics_pvalue/p1.png\" alt=\"Drawing\" style=\"width: 600px;\"/>"
   ]
  },
  {
   "cell_type": "code",
   "execution_count": null,
   "id": "e27ad9f9",
   "metadata": {},
   "outputs": [],
   "source": [
    "## The probablity of getting two heads - multiplication rule\n",
    "## Here we have equally likely events. P of a head is 0.5 and p of a tail is 0.5"
   ]
  },
  {
   "cell_type": "markdown",
   "id": "2649c76b",
   "metadata": {},
   "source": [
    "<img src=\"pics_pvalue/p2.png\" alt=\"Drawing\" style=\"width: 600px;\"/>"
   ]
  },
  {
   "cell_type": "code",
   "execution_count": null,
   "id": "720c4f24",
   "metadata": {},
   "outputs": [],
   "source": [
    "## and a question what is the probablity of one heads and one tails after two flips\n",
    "## regardless of order? - 2/4"
   ]
  },
  {
   "cell_type": "markdown",
   "id": "d940b730",
   "metadata": {},
   "source": [
    "## Hypothesis Testing"
   ]
  },
  {
   "cell_type": "code",
   "execution_count": null,
   "id": "11970314",
   "metadata": {},
   "outputs": [],
   "source": [
    "## P Value - THE CASE OF A WEBSITE BACKGROUND COLOR (khan)\n",
    "## Let's saywe have a website with a dull white background, and our friend\n",
    "## recommends we change it to orange color. The Idea is that when the backround is\n",
    "## orange color people will SPEND MORE TIME, ON AVERAGE on your website.\n",
    "\n",
    "## So when it was white people would spend 20 ON AVERAGE 20 minutes\n",
    "## After the change to Orange we Hope they would spend, ON AVERAGE More than 20 minutes\n",
    "\n",
    "## So we set out to TEST OUR HYPOTHESIS (scientific method)\n",
    "## Like in courts (presumption of innocence!!!) We alsways start with \n",
    "\n",
    "## H0 - NULL HYPOTHESIS - that the change WILL HAVE NO EFFECT!!! \n",
    "## (After orange average time is still 20 minutes)\n",
    "\n",
    "## H1 : ALTERNATIVE HYPTHESIS - After change Average viewwng time is HIGHER\n",
    "\n"
   ]
  },
  {
   "cell_type": "markdown",
   "id": "9f284895",
   "metadata": {},
   "source": [
    "<img src=\"pics_pvalue/p3.png\" alt=\"Drawing\" style=\"width: 600px;\"/>"
   ]
  },
  {
   "cell_type": "code",
   "execution_count": null,
   "id": "9babb519",
   "metadata": {},
   "outputs": [],
   "source": [
    "## SIGNIFICANCE LEVEL ALPHA (usually 0.05) and Hypothesis testing\n",
    "\n",
    "## Alpha - We are going to take a SAMPLE OF PEOPLE, visiitng the new website (orange backrgound)\n",
    "## And we are going to CALCULATE STATISTICS - the SAMPLE mean, standard deviation \n",
    "\n",
    "## Hyopthesis testing - IF ww ASSUME that the NULL Hypothesis is true (No change after orange)\n",
    "## What is the PROBABILTY OF Getting a sample with the statistics that we get (mean, stanrad dev)\n",
    "## AND IF THAT PROBABILITY IS LOWER THAN OUR SIGNIFICANCE LEVEL (Alpha) \n",
    "\n",
    "## THEN WE REJECT THE NULL HYPOTHESIS  (SO we say It is IMPOSSIBLE TO GET THIS KIND OF STATISTICS if the NULL\n",
    "##HYPOTHESIS WERE TRUE) \n",
    "## and we say WE HAVE EVIDENCE FOR THE ALTERNATIVE HYPOTHESIS \n",
    "\n",
    "## IF the probabilty of getting that statistics is higher than alpha, we say \n",
    "##  WE CAN\"T REJECT THE NULL HYPOTHESIS "
   ]
  },
  {
   "cell_type": "code",
   "execution_count": null,
   "id": "9f8cf277",
   "metadata": {},
   "outputs": [],
   "source": [
    "## STEP 3 we take sample of people from orange website vistoors and say the mean is 25 minutes\n",
    "## STEP 4 We calculate Probabilty that our sample mean (from orange wesbite visitors) is at least\n",
    "## 25 minutes IF WE ASSUME that our NULL HYPOTHESIS IS TRUE \n",
    "## SO STEP 4 is a CONDITIONAL PROBABILITY \n",
    "\n",
    "## STEP 5 Based on Alpha Reject of FAIL to reject Null Hypothesis ( We don't say we accept alternative)"
   ]
  },
  {
   "cell_type": "markdown",
   "id": "c725eb79",
   "metadata": {},
   "source": [
    "<img src=\"pics_pvalue/p4.png\" alt=\"Drawing\" style=\"width: 600px;\"/>"
   ]
  },
  {
   "cell_type": "code",
   "execution_count": null,
   "id": "6ee76a52",
   "metadata": {},
   "outputs": [],
   "source": []
  },
  {
   "cell_type": "markdown",
   "id": "73160d43",
   "metadata": {},
   "source": [
    "## Practice : Hypothesis Testing and P values"
   ]
  },
  {
   "cell_type": "markdown",
   "id": "a3905c3d",
   "metadata": {},
   "source": [
    "### Exercises - Calculating the P value"
   ]
  },
  {
   "cell_type": "code",
   "execution_count": null,
   "id": "564c41e0",
   "metadata": {},
   "outputs": [],
   "source": [
    "## Exercise 1\n",
    "## Ask and answer \"They simulated 40 samples of n = 10\""
   ]
  },
  {
   "cell_type": "markdown",
   "id": "b807fc77",
   "metadata": {},
   "source": [
    "<img src=\"pics_pvalue/p5.png\" alt=\"Drawing\" style=\"width: 800px;\"/>"
   ]
  },
  {
   "cell_type": "code",
   "execution_count": null,
   "id": "dc3a09cf",
   "metadata": {},
   "outputs": [],
   "source": [
    "## SOLUTION Exercise 1\n",
    "## Pay attention Cases when H1 ALternative is NOT EQUAL or Greater than in other cases\n",
    "## and how this effects if we look both tails or just one tail"
   ]
  },
  {
   "cell_type": "markdown",
   "id": "c7538f61",
   "metadata": {},
   "source": [
    "<img src=\"pics_pvalue/p7.png\" alt=\"Drawing\" style=\"width: 600px;\"/>"
   ]
  },
  {
   "cell_type": "code",
   "execution_count": null,
   "id": "b406c830",
   "metadata": {},
   "outputs": [],
   "source": [
    "## Exercise 2\n",
    "## Ask and comment on what it means to say \"They Simulated 50 Samples of n = 9\""
   ]
  },
  {
   "cell_type": "markdown",
   "id": "d830f8d1",
   "metadata": {},
   "source": [
    "<img src=\"pics_pvalue/p8.png\" alt=\"Drawing\" style=\"width: 800px;\"/>"
   ]
  },
  {
   "cell_type": "code",
   "execution_count": null,
   "id": "124ed652",
   "metadata": {},
   "outputs": [],
   "source": [
    "## Solution Exercise 2\n",
    "## Pay attention Cases when H1 ALternative is NOT EQUAL or Greater than in other cases\n",
    "## and how this effects if we look both tails or just one tail"
   ]
  },
  {
   "cell_type": "markdown",
   "id": "ab698416",
   "metadata": {},
   "source": [
    "<img src=\"pics_pvalue/p9.png\" alt=\"Drawing\" style=\"width: 700px;\"/>"
   ]
  },
  {
   "cell_type": "code",
   "execution_count": null,
   "id": "db2cf2c5",
   "metadata": {},
   "outputs": [],
   "source": [
    "## Exercise 3\n",
    "## Ask and comment what is \"Series of 80 times\" and what is \"repeated the process \n",
    "## for a total of 125 samples\"\n",
    "\n",
    "## So he does experiments.  125 times\n",
    "## each time he spins a coin 80 spins and records the results\n",
    "## repeats that 125 times"
   ]
  },
  {
   "cell_type": "markdown",
   "id": "f303b611",
   "metadata": {},
   "source": [
    "<img src=\"pics_pvalue/p10.png\" alt=\"Drawing\" style=\"width: 800px;\"/>"
   ]
  },
  {
   "cell_type": "code",
   "execution_count": null,
   "id": "ec54c0c3",
   "metadata": {},
   "outputs": [],
   "source": [
    "## SOLUTION Exercise 3\n",
    "## Pay attention Cases when H1 ALternative is NOT EQUAL or Greater than in other cases\n",
    "## and how this effects if we look both tails or just one tail"
   ]
  },
  {
   "cell_type": "markdown",
   "id": "69b9d8ad",
   "metadata": {},
   "source": [
    "<img src=\"pics_pvalue/p11.png\" alt=\"Drawing\" style=\"width: 700px;\"/>"
   ]
  },
  {
   "cell_type": "code",
   "execution_count": null,
   "id": "7a4ea7ba",
   "metadata": {},
   "outputs": [],
   "source": [
    "## EXERCISE 4\n",
    "## Pay attention Cases when H1 ALternative is NOT EQUAL or Greater than in other cases\n",
    "## and how this effects if we look both tails or just one tail"
   ]
  },
  {
   "cell_type": "markdown",
   "id": "ab088aa0",
   "metadata": {},
   "source": [
    "<img src=\"pics_pvalue/p12.png\" alt=\"Drawing\" style=\"width: 700px;\"/>"
   ]
  },
  {
   "cell_type": "code",
   "execution_count": null,
   "id": "7a001f73",
   "metadata": {},
   "outputs": [],
   "source": [
    "## Solution Exercise 4"
   ]
  },
  {
   "cell_type": "markdown",
   "id": "a7d636fe",
   "metadata": {},
   "source": [
    "<img src=\"pics_pvalue/p13.png\" alt=\"Drawing\" style=\"width: 700px;\"/>"
   ]
  },
  {
   "cell_type": "code",
   "execution_count": null,
   "id": "aa77ab8f",
   "metadata": {},
   "outputs": [],
   "source": []
  },
  {
   "cell_type": "markdown",
   "id": "bb2f7156",
   "metadata": {},
   "source": [
    "### Exercises - Making Conlusions Based on A P value"
   ]
  },
  {
   "cell_type": "markdown",
   "id": "b3f20ed8",
   "metadata": {},
   "source": [
    "<img src=\"pics_pvalue/p14.png\" alt=\"Drawing\" style=\"width: 600px;\"/>"
   ]
  },
  {
   "cell_type": "code",
   "execution_count": null,
   "id": "b1a4d626",
   "metadata": {},
   "outputs": [],
   "source": [
    "## Exercise 1"
   ]
  },
  {
   "cell_type": "markdown",
   "id": "0ffe091c",
   "metadata": {},
   "source": [
    "<img src=\"pics_pvalue/p15.png\" alt=\"Drawing\" style=\"width: 600px;\"/>"
   ]
  },
  {
   "cell_type": "code",
   "execution_count": null,
   "id": "fdd44e3c",
   "metadata": {},
   "outputs": [],
   "source": []
  },
  {
   "cell_type": "markdown",
   "id": "ae5f7832",
   "metadata": {},
   "source": [
    "<img src=\"pics_pvalue/16.png\" alt=\"Drawing\" style=\"width: 600px;\"/>"
   ]
  },
  {
   "cell_type": "code",
   "execution_count": null,
   "id": "0ba6a731",
   "metadata": {},
   "outputs": [],
   "source": [
    "## IN CONTEXT WHAT DOES THIS CONCLUSION SAY?"
   ]
  },
  {
   "cell_type": "markdown",
   "id": "c84ac6e4",
   "metadata": {},
   "source": [
    "<img src=\"pics_pvalue/p17.png\" alt=\"Drawing\" style=\"width: 600px;\"/>"
   ]
  },
  {
   "cell_type": "code",
   "execution_count": null,
   "id": "52200d2a",
   "metadata": {},
   "outputs": [],
   "source": [
    "<img src=\"pics_pvalue/p1.png\" alt=\"Drawing\" style=\"width: 600px;\"/>"
   ]
  },
  {
   "cell_type": "code",
   "execution_count": null,
   "id": "2ea7c231",
   "metadata": {},
   "outputs": [],
   "source": [
    "<img src=\"pics_pvalue/p1.png\" alt=\"Drawing\" style=\"width: 600px;\"/>"
   ]
  },
  {
   "cell_type": "code",
   "execution_count": null,
   "id": "abcc916a",
   "metadata": {},
   "outputs": [],
   "source": [
    "<img src=\"pics_pvalue/p1.png\" alt=\"Drawing\" style=\"width: 600px;\"/>"
   ]
  },
  {
   "cell_type": "code",
   "execution_count": null,
   "id": "a4b7c6f9",
   "metadata": {},
   "outputs": [],
   "source": [
    "<img src=\"pics_pvalue/p1.png\" alt=\"Drawing\" style=\"width: 600px;\"/>"
   ]
  },
  {
   "cell_type": "code",
   "execution_count": null,
   "id": "306a6a37",
   "metadata": {},
   "outputs": [],
   "source": []
  },
  {
   "cell_type": "code",
   "execution_count": null,
   "id": "bdd92544",
   "metadata": {},
   "outputs": [],
   "source": []
  },
  {
   "cell_type": "code",
   "execution_count": null,
   "id": "83f02deb",
   "metadata": {},
   "outputs": [],
   "source": []
  }
 ],
 "metadata": {
  "kernelspec": {
   "display_name": "Python 3 (ipykernel)",
   "language": "python",
   "name": "python3"
  },
  "language_info": {
   "codemirror_mode": {
    "name": "ipython",
    "version": 3
   },
   "file_extension": ".py",
   "mimetype": "text/x-python",
   "name": "python",
   "nbconvert_exporter": "python",
   "pygments_lexer": "ipython3",
   "version": "3.9.12"
  }
 },
 "nbformat": 4,
 "nbformat_minor": 5
}
