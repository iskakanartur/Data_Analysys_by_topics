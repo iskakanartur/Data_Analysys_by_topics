{
 "cells": [
  {
   "cell_type": "markdown",
   "id": "02d1515c",
   "metadata": {},
   "source": [
    "## Intro to Z statistics as a part of Exploring one-variable quantitative data: Percentiles, z-scores, and the normal distribution\n",
    "- credits https://www.khanacademy.org/math/ap-statistics/density-curves-normal-distribution-ap/measuring-position/v/z-score-introduction"
   ]
  },
  {
   "cell_type": "code",
   "execution_count": null,
   "id": "143d47f8",
   "metadata": {},
   "outputs": [],
   "source": [
    "## Z score is just the number of STANDARD DEVIATIONS away from the MEAN that a certain Data point is\n",
    "\n",
    "## Say you are a marine bilogist and you have discovered a new type of winged turtle\n",
    "## and there's total of 7 of these turtules\n",
    "## you go ahead and measure the LENGHTH of ALL these trutles\n",
    "## HOW ARE THESE LENGHTS DISTRIBUTED?\n",
    "\n",
    "## We calculated the Mean and the Standard Deviation from these Data\n",
    "\n",
    "## and with mean and SD = 1.69 we can calcuate the Z score for each of these data points"
   ]
  },
  {
   "cell_type": "markdown",
   "id": "31d2b7aa",
   "metadata": {},
   "source": [
    "<img src=\"pics_z_test/z1.png\" alt=\"Drawing\" style=\"width: 700px;\"/>"
   ]
  },
  {
   "cell_type": "code",
   "execution_count": null,
   "id": "c434ab98",
   "metadata": {},
   "outputs": [],
   "source": [
    "## WHY DO WE CARE ABOUT Z Score\n",
    "## Why do we care how many standard deviations a certain data point is above or below from pop mean?\n",
    "## Z score is a VERY convenient tool to think HOW USUAL or HOW UNUUSAL A certain data point is\n",
    "## This is valuable when we make Inferences about our data"
   ]
  },
  {
   "cell_type": "code",
   "execution_count": null,
   "id": "8b7cb7b4",
   "metadata": {},
   "outputs": [],
   "source": [
    "## CALCULATING Z scores"
   ]
  },
  {
   "cell_type": "markdown",
   "id": "4fe1fa12",
   "metadata": {},
   "source": [
    "<img src=\"pics_z_test/z2.png\" alt=\"Drawing\" style=\"width: 6000px;\"/>"
   ]
  },
  {
   "cell_type": "code",
   "execution_count": null,
   "id": "bf116696",
   "metadata": {},
   "outputs": [],
   "source": []
  },
  {
   "cell_type": "markdown",
   "id": "559017da",
   "metadata": {},
   "source": [
    "## COMPARING WITH Z Scores"
   ]
  },
  {
   "cell_type": "code",
   "execution_count": null,
   "id": "65775302",
   "metadata": {},
   "outputs": [],
   "source": [
    "## EXPLANATION - You can't just compare two result ABSOLUTE SCORES BECAUSE THEY ARE ON DIFFERENT SCALES\n",
    "## and they have DIFFERENT DISTRIBUTIONS!!!\n",
    "## But of we asume these are NORMAL distributions (or clsoe to it)\n",
    "## We can compare them with Z scores. How many SDs are these scores away from their means\n",
    "\n"
   ]
  },
  {
   "cell_type": "markdown",
   "id": "ad4b7445",
   "metadata": {},
   "source": [
    "<img src=\"pics_z_test/z3.png\" alt=\"Drawing\" style=\"width: 700px;\"/>"
   ]
  },
  {
   "cell_type": "code",
   "execution_count": null,
   "id": "36b9cfd3",
   "metadata": {},
   "outputs": [],
   "source": [
    "## So based on these Z scores, He did SLIGHTLY BETTER ON LSAT"
   ]
  },
  {
   "cell_type": "markdown",
   "id": "d7b8f197",
   "metadata": {},
   "source": [
    "<img src=\"pics_z_test/z4.png\" alt=\"Drawing\" style=\"width: 600px;\"/>"
   ]
  },
  {
   "cell_type": "code",
   "execution_count": null,
   "id": "ad2df9f7",
   "metadata": {},
   "outputs": [],
   "source": [
    "## PRACTICE COMPARING WITH Z scores \n",
    "## !!!!!!!!!!!!!!!!!!!!!!!!!!!!!!!!! RELATIVE TO ITS TYPE !!!!!!!!!!!!!!!!!!!!!!!!!!!"
   ]
  },
  {
   "cell_type": "markdown",
   "id": "6ae2461d",
   "metadata": {},
   "source": [
    "<img src=\"pics_z_test/z5.png\" alt=\"Drawing\" style=\"width: 800px;\"/>"
   ]
  },
  {
   "cell_type": "code",
   "execution_count": null,
   "id": "2e101f97",
   "metadata": {},
   "outputs": [],
   "source": []
  },
  {
   "cell_type": "markdown",
   "id": "c231d556",
   "metadata": {},
   "source": [
    "<img src=\"pics_z_test/z6.png\" alt=\"Drawing\" style=\"width: 800px;\"/>"
   ]
  },
  {
   "cell_type": "code",
   "execution_count": null,
   "id": "fa2593c6",
   "metadata": {},
   "outputs": [],
   "source": []
  },
  {
   "cell_type": "markdown",
   "id": "da9db8e4",
   "metadata": {},
   "source": [
    "<img src=\"pics_z_test/z7.png\" alt=\"Drawing\" style=\"width: 700px;\"/>"
   ]
  },
  {
   "cell_type": "code",
   "execution_count": null,
   "id": "a55c4b8a",
   "metadata": {},
   "outputs": [],
   "source": [
    "## Comparing with Z scores : 2\n",
    "## !!!!!!!!!!!!!!!!!!!!!!!!!!!!!!!! RELATIVE TO THEIR GROUPS/RACE !!!!!!!!!!!!!!!!!!!"
   ]
  },
  {
   "cell_type": "markdown",
   "id": "51a5dda7",
   "metadata": {},
   "source": [
    "<img src=\"pics_z_test/z8.png\" alt=\"Drawing\" style=\"width: 700px;\"/>"
   ]
  },
  {
   "cell_type": "code",
   "execution_count": null,
   "id": "6b1c352c",
   "metadata": {},
   "outputs": [],
   "source": []
  },
  {
   "cell_type": "markdown",
   "id": "b3cb0354",
   "metadata": {},
   "source": [
    "<img src=\"pics_z_test/z9.png\" alt=\"Drawing\" style=\"width: 700px;\"/>"
   ]
  },
  {
   "cell_type": "code",
   "execution_count": null,
   "id": "7d99a3ae",
   "metadata": {},
   "outputs": [],
   "source": []
  },
  {
   "cell_type": "markdown",
   "id": "3ff26d07",
   "metadata": {},
   "source": [
    "<img src=\"pics_z_test/z10.png\" alt=\"Drawing\" style=\"width: 700px;\"/>"
   ]
  },
  {
   "cell_type": "code",
   "execution_count": null,
   "id": "f8b5b290",
   "metadata": {},
   "outputs": [],
   "source": []
  },
  {
   "cell_type": "code",
   "execution_count": null,
   "id": "c5c715da",
   "metadata": {},
   "outputs": [],
   "source": [
    "<img src=\"pics_z_test/1.png\" alt=\"Drawing\" style=\"width: 600px;\"/>"
   ]
  },
  {
   "cell_type": "code",
   "execution_count": null,
   "id": "03620022",
   "metadata": {},
   "outputs": [],
   "source": []
  },
  {
   "cell_type": "code",
   "execution_count": null,
   "id": "d2dce7d7",
   "metadata": {},
   "outputs": [],
   "source": [
    "<img src=\"pics_z_test/1.png\" alt=\"Drawing\" style=\"width: 600px;\"/>"
   ]
  },
  {
   "cell_type": "code",
   "execution_count": null,
   "id": "9b24d0c6",
   "metadata": {},
   "outputs": [],
   "source": []
  },
  {
   "cell_type": "code",
   "execution_count": null,
   "id": "0d6f1c5b",
   "metadata": {},
   "outputs": [],
   "source": [
    "<img src=\"pics_z_test/1.png\" alt=\"Drawing\" style=\"width: 600px;\"/>"
   ]
  },
  {
   "cell_type": "code",
   "execution_count": null,
   "id": "1653c31e",
   "metadata": {},
   "outputs": [],
   "source": []
  },
  {
   "cell_type": "code",
   "execution_count": null,
   "id": "9ebc7e18",
   "metadata": {},
   "outputs": [],
   "source": [
    "<img src=\"pics_z_test/1.png\" alt=\"Drawing\" style=\"width: 600px;\"/>"
   ]
  },
  {
   "cell_type": "code",
   "execution_count": null,
   "id": "806cb0f2",
   "metadata": {},
   "outputs": [],
   "source": []
  },
  {
   "cell_type": "code",
   "execution_count": null,
   "id": "ca292b9e",
   "metadata": {},
   "outputs": [],
   "source": []
  }
 ],
 "metadata": {
  "kernelspec": {
   "display_name": "Python 3 (ipykernel)",
   "language": "python",
   "name": "python3"
  },
  "language_info": {
   "codemirror_mode": {
    "name": "ipython",
    "version": 3
   },
   "file_extension": ".py",
   "mimetype": "text/x-python",
   "name": "python",
   "nbconvert_exporter": "python",
   "pygments_lexer": "ipython3",
   "version": "3.9.12"
  }
 },
 "nbformat": 4,
 "nbformat_minor": 5
}
