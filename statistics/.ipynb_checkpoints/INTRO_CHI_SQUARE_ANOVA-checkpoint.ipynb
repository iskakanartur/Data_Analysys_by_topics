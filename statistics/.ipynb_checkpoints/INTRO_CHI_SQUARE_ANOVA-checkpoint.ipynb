{
 "cells": [
  {
   "cell_type": "markdown",
   "id": "d280103e",
   "metadata": {},
   "source": [
    "# CHI - SQUARE TEST : Goodness of Fit test Uning Chi_Sq Distribution\n",
    "- credits to https://www.youtube.com/watch?v=HKDqlYSLt68"
   ]
  },
  {
   "cell_type": "code",
   "execution_count": null,
   "id": "67035755",
   "metadata": {},
   "outputs": [],
   "source": []
  },
  {
   "cell_type": "markdown",
   "id": "59064df8",
   "metadata": {},
   "source": [
    "<img src=\"pics_chi/c1.png\" alt=\"Drawing\" style=\"width: 1100px;\"/>"
   ]
  },
  {
   "cell_type": "code",
   "execution_count": null,
   "id": "13de4f18",
   "metadata": {},
   "outputs": [],
   "source": [
    "## Null Hypothesis - Absent Days Occur with Equal Frequencies  - THEY FORM UNIFORM DISTRIBUTION!!!!\n",
    "\n",
    "## !!!!! CHI SQ DIstribution IS NOT A SYMETRICAL DISTRIBUTION!!!!\n",
    "## !!!! It is Skewed\n",
    "\n",
    "## RR in the pitcure REJECTION Region "
   ]
  },
  {
   "cell_type": "markdown",
   "id": "f674cd59",
   "metadata": {},
   "source": [
    "<img src=\"pics_chi/c4.png\" alt=\"Drawing\" style=\"width: 800px;\"/>"
   ]
  },
  {
   "cell_type": "code",
   "execution_count": null,
   "id": "7ca0f89a",
   "metadata": {},
   "outputs": [],
   "source": [
    "## APPROACH \n",
    "\n",
    "## Calculate the CHiSQ Value\n",
    "## COmpare againts the CRITICAL ChiSQ value\n",
    "## See If the calculated value is in the DO not reject Region or Reject Region "
   ]
  },
  {
   "cell_type": "code",
   "execution_count": null,
   "id": "e6d96a2f",
   "metadata": {},
   "outputs": [],
   "source": [
    "## !!! n in Degrees of Freedom is the NUMBER OF CATEGORIES in our Data - Days of the Week 5\n",
    "\n",
    "## The Column names (099, 095...) in Chi_sq DIstribution Tables are AREA TO THE RIGHT "
   ]
  },
  {
   "cell_type": "markdown",
   "id": "52781423",
   "metadata": {},
   "source": [
    "<img src=\"pics_chi/c2.png\" alt=\"Drawing\" style=\"width: 900px;\"/>"
   ]
  },
  {
   "cell_type": "code",
   "execution_count": null,
   "id": "3d1b74c5",
   "metadata": {},
   "outputs": [],
   "source": [
    "## THE FORMULA WITH SUM (SIGMA) Xc = SIGMA(O - E)sq/E\n",
    "\n",
    "## O - Obsered Values\n",
    "## E expected Values\n",
    "\n",
    "## See the Table First Row contains Observed Values "
   ]
  },
  {
   "cell_type": "code",
   "execution_count": null,
   "id": "93f45f00",
   "metadata": {},
   "outputs": [],
   "source": []
  },
  {
   "cell_type": "markdown",
   "id": "95e1a874",
   "metadata": {},
   "source": [
    "<img src=\"pics_chi/c3.png\" alt=\"Drawing\" style=\"width: 800px;\"/>"
   ]
  },
  {
   "cell_type": "code",
   "execution_count": null,
   "id": "74c61b83",
   "metadata": {},
   "outputs": [],
   "source": [
    "## DECIDING On ACCEPT or REJECT\n",
    "\n",
    "## Chi Square Value 6.3 lies in DO not Reject area\n",
    "\n",
    "## Therefore We are going to accept the Null Hy H0 so the OBSERVED VARIATION (see the rows below on pic)\n",
    "## is NOT ENOUGH, or NOT SIGNIFICANT To Reject the Null Hypothesis \n"
   ]
  },
  {
   "cell_type": "markdown",
   "id": "3620e0b3",
   "metadata": {},
   "source": [
    "<img src=\"pics_chi/c5.png\" alt=\"Drawing\" style=\"width: 800px;\"/>"
   ]
  },
  {
   "cell_type": "code",
   "execution_count": null,
   "id": "02e67a7d",
   "metadata": {},
   "outputs": [],
   "source": []
  },
  {
   "cell_type": "code",
   "execution_count": null,
   "id": "99608771",
   "metadata": {},
   "outputs": [],
   "source": []
  },
  {
   "cell_type": "markdown",
   "id": "a63d80d4",
   "metadata": {},
   "source": [
    "# ANOVA - Analysys of Variance Tests : Are there statsitcially significant Differences betweenmore than two groups\n",
    "- credits https://www.youtube.com/watch?v=ITf4vHhyGpc"
   ]
  },
  {
   "cell_type": "code",
   "execution_count": null,
   "id": "08f7613f",
   "metadata": {},
   "outputs": [],
   "source": [
    "## YOu are Testing How differnt drinks have different effects on people's Reaction time\n",
    "## You wanna know if THERE IS ANY DIFFERENC IN THE REACTION TIME BETWEEN THE GROUPS\n",
    "\n",
    "## If there were only two groups we could use T test \n",
    "\n",
    "## But we have more than two so we need ANOVA"
   ]
  },
  {
   "cell_type": "markdown",
   "id": "a48f5015",
   "metadata": {},
   "source": [
    "<img src=\"pics_chi/c7.png\" alt=\"Drawing\" style=\"width: 600px;\"/>"
   ]
  },
  {
   "cell_type": "code",
   "execution_count": null,
   "id": "2328e3d7",
   "metadata": {},
   "outputs": [],
   "source": [
    "## The TOTAL VARIATION OF ALL THE  SCORES is made of 2 parts\n",
    "\n",
    "## VARIATION WITHIN EACH GROUP - People in EACH Group have DIFFERENT reaction Times "
   ]
  },
  {
   "cell_type": "markdown",
   "id": "84959992",
   "metadata": {},
   "source": [
    "<img src=\"pics_chi/c8.png\" alt=\"Drawing\" style=\"width: 600px;\"/>"
   ]
  },
  {
   "cell_type": "code",
   "execution_count": null,
   "id": "e49e23a5",
   "metadata": {},
   "outputs": [],
   "source": [
    "## AND VARIATION BETWEEN THE GROUPS - Because DRINKS you give to people are DIFFERENT "
   ]
  },
  {
   "cell_type": "markdown",
   "id": "d2517c8b",
   "metadata": {},
   "source": [
    "<img src=\"pics_chi/c9.png\" alt=\"Drawing\" style=\"width: 600px;\"/>"
   ]
  },
  {
   "cell_type": "code",
   "execution_count": null,
   "id": "6ebc8678",
   "metadata": {},
   "outputs": [],
   "source": [
    "## Examples 1\n",
    "## We see there's a lot of variation WITHIN EACH GROUP - Some pople are faster and the other are slower"
   ]
  },
  {
   "cell_type": "markdown",
   "id": "f7cf079d",
   "metadata": {},
   "source": [
    "<img src=\"pics_chi/c10.png\" alt=\"Drawing\" style=\"width: 600px;\"/>"
   ]
  },
  {
   "cell_type": "code",
   "execution_count": null,
   "id": "a185e837",
   "metadata": {},
   "outputs": [],
   "source": [
    "## But All the groups are Pretty Much Alike - there's NOT MUCH VARIATION BETWEEN the GROUPS"
   ]
  },
  {
   "cell_type": "markdown",
   "id": "89738fbb",
   "metadata": {},
   "source": [
    "<img src=\"pics_chi/c11.png\" alt=\"Drawing\" style=\"width: 600px;\"/>"
   ]
  },
  {
   "cell_type": "code",
   "execution_count": null,
   "id": "80b15d17",
   "metadata": {},
   "outputs": [],
   "source": [
    "## And In this case we make CONCLUSION that People and Not the Drinks and their Effect MAKE THE DIFFERENCE\n",
    "## AND we ACCEPT THE NULL Hypothesis That the Type of Drink DOES NOT HAVE ANY EFFECT on Reaction Time "
   ]
  },
  {
   "cell_type": "markdown",
   "id": "c4d00382",
   "metadata": {},
   "source": [
    "<img src=\"pics_chi/c12.png\" alt=\"Drawing\" style=\"width: 600px;\"/>"
   ]
  },
  {
   "cell_type": "code",
   "execution_count": null,
   "id": "11880af9",
   "metadata": {},
   "outputs": [],
   "source": [
    "## EXAMPLE 2 - Different SET OF NUMBERS\n",
    "## Not much VArianc WITHIN THE GROUP But lot of variance BETWEEN "
   ]
  },
  {
   "cell_type": "markdown",
   "id": "7af66b46",
   "metadata": {},
   "source": [
    "<img src=\"pics_chi/c13.png\" alt=\"Drawing\" style=\"width: 600px;\"/>"
   ]
  },
  {
   "cell_type": "code",
   "execution_count": null,
   "id": "4cf43d63",
   "metadata": {},
   "outputs": [],
   "source": [
    "## SO WE REJECT THE NULL HYPOTHESIS \n",
    "## IT IS THE  TYPE OF THE DRINK THAT MAKES THE DIFFERENCE "
   ]
  },
  {
   "cell_type": "markdown",
   "id": "979ffad0",
   "metadata": {},
   "source": [
    "<img src=\"pics_chi/c14.png\" alt=\"Drawing\" style=\"width: 600px;\"/>"
   ]
  },
  {
   "cell_type": "code",
   "execution_count": null,
   "id": "3d4fe122",
   "metadata": {},
   "outputs": [],
   "source": [
    "## THE STRATEGY "
   ]
  },
  {
   "cell_type": "markdown",
   "id": "6804ee30",
   "metadata": {},
   "source": [
    "<img src=\"pics_chi/c15.png\" alt=\"Drawing\" style=\"width: 600px;\"/>"
   ]
  },
  {
   "cell_type": "code",
   "execution_count": null,
   "id": "0d0b1932",
   "metadata": {},
   "outputs": [],
   "source": [
    "## EXAMPLE 3 : THE HARDER Case - when Between Groups and WITHIN GROUPS is not OBVIOUS At first glance "
   ]
  },
  {
   "cell_type": "markdown",
   "id": "ff3807b6",
   "metadata": {},
   "source": [
    "<img src=\"pics_chi/c16.png\" alt=\"Drawing\" style=\"width: 600px;\"/>"
   ]
  },
  {
   "cell_type": "code",
   "execution_count": null,
   "id": "68926bee",
   "metadata": {},
   "outputs": [],
   "source": [
    "## So with these Numbers YOU REJECT NULL Hypothesis and say that \n",
    "## the Type of drink DOES HAVE EFFECT on REACTION TIME\n",
    "\n",
    "## F(2,12) -  Is the Degrees of Freedom  for variance Between Groups and variance Within Groups\n",
    "## "
   ]
  },
  {
   "cell_type": "markdown",
   "id": "3526ec5e",
   "metadata": {},
   "source": [
    "<img src=\"pics_chi/c17.png\" alt=\"Drawing\" style=\"width: 600px;\"/>"
   ]
  },
  {
   "cell_type": "code",
   "execution_count": null,
   "id": "0e164fac",
   "metadata": {},
   "outputs": [],
   "source": []
  },
  {
   "cell_type": "markdown",
   "id": "c2f0a193",
   "metadata": {},
   "source": [
    "<img src=\"pics_chi/c18.png\" alt=\"Drawing\" style=\"width: 600px;\"/>"
   ]
  },
  {
   "cell_type": "code",
   "execution_count": null,
   "id": "981e60a5",
   "metadata": {},
   "outputs": [],
   "source": [
    "## ANOVA WORKS NOT ONLY WITH WHen you have 3 or More groups\n",
    "## But ALSO WOrks when you have MULTIPLE VARIABLES \n",
    "## You Test 3 groups for reaction time in the MORNING \n",
    "## And you test ANOTHER 3 Groups in the evening \n",
    "\n",
    "## ANOVE Here can tell you if there's significant Effect for the TYPE of Drink\n",
    "## OR\n",
    "## IF the Time of the DAY makes ANY Difference\n",
    "## OR\n",
    "## If there;s SOme interaction between All - Like COffe Might be more effetcive in the MORNING than in the EVENING\n",
    "## "
   ]
  },
  {
   "cell_type": "markdown",
   "id": "ea1c1e11",
   "metadata": {},
   "source": [
    "<img src=\"pics_chi/c19.png\" alt=\"Drawing\" style=\"width: 600px;\"/>"
   ]
  },
  {
   "cell_type": "code",
   "execution_count": null,
   "id": "e0d2969f",
   "metadata": {},
   "outputs": [],
   "source": []
  },
  {
   "cell_type": "code",
   "execution_count": null,
   "id": "e1b0e7b2",
   "metadata": {},
   "outputs": [],
   "source": [
    "<img src=\"pics_chi/c11.png\" alt=\"Drawing\" style=\"width: 600px;\"/>"
   ]
  },
  {
   "cell_type": "code",
   "execution_count": null,
   "id": "d470ecbc",
   "metadata": {},
   "outputs": [],
   "source": []
  },
  {
   "cell_type": "code",
   "execution_count": null,
   "id": "ca4794c1",
   "metadata": {},
   "outputs": [],
   "source": [
    "<img src=\"pics_chi/c11.png\" alt=\"Drawing\" style=\"width: 600px;\"/>"
   ]
  },
  {
   "cell_type": "code",
   "execution_count": null,
   "id": "f87dcbe4",
   "metadata": {},
   "outputs": [],
   "source": []
  },
  {
   "cell_type": "code",
   "execution_count": null,
   "id": "d27567e6",
   "metadata": {},
   "outputs": [],
   "source": []
  },
  {
   "cell_type": "code",
   "execution_count": null,
   "id": "6b9f88e6",
   "metadata": {},
   "outputs": [],
   "source": []
  },
  {
   "cell_type": "code",
   "execution_count": null,
   "id": "269baff3",
   "metadata": {},
   "outputs": [],
   "source": []
  }
 ],
 "metadata": {
  "kernelspec": {
   "display_name": "Python 3 (ipykernel)",
   "language": "python",
   "name": "python3"
  },
  "language_info": {
   "codemirror_mode": {
    "name": "ipython",
    "version": 3
   },
   "file_extension": ".py",
   "mimetype": "text/x-python",
   "name": "python",
   "nbconvert_exporter": "python",
   "pygments_lexer": "ipython3",
   "version": "3.9.12"
  }
 },
 "nbformat": 4,
 "nbformat_minor": 5
}
