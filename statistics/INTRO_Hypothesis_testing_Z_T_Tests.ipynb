{
 "cells": [
  {
   "cell_type": "markdown",
   "id": "84355e06",
   "metadata": {},
   "source": [
    "## Hypothesis Testing with Z score and T score\n",
    "- credits https://www.youtube.com/watch?v=zJ8e_wAWUzE"
   ]
  },
  {
   "cell_type": "markdown",
   "id": "9198c0cb",
   "metadata": {},
   "source": [
    "### Example 1"
   ]
  },
  {
   "cell_type": "markdown",
   "id": "5392c2ad",
   "metadata": {},
   "source": [
    "<img src=\"pics_hypothesis/h0.png\" alt=\"Drawing\" style=\"width: 1100px;\"/>"
   ]
  },
  {
   "cell_type": "code",
   "execution_count": null,
   "id": "2be52a4d",
   "metadata": {},
   "outputs": [],
   "source": [
    "## ONE TAIL OR TWO TAIL TEST?\n",
    "## We NEed here two tail Test - WHY?\n",
    "\n",
    "##  H0 Not equal 80 - it can be >80 or <80. Left side or right side so we need two tail test\n",
    "## Conf level we set to 95%\n",
    "## Area of shaded sides is 2x 2.5% = 5%\n",
    "\n",
    "## Z value that corresponds to 95% CONFIDENCE LEVEL is 1.96 (see table of Z-scores )\n",
    "## -1.96 and 1.96 are the CRITICAL VALUES\n",
    "## The Separate the REJECTION REGION (IF we reject Null hypothesis) FROM the FAIL TO REJECT REGION\n",
    "\n",
    "## The SHADED Area is the REJECTION REHION\n",
    "\n",
    "## To decide if we REJECT or ACCEPT H0 we need to calculate Z value and Compare it to 1.96 Critical values"
   ]
  },
  {
   "cell_type": "markdown",
   "id": "9e8927b7",
   "metadata": {},
   "source": [
    "<img src=\"pics_hypothesis/h1.png\" alt=\"Drawing\" style=\"width: 600px;\"/>"
   ]
  },
  {
   "cell_type": "code",
   "execution_count": null,
   "id": "169188d8",
   "metadata": {},
   "outputs": [],
   "source": [
    "## HOW To find a Z value?\n",
    "## https://www.youtube.com/watch?v=sJyZ9vRhP7o\n",
    "\n",
    "## !!!!! A z-test can only be used if the population standard deviation is known and the !!!!\n",
    "## !!!!! sample size is 30 data points or larger. \n",
    "## !!!!! If we don't know POPULATION Standard Deviation and n <30  a t-test should be employed.\n",
    "\n",
    "## Sample size is 40\n",
    "## IF the SAMPLE SIZE IS LESS than 30 We had to use T distribution\n",
    "\n",
    "## We calculate and see Z score of -5.06.. Far left beyond our -1.96\n",
    "\n",
    "## This Z value tells us WE SHOULD REJECT THE NULL HYPOTHESIS in favor of H1"
   ]
  },
  {
   "cell_type": "code",
   "execution_count": null,
   "id": "02890ad9",
   "metadata": {},
   "outputs": [],
   "source": [
    "## With a 95% CONFIDENCE INTERVAL we cannot accept the NULL hypothesis that the average amount of fluid\n",
    "## dispensed by the machine is 80ml\n",
    "\n",
    "## With 95% CONFIDENCE WE BELIEVE THAT THE MACHINE IS NOT WORKING PROPERLY !!!!"
   ]
  },
  {
   "cell_type": "code",
   "execution_count": null,
   "id": "f189221c",
   "metadata": {},
   "outputs": [],
   "source": []
  },
  {
   "cell_type": "markdown",
   "id": "d93b3637",
   "metadata": {},
   "source": [
    "### Example 2"
   ]
  },
  {
   "cell_type": "code",
   "execution_count": null,
   "id": "f7066781",
   "metadata": {},
   "outputs": [],
   "source": [
    "## Two tail or One tail test?\n",
    "## Because Ha  <2 it will be one tail, LEFT Tail test\n",
    "\n",
    "## Z test or T test?\n",
    "## n = 10, Sample size is lezz than 30 , We need T test PLUS we don't know POPULATION Standard Deviation \n",
    "\n",
    "## What is THE T VALUE FOR OUR CRITICAL VALUE of a REJECTION AREA?\n"
   ]
  },
  {
   "cell_type": "markdown",
   "id": "5e3591b2",
   "metadata": {},
   "source": [
    "<img src=\"pics_hypothesis/h2.png\" alt=\"Drawing\" style=\"width: 1100px;\"/>"
   ]
  },
  {
   "cell_type": "code",
   "execution_count": null,
   "id": "29ad5c25",
   "metadata": {},
   "outputs": [],
   "source": [
    "## STUDENT's T DISTRIBUTION TABLE\n",
    "## df is Degrees of Freedom\n",
    "## Aplha is 0.01 Because we use 99 Confidence level\n",
    "## "
   ]
  },
  {
   "cell_type": "code",
   "execution_count": null,
   "id": "5c9512cf",
   "metadata": {},
   "outputs": [],
   "source": []
  },
  {
   "cell_type": "markdown",
   "id": "cec44bdc",
   "metadata": {},
   "source": [
    "<img src=\"pics_hypothesis/h4.png\" alt=\"Drawing\" style=\"width: 800px;\"/>"
   ]
  },
  {
   "cell_type": "code",
   "execution_count": null,
   "id": "47914beb",
   "metadata": {},
   "outputs": [],
   "source": [
    "## Our calculated t is less than the critical value T so it is in the rejection area\n",
    "## So we REJECT the H0 and we can say\n",
    "## WIth 99 percent Level of Confidence we cannot accept H0\n",
    "\n",
    "## We 99 percent confidence we believe THERE IS ENOUGH EVIDENCE TO DISCARD HO"
   ]
  },
  {
   "cell_type": "markdown",
   "id": "7c8f6668",
   "metadata": {},
   "source": [
    "<img src=\"pics_hypothesis/h5.png\" alt=\"Drawing\" style=\"width: 600px;\"/>"
   ]
  },
  {
   "cell_type": "code",
   "execution_count": null,
   "id": "900c801c",
   "metadata": {},
   "outputs": [],
   "source": []
  },
  {
   "cell_type": "code",
   "execution_count": null,
   "id": "faaacb5b",
   "metadata": {},
   "outputs": [],
   "source": [
    "<img src=\"pics_hypothesis/h1.png\" alt=\"Drawing\" style=\"width: 600px;\"/>"
   ]
  },
  {
   "cell_type": "code",
   "execution_count": null,
   "id": "41cb9ced",
   "metadata": {},
   "outputs": [],
   "source": []
  },
  {
   "cell_type": "code",
   "execution_count": null,
   "id": "63c9e472",
   "metadata": {},
   "outputs": [],
   "source": [
    "<img src=\"pics_hypothesis/h1.png\" alt=\"Drawing\" style=\"width: 600px;\"/>"
   ]
  },
  {
   "cell_type": "code",
   "execution_count": null,
   "id": "c72cdfd9",
   "metadata": {},
   "outputs": [],
   "source": []
  },
  {
   "cell_type": "code",
   "execution_count": null,
   "id": "d1509dbd",
   "metadata": {},
   "outputs": [],
   "source": [
    "<img src=\"pics_hypothesis/h1.png\" alt=\"Drawing\" style=\"width: 600px;\"/>"
   ]
  },
  {
   "cell_type": "code",
   "execution_count": null,
   "id": "240890a0",
   "metadata": {},
   "outputs": [],
   "source": []
  },
  {
   "cell_type": "code",
   "execution_count": null,
   "id": "0d69f32b",
   "metadata": {},
   "outputs": [],
   "source": [
    "<img src=\"pics_hypothesis/h1.png\" alt=\"Drawing\" style=\"width: 600px;\"/>"
   ]
  },
  {
   "cell_type": "code",
   "execution_count": null,
   "id": "e9cf57e4",
   "metadata": {},
   "outputs": [],
   "source": []
  },
  {
   "cell_type": "code",
   "execution_count": null,
   "id": "b2ac7b26",
   "metadata": {},
   "outputs": [],
   "source": []
  },
  {
   "cell_type": "code",
   "execution_count": null,
   "id": "4fcab0e3",
   "metadata": {},
   "outputs": [],
   "source": []
  }
 ],
 "metadata": {
  "kernelspec": {
   "display_name": "Python 3 (ipykernel)",
   "language": "python",
   "name": "python3"
  },
  "language_info": {
   "codemirror_mode": {
    "name": "ipython",
    "version": 3
   },
   "file_extension": ".py",
   "mimetype": "text/x-python",
   "name": "python",
   "nbconvert_exporter": "python",
   "pygments_lexer": "ipython3",
   "version": "3.9.12"
  }
 },
 "nbformat": 4,
 "nbformat_minor": 5
}
