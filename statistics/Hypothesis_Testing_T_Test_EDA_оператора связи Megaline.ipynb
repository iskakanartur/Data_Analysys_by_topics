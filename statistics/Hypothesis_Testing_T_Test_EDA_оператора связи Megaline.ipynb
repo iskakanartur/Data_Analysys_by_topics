{
 "cells": [
  {
   "cell_type": "markdown",
   "metadata": {},
   "source": [
    "# Statistical Data Analysis Project\n",
    "# *Сравнительный анализ рентабельности телеком-планов*"
   ]
  },
  {
   "cell_type": "markdown",
   "metadata": {
    "toc": true
   },
   "source": [
    "<h1>Содержание<span class=\"tocSkip\"></span></h1>\n",
    "<div class=\"toc\"><ul class=\"toc-item\"><li><span><a href=\"#Goal\" data-toc-modified-id=\"Goal-1\"><span class=\"toc-item-num\">1&nbsp;&nbsp;</span>Goal</a></span></li><li><span><a href=\"#Hypotheses\" data-toc-modified-id=\"Hypotheses-2\"><span class=\"toc-item-num\">2&nbsp;&nbsp;</span>Hypotheses</a></span></li><li><span><a href=\"#Description-of-the-data\" data-toc-modified-id=\"Description-of-the-data-3\"><span class=\"toc-item-num\">3&nbsp;&nbsp;</span>Description of the data</a></span></li><li><span><a href=\"#Imports\" data-toc-modified-id=\"Imports-4\"><span class=\"toc-item-num\">4&nbsp;&nbsp;</span>Imports</a></span></li><li><span><a href=\"#Library-version-check-and-update\" data-toc-modified-id=\"Library-version-check-and-update-5\"><span class=\"toc-item-num\">5&nbsp;&nbsp;</span>Library version check and update</a></span></li><li><span><a href=\"#Input-data\" data-toc-modified-id=\"Input-data-6\"><span class=\"toc-item-num\">6&nbsp;&nbsp;</span>Input data</a></span></li><li><span><a href=\"#Overview\" data-toc-modified-id=\"Overview-7\"><span class=\"toc-item-num\">7&nbsp;&nbsp;</span>Overview</a></span><ul class=\"toc-item\"><li><span><a href=\"#Users\" data-toc-modified-id=\"Users-7.1\"><span class=\"toc-item-num\">7.1&nbsp;&nbsp;</span>Users</a></span></li><li><span><a href=\"#Messages\" data-toc-modified-id=\"Messages-7.2\"><span class=\"toc-item-num\">7.2&nbsp;&nbsp;</span>Messages</a></span></li><li><span><a href=\"#Calls\" data-toc-modified-id=\"Calls-7.3\"><span class=\"toc-item-num\">7.3&nbsp;&nbsp;</span>Calls</a></span></li><li><span><a href=\"#Internet\" data-toc-modified-id=\"Internet-7.4\"><span class=\"toc-item-num\">7.4&nbsp;&nbsp;</span>Internet</a></span></li><li><span><a href=\"#Plans\" data-toc-modified-id=\"Plans-7.5\"><span class=\"toc-item-num\">7.5&nbsp;&nbsp;</span>Plans</a></span></li></ul></li><li><span><a href=\"#Preprocessing\" data-toc-modified-id=\"Preprocessing-8\"><span class=\"toc-item-num\">8&nbsp;&nbsp;</span>Preprocessing</a></span><ul class=\"toc-item\"><li><span><a href=\"#Data-type-change\" data-toc-modified-id=\"Data-type-change-8.1\"><span class=\"toc-item-num\">8.1&nbsp;&nbsp;</span>Data type change</a></span><ul class=\"toc-item\"><li><span><a href=\"#Dates\" data-toc-modified-id=\"Dates-8.1.1\"><span class=\"toc-item-num\">8.1.1&nbsp;&nbsp;</span>Dates</a></span></li><li><span><a href=\"#Call-duration\" data-toc-modified-id=\"Call-duration-8.1.2\"><span class=\"toc-item-num\">8.1.2&nbsp;&nbsp;</span>Call duration</a></span></li></ul></li><li><span><a href=\"#Missing-values\" data-toc-modified-id=\"Missing-values-8.2\"><span class=\"toc-item-num\">8.2&nbsp;&nbsp;</span>Missing values</a></span></li><li><span><a href=\"#Duplicates\" data-toc-modified-id=\"Duplicates-8.3\"><span class=\"toc-item-num\">8.3&nbsp;&nbsp;</span>Duplicates</a></span></li><li><span><a href=\"#Check-for-artifacts-in-user-dates\" data-toc-modified-id=\"Check-for-artifacts-in-user-dates-8.4\"><span class=\"toc-item-num\">8.4&nbsp;&nbsp;</span>Check for artifacts in user dates</a></span></li><li><span><a href=\"#Calculations\" data-toc-modified-id=\"Calculations-8.5\"><span class=\"toc-item-num\">8.5&nbsp;&nbsp;</span>Calculations</a></span><ul class=\"toc-item\"><li><span><a href=\"#Calls-per-month\" data-toc-modified-id=\"Calls-per-month-8.5.1\"><span class=\"toc-item-num\">8.5.1&nbsp;&nbsp;</span>Calls per month</a></span></li><li><span><a href=\"#Messages-per-month\" data-toc-modified-id=\"Messages-per-month-8.5.2\"><span class=\"toc-item-num\">8.5.2&nbsp;&nbsp;</span>Messages per month</a></span></li><li><span><a href=\"#Volume-of-data-per-month\" data-toc-modified-id=\"Volume-of-data-per-month-8.5.3\"><span class=\"toc-item-num\">8.5.3&nbsp;&nbsp;</span>Volume of data per month</a></span></li><li><span><a href=\"#Monthly-profit-from-each-user\" data-toc-modified-id=\"Monthly-profit-from-each-user-8.5.4\"><span class=\"toc-item-num\">8.5.4&nbsp;&nbsp;</span>Monthly profit from each user</a></span></li></ul></li></ul></li><li><span><a href=\"#EDA\" data-toc-modified-id=\"EDA-9\"><span class=\"toc-item-num\">9&nbsp;&nbsp;</span>EDA</a></span><ul class=\"toc-item\"><li><span><a href=\"#Distribution-analysis\" data-toc-modified-id=\"Distribution-analysis-9.1\"><span class=\"toc-item-num\">9.1&nbsp;&nbsp;</span>Distribution analysis</a></span><ul class=\"toc-item\"><li><span><a href=\"#Calls\" data-toc-modified-id=\"Calls-9.1.1\"><span class=\"toc-item-num\">9.1.1&nbsp;&nbsp;</span>Calls</a></span></li><li><span><a href=\"#Messages\" data-toc-modified-id=\"Messages-9.1.2\"><span class=\"toc-item-num\">9.1.2&nbsp;&nbsp;</span>Messages</a></span></li><li><span><a href=\"#Internet\" data-toc-modified-id=\"Internet-9.1.3\"><span class=\"toc-item-num\">9.1.3&nbsp;&nbsp;</span>Internet</a></span></li></ul></li><li><span><a href=\"#Outliers\" data-toc-modified-id=\"Outliers-9.2\"><span class=\"toc-item-num\">9.2&nbsp;&nbsp;</span>Outliers</a></span><ul class=\"toc-item\"><li><span><a href=\"#Calls\" data-toc-modified-id=\"Calls-9.2.1\"><span class=\"toc-item-num\">9.2.1&nbsp;&nbsp;</span>Calls</a></span></li><li><span><a href=\"#Messages\" data-toc-modified-id=\"Messages-9.2.2\"><span class=\"toc-item-num\">9.2.2&nbsp;&nbsp;</span>Messages</a></span></li><li><span><a href=\"#Internet\" data-toc-modified-id=\"Internet-9.2.3\"><span class=\"toc-item-num\">9.2.3&nbsp;&nbsp;</span>Internet</a></span></li><li><span><a href=\"#Outliers-removal\" data-toc-modified-id=\"Outliers-removal-9.2.4\"><span class=\"toc-item-num\">9.2.4&nbsp;&nbsp;</span>Outliers removal</a></span></li></ul></li></ul></li><li><span><a href=\"#Statistical-hypotheses-testing\" data-toc-modified-id=\"Statistical-hypotheses-testing-10\"><span class=\"toc-item-num\">10&nbsp;&nbsp;</span>Statistical hypotheses testing</a></span><ul class=\"toc-item\"><li><span><a href=\"#The-average-profit-from-users-of-Ultimate-and-Surf-plans-differs:-bilateral-hypothesis\" data-toc-modified-id=\"The-average-profit-from-users-of-Ultimate-and-Surf-plans-differs:-bilateral-hypothesis-10.1\"><span class=\"toc-item-num\">10.1&nbsp;&nbsp;</span>The average profit from users of Ultimate and Surf plans differs: bilateral hypothesis</a></span><ul class=\"toc-item\"><li><span><a href=\"#Step-1:-the-null-and-alternative-hypotheses\" data-toc-modified-id=\"Step-1:-the-null-and-alternative-hypotheses-10.1.1\"><span class=\"toc-item-num\">10.1.1&nbsp;&nbsp;</span>Step 1: the null and alternative hypotheses</a></span></li><li><span><a href=\"#Step-2:-Set-the-criteria-for-a-decision\" data-toc-modified-id=\"Step-2:-Set-the-criteria-for-a-decision-10.1.2\"><span class=\"toc-item-num\">10.1.2&nbsp;&nbsp;</span>Step 2: Set the criteria for a decision</a></span></li><li><span><a href=\"#Step-3:-Compute-the-test-statistic\" data-toc-modified-id=\"Step-3:-Compute-the-test-statistic-10.1.3\"><span class=\"toc-item-num\">10.1.3&nbsp;&nbsp;</span>Step 3: Compute the test statistic</a></span></li><li><span><a href=\"#Step-4:-Make-a-decision\" data-toc-modified-id=\"Step-4:-Make-a-decision-10.1.4\"><span class=\"toc-item-num\">10.1.4&nbsp;&nbsp;</span>Step 4: Make a decision</a></span></li></ul></li><li><span><a href=\"#The-average-profit-from-users-of-Ultimate-and-Surf-plans-differs:-unilateral-hypothesis\" data-toc-modified-id=\"The-average-profit-from-users-of-Ultimate-and-Surf-plans-differs:-unilateral-hypothesis-10.2\"><span class=\"toc-item-num\">10.2&nbsp;&nbsp;</span>The average profit from users of Ultimate and Surf plans differs: unilateral hypothesis</a></span><ul class=\"toc-item\"><li><span><a href=\"#The-&quot;Surf&quot;-plan's-average-profit-is-greater-than-the-&quot;Ultimate&quot;-plan's-average-profit\" data-toc-modified-id=\"The-&quot;Surf&quot;-plan's-average-profit-is-greater-than-the-&quot;Ultimate&quot;-plan's-average-profit-10.2.1\"><span class=\"toc-item-num\">10.2.1&nbsp;&nbsp;</span>The \"Surf\" plan's average profit is greater than the \"Ultimate\" plan's average profit</a></span><ul class=\"toc-item\"><li><span><a href=\"#Step-1:-the-null-and-alternative-hypotheses\" data-toc-modified-id=\"Step-1:-the-null-and-alternative-hypotheses-10.2.1.1\"><span class=\"toc-item-num\">10.2.1.1&nbsp;&nbsp;</span>Step 1: the null and alternative hypotheses</a></span></li><li><span><a href=\"#Step-2:-Set-the-criteria-for-a-decision\" data-toc-modified-id=\"Step-2:-Set-the-criteria-for-a-decision-10.2.1.2\"><span class=\"toc-item-num\">10.2.1.2&nbsp;&nbsp;</span>Step 2: Set the criteria for a decision</a></span></li><li><span><a href=\"#Step-3:-Compute-the-test-statistic\" data-toc-modified-id=\"Step-3:-Compute-the-test-statistic-10.2.1.3\"><span class=\"toc-item-num\">10.2.1.3&nbsp;&nbsp;</span>Step 3: Compute the test statistic</a></span></li><li><span><a href=\"#Step-4:-Make-a-decision\" data-toc-modified-id=\"Step-4:-Make-a-decision-10.2.1.4\"><span class=\"toc-item-num\">10.2.1.4&nbsp;&nbsp;</span>Step 4: Make a decision</a></span></li></ul></li></ul></li><li><span><a href=\"#The-average-profit-from-users-of-Ultimate-and-Surf-plans-differs:-unilateral-hypothesis\" data-toc-modified-id=\"The-average-profit-from-users-of-Ultimate-and-Surf-plans-differs:-unilateral-hypothesis-10.3\"><span class=\"toc-item-num\">10.3&nbsp;&nbsp;</span>The average profit from users of Ultimate and Surf plans differs: unilateral hypothesis</a></span><ul class=\"toc-item\"><li><span><a href=\"#The-&quot;Surf&quot;-plan's-average-profit-is-less-than-the-&quot;Ultimate&quot;-plan's-average-profit\" data-toc-modified-id=\"The-&quot;Surf&quot;-plan's-average-profit-is-less-than-the-&quot;Ultimate&quot;-plan's-average-profit-10.3.1\"><span class=\"toc-item-num\">10.3.1&nbsp;&nbsp;</span>The \"Surf\" plan's average profit is less than the \"Ultimate\" plan's average profit</a></span><ul class=\"toc-item\"><li><span><a href=\"#Step-1:-the-null-and-alternative-hypotheses\" data-toc-modified-id=\"Step-1:-the-null-and-alternative-hypotheses-10.3.1.1\"><span class=\"toc-item-num\">10.3.1.1&nbsp;&nbsp;</span>Step 1: the null and alternative hypotheses</a></span></li><li><span><a href=\"#Step-2:-Set-the-criteria-for-a-decision\" data-toc-modified-id=\"Step-2:-Set-the-criteria-for-a-decision-10.3.1.2\"><span class=\"toc-item-num\">10.3.1.2&nbsp;&nbsp;</span>Step 2: Set the criteria for a decision</a></span></li><li><span><a href=\"#Step-3:-Compute-the-test-statistic\" data-toc-modified-id=\"Step-3:-Compute-the-test-statistic-10.3.1.3\"><span class=\"toc-item-num\">10.3.1.3&nbsp;&nbsp;</span>Step 3: Compute the test statistic</a></span></li><li><span><a href=\"#Step-4:-Make-a-decision\" data-toc-modified-id=\"Step-4:-Make-a-decision-10.3.1.4\"><span class=\"toc-item-num\">10.3.1.4&nbsp;&nbsp;</span>Step 4: Make a decision</a></span></li></ul></li></ul></li><li><span><a href=\"#The-average-profit-from-users-in-NY-NJ-area-is-different-from-that-of-the-users-from-other-regions:-bilateral-hypothesis\" data-toc-modified-id=\"The-average-profit-from-users-in-NY-NJ-area-is-different-from-that-of-the-users-from-other-regions:-bilateral-hypothesis-10.4\"><span class=\"toc-item-num\">10.4&nbsp;&nbsp;</span>The average profit from users in NY-NJ area is different from that of the users from other regions: bilateral hypothesis</a></span><ul class=\"toc-item\"><li><span><a href=\"#Step-1:-the-null-and-alternative-hypotheses\" data-toc-modified-id=\"Step-1:-the-null-and-alternative-hypotheses-10.4.1\"><span class=\"toc-item-num\">10.4.1&nbsp;&nbsp;</span>Step 1: the null and alternative hypotheses</a></span></li><li><span><a href=\"#Step-2:-Set-the-criteria-for-a-decision\" data-toc-modified-id=\"Step-2:-Set-the-criteria-for-a-decision-10.4.2\"><span class=\"toc-item-num\">10.4.2&nbsp;&nbsp;</span>Step 2: Set the criteria for a decision</a></span></li><li><span><a href=\"#Step-3:-Compute-the-test-statistic\" data-toc-modified-id=\"Step-3:-Compute-the-test-statistic-10.4.3\"><span class=\"toc-item-num\">10.4.3&nbsp;&nbsp;</span>Step 3: Compute the test statistic</a></span></li><li><span><a href=\"#Step-4:-Make-a-decision\" data-toc-modified-id=\"Step-4:-Make-a-decision-10.4.4\"><span class=\"toc-item-num\">10.4.4&nbsp;&nbsp;</span>Step 4: Make a decision</a></span></li></ul></li><li><span><a href=\"#The-average-profit-from-users-of-Ultimate-and-Surf-plans-differs:-unilateral-hypothesis\" data-toc-modified-id=\"The-average-profit-from-users-of-Ultimate-and-Surf-plans-differs:-unilateral-hypothesis-10.5\"><span class=\"toc-item-num\">10.5&nbsp;&nbsp;</span>The average profit from users of Ultimate and Surf plans differs: unilateral hypothesis</a></span><ul class=\"toc-item\"><li><span><a href=\"#The-&quot;Surf&quot;-plan's-average-profit-is-greater-than-the-&quot;Ultimate&quot;-plan's-average-profit\" data-toc-modified-id=\"The-&quot;Surf&quot;-plan's-average-profit-is-greater-than-the-&quot;Ultimate&quot;-plan's-average-profit-10.5.1\"><span class=\"toc-item-num\">10.5.1&nbsp;&nbsp;</span>The \"Surf\" plan's average profit is greater than the \"Ultimate\" plan's average profit</a></span><ul class=\"toc-item\"><li><span><a href=\"#Step-1:-the-null-and-alternative-hypotheses\" data-toc-modified-id=\"Step-1:-the-null-and-alternative-hypotheses-10.5.1.1\"><span class=\"toc-item-num\">10.5.1.1&nbsp;&nbsp;</span>Step 1: the null and alternative hypotheses</a></span></li><li><span><a href=\"#Step-2:-Set-the-criteria-for-a-decision\" data-toc-modified-id=\"Step-2:-Set-the-criteria-for-a-decision-10.5.1.2\"><span class=\"toc-item-num\">10.5.1.2&nbsp;&nbsp;</span>Step 2: Set the criteria for a decision</a></span></li><li><span><a href=\"#Step-3:-Compute-the-test-statistic\" data-toc-modified-id=\"Step-3:-Compute-the-test-statistic-10.5.1.3\"><span class=\"toc-item-num\">10.5.1.3&nbsp;&nbsp;</span>Step 3: Compute the test statistic</a></span></li><li><span><a href=\"#Step-4:-Make-a-decision\" data-toc-modified-id=\"Step-4:-Make-a-decision-10.5.1.4\"><span class=\"toc-item-num\">10.5.1.4&nbsp;&nbsp;</span>Step 4: Make a decision</a></span></li></ul></li></ul></li><li><span><a href=\"#The-average-profit-from-users-of-Ultimate-and-Surf-plans-differs:-unilateral-hypothesis\" data-toc-modified-id=\"The-average-profit-from-users-of-Ultimate-and-Surf-plans-differs:-unilateral-hypothesis-10.6\"><span class=\"toc-item-num\">10.6&nbsp;&nbsp;</span>The average profit from users of Ultimate and Surf plans differs: unilateral hypothesis</a></span><ul class=\"toc-item\"><li><span><a href=\"#The-&quot;Surf&quot;-plan's-average-profit-is-less-than-the-&quot;Ultimate&quot;-plan's-average-profit\" data-toc-modified-id=\"The-&quot;Surf&quot;-plan's-average-profit-is-less-than-the-&quot;Ultimate&quot;-plan's-average-profit-10.6.1\"><span class=\"toc-item-num\">10.6.1&nbsp;&nbsp;</span>The \"Surf\" plan's average profit is less than the \"Ultimate\" plan's average profit</a></span><ul class=\"toc-item\"><li><span><a href=\"#Step-1:-the-null-and-alternative-hypotheses\" data-toc-modified-id=\"Step-1:-the-null-and-alternative-hypotheses-10.6.1.1\"><span class=\"toc-item-num\">10.6.1.1&nbsp;&nbsp;</span>Step 1: the null and alternative hypotheses</a></span></li><li><span><a href=\"#Step-2:-Set-the-criteria-for-a-decision\" data-toc-modified-id=\"Step-2:-Set-the-criteria-for-a-decision-10.6.1.2\"><span class=\"toc-item-num\">10.6.1.2&nbsp;&nbsp;</span>Step 2: Set the criteria for a decision</a></span></li><li><span><a href=\"#Step-3:-Compute-the-test-statistic\" data-toc-modified-id=\"Step-3:-Compute-the-test-statistic-10.6.1.3\"><span class=\"toc-item-num\">10.6.1.3&nbsp;&nbsp;</span>Step 3: Compute the test statistic</a></span></li><li><span><a href=\"#Step-4:-Make-a-decision\" data-toc-modified-id=\"Step-4:-Make-a-decision-10.6.1.4\"><span class=\"toc-item-num\">10.6.1.4&nbsp;&nbsp;</span>Step 4: Make a decision</a></span></li></ul></li></ul></li></ul></li></ul></div>"
   ]
  },
  {
   "cell_type": "markdown",
   "metadata": {},
   "source": [
    "### Цель\n",
    "Подготовьте отчет для оператора связи Megaline, чтобы проанализировать поведение клиентов, определить, какой из двух предоплаченных планов выгоднее и проверить две статистические гипотезы."
   ]
  },
  {
   "cell_type": "markdown",
   "metadata": {},
   "source": [
    "### Гипотез¶\n",
    "Средняя прибыль от пользователей тарифных планов Ultimate и Surf отличается.\n",
    "Средняя прибыль пользователей в области NY-NJ отличается от прибыли пользователей из других регионов."
   ]
  },
  {
   "cell_type": "markdown",
   "metadata": {},
   "source": [
    "### Описание данных¶\n",
    "Мегалин округляет секунды до минут, а мегабайты до гигабайт. Для звонков каждый отдельный звонок округляется в большую сторону: даже если звонок длился всего одну секунду, он будет засчитываться как одна минута. Для веб-трафика отдельные веб-сеансы не округляются. Вместо этого общая сумма за месяц округляется в большую сторону. Если кто-то использует 1025 мегабайт в этом месяце, с него будет взиматься плата за 2 гигабайта.\n",
    "\n",
    "Таблица (данные о пользователях): **users**\n",
    "\n",
    "- user_id — уникальный идентификатор пользователя\n",
    "- first_name — имя пользователя\n",
    "- last_name — фамилия пользователя\n",
    "- возраст — возраст пользователя (лет)\n",
    "- reg_date — дата подписки (дд, мм, гг)\n",
    "- -churn_date — дата, когда пользователь перестал пользоваться службой (если значение отсутствует, план вызова использовался при извлечении этой базы данных)\n",
    "- город — город проживания пользователя\n",
    "- -plan — вызов имени плана\n",
    "\n",
    "Таблица (данные о звонках):**calls**\n",
    "\n",
    "- id — уникальный идентификатор вызова\n",
    "- call_date — дата звонка\n",
    "- длительность — длительность звонка (в минутах)\n",
    "- user_id — идентификатор пользователя, совершающего вызов\n",
    "\n",
    "Таблица (данные по текстам):**messages**\n",
    "\n",
    "- id — уникальный идентификатор текстового сообщения\n",
    "- message_date — дата текстового сообщения\n",
    "- user_id — идентификатор пользователя, отправляющего текст\n",
    "\n",
    "Таблица (данные о веб-сессиях):**internet**\n",
    "\n",
    "- id — уникальный идентификатор сеанса\n",
    "- mb_used — объем данных, затраченных во время сеанса (в мегабайтах)\n",
    "- session_date — дата веб-сессии\n",
    "- user_id — идентификатор пользователя\n",
    "\n",
    "Таблица (данные по планам):**plans**\n",
    "\n",
    "- plan_name — название плана\n",
    "- usd_monthly_fee — ежемесячная плата в долларах США\n",
    "- minutes_included — ежемесячная минутная надбавка\n",
    "- messages_included — ежемесячное пособие на текстовые сообщения\n",
    "- mb_per_month_included — объем данных (в мегабайтах)\n",
    "- usd_per_minute — цена за минуту после превышения лимитов пакета (например, если пакет включает 100 минут, будет взиматься 101-я минута)\n",
    "- usd_per_message — цена за текст после превышения лимитов пакета\n",
    "- usd_per_gb — цена за дополнительный гигабайт данных после превышения лимитов пакета (1 ГБ = 1024 мегабайта)"
   ]
  },
  {
   "cell_type": "markdown",
   "metadata": {},
   "source": [
    "### Импорт"
   ]
  },
  {
   "cell_type": "code",
   "execution_count": 1,
   "metadata": {},
   "outputs": [
    {
     "name": "stdout",
     "output_type": "stream",
     "text": [
      "Setup Complete\n"
     ]
    }
   ],
   "source": [
    "import pandas as pd\n",
    "import numpy as np\n",
    "import scipy\n",
    "import matplotlib\n",
    "\n",
    "from scipy import stats as st\n",
    "\n",
    "import matplotlib.pyplot as plt\n",
    "%matplotlib inline\n",
    "\n",
    "import sys\n",
    "import warnings\n",
    "if not sys.warnoptions:\n",
    "       warnings.simplefilter(\"ignore\")\n",
    "\n",
    "# pd.set_option('display.max_rows', None)\n",
    "\n",
    "print(\"Setup Complete\")"
   ]
  },
  {
   "cell_type": "markdown",
   "metadata": {},
   "source": [
    "### Library version check and update"
   ]
  },
  {
   "cell_type": "code",
   "execution_count": 2,
   "metadata": {},
   "outputs": [],
   "source": [
    "version_dict = {pd:'1.0.1', np:'1.18.1', scipy:'1.6.0', matplotlib:'3.1.3'}"
   ]
  },
  {
   "cell_type": "code",
   "execution_count": 3,
   "metadata": {},
   "outputs": [],
   "source": [
    "def get_value(my_key):\n",
    "    \"\"\"\n",
    "    If the val can be found in the dictinary.values() list, \n",
    "    returns the key of the dictionary item in which the val was found.\n",
    "    \"\"\"\n",
    "    wrong_val = []\n",
    "    \n",
    "    for key, value in version_dict.items(): \n",
    "        try:\n",
    "            if key == my_key: \n",
    "                return value\n",
    "        except:\n",
    "            wrong_val.append(key, value)"
   ]
  },
  {
   "cell_type": "code",
   "execution_count": 4,
   "metadata": {},
   "outputs": [
    {
     "name": "stdout",
     "output_type": "stream",
     "text": [
      "Warning: update <module 'pandas' from '/home/turo/anaconda3/lib/python3.9/site-packages/pandas/__init__.py'> to 1.0.1\n",
      "Warning: update <module 'numpy' from '/home/turo/anaconda3/lib/python3.9/site-packages/numpy/__init__.py'> to 1.18.1\n",
      "Warning: update <module 'scipy' from '/home/turo/anaconda3/lib/python3.9/site-packages/scipy/__init__.py'> to 1.6.0\n",
      "Warning: update <module 'matplotlib' from '/home/turo/anaconda3/lib/python3.9/site-packages/matplotlib/__init__.py'> to 3.1.3\n"
     ]
    }
   ],
   "source": [
    "for lib in version_dict.keys():\n",
    "    if lib.__version__ != get_value(lib):\n",
    "        print(\"Warning: update\", lib, 'to', get_value(lib))"
   ]
  },
  {
   "cell_type": "markdown",
   "metadata": {},
   "source": [
    "In order to update scipy library to 1.6.0 version, run the following line:"
   ]
  },
  {
   "cell_type": "code",
   "execution_count": 7,
   "metadata": {},
   "outputs": [
    {
     "name": "stdout",
     "output_type": "stream",
     "text": [
      "Collecting scipy==1.6.0\n",
      "  Downloading scipy-1.6.0-cp38-cp38-win_amd64.whl (32.7 MB)\n",
      "Requirement already satisfied: numpy>=1.16.5 in c:\\users\\home\\anaconda3\\lib\\site-packages (from scipy==1.6.0) (1.19.5)\n",
      "Installing collected packages: scipy\n",
      "  Attempting uninstall: scipy\n",
      "    Found existing installation: scipy 1.5.0\n",
      "    Uninstalling scipy-1.5.0:\n",
      "      Successfully uninstalled scipy-1.5.0\n"
     ]
    },
    {
     "name": "stderr",
     "output_type": "stream",
     "text": [
      "ERROR: Could not install packages due to an EnvironmentError: [WinError 5] Отказано в доступе: 'C:\\\\Users\\\\home\\\\anaconda3\\\\Lib\\\\site-packages\\\\~cipy\\\\fft\\\\_pocketfft\\\\pypocketfft.cp38-win_amd64.pyd'\n",
      "Consider using the `--user` option or check the permissions.\n",
      "\n"
     ]
    }
   ],
   "source": [
    "# !pip install scipy==1.6.0"
   ]
  },
  {
   "cell_type": "markdown",
   "metadata": {},
   "source": [
    "### Входные данные"
   ]
  },
  {
   "cell_type": "code",
   "execution_count": 5,
   "metadata": {},
   "outputs": [],
   "source": [
    "df_users = pd.read_csv('DATA/megaline_users.csv')\n",
    "df_messages = pd.read_csv('DATA/megaline_messages.csv')\n",
    "df_calls = pd.read_csv('DATA/megaline_calls.csv')\n",
    "df_internet = pd.read_csv('DATA/megaline_internet.csv')\n",
    "df_plans = pd.read_csv('DATA/megaline_plans.csv')"
   ]
  },
  {
   "cell_type": "code",
   "execution_count": null,
   "metadata": {},
   "outputs": [],
   "source": [
    "## IGNORE  \n",
    "# try:\n",
    "    # df_users = pd.read_csv('megaline_users.csv')\n",
    "    # df_messages = pd.read_csv('megaline_messages.csv')\n",
    "    # df_calls = pd.read_csv('megaline_calls.csv')\n",
    "    # df_internet = pd.read_csv('megaline_internet.csv')\n",
    "    # df_plans = pd.read_csv('megaline_plans.csv')\n",
    "# except:\n",
    "    # df_users = pd.read_csv('/datasets/megaline_users.csv')\n",
    "    # df_messages = pd.read_csv('/datasets/megaline_messages.csv')\n",
    "    # df_calls = pd.read_csv('/datasets/megaline_calls.csv')\n",
    "    # df_internet = pd.read_csv('/datasets/megaline_internet.csv')\n",
    "    # df_plans = pd.read_csv('/datasets/megaline_plans.csv')"
   ]
  },
  {
   "cell_type": "markdown",
   "metadata": {},
   "source": [
    "### Обзор\n",
    "#### Пользователи"
   ]
  },
  {
   "cell_type": "code",
   "execution_count": 6,
   "metadata": {},
   "outputs": [
    {
     "data": {
      "text/html": [
       "<div>\n",
       "<style scoped>\n",
       "    .dataframe tbody tr th:only-of-type {\n",
       "        vertical-align: middle;\n",
       "    }\n",
       "\n",
       "    .dataframe tbody tr th {\n",
       "        vertical-align: top;\n",
       "    }\n",
       "\n",
       "    .dataframe thead th {\n",
       "        text-align: right;\n",
       "    }\n",
       "</style>\n",
       "<table border=\"1\" class=\"dataframe\">\n",
       "  <thead>\n",
       "    <tr style=\"text-align: right;\">\n",
       "      <th></th>\n",
       "      <th>user_id</th>\n",
       "      <th>first_name</th>\n",
       "      <th>last_name</th>\n",
       "      <th>age</th>\n",
       "      <th>city</th>\n",
       "      <th>reg_date</th>\n",
       "      <th>plan</th>\n",
       "      <th>churn_date</th>\n",
       "    </tr>\n",
       "  </thead>\n",
       "  <tbody>\n",
       "    <tr>\n",
       "      <th>0</th>\n",
       "      <td>1000</td>\n",
       "      <td>Anamaria</td>\n",
       "      <td>Bauer</td>\n",
       "      <td>45</td>\n",
       "      <td>Atlanta-Sandy Springs-Roswell, GA MSA</td>\n",
       "      <td>2018-12-24</td>\n",
       "      <td>ultimate</td>\n",
       "      <td>NaN</td>\n",
       "    </tr>\n",
       "    <tr>\n",
       "      <th>1</th>\n",
       "      <td>1001</td>\n",
       "      <td>Mickey</td>\n",
       "      <td>Wilkerson</td>\n",
       "      <td>28</td>\n",
       "      <td>Seattle-Tacoma-Bellevue, WA MSA</td>\n",
       "      <td>2018-08-13</td>\n",
       "      <td>surf</td>\n",
       "      <td>NaN</td>\n",
       "    </tr>\n",
       "    <tr>\n",
       "      <th>2</th>\n",
       "      <td>1002</td>\n",
       "      <td>Carlee</td>\n",
       "      <td>Hoffman</td>\n",
       "      <td>36</td>\n",
       "      <td>Las Vegas-Henderson-Paradise, NV MSA</td>\n",
       "      <td>2018-10-21</td>\n",
       "      <td>surf</td>\n",
       "      <td>NaN</td>\n",
       "    </tr>\n",
       "    <tr>\n",
       "      <th>3</th>\n",
       "      <td>1003</td>\n",
       "      <td>Reynaldo</td>\n",
       "      <td>Jenkins</td>\n",
       "      <td>52</td>\n",
       "      <td>Tulsa, OK MSA</td>\n",
       "      <td>2018-01-28</td>\n",
       "      <td>surf</td>\n",
       "      <td>NaN</td>\n",
       "    </tr>\n",
       "    <tr>\n",
       "      <th>4</th>\n",
       "      <td>1004</td>\n",
       "      <td>Leonila</td>\n",
       "      <td>Thompson</td>\n",
       "      <td>40</td>\n",
       "      <td>Seattle-Tacoma-Bellevue, WA MSA</td>\n",
       "      <td>2018-05-23</td>\n",
       "      <td>surf</td>\n",
       "      <td>NaN</td>\n",
       "    </tr>\n",
       "  </tbody>\n",
       "</table>\n",
       "</div>"
      ],
      "text/plain": [
       "   user_id first_name  last_name  age                                   city  \\\n",
       "0     1000   Anamaria      Bauer   45  Atlanta-Sandy Springs-Roswell, GA MSA   \n",
       "1     1001     Mickey  Wilkerson   28        Seattle-Tacoma-Bellevue, WA MSA   \n",
       "2     1002     Carlee    Hoffman   36   Las Vegas-Henderson-Paradise, NV MSA   \n",
       "3     1003   Reynaldo    Jenkins   52                          Tulsa, OK MSA   \n",
       "4     1004    Leonila   Thompson   40        Seattle-Tacoma-Bellevue, WA MSA   \n",
       "\n",
       "     reg_date      plan churn_date  \n",
       "0  2018-12-24  ultimate        NaN  \n",
       "1  2018-08-13      surf        NaN  \n",
       "2  2018-10-21      surf        NaN  \n",
       "3  2018-01-28      surf        NaN  \n",
       "4  2018-05-23      surf        NaN  "
      ]
     },
     "execution_count": 6,
     "metadata": {},
     "output_type": "execute_result"
    }
   ],
   "source": [
    "df_users.head()"
   ]
  },
  {
   "cell_type": "markdown",
   "metadata": {},
   "source": [
    "Это дата, когда пользователь перестал пользоваться службой. Если значение отсутствует, план вызова использовался при извлечении этой базы данных. Для дальнейшего анализа нам нужно будет заменить 'NaN' на строку 'in use'.churn_date"
   ]
  },
  {
   "cell_type": "code",
   "execution_count": 8,
   "metadata": {},
   "outputs": [
    {
     "data": {
      "text/plain": [
       "array(['ultimate', 'surf'], dtype=object)"
      ]
     },
     "execution_count": 8,
     "metadata": {},
     "output_type": "execute_result"
    }
   ],
   "source": [
    "df_users.plan.unique()"
   ]
  },
  {
   "cell_type": "code",
   "execution_count": 9,
   "metadata": {},
   "outputs": [
    {
     "name": "stdout",
     "output_type": "stream",
     "text": [
      "<class 'pandas.core.frame.DataFrame'>\n",
      "RangeIndex: 500 entries, 0 to 499\n",
      "Data columns (total 8 columns):\n",
      " #   Column      Non-Null Count  Dtype \n",
      "---  ------      --------------  ----- \n",
      " 0   user_id     500 non-null    int64 \n",
      " 1   first_name  500 non-null    object\n",
      " 2   last_name   500 non-null    object\n",
      " 3   age         500 non-null    int64 \n",
      " 4   city        500 non-null    object\n",
      " 5   reg_date    500 non-null    object\n",
      " 6   plan        500 non-null    object\n",
      " 7   churn_date  34 non-null     object\n",
      "dtypes: int64(2), object(6)\n",
      "memory usage: 31.4+ KB\n"
     ]
    }
   ],
   "source": [
    "df_users.info()"
   ]
  },
  {
   "cell_type": "markdown",
   "metadata": {},
   "source": [
    "Нет отсутствующих значений, кроме столбца. 2 даты имеют тип объекта, мы изменим его на тип даты и времени.churn_date"
   ]
  },
  {
   "cell_type": "code",
   "execution_count": 10,
   "metadata": {},
   "outputs": [
    {
     "data": {
      "text/html": [
       "<div>\n",
       "<style scoped>\n",
       "    .dataframe tbody tr th:only-of-type {\n",
       "        vertical-align: middle;\n",
       "    }\n",
       "\n",
       "    .dataframe tbody tr th {\n",
       "        vertical-align: top;\n",
       "    }\n",
       "\n",
       "    .dataframe thead th {\n",
       "        text-align: right;\n",
       "    }\n",
       "</style>\n",
       "<table border=\"1\" class=\"dataframe\">\n",
       "  <thead>\n",
       "    <tr style=\"text-align: right;\">\n",
       "      <th></th>\n",
       "      <th>user_id</th>\n",
       "      <th>age</th>\n",
       "    </tr>\n",
       "  </thead>\n",
       "  <tbody>\n",
       "    <tr>\n",
       "      <th>count</th>\n",
       "      <td>500.000000</td>\n",
       "      <td>500.000000</td>\n",
       "    </tr>\n",
       "    <tr>\n",
       "      <th>mean</th>\n",
       "      <td>1249.500000</td>\n",
       "      <td>45.486000</td>\n",
       "    </tr>\n",
       "    <tr>\n",
       "      <th>std</th>\n",
       "      <td>144.481833</td>\n",
       "      <td>16.972269</td>\n",
       "    </tr>\n",
       "    <tr>\n",
       "      <th>min</th>\n",
       "      <td>1000.000000</td>\n",
       "      <td>18.000000</td>\n",
       "    </tr>\n",
       "    <tr>\n",
       "      <th>25%</th>\n",
       "      <td>1124.750000</td>\n",
       "      <td>30.000000</td>\n",
       "    </tr>\n",
       "    <tr>\n",
       "      <th>50%</th>\n",
       "      <td>1249.500000</td>\n",
       "      <td>46.000000</td>\n",
       "    </tr>\n",
       "    <tr>\n",
       "      <th>75%</th>\n",
       "      <td>1374.250000</td>\n",
       "      <td>61.000000</td>\n",
       "    </tr>\n",
       "    <tr>\n",
       "      <th>max</th>\n",
       "      <td>1499.000000</td>\n",
       "      <td>75.000000</td>\n",
       "    </tr>\n",
       "  </tbody>\n",
       "</table>\n",
       "</div>"
      ],
      "text/plain": [
       "           user_id         age\n",
       "count   500.000000  500.000000\n",
       "mean   1249.500000   45.486000\n",
       "std     144.481833   16.972269\n",
       "min    1000.000000   18.000000\n",
       "25%    1124.750000   30.000000\n",
       "50%    1249.500000   46.000000\n",
       "75%    1374.250000   61.000000\n",
       "max    1499.000000   75.000000"
      ]
     },
     "execution_count": 10,
     "metadata": {},
     "output_type": "execute_result"
    }
   ],
   "source": [
    "df_users.describe()"
   ]
  },
  {
   "cell_type": "markdown",
   "metadata": {},
   "source": [
    "Набор данных содержит сведения о 500 пользователях. Большинству из них по 45-46 лет. Возрастной диапазон от 18 до 75 лет. Здесь нет видимых выбросов."
   ]
  },
  {
   "cell_type": "markdown",
   "metadata": {},
   "source": [
    "#### Сообщения"
   ]
  },
  {
   "cell_type": "code",
   "execution_count": 11,
   "metadata": {},
   "outputs": [
    {
     "data": {
      "text/html": [
       "<div>\n",
       "<style scoped>\n",
       "    .dataframe tbody tr th:only-of-type {\n",
       "        vertical-align: middle;\n",
       "    }\n",
       "\n",
       "    .dataframe tbody tr th {\n",
       "        vertical-align: top;\n",
       "    }\n",
       "\n",
       "    .dataframe thead th {\n",
       "        text-align: right;\n",
       "    }\n",
       "</style>\n",
       "<table border=\"1\" class=\"dataframe\">\n",
       "  <thead>\n",
       "    <tr style=\"text-align: right;\">\n",
       "      <th></th>\n",
       "      <th>id</th>\n",
       "      <th>user_id</th>\n",
       "      <th>message_date</th>\n",
       "    </tr>\n",
       "  </thead>\n",
       "  <tbody>\n",
       "    <tr>\n",
       "      <th>0</th>\n",
       "      <td>1000_125</td>\n",
       "      <td>1000</td>\n",
       "      <td>2018-12-27</td>\n",
       "    </tr>\n",
       "    <tr>\n",
       "      <th>1</th>\n",
       "      <td>1000_160</td>\n",
       "      <td>1000</td>\n",
       "      <td>2018-12-31</td>\n",
       "    </tr>\n",
       "    <tr>\n",
       "      <th>2</th>\n",
       "      <td>1000_223</td>\n",
       "      <td>1000</td>\n",
       "      <td>2018-12-31</td>\n",
       "    </tr>\n",
       "    <tr>\n",
       "      <th>3</th>\n",
       "      <td>1000_251</td>\n",
       "      <td>1000</td>\n",
       "      <td>2018-12-27</td>\n",
       "    </tr>\n",
       "    <tr>\n",
       "      <th>4</th>\n",
       "      <td>1000_255</td>\n",
       "      <td>1000</td>\n",
       "      <td>2018-12-26</td>\n",
       "    </tr>\n",
       "  </tbody>\n",
       "</table>\n",
       "</div>"
      ],
      "text/plain": [
       "         id  user_id message_date\n",
       "0  1000_125     1000   2018-12-27\n",
       "1  1000_160     1000   2018-12-31\n",
       "2  1000_223     1000   2018-12-31\n",
       "3  1000_251     1000   2018-12-27\n",
       "4  1000_255     1000   2018-12-26"
      ]
     },
     "execution_count": 11,
     "metadata": {},
     "output_type": "execute_result"
    }
   ],
   "source": [
    "df_messages.head()"
   ]
  },
  {
   "cell_type": "code",
   "execution_count": 12,
   "metadata": {},
   "outputs": [
    {
     "name": "stdout",
     "output_type": "stream",
     "text": [
      "<class 'pandas.core.frame.DataFrame'>\n",
      "RangeIndex: 76051 entries, 0 to 76050\n",
      "Data columns (total 3 columns):\n",
      " #   Column        Non-Null Count  Dtype \n",
      "---  ------        --------------  ----- \n",
      " 0   id            76051 non-null  object\n",
      " 1   user_id       76051 non-null  int64 \n",
      " 2   message_date  76051 non-null  object\n",
      "dtypes: int64(1), object(2)\n",
      "memory usage: 1.7+ MB\n"
     ]
    }
   ],
   "source": [
    "df_messages.info()"
   ]
  },
  {
   "cell_type": "markdown",
   "metadata": {},
   "source": [
    "Нет отсутствующих значений, тип должен быть изменен на формат datetime. столбец имеет dtype объекта, с которым сложнее работать, чем с целыми числами. Позже мы можем принять решение извлечь номер сообщения для каждого пользователя и сгруппировать таблицу по пользователям.message_dateid"
   ]
  },
  {
   "cell_type": "code",
   "execution_count": 20,
   "metadata": {},
   "outputs": [
    {
     "data": {
      "text/html": [
       "<div>\n",
       "<style scoped>\n",
       "    .dataframe tbody tr th:only-of-type {\n",
       "        vertical-align: middle;\n",
       "    }\n",
       "\n",
       "    .dataframe tbody tr th {\n",
       "        vertical-align: top;\n",
       "    }\n",
       "\n",
       "    .dataframe thead th {\n",
       "        text-align: right;\n",
       "    }\n",
       "</style>\n",
       "<table border=\"1\" class=\"dataframe\">\n",
       "  <thead>\n",
       "    <tr style=\"text-align: right;\">\n",
       "      <th></th>\n",
       "      <th>user_id</th>\n",
       "    </tr>\n",
       "  </thead>\n",
       "  <tbody>\n",
       "    <tr>\n",
       "      <th>count</th>\n",
       "      <td>76051.000000</td>\n",
       "    </tr>\n",
       "    <tr>\n",
       "      <th>mean</th>\n",
       "      <td>1245.972768</td>\n",
       "    </tr>\n",
       "    <tr>\n",
       "      <th>std</th>\n",
       "      <td>139.843635</td>\n",
       "    </tr>\n",
       "    <tr>\n",
       "      <th>min</th>\n",
       "      <td>1000.000000</td>\n",
       "    </tr>\n",
       "    <tr>\n",
       "      <th>25%</th>\n",
       "      <td>1123.000000</td>\n",
       "    </tr>\n",
       "    <tr>\n",
       "      <th>50%</th>\n",
       "      <td>1251.000000</td>\n",
       "    </tr>\n",
       "    <tr>\n",
       "      <th>75%</th>\n",
       "      <td>1362.000000</td>\n",
       "    </tr>\n",
       "    <tr>\n",
       "      <th>max</th>\n",
       "      <td>1497.000000</td>\n",
       "    </tr>\n",
       "  </tbody>\n",
       "</table>\n",
       "</div>"
      ],
      "text/plain": [
       "            user_id\n",
       "count  76051.000000\n",
       "mean    1245.972768\n",
       "std      139.843635\n",
       "min     1000.000000\n",
       "25%     1123.000000\n",
       "50%     1251.000000\n",
       "75%     1362.000000\n",
       "max     1497.000000"
      ]
     },
     "execution_count": 20,
     "metadata": {},
     "output_type": "execute_result"
    }
   ],
   "source": [
    "df_messages.describe()"
   ]
  },
  {
   "cell_type": "markdown",
   "metadata": {},
   "source": [
    "user_id начинается с 1000 и заканчивается 1497. Это означает, что 2 пользователя вообще не обменивались сообщениями."
   ]
  },
  {
   "cell_type": "markdown",
   "metadata": {},
   "source": [
    "#### Звонки\n"
   ]
  },
  {
   "cell_type": "code",
   "execution_count": 15,
   "metadata": {},
   "outputs": [
    {
     "data": {
      "text/html": [
       "<div>\n",
       "<style scoped>\n",
       "    .dataframe tbody tr th:only-of-type {\n",
       "        vertical-align: middle;\n",
       "    }\n",
       "\n",
       "    .dataframe tbody tr th {\n",
       "        vertical-align: top;\n",
       "    }\n",
       "\n",
       "    .dataframe thead th {\n",
       "        text-align: right;\n",
       "    }\n",
       "</style>\n",
       "<table border=\"1\" class=\"dataframe\">\n",
       "  <thead>\n",
       "    <tr style=\"text-align: right;\">\n",
       "      <th></th>\n",
       "      <th>id</th>\n",
       "      <th>user_id</th>\n",
       "      <th>call_date</th>\n",
       "      <th>duration</th>\n",
       "    </tr>\n",
       "  </thead>\n",
       "  <tbody>\n",
       "    <tr>\n",
       "      <th>0</th>\n",
       "      <td>1000_93</td>\n",
       "      <td>1000</td>\n",
       "      <td>2018-12-27</td>\n",
       "      <td>8.52</td>\n",
       "    </tr>\n",
       "    <tr>\n",
       "      <th>1</th>\n",
       "      <td>1000_145</td>\n",
       "      <td>1000</td>\n",
       "      <td>2018-12-27</td>\n",
       "      <td>13.66</td>\n",
       "    </tr>\n",
       "    <tr>\n",
       "      <th>2</th>\n",
       "      <td>1000_247</td>\n",
       "      <td>1000</td>\n",
       "      <td>2018-12-27</td>\n",
       "      <td>14.48</td>\n",
       "    </tr>\n",
       "    <tr>\n",
       "      <th>3</th>\n",
       "      <td>1000_309</td>\n",
       "      <td>1000</td>\n",
       "      <td>2018-12-28</td>\n",
       "      <td>5.76</td>\n",
       "    </tr>\n",
       "    <tr>\n",
       "      <th>4</th>\n",
       "      <td>1000_380</td>\n",
       "      <td>1000</td>\n",
       "      <td>2018-12-30</td>\n",
       "      <td>4.22</td>\n",
       "    </tr>\n",
       "  </tbody>\n",
       "</table>\n",
       "</div>"
      ],
      "text/plain": [
       "         id  user_id   call_date  duration\n",
       "0   1000_93     1000  2018-12-27      8.52\n",
       "1  1000_145     1000  2018-12-27     13.66\n",
       "2  1000_247     1000  2018-12-27     14.48\n",
       "3  1000_309     1000  2018-12-28      5.76\n",
       "4  1000_380     1000  2018-12-30      4.22"
      ]
     },
     "execution_count": 15,
     "metadata": {},
     "output_type": "execute_result"
    }
   ],
   "source": [
    "df_calls.head()"
   ]
  },
  {
   "cell_type": "code",
   "execution_count": 16,
   "metadata": {},
   "outputs": [
    {
     "name": "stdout",
     "output_type": "stream",
     "text": [
      "<class 'pandas.core.frame.DataFrame'>\n",
      "RangeIndex: 137735 entries, 0 to 137734\n",
      "Data columns (total 4 columns):\n",
      " #   Column     Non-Null Count   Dtype  \n",
      "---  ------     --------------   -----  \n",
      " 0   id         137735 non-null  object \n",
      " 1   user_id    137735 non-null  int64  \n",
      " 2   call_date  137735 non-null  object \n",
      " 3   duration   137735 non-null  float64\n",
      "dtypes: float64(1), int64(1), object(2)\n",
      "memory usage: 4.2+ MB\n"
     ]
    }
   ],
   "source": [
    "df_calls.info()"
   ]
  },
  {
   "cell_type": "markdown",
   "metadata": {},
   "source": [
    "Нет отсутствующих значений, должны быть изменены на формат даты и времени. Столбец имеет плавающий dtype, но политика компании заключается в округлении секунд до минут, поэтому мы должны преобразовать этот столбец в целые числа.call_dateduration"
   ]
  },
  {
   "cell_type": "code",
   "execution_count": 17,
   "metadata": {},
   "outputs": [
    {
     "data": {
      "text/html": [
       "<div>\n",
       "<style scoped>\n",
       "    .dataframe tbody tr th:only-of-type {\n",
       "        vertical-align: middle;\n",
       "    }\n",
       "\n",
       "    .dataframe tbody tr th {\n",
       "        vertical-align: top;\n",
       "    }\n",
       "\n",
       "    .dataframe thead th {\n",
       "        text-align: right;\n",
       "    }\n",
       "</style>\n",
       "<table border=\"1\" class=\"dataframe\">\n",
       "  <thead>\n",
       "    <tr style=\"text-align: right;\">\n",
       "      <th></th>\n",
       "      <th>user_id</th>\n",
       "      <th>duration</th>\n",
       "    </tr>\n",
       "  </thead>\n",
       "  <tbody>\n",
       "    <tr>\n",
       "      <th>count</th>\n",
       "      <td>137735.000000</td>\n",
       "      <td>137735.000000</td>\n",
       "    </tr>\n",
       "    <tr>\n",
       "      <th>mean</th>\n",
       "      <td>1247.658046</td>\n",
       "      <td>6.745927</td>\n",
       "    </tr>\n",
       "    <tr>\n",
       "      <th>std</th>\n",
       "      <td>139.416268</td>\n",
       "      <td>5.839241</td>\n",
       "    </tr>\n",
       "    <tr>\n",
       "      <th>min</th>\n",
       "      <td>1000.000000</td>\n",
       "      <td>0.000000</td>\n",
       "    </tr>\n",
       "    <tr>\n",
       "      <th>25%</th>\n",
       "      <td>1128.000000</td>\n",
       "      <td>1.290000</td>\n",
       "    </tr>\n",
       "    <tr>\n",
       "      <th>50%</th>\n",
       "      <td>1247.000000</td>\n",
       "      <td>5.980000</td>\n",
       "    </tr>\n",
       "    <tr>\n",
       "      <th>75%</th>\n",
       "      <td>1365.000000</td>\n",
       "      <td>10.690000</td>\n",
       "    </tr>\n",
       "    <tr>\n",
       "      <th>max</th>\n",
       "      <td>1499.000000</td>\n",
       "      <td>37.600000</td>\n",
       "    </tr>\n",
       "  </tbody>\n",
       "</table>\n",
       "</div>"
      ],
      "text/plain": [
       "             user_id       duration\n",
       "count  137735.000000  137735.000000\n",
       "mean     1247.658046       6.745927\n",
       "std       139.416268       5.839241\n",
       "min      1000.000000       0.000000\n",
       "25%      1128.000000       1.290000\n",
       "50%      1247.000000       5.980000\n",
       "75%      1365.000000      10.690000\n",
       "max      1499.000000      37.600000"
      ]
     },
     "execution_count": 17,
     "metadata": {},
     "output_type": "execute_result"
    }
   ],
   "source": [
    "df_calls.describe()"
   ]
  },
  {
   "cell_type": "markdown",
   "metadata": {},
   "source": [
    "В наборе данных 137 735 звонков. Средняя и средняя продолжительность составляет около 6-7 минут. Среднее и среднее значения близки друг к другу, что означает, что распределение не имеет тяжелых хвостов. Минимальная продолжительность звонка равна 0, что, вероятно, означает несколько секунд, согласно политике компании мы должны округлить ее до 1 минуты. Максимальная продолжительность звонка составляет 38 минут."
   ]
  },
  {
   "cell_type": "markdown",
   "metadata": {},
   "source": [
    "#### Интернет"
   ]
  },
  {
   "cell_type": "code",
   "execution_count": 18,
   "metadata": {},
   "outputs": [
    {
     "data": {
      "text/html": [
       "<div>\n",
       "<style scoped>\n",
       "    .dataframe tbody tr th:only-of-type {\n",
       "        vertical-align: middle;\n",
       "    }\n",
       "\n",
       "    .dataframe tbody tr th {\n",
       "        vertical-align: top;\n",
       "    }\n",
       "\n",
       "    .dataframe thead th {\n",
       "        text-align: right;\n",
       "    }\n",
       "</style>\n",
       "<table border=\"1\" class=\"dataframe\">\n",
       "  <thead>\n",
       "    <tr style=\"text-align: right;\">\n",
       "      <th></th>\n",
       "      <th>id</th>\n",
       "      <th>user_id</th>\n",
       "      <th>session_date</th>\n",
       "      <th>mb_used</th>\n",
       "    </tr>\n",
       "  </thead>\n",
       "  <tbody>\n",
       "    <tr>\n",
       "      <th>0</th>\n",
       "      <td>1000_13</td>\n",
       "      <td>1000</td>\n",
       "      <td>2018-12-29</td>\n",
       "      <td>89.86</td>\n",
       "    </tr>\n",
       "    <tr>\n",
       "      <th>1</th>\n",
       "      <td>1000_204</td>\n",
       "      <td>1000</td>\n",
       "      <td>2018-12-31</td>\n",
       "      <td>0.00</td>\n",
       "    </tr>\n",
       "    <tr>\n",
       "      <th>2</th>\n",
       "      <td>1000_379</td>\n",
       "      <td>1000</td>\n",
       "      <td>2018-12-28</td>\n",
       "      <td>660.40</td>\n",
       "    </tr>\n",
       "    <tr>\n",
       "      <th>3</th>\n",
       "      <td>1000_413</td>\n",
       "      <td>1000</td>\n",
       "      <td>2018-12-26</td>\n",
       "      <td>270.99</td>\n",
       "    </tr>\n",
       "    <tr>\n",
       "      <th>4</th>\n",
       "      <td>1000_442</td>\n",
       "      <td>1000</td>\n",
       "      <td>2018-12-27</td>\n",
       "      <td>880.22</td>\n",
       "    </tr>\n",
       "  </tbody>\n",
       "</table>\n",
       "</div>"
      ],
      "text/plain": [
       "         id  user_id session_date  mb_used\n",
       "0   1000_13     1000   2018-12-29    89.86\n",
       "1  1000_204     1000   2018-12-31     0.00\n",
       "2  1000_379     1000   2018-12-28   660.40\n",
       "3  1000_413     1000   2018-12-26   270.99\n",
       "4  1000_442     1000   2018-12-27   880.22"
      ]
     },
     "execution_count": 18,
     "metadata": {},
     "output_type": "execute_result"
    }
   ],
   "source": [
    "df_internet.head()"
   ]
  },
  {
   "cell_type": "code",
   "execution_count": null,
   "metadata": {},
   "outputs": [],
   "source": [
    "df_internet.info()"
   ]
  },
  {
   "cell_type": "markdown",
   "metadata": {},
   "source": [
    "Нет отсутствующих значений, тип должен быть изменен с объекта на datetime. Для веб-трафика отдельные веб-сеансы не округляются. Вместо этого общая сумма за месяц округляется в большую сторону.session_date"
   ]
  },
  {
   "cell_type": "code",
   "execution_count": 19,
   "metadata": {},
   "outputs": [
    {
     "data": {
      "text/html": [
       "<div>\n",
       "<style scoped>\n",
       "    .dataframe tbody tr th:only-of-type {\n",
       "        vertical-align: middle;\n",
       "    }\n",
       "\n",
       "    .dataframe tbody tr th {\n",
       "        vertical-align: top;\n",
       "    }\n",
       "\n",
       "    .dataframe thead th {\n",
       "        text-align: right;\n",
       "    }\n",
       "</style>\n",
       "<table border=\"1\" class=\"dataframe\">\n",
       "  <thead>\n",
       "    <tr style=\"text-align: right;\">\n",
       "      <th></th>\n",
       "      <th>user_id</th>\n",
       "      <th>mb_used</th>\n",
       "    </tr>\n",
       "  </thead>\n",
       "  <tbody>\n",
       "    <tr>\n",
       "      <th>count</th>\n",
       "      <td>104825.000000</td>\n",
       "      <td>104825.000000</td>\n",
       "    </tr>\n",
       "    <tr>\n",
       "      <th>mean</th>\n",
       "      <td>1242.496361</td>\n",
       "      <td>366.713701</td>\n",
       "    </tr>\n",
       "    <tr>\n",
       "      <th>std</th>\n",
       "      <td>142.053913</td>\n",
       "      <td>277.170542</td>\n",
       "    </tr>\n",
       "    <tr>\n",
       "      <th>min</th>\n",
       "      <td>1000.000000</td>\n",
       "      <td>0.000000</td>\n",
       "    </tr>\n",
       "    <tr>\n",
       "      <th>25%</th>\n",
       "      <td>1122.000000</td>\n",
       "      <td>136.080000</td>\n",
       "    </tr>\n",
       "    <tr>\n",
       "      <th>50%</th>\n",
       "      <td>1236.000000</td>\n",
       "      <td>343.980000</td>\n",
       "    </tr>\n",
       "    <tr>\n",
       "      <th>75%</th>\n",
       "      <td>1367.000000</td>\n",
       "      <td>554.610000</td>\n",
       "    </tr>\n",
       "    <tr>\n",
       "      <th>max</th>\n",
       "      <td>1499.000000</td>\n",
       "      <td>1693.470000</td>\n",
       "    </tr>\n",
       "  </tbody>\n",
       "</table>\n",
       "</div>"
      ],
      "text/plain": [
       "             user_id        mb_used\n",
       "count  104825.000000  104825.000000\n",
       "mean     1242.496361     366.713701\n",
       "std       142.053913     277.170542\n",
       "min      1000.000000       0.000000\n",
       "25%      1122.000000     136.080000\n",
       "50%      1236.000000     343.980000\n",
       "75%      1367.000000     554.610000\n",
       "max      1499.000000    1693.470000"
      ]
     },
     "execution_count": 19,
     "metadata": {},
     "output_type": "execute_result"
    }
   ],
   "source": [
    "df_internet.describe()"
   ]
  },
  {
   "cell_type": "markdown",
   "metadata": {},
   "source": [
    "В этом наборе данных насчитывается 104 825 сеансов. Среднее и медианное значения близки (около 350 мб), что означает, что это распределение также не имеет тяжелых хвостов. Использование мегабайта колеблется от почти 0 до почти 1700."
   ]
  },
  {
   "cell_type": "markdown",
   "metadata": {},
   "source": [
    "#### Планы"
   ]
  },
  {
   "cell_type": "code",
   "execution_count": 21,
   "metadata": {},
   "outputs": [
    {
     "data": {
      "text/html": [
       "<div>\n",
       "<style scoped>\n",
       "    .dataframe tbody tr th:only-of-type {\n",
       "        vertical-align: middle;\n",
       "    }\n",
       "\n",
       "    .dataframe tbody tr th {\n",
       "        vertical-align: top;\n",
       "    }\n",
       "\n",
       "    .dataframe thead th {\n",
       "        text-align: right;\n",
       "    }\n",
       "</style>\n",
       "<table border=\"1\" class=\"dataframe\">\n",
       "  <thead>\n",
       "    <tr style=\"text-align: right;\">\n",
       "      <th></th>\n",
       "      <th>messages_included</th>\n",
       "      <th>mb_per_month_included</th>\n",
       "      <th>minutes_included</th>\n",
       "      <th>usd_monthly_pay</th>\n",
       "      <th>usd_per_gb</th>\n",
       "      <th>usd_per_message</th>\n",
       "      <th>usd_per_minute</th>\n",
       "      <th>plan_name</th>\n",
       "    </tr>\n",
       "  </thead>\n",
       "  <tbody>\n",
       "    <tr>\n",
       "      <th>0</th>\n",
       "      <td>50</td>\n",
       "      <td>15360</td>\n",
       "      <td>500</td>\n",
       "      <td>20</td>\n",
       "      <td>10</td>\n",
       "      <td>0.03</td>\n",
       "      <td>0.03</td>\n",
       "      <td>surf</td>\n",
       "    </tr>\n",
       "    <tr>\n",
       "      <th>1</th>\n",
       "      <td>1000</td>\n",
       "      <td>30720</td>\n",
       "      <td>3000</td>\n",
       "      <td>70</td>\n",
       "      <td>7</td>\n",
       "      <td>0.01</td>\n",
       "      <td>0.01</td>\n",
       "      <td>ultimate</td>\n",
       "    </tr>\n",
       "  </tbody>\n",
       "</table>\n",
       "</div>"
      ],
      "text/plain": [
       "   messages_included  mb_per_month_included  minutes_included  \\\n",
       "0                 50                  15360               500   \n",
       "1               1000                  30720              3000   \n",
       "\n",
       "   usd_monthly_pay  usd_per_gb  usd_per_message  usd_per_minute plan_name  \n",
       "0               20          10             0.03            0.03      surf  \n",
       "1               70           7             0.01            0.01  ultimate  "
      ]
     },
     "execution_count": 21,
     "metadata": {},
     "output_type": "execute_result"
    }
   ],
   "source": [
    "df_plans"
   ]
  },
  {
   "cell_type": "code",
   "execution_count": 22,
   "metadata": {},
   "outputs": [
    {
     "name": "stdout",
     "output_type": "stream",
     "text": [
      "<class 'pandas.core.frame.DataFrame'>\n",
      "RangeIndex: 2 entries, 0 to 1\n",
      "Data columns (total 8 columns):\n",
      " #   Column                 Non-Null Count  Dtype  \n",
      "---  ------                 --------------  -----  \n",
      " 0   messages_included      2 non-null      int64  \n",
      " 1   mb_per_month_included  2 non-null      int64  \n",
      " 2   minutes_included       2 non-null      int64  \n",
      " 3   usd_monthly_pay        2 non-null      int64  \n",
      " 4   usd_per_gb             2 non-null      int64  \n",
      " 5   usd_per_message        2 non-null      float64\n",
      " 6   usd_per_minute         2 non-null      float64\n",
      " 7   plan_name              2 non-null      object \n",
      "dtypes: float64(2), int64(5), object(1)\n",
      "memory usage: 256.0+ bytes\n"
     ]
    }
   ],
   "source": [
    "df_plans.info()"
   ]
  },
  {
   "cell_type": "markdown",
   "metadata": {},
   "source": [
    "В этом наборе данных всего 2 плана - 'Surf' и 'Ultimate'. Никаких проблем с этими данными."
   ]
  },
  {
   "cell_type": "markdown",
   "metadata": {},
   "source": [
    "### Предварительная обработка"
   ]
  },
  {
   "cell_type": "markdown",
   "metadata": {},
   "source": [
    "#### Data type change\n",
    "##### Преобразование даты"
   ]
  },
  {
   "cell_type": "code",
   "execution_count": 23,
   "metadata": {},
   "outputs": [],
   "source": [
    "for df in [df_users, df_messages, df_calls, df_internet]:\n",
    "    for col in ['reg_date','churn_date','message_date','call_date','session_date']:\n",
    "        if col in df.columns:\n",
    "            df[col] = pd.to_datetime(df[col])"
   ]
  },
  {
   "cell_type": "markdown",
   "metadata": {},
   "source": [
    "##### Продолжительность звонка\n",
    "Давайте округлим все звонки до минут в соответствии с политикой компании."
   ]
  },
  {
   "cell_type": "code",
   "execution_count": 25,
   "metadata": {},
   "outputs": [
    {
     "name": "stdout",
     "output_type": "stream",
     "text": [
      "Input array : \n",
      " [0.5, 1.5, 2.5, 3.5, 4.5, 10.1]\n",
      "\n",
      "Rounded values : \n",
      " [ 1.  2.  3.  4.  5. 11.]\n"
     ]
    }
   ],
   "source": [
    "in_array = [.5, 1.5, 2.5, 3.5, 4.5, 10.1]\n",
    "print (\"Input array : \\n\", in_array)\n",
    "  \n",
    "ceiloff_values = np.ceil(in_array)\n",
    "print (\"\\nRounded values : \\n\", ceiloff_values)\n",
    "  "
   ]
  },
  {
   "cell_type": "code",
   "execution_count": 24,
   "metadata": {},
   "outputs": [],
   "source": [
    "df_calls['total_min_month'] = np.ceil((df_calls['duration'].values))"
   ]
  },
  {
   "cell_type": "markdown",
   "metadata": {},
   "source": [
    "#### Отсутствующие значения\n",
    "Как обсуждалось выше, мы заменим отсутствующие значения в столбце строкой 'in use'churn_date"
   ]
  },
  {
   "cell_type": "code",
   "execution_count": 26,
   "metadata": {},
   "outputs": [
    {
     "data": {
      "text/html": [
       "<div>\n",
       "<style scoped>\n",
       "    .dataframe tbody tr th:only-of-type {\n",
       "        vertical-align: middle;\n",
       "    }\n",
       "\n",
       "    .dataframe tbody tr th {\n",
       "        vertical-align: top;\n",
       "    }\n",
       "\n",
       "    .dataframe thead th {\n",
       "        text-align: right;\n",
       "    }\n",
       "</style>\n",
       "<table border=\"1\" class=\"dataframe\">\n",
       "  <thead>\n",
       "    <tr style=\"text-align: right;\">\n",
       "      <th></th>\n",
       "      <th>user_id</th>\n",
       "      <th>first_name</th>\n",
       "      <th>last_name</th>\n",
       "      <th>age</th>\n",
       "      <th>city</th>\n",
       "      <th>reg_date</th>\n",
       "      <th>plan</th>\n",
       "      <th>churn_date</th>\n",
       "    </tr>\n",
       "  </thead>\n",
       "  <tbody>\n",
       "    <tr>\n",
       "      <th>0</th>\n",
       "      <td>1000</td>\n",
       "      <td>Anamaria</td>\n",
       "      <td>Bauer</td>\n",
       "      <td>45</td>\n",
       "      <td>Atlanta-Sandy Springs-Roswell, GA MSA</td>\n",
       "      <td>2018-12-24</td>\n",
       "      <td>ultimate</td>\n",
       "      <td>NaT</td>\n",
       "    </tr>\n",
       "    <tr>\n",
       "      <th>1</th>\n",
       "      <td>1001</td>\n",
       "      <td>Mickey</td>\n",
       "      <td>Wilkerson</td>\n",
       "      <td>28</td>\n",
       "      <td>Seattle-Tacoma-Bellevue, WA MSA</td>\n",
       "      <td>2018-08-13</td>\n",
       "      <td>surf</td>\n",
       "      <td>NaT</td>\n",
       "    </tr>\n",
       "    <tr>\n",
       "      <th>2</th>\n",
       "      <td>1002</td>\n",
       "      <td>Carlee</td>\n",
       "      <td>Hoffman</td>\n",
       "      <td>36</td>\n",
       "      <td>Las Vegas-Henderson-Paradise, NV MSA</td>\n",
       "      <td>2018-10-21</td>\n",
       "      <td>surf</td>\n",
       "      <td>NaT</td>\n",
       "    </tr>\n",
       "    <tr>\n",
       "      <th>3</th>\n",
       "      <td>1003</td>\n",
       "      <td>Reynaldo</td>\n",
       "      <td>Jenkins</td>\n",
       "      <td>52</td>\n",
       "      <td>Tulsa, OK MSA</td>\n",
       "      <td>2018-01-28</td>\n",
       "      <td>surf</td>\n",
       "      <td>NaT</td>\n",
       "    </tr>\n",
       "    <tr>\n",
       "      <th>4</th>\n",
       "      <td>1004</td>\n",
       "      <td>Leonila</td>\n",
       "      <td>Thompson</td>\n",
       "      <td>40</td>\n",
       "      <td>Seattle-Tacoma-Bellevue, WA MSA</td>\n",
       "      <td>2018-05-23</td>\n",
       "      <td>surf</td>\n",
       "      <td>NaT</td>\n",
       "    </tr>\n",
       "  </tbody>\n",
       "</table>\n",
       "</div>"
      ],
      "text/plain": [
       "   user_id first_name  last_name  age                                   city  \\\n",
       "0     1000   Anamaria      Bauer   45  Atlanta-Sandy Springs-Roswell, GA MSA   \n",
       "1     1001     Mickey  Wilkerson   28        Seattle-Tacoma-Bellevue, WA MSA   \n",
       "2     1002     Carlee    Hoffman   36   Las Vegas-Henderson-Paradise, NV MSA   \n",
       "3     1003   Reynaldo    Jenkins   52                          Tulsa, OK MSA   \n",
       "4     1004    Leonila   Thompson   40        Seattle-Tacoma-Bellevue, WA MSA   \n",
       "\n",
       "    reg_date      plan churn_date  \n",
       "0 2018-12-24  ultimate        NaT  \n",
       "1 2018-08-13      surf        NaT  \n",
       "2 2018-10-21      surf        NaT  \n",
       "3 2018-01-28      surf        NaT  \n",
       "4 2018-05-23      surf        NaT  "
      ]
     },
     "execution_count": 26,
     "metadata": {},
     "output_type": "execute_result"
    }
   ],
   "source": [
    "df_users.head(5)"
   ]
  },
  {
   "cell_type": "code",
   "execution_count": 27,
   "metadata": {},
   "outputs": [],
   "source": [
    "df_users['churn_date'] = df_users['churn_date'].fillna('in use')"
   ]
  },
  {
   "cell_type": "code",
   "execution_count": 28,
   "metadata": {},
   "outputs": [
    {
     "data": {
      "text/html": [
       "<div>\n",
       "<style scoped>\n",
       "    .dataframe tbody tr th:only-of-type {\n",
       "        vertical-align: middle;\n",
       "    }\n",
       "\n",
       "    .dataframe tbody tr th {\n",
       "        vertical-align: top;\n",
       "    }\n",
       "\n",
       "    .dataframe thead th {\n",
       "        text-align: right;\n",
       "    }\n",
       "</style>\n",
       "<table border=\"1\" class=\"dataframe\">\n",
       "  <thead>\n",
       "    <tr style=\"text-align: right;\">\n",
       "      <th></th>\n",
       "      <th>user_id</th>\n",
       "      <th>first_name</th>\n",
       "      <th>last_name</th>\n",
       "      <th>age</th>\n",
       "      <th>city</th>\n",
       "      <th>reg_date</th>\n",
       "      <th>plan</th>\n",
       "      <th>churn_date</th>\n",
       "    </tr>\n",
       "  </thead>\n",
       "  <tbody>\n",
       "    <tr>\n",
       "      <th>0</th>\n",
       "      <td>1000</td>\n",
       "      <td>Anamaria</td>\n",
       "      <td>Bauer</td>\n",
       "      <td>45</td>\n",
       "      <td>Atlanta-Sandy Springs-Roswell, GA MSA</td>\n",
       "      <td>2018-12-24</td>\n",
       "      <td>ultimate</td>\n",
       "      <td>in use</td>\n",
       "    </tr>\n",
       "    <tr>\n",
       "      <th>1</th>\n",
       "      <td>1001</td>\n",
       "      <td>Mickey</td>\n",
       "      <td>Wilkerson</td>\n",
       "      <td>28</td>\n",
       "      <td>Seattle-Tacoma-Bellevue, WA MSA</td>\n",
       "      <td>2018-08-13</td>\n",
       "      <td>surf</td>\n",
       "      <td>in use</td>\n",
       "    </tr>\n",
       "    <tr>\n",
       "      <th>2</th>\n",
       "      <td>1002</td>\n",
       "      <td>Carlee</td>\n",
       "      <td>Hoffman</td>\n",
       "      <td>36</td>\n",
       "      <td>Las Vegas-Henderson-Paradise, NV MSA</td>\n",
       "      <td>2018-10-21</td>\n",
       "      <td>surf</td>\n",
       "      <td>in use</td>\n",
       "    </tr>\n",
       "    <tr>\n",
       "      <th>3</th>\n",
       "      <td>1003</td>\n",
       "      <td>Reynaldo</td>\n",
       "      <td>Jenkins</td>\n",
       "      <td>52</td>\n",
       "      <td>Tulsa, OK MSA</td>\n",
       "      <td>2018-01-28</td>\n",
       "      <td>surf</td>\n",
       "      <td>in use</td>\n",
       "    </tr>\n",
       "    <tr>\n",
       "      <th>4</th>\n",
       "      <td>1004</td>\n",
       "      <td>Leonila</td>\n",
       "      <td>Thompson</td>\n",
       "      <td>40</td>\n",
       "      <td>Seattle-Tacoma-Bellevue, WA MSA</td>\n",
       "      <td>2018-05-23</td>\n",
       "      <td>surf</td>\n",
       "      <td>in use</td>\n",
       "    </tr>\n",
       "  </tbody>\n",
       "</table>\n",
       "</div>"
      ],
      "text/plain": [
       "   user_id first_name  last_name  age                                   city  \\\n",
       "0     1000   Anamaria      Bauer   45  Atlanta-Sandy Springs-Roswell, GA MSA   \n",
       "1     1001     Mickey  Wilkerson   28        Seattle-Tacoma-Bellevue, WA MSA   \n",
       "2     1002     Carlee    Hoffman   36   Las Vegas-Henderson-Paradise, NV MSA   \n",
       "3     1003   Reynaldo    Jenkins   52                          Tulsa, OK MSA   \n",
       "4     1004    Leonila   Thompson   40        Seattle-Tacoma-Bellevue, WA MSA   \n",
       "\n",
       "    reg_date      plan churn_date  \n",
       "0 2018-12-24  ultimate     in use  \n",
       "1 2018-08-13      surf     in use  \n",
       "2 2018-10-21      surf     in use  \n",
       "3 2018-01-28      surf     in use  \n",
       "4 2018-05-23      surf     in use  "
      ]
     },
     "execution_count": 28,
     "metadata": {},
     "output_type": "execute_result"
    }
   ],
   "source": [
    "df_users.head(5)"
   ]
  },
  {
   "cell_type": "markdown",
   "metadata": {},
   "source": [
    "#### Дубликаты\n",
    "Давайте проверим, не дублируются ли какие-либо строки в каких-либо фреймах данных."
   ]
  },
  {
   "cell_type": "code",
   "execution_count": 29,
   "metadata": {},
   "outputs": [
    {
     "name": "stdout",
     "output_type": "stream",
     "text": [
      "None\n",
      "None\n",
      "None\n",
      "None\n"
     ]
    }
   ],
   "source": [
    "result = []\n",
    "for df in [df_users, df_messages, df_calls, df_internet]:\n",
    "    print(result.append(df.duplicated().sum()))"
   ]
  },
  {
   "cell_type": "markdown",
   "metadata": {},
   "source": [
    "#### Проверка артефактов в датах пользователя¶\n",
    "Во-первых, давайте проверим, является ли оно строго меньше или равно, чем в df_users.reg_datechurn_date"
   ]
  },
  {
   "cell_type": "code",
   "execution_count": 32,
   "metadata": {},
   "outputs": [
    {
     "data": {
      "text/html": [
       "<div>\n",
       "<style scoped>\n",
       "    .dataframe tbody tr th:only-of-type {\n",
       "        vertical-align: middle;\n",
       "    }\n",
       "\n",
       "    .dataframe tbody tr th {\n",
       "        vertical-align: top;\n",
       "    }\n",
       "\n",
       "    .dataframe thead th {\n",
       "        text-align: right;\n",
       "    }\n",
       "</style>\n",
       "<table border=\"1\" class=\"dataframe\">\n",
       "  <thead>\n",
       "    <tr style=\"text-align: right;\">\n",
       "      <th></th>\n",
       "      <th>user_id</th>\n",
       "      <th>first_name</th>\n",
       "      <th>last_name</th>\n",
       "      <th>age</th>\n",
       "      <th>city</th>\n",
       "      <th>reg_date</th>\n",
       "      <th>plan</th>\n",
       "      <th>churn_date</th>\n",
       "    </tr>\n",
       "  </thead>\n",
       "  <tbody>\n",
       "    <tr>\n",
       "      <th>0</th>\n",
       "      <td>1000</td>\n",
       "      <td>Anamaria</td>\n",
       "      <td>Bauer</td>\n",
       "      <td>45</td>\n",
       "      <td>Atlanta-Sandy Springs-Roswell, GA MSA</td>\n",
       "      <td>2018-12-24</td>\n",
       "      <td>ultimate</td>\n",
       "      <td>in use</td>\n",
       "    </tr>\n",
       "    <tr>\n",
       "      <th>1</th>\n",
       "      <td>1001</td>\n",
       "      <td>Mickey</td>\n",
       "      <td>Wilkerson</td>\n",
       "      <td>28</td>\n",
       "      <td>Seattle-Tacoma-Bellevue, WA MSA</td>\n",
       "      <td>2018-08-13</td>\n",
       "      <td>surf</td>\n",
       "      <td>in use</td>\n",
       "    </tr>\n",
       "    <tr>\n",
       "      <th>2</th>\n",
       "      <td>1002</td>\n",
       "      <td>Carlee</td>\n",
       "      <td>Hoffman</td>\n",
       "      <td>36</td>\n",
       "      <td>Las Vegas-Henderson-Paradise, NV MSA</td>\n",
       "      <td>2018-10-21</td>\n",
       "      <td>surf</td>\n",
       "      <td>in use</td>\n",
       "    </tr>\n",
       "    <tr>\n",
       "      <th>3</th>\n",
       "      <td>1003</td>\n",
       "      <td>Reynaldo</td>\n",
       "      <td>Jenkins</td>\n",
       "      <td>52</td>\n",
       "      <td>Tulsa, OK MSA</td>\n",
       "      <td>2018-01-28</td>\n",
       "      <td>surf</td>\n",
       "      <td>in use</td>\n",
       "    </tr>\n",
       "    <tr>\n",
       "      <th>4</th>\n",
       "      <td>1004</td>\n",
       "      <td>Leonila</td>\n",
       "      <td>Thompson</td>\n",
       "      <td>40</td>\n",
       "      <td>Seattle-Tacoma-Bellevue, WA MSA</td>\n",
       "      <td>2018-05-23</td>\n",
       "      <td>surf</td>\n",
       "      <td>in use</td>\n",
       "    </tr>\n",
       "  </tbody>\n",
       "</table>\n",
       "</div>"
      ],
      "text/plain": [
       "   user_id first_name  last_name  age                                   city  \\\n",
       "0     1000   Anamaria      Bauer   45  Atlanta-Sandy Springs-Roswell, GA MSA   \n",
       "1     1001     Mickey  Wilkerson   28        Seattle-Tacoma-Bellevue, WA MSA   \n",
       "2     1002     Carlee    Hoffman   36   Las Vegas-Henderson-Paradise, NV MSA   \n",
       "3     1003   Reynaldo    Jenkins   52                          Tulsa, OK MSA   \n",
       "4     1004    Leonila   Thompson   40        Seattle-Tacoma-Bellevue, WA MSA   \n",
       "\n",
       "    reg_date      plan churn_date  \n",
       "0 2018-12-24  ultimate     in use  \n",
       "1 2018-08-13      surf     in use  \n",
       "2 2018-10-21      surf     in use  \n",
       "3 2018-01-28      surf     in use  \n",
       "4 2018-05-23      surf     in use  "
      ]
     },
     "execution_count": 32,
     "metadata": {},
     "output_type": "execute_result"
    }
   ],
   "source": [
    "df_users.head(5)"
   ]
  },
  {
   "cell_type": "code",
   "execution_count": 30,
   "metadata": {},
   "outputs": [
    {
     "data": {
      "text/plain": [
       "0"
      ]
     },
     "execution_count": 30,
     "metadata": {},
     "output_type": "execute_result"
    }
   ],
   "source": [
    "date_check = df_users.query('churn_date != \"in use\"')\n",
    "sum(date_check['reg_date'] > date_check['churn_date'])"
   ]
  },
  {
   "cell_type": "markdown",
   "metadata": {},
   "source": [
    "У нас нет никаких наблюдений с неправильными датами.\n",
    "\n",
    "Теперь давайте проверим, что все действия пользователя остаются внутри интервала между и . Для этого мы создадим df_dates со всеми функциями datetime.reg_datechurn_date"
   ]
  },
  {
   "cell_type": "markdown",
   "metadata": {},
   "source": [
    "### MERGE How it works"
   ]
  },
  {
   "cell_type": "code",
   "execution_count": null,
   "metadata": {},
   "outputs": [],
   "source": [
    "## https://www.codeproject.com/Articles/33052/Visual-Representation-of-SQL-Joins\n",
    "\n",
    "## https://www.digitalocean.com/community/tutorials/pandas-merge-two-dataframe"
   ]
  },
  {
   "cell_type": "code",
   "execution_count": 85,
   "metadata": {},
   "outputs": [
    {
     "data": {
      "text/html": [
       "<div>\n",
       "<style scoped>\n",
       "    .dataframe tbody tr th:only-of-type {\n",
       "        vertical-align: middle;\n",
       "    }\n",
       "\n",
       "    .dataframe tbody tr th {\n",
       "        vertical-align: top;\n",
       "    }\n",
       "\n",
       "    .dataframe thead th {\n",
       "        text-align: right;\n",
       "    }\n",
       "</style>\n",
       "<table border=\"1\" class=\"dataframe\">\n",
       "  <thead>\n",
       "    <tr style=\"text-align: right;\">\n",
       "      <th></th>\n",
       "      <th>Name</th>\n",
       "      <th>Country</th>\n",
       "      <th>Role</th>\n",
       "      <th>ID</th>\n",
       "    </tr>\n",
       "  </thead>\n",
       "  <tbody>\n",
       "    <tr>\n",
       "      <th>0</th>\n",
       "      <td>Pankaj</td>\n",
       "      <td>India</td>\n",
       "      <td>CEO</td>\n",
       "      <td>1</td>\n",
       "    </tr>\n",
       "  </tbody>\n",
       "</table>\n",
       "</div>"
      ],
      "text/plain": [
       "     Name Country Role  ID\n",
       "0  Pankaj   India  CEO   1"
      ]
     },
     "execution_count": 85,
     "metadata": {},
     "output_type": "execute_result"
    }
   ],
   "source": [
    "import pandas as pd\n",
    "\n",
    "d1 = {'Name': ['Pankaj', 'Meghna', 'Lisa'], 'Country': ['India', 'India', 'USA'], 'Role': ['CEO', 'CTO', 'CTO']}\n",
    "\n",
    "df1 = pd.DataFrame(d1)\n",
    "\n",
    "#print('DataFrame 1:\\n', df1)\n",
    "\n",
    "df2 = pd.DataFrame({'ID': [1, 2, 3], 'Name': ['Pankaj', 'Anupam', 'Amit']})\n",
    "#print('DataFrame 2:\\n', df2)\n",
    "\n",
    "## INNER JOIN\n",
    "df_merged = df1.merge(df2)\n",
    "df_merged"
   ]
  },
  {
   "cell_type": "code",
   "execution_count": 42,
   "metadata": {},
   "outputs": [
    {
     "data": {
      "text/html": [
       "<div>\n",
       "<style scoped>\n",
       "    .dataframe tbody tr th:only-of-type {\n",
       "        vertical-align: middle;\n",
       "    }\n",
       "\n",
       "    .dataframe tbody tr th {\n",
       "        vertical-align: top;\n",
       "    }\n",
       "\n",
       "    .dataframe thead th {\n",
       "        text-align: right;\n",
       "    }\n",
       "</style>\n",
       "<table border=\"1\" class=\"dataframe\">\n",
       "  <thead>\n",
       "    <tr style=\"text-align: right;\">\n",
       "      <th></th>\n",
       "      <th>Name</th>\n",
       "      <th>Country</th>\n",
       "      <th>Role</th>\n",
       "    </tr>\n",
       "  </thead>\n",
       "  <tbody>\n",
       "    <tr>\n",
       "      <th>0</th>\n",
       "      <td>Pankaj</td>\n",
       "      <td>India</td>\n",
       "      <td>CEO</td>\n",
       "    </tr>\n",
       "    <tr>\n",
       "      <th>1</th>\n",
       "      <td>Meghna</td>\n",
       "      <td>India</td>\n",
       "      <td>CTO</td>\n",
       "    </tr>\n",
       "    <tr>\n",
       "      <th>2</th>\n",
       "      <td>Lisa</td>\n",
       "      <td>USA</td>\n",
       "      <td>CTO</td>\n",
       "    </tr>\n",
       "  </tbody>\n",
       "</table>\n",
       "</div>"
      ],
      "text/plain": [
       "     Name Country Role\n",
       "0  Pankaj   India  CEO\n",
       "1  Meghna   India  CTO\n",
       "2    Lisa     USA  CTO"
      ]
     },
     "execution_count": 42,
     "metadata": {},
     "output_type": "execute_result"
    }
   ],
   "source": [
    "df1"
   ]
  },
  {
   "cell_type": "code",
   "execution_count": 43,
   "metadata": {},
   "outputs": [
    {
     "data": {
      "text/html": [
       "<div>\n",
       "<style scoped>\n",
       "    .dataframe tbody tr th:only-of-type {\n",
       "        vertical-align: middle;\n",
       "    }\n",
       "\n",
       "    .dataframe tbody tr th {\n",
       "        vertical-align: top;\n",
       "    }\n",
       "\n",
       "    .dataframe thead th {\n",
       "        text-align: right;\n",
       "    }\n",
       "</style>\n",
       "<table border=\"1\" class=\"dataframe\">\n",
       "  <thead>\n",
       "    <tr style=\"text-align: right;\">\n",
       "      <th></th>\n",
       "      <th>ID</th>\n",
       "      <th>Name</th>\n",
       "    </tr>\n",
       "  </thead>\n",
       "  <tbody>\n",
       "    <tr>\n",
       "      <th>0</th>\n",
       "      <td>1</td>\n",
       "      <td>Pankaj</td>\n",
       "    </tr>\n",
       "    <tr>\n",
       "      <th>1</th>\n",
       "      <td>2</td>\n",
       "      <td>Anupam</td>\n",
       "    </tr>\n",
       "    <tr>\n",
       "      <th>2</th>\n",
       "      <td>3</td>\n",
       "      <td>Amit</td>\n",
       "    </tr>\n",
       "  </tbody>\n",
       "</table>\n",
       "</div>"
      ],
      "text/plain": [
       "   ID    Name\n",
       "0   1  Pankaj\n",
       "1   2  Anupam\n",
       "2   3    Amit"
      ]
     },
     "execution_count": 43,
     "metadata": {},
     "output_type": "execute_result"
    }
   ],
   "source": [
    "df2"
   ]
  },
  {
   "cell_type": "code",
   "execution_count": 86,
   "metadata": {},
   "outputs": [
    {
     "data": {
      "text/html": [
       "<div>\n",
       "<style scoped>\n",
       "    .dataframe tbody tr th:only-of-type {\n",
       "        vertical-align: middle;\n",
       "    }\n",
       "\n",
       "    .dataframe tbody tr th {\n",
       "        vertical-align: top;\n",
       "    }\n",
       "\n",
       "    .dataframe thead th {\n",
       "        text-align: right;\n",
       "    }\n",
       "</style>\n",
       "<table border=\"1\" class=\"dataframe\">\n",
       "  <thead>\n",
       "    <tr style=\"text-align: right;\">\n",
       "      <th></th>\n",
       "      <th>Name</th>\n",
       "      <th>Country</th>\n",
       "      <th>Role</th>\n",
       "      <th>ID</th>\n",
       "    </tr>\n",
       "  </thead>\n",
       "  <tbody>\n",
       "    <tr>\n",
       "      <th>0</th>\n",
       "      <td>Pankaj</td>\n",
       "      <td>India</td>\n",
       "      <td>CEO</td>\n",
       "      <td>1.0</td>\n",
       "    </tr>\n",
       "    <tr>\n",
       "      <th>1</th>\n",
       "      <td>Meghna</td>\n",
       "      <td>India</td>\n",
       "      <td>CTO</td>\n",
       "      <td>NaN</td>\n",
       "    </tr>\n",
       "    <tr>\n",
       "      <th>2</th>\n",
       "      <td>Lisa</td>\n",
       "      <td>USA</td>\n",
       "      <td>CTO</td>\n",
       "      <td>NaN</td>\n",
       "    </tr>\n",
       "  </tbody>\n",
       "</table>\n",
       "</div>"
      ],
      "text/plain": [
       "     Name Country Role   ID\n",
       "0  Pankaj   India  CEO  1.0\n",
       "1  Meghna   India  CTO  NaN\n",
       "2    Lisa     USA  CTO  NaN"
      ]
     },
     "execution_count": 86,
     "metadata": {},
     "output_type": "execute_result"
    }
   ],
   "source": [
    "df1.merge(df2, how='left')\n",
    "#df1.merge(df2, how='right')\n",
    "#df1.merge(df2, how='outer'))\n"
   ]
  },
  {
   "cell_type": "code",
   "execution_count": 87,
   "metadata": {},
   "outputs": [
    {
     "data": {
      "text/html": [
       "<div>\n",
       "<style scoped>\n",
       "    .dataframe tbody tr th:only-of-type {\n",
       "        vertical-align: middle;\n",
       "    }\n",
       "\n",
       "    .dataframe tbody tr th {\n",
       "        vertical-align: top;\n",
       "    }\n",
       "\n",
       "    .dataframe thead th {\n",
       "        text-align: right;\n",
       "    }\n",
       "</style>\n",
       "<table border=\"1\" class=\"dataframe\">\n",
       "  <thead>\n",
       "    <tr style=\"text-align: right;\">\n",
       "      <th></th>\n",
       "      <th>Name</th>\n",
       "      <th>Country</th>\n",
       "      <th>Role</th>\n",
       "      <th>ID</th>\n",
       "    </tr>\n",
       "  </thead>\n",
       "  <tbody>\n",
       "    <tr>\n",
       "      <th>0</th>\n",
       "      <td>Pankaj</td>\n",
       "      <td>India</td>\n",
       "      <td>CEO</td>\n",
       "      <td>1</td>\n",
       "    </tr>\n",
       "    <tr>\n",
       "      <th>1</th>\n",
       "      <td>Anupam</td>\n",
       "      <td>NaN</td>\n",
       "      <td>NaN</td>\n",
       "      <td>2</td>\n",
       "    </tr>\n",
       "    <tr>\n",
       "      <th>2</th>\n",
       "      <td>Amit</td>\n",
       "      <td>NaN</td>\n",
       "      <td>NaN</td>\n",
       "      <td>3</td>\n",
       "    </tr>\n",
       "  </tbody>\n",
       "</table>\n",
       "</div>"
      ],
      "text/plain": [
       "     Name Country Role  ID\n",
       "0  Pankaj   India  CEO   1\n",
       "1  Anupam     NaN  NaN   2\n",
       "2    Amit     NaN  NaN   3"
      ]
     },
     "execution_count": 87,
     "metadata": {},
     "output_type": "execute_result"
    }
   ],
   "source": [
    "df1.merge(df2, how='right')"
   ]
  },
  {
   "cell_type": "code",
   "execution_count": 88,
   "metadata": {},
   "outputs": [
    {
     "data": {
      "text/html": [
       "<div>\n",
       "<style scoped>\n",
       "    .dataframe tbody tr th:only-of-type {\n",
       "        vertical-align: middle;\n",
       "    }\n",
       "\n",
       "    .dataframe tbody tr th {\n",
       "        vertical-align: top;\n",
       "    }\n",
       "\n",
       "    .dataframe thead th {\n",
       "        text-align: right;\n",
       "    }\n",
       "</style>\n",
       "<table border=\"1\" class=\"dataframe\">\n",
       "  <thead>\n",
       "    <tr style=\"text-align: right;\">\n",
       "      <th></th>\n",
       "      <th>Name</th>\n",
       "      <th>Country</th>\n",
       "      <th>Role</th>\n",
       "      <th>ID</th>\n",
       "    </tr>\n",
       "  </thead>\n",
       "  <tbody>\n",
       "    <tr>\n",
       "      <th>0</th>\n",
       "      <td>Pankaj</td>\n",
       "      <td>India</td>\n",
       "      <td>CEO</td>\n",
       "      <td>1.0</td>\n",
       "    </tr>\n",
       "    <tr>\n",
       "      <th>1</th>\n",
       "      <td>Meghna</td>\n",
       "      <td>India</td>\n",
       "      <td>CTO</td>\n",
       "      <td>NaN</td>\n",
       "    </tr>\n",
       "    <tr>\n",
       "      <th>2</th>\n",
       "      <td>Lisa</td>\n",
       "      <td>USA</td>\n",
       "      <td>CTO</td>\n",
       "      <td>NaN</td>\n",
       "    </tr>\n",
       "    <tr>\n",
       "      <th>3</th>\n",
       "      <td>Anupam</td>\n",
       "      <td>NaN</td>\n",
       "      <td>NaN</td>\n",
       "      <td>2.0</td>\n",
       "    </tr>\n",
       "    <tr>\n",
       "      <th>4</th>\n",
       "      <td>Amit</td>\n",
       "      <td>NaN</td>\n",
       "      <td>NaN</td>\n",
       "      <td>3.0</td>\n",
       "    </tr>\n",
       "  </tbody>\n",
       "</table>\n",
       "</div>"
      ],
      "text/plain": [
       "     Name Country Role   ID\n",
       "0  Pankaj   India  CEO  1.0\n",
       "1  Meghna   India  CTO  NaN\n",
       "2    Lisa     USA  CTO  NaN\n",
       "3  Anupam     NaN  NaN  2.0\n",
       "4    Amit     NaN  NaN  3.0"
      ]
     },
     "execution_count": 88,
     "metadata": {},
     "output_type": "execute_result"
    }
   ],
   "source": [
    "df1.merge(df2, how='outer')"
   ]
  },
  {
   "cell_type": "code",
   "execution_count": null,
   "metadata": {},
   "outputs": [],
   "source": []
  },
  {
   "cell_type": "code",
   "execution_count": null,
   "metadata": {},
   "outputs": [],
   "source": []
  },
  {
   "cell_type": "markdown",
   "metadata": {},
   "source": [
    "<img src=\"pics_chi/j1.png\" alt=\"Drawing\" style=\"width: 800px;\"/>"
   ]
  },
  {
   "cell_type": "code",
   "execution_count": 52,
   "metadata": {},
   "outputs": [
    {
     "data": {
      "text/html": [
       "<div>\n",
       "<style scoped>\n",
       "    .dataframe tbody tr th:only-of-type {\n",
       "        vertical-align: middle;\n",
       "    }\n",
       "\n",
       "    .dataframe tbody tr th {\n",
       "        vertical-align: top;\n",
       "    }\n",
       "\n",
       "    .dataframe thead th {\n",
       "        text-align: right;\n",
       "    }\n",
       "</style>\n",
       "<table border=\"1\" class=\"dataframe\">\n",
       "  <thead>\n",
       "    <tr style=\"text-align: right;\">\n",
       "      <th></th>\n",
       "      <th>user_id</th>\n",
       "      <th>first_name</th>\n",
       "      <th>last_name</th>\n",
       "      <th>age</th>\n",
       "      <th>city</th>\n",
       "      <th>reg_date</th>\n",
       "      <th>plan</th>\n",
       "      <th>churn_date</th>\n",
       "      <th>id</th>\n",
       "      <th>message_date</th>\n",
       "    </tr>\n",
       "  </thead>\n",
       "  <tbody>\n",
       "    <tr>\n",
       "      <th>0</th>\n",
       "      <td>1000</td>\n",
       "      <td>Anamaria</td>\n",
       "      <td>Bauer</td>\n",
       "      <td>45</td>\n",
       "      <td>Atlanta-Sandy Springs-Roswell, GA MSA</td>\n",
       "      <td>2018-12-24</td>\n",
       "      <td>ultimate</td>\n",
       "      <td>in use</td>\n",
       "      <td>1000_125</td>\n",
       "      <td>2018-12-27</td>\n",
       "    </tr>\n",
       "    <tr>\n",
       "      <th>1</th>\n",
       "      <td>1000</td>\n",
       "      <td>Anamaria</td>\n",
       "      <td>Bauer</td>\n",
       "      <td>45</td>\n",
       "      <td>Atlanta-Sandy Springs-Roswell, GA MSA</td>\n",
       "      <td>2018-12-24</td>\n",
       "      <td>ultimate</td>\n",
       "      <td>in use</td>\n",
       "      <td>1000_160</td>\n",
       "      <td>2018-12-31</td>\n",
       "    </tr>\n",
       "    <tr>\n",
       "      <th>2</th>\n",
       "      <td>1000</td>\n",
       "      <td>Anamaria</td>\n",
       "      <td>Bauer</td>\n",
       "      <td>45</td>\n",
       "      <td>Atlanta-Sandy Springs-Roswell, GA MSA</td>\n",
       "      <td>2018-12-24</td>\n",
       "      <td>ultimate</td>\n",
       "      <td>in use</td>\n",
       "      <td>1000_223</td>\n",
       "      <td>2018-12-31</td>\n",
       "    </tr>\n",
       "    <tr>\n",
       "      <th>3</th>\n",
       "      <td>1000</td>\n",
       "      <td>Anamaria</td>\n",
       "      <td>Bauer</td>\n",
       "      <td>45</td>\n",
       "      <td>Atlanta-Sandy Springs-Roswell, GA MSA</td>\n",
       "      <td>2018-12-24</td>\n",
       "      <td>ultimate</td>\n",
       "      <td>in use</td>\n",
       "      <td>1000_251</td>\n",
       "      <td>2018-12-27</td>\n",
       "    </tr>\n",
       "    <tr>\n",
       "      <th>4</th>\n",
       "      <td>1000</td>\n",
       "      <td>Anamaria</td>\n",
       "      <td>Bauer</td>\n",
       "      <td>45</td>\n",
       "      <td>Atlanta-Sandy Springs-Roswell, GA MSA</td>\n",
       "      <td>2018-12-24</td>\n",
       "      <td>ultimate</td>\n",
       "      <td>in use</td>\n",
       "      <td>1000_255</td>\n",
       "      <td>2018-12-26</td>\n",
       "    </tr>\n",
       "    <tr>\n",
       "      <th>5</th>\n",
       "      <td>1000</td>\n",
       "      <td>Anamaria</td>\n",
       "      <td>Bauer</td>\n",
       "      <td>45</td>\n",
       "      <td>Atlanta-Sandy Springs-Roswell, GA MSA</td>\n",
       "      <td>2018-12-24</td>\n",
       "      <td>ultimate</td>\n",
       "      <td>in use</td>\n",
       "      <td>1000_346</td>\n",
       "      <td>2018-12-29</td>\n",
       "    </tr>\n",
       "  </tbody>\n",
       "</table>\n",
       "</div>"
      ],
      "text/plain": [
       "   user_id first_name last_name  age                                   city  \\\n",
       "0     1000   Anamaria     Bauer   45  Atlanta-Sandy Springs-Roswell, GA MSA   \n",
       "1     1000   Anamaria     Bauer   45  Atlanta-Sandy Springs-Roswell, GA MSA   \n",
       "2     1000   Anamaria     Bauer   45  Atlanta-Sandy Springs-Roswell, GA MSA   \n",
       "3     1000   Anamaria     Bauer   45  Atlanta-Sandy Springs-Roswell, GA MSA   \n",
       "4     1000   Anamaria     Bauer   45  Atlanta-Sandy Springs-Roswell, GA MSA   \n",
       "5     1000   Anamaria     Bauer   45  Atlanta-Sandy Springs-Roswell, GA MSA   \n",
       "\n",
       "    reg_date      plan churn_date        id message_date  \n",
       "0 2018-12-24  ultimate     in use  1000_125   2018-12-27  \n",
       "1 2018-12-24  ultimate     in use  1000_160   2018-12-31  \n",
       "2 2018-12-24  ultimate     in use  1000_223   2018-12-31  \n",
       "3 2018-12-24  ultimate     in use  1000_251   2018-12-27  \n",
       "4 2018-12-24  ultimate     in use  1000_255   2018-12-26  \n",
       "5 2018-12-24  ultimate     in use  1000_346   2018-12-29  "
      ]
     },
     "execution_count": 52,
     "metadata": {},
     "output_type": "execute_result"
    }
   ],
   "source": [
    "df4 = df_users.merge(df_messages, how='left')\n",
    "df4.head(6)"
   ]
  },
  {
   "cell_type": "code",
   "execution_count": 58,
   "metadata": {},
   "outputs": [
    {
     "data": {
      "text/html": [
       "<div>\n",
       "<style scoped>\n",
       "    .dataframe tbody tr th:only-of-type {\n",
       "        vertical-align: middle;\n",
       "    }\n",
       "\n",
       "    .dataframe tbody tr th {\n",
       "        vertical-align: top;\n",
       "    }\n",
       "\n",
       "    .dataframe thead th {\n",
       "        text-align: right;\n",
       "    }\n",
       "</style>\n",
       "<table border=\"1\" class=\"dataframe\">\n",
       "  <thead>\n",
       "    <tr style=\"text-align: right;\">\n",
       "      <th></th>\n",
       "      <th>user_id</th>\n",
       "      <th>first_name</th>\n",
       "      <th>last_name</th>\n",
       "      <th>age</th>\n",
       "      <th>city</th>\n",
       "      <th>reg_date</th>\n",
       "      <th>plan</th>\n",
       "      <th>churn_date</th>\n",
       "      <th>id</th>\n",
       "      <th>message_date</th>\n",
       "    </tr>\n",
       "  </thead>\n",
       "  <tbody>\n",
       "    <tr>\n",
       "      <th>76144</th>\n",
       "      <td>1497</td>\n",
       "      <td>Donte</td>\n",
       "      <td>Barrera</td>\n",
       "      <td>49</td>\n",
       "      <td>Los Angeles-Long Beach-Anaheim, CA MSA</td>\n",
       "      <td>2018-12-10</td>\n",
       "      <td>ultimate</td>\n",
       "      <td>in use</td>\n",
       "      <td>1497_547</td>\n",
       "      <td>2018-12-31</td>\n",
       "    </tr>\n",
       "    <tr>\n",
       "      <th>76145</th>\n",
       "      <td>1497</td>\n",
       "      <td>Donte</td>\n",
       "      <td>Barrera</td>\n",
       "      <td>49</td>\n",
       "      <td>Los Angeles-Long Beach-Anaheim, CA MSA</td>\n",
       "      <td>2018-12-10</td>\n",
       "      <td>ultimate</td>\n",
       "      <td>in use</td>\n",
       "      <td>1497_558</td>\n",
       "      <td>2018-12-24</td>\n",
       "    </tr>\n",
       "    <tr>\n",
       "      <th>76146</th>\n",
       "      <td>1497</td>\n",
       "      <td>Donte</td>\n",
       "      <td>Barrera</td>\n",
       "      <td>49</td>\n",
       "      <td>Los Angeles-Long Beach-Anaheim, CA MSA</td>\n",
       "      <td>2018-12-10</td>\n",
       "      <td>ultimate</td>\n",
       "      <td>in use</td>\n",
       "      <td>1497_613</td>\n",
       "      <td>2018-12-23</td>\n",
       "    </tr>\n",
       "    <tr>\n",
       "      <th>76147</th>\n",
       "      <td>1498</td>\n",
       "      <td>Scot</td>\n",
       "      <td>Williamson</td>\n",
       "      <td>51</td>\n",
       "      <td>New York-Newark-Jersey City, NY-NJ-PA MSA</td>\n",
       "      <td>2018-02-04</td>\n",
       "      <td>surf</td>\n",
       "      <td>in use</td>\n",
       "      <td>NaN</td>\n",
       "      <td>NaT</td>\n",
       "    </tr>\n",
       "    <tr>\n",
       "      <th>76148</th>\n",
       "      <td>1499</td>\n",
       "      <td>Shena</td>\n",
       "      <td>Dickson</td>\n",
       "      <td>37</td>\n",
       "      <td>Orlando-Kissimmee-Sanford, FL MSA</td>\n",
       "      <td>2018-05-06</td>\n",
       "      <td>surf</td>\n",
       "      <td>in use</td>\n",
       "      <td>NaN</td>\n",
       "      <td>NaT</td>\n",
       "    </tr>\n",
       "  </tbody>\n",
       "</table>\n",
       "</div>"
      ],
      "text/plain": [
       "       user_id first_name   last_name  age  \\\n",
       "76144     1497      Donte     Barrera   49   \n",
       "76145     1497      Donte     Barrera   49   \n",
       "76146     1497      Donte     Barrera   49   \n",
       "76147     1498       Scot  Williamson   51   \n",
       "76148     1499      Shena     Dickson   37   \n",
       "\n",
       "                                            city   reg_date      plan  \\\n",
       "76144     Los Angeles-Long Beach-Anaheim, CA MSA 2018-12-10  ultimate   \n",
       "76145     Los Angeles-Long Beach-Anaheim, CA MSA 2018-12-10  ultimate   \n",
       "76146     Los Angeles-Long Beach-Anaheim, CA MSA 2018-12-10  ultimate   \n",
       "76147  New York-Newark-Jersey City, NY-NJ-PA MSA 2018-02-04      surf   \n",
       "76148          Orlando-Kissimmee-Sanford, FL MSA 2018-05-06      surf   \n",
       "\n",
       "      churn_date        id message_date  \n",
       "76144     in use  1497_547   2018-12-31  \n",
       "76145     in use  1497_558   2018-12-24  \n",
       "76146     in use  1497_613   2018-12-23  \n",
       "76147     in use       NaN          NaT  \n",
       "76148     in use       NaN          NaT  "
      ]
     },
     "execution_count": 58,
     "metadata": {},
     "output_type": "execute_result"
    }
   ],
   "source": [
    "df4.tail()"
   ]
  },
  {
   "cell_type": "code",
   "execution_count": 59,
   "metadata": {},
   "outputs": [
    {
     "data": {
      "text/html": [
       "<div>\n",
       "<style scoped>\n",
       "    .dataframe tbody tr th:only-of-type {\n",
       "        vertical-align: middle;\n",
       "    }\n",
       "\n",
       "    .dataframe tbody tr th {\n",
       "        vertical-align: top;\n",
       "    }\n",
       "\n",
       "    .dataframe thead th {\n",
       "        text-align: right;\n",
       "    }\n",
       "</style>\n",
       "<table border=\"1\" class=\"dataframe\">\n",
       "  <thead>\n",
       "    <tr style=\"text-align: right;\">\n",
       "      <th></th>\n",
       "      <th>user_id</th>\n",
       "      <th>first_name</th>\n",
       "      <th>last_name</th>\n",
       "      <th>age</th>\n",
       "      <th>city</th>\n",
       "      <th>reg_date</th>\n",
       "      <th>plan</th>\n",
       "      <th>churn_date</th>\n",
       "    </tr>\n",
       "  </thead>\n",
       "  <tbody>\n",
       "    <tr>\n",
       "      <th>495</th>\n",
       "      <td>1495</td>\n",
       "      <td>Fidel</td>\n",
       "      <td>Sharpe</td>\n",
       "      <td>67</td>\n",
       "      <td>New York-Newark-Jersey City, NY-NJ-PA MSA</td>\n",
       "      <td>2018-09-04</td>\n",
       "      <td>surf</td>\n",
       "      <td>in use</td>\n",
       "    </tr>\n",
       "    <tr>\n",
       "      <th>496</th>\n",
       "      <td>1496</td>\n",
       "      <td>Ariel</td>\n",
       "      <td>Shepherd</td>\n",
       "      <td>49</td>\n",
       "      <td>New Orleans-Metairie, LA MSA</td>\n",
       "      <td>2018-02-20</td>\n",
       "      <td>surf</td>\n",
       "      <td>in use</td>\n",
       "    </tr>\n",
       "    <tr>\n",
       "      <th>497</th>\n",
       "      <td>1497</td>\n",
       "      <td>Donte</td>\n",
       "      <td>Barrera</td>\n",
       "      <td>49</td>\n",
       "      <td>Los Angeles-Long Beach-Anaheim, CA MSA</td>\n",
       "      <td>2018-12-10</td>\n",
       "      <td>ultimate</td>\n",
       "      <td>in use</td>\n",
       "    </tr>\n",
       "    <tr>\n",
       "      <th>498</th>\n",
       "      <td>1498</td>\n",
       "      <td>Scot</td>\n",
       "      <td>Williamson</td>\n",
       "      <td>51</td>\n",
       "      <td>New York-Newark-Jersey City, NY-NJ-PA MSA</td>\n",
       "      <td>2018-02-04</td>\n",
       "      <td>surf</td>\n",
       "      <td>in use</td>\n",
       "    </tr>\n",
       "    <tr>\n",
       "      <th>499</th>\n",
       "      <td>1499</td>\n",
       "      <td>Shena</td>\n",
       "      <td>Dickson</td>\n",
       "      <td>37</td>\n",
       "      <td>Orlando-Kissimmee-Sanford, FL MSA</td>\n",
       "      <td>2018-05-06</td>\n",
       "      <td>surf</td>\n",
       "      <td>in use</td>\n",
       "    </tr>\n",
       "  </tbody>\n",
       "</table>\n",
       "</div>"
      ],
      "text/plain": [
       "     user_id first_name   last_name  age  \\\n",
       "495     1495      Fidel      Sharpe   67   \n",
       "496     1496      Ariel    Shepherd   49   \n",
       "497     1497      Donte     Barrera   49   \n",
       "498     1498       Scot  Williamson   51   \n",
       "499     1499      Shena     Dickson   37   \n",
       "\n",
       "                                          city   reg_date      plan churn_date  \n",
       "495  New York-Newark-Jersey City, NY-NJ-PA MSA 2018-09-04      surf     in use  \n",
       "496               New Orleans-Metairie, LA MSA 2018-02-20      surf     in use  \n",
       "497     Los Angeles-Long Beach-Anaheim, CA MSA 2018-12-10  ultimate     in use  \n",
       "498  New York-Newark-Jersey City, NY-NJ-PA MSA 2018-02-04      surf     in use  \n",
       "499          Orlando-Kissimmee-Sanford, FL MSA 2018-05-06      surf     in use  "
      ]
     },
     "execution_count": 59,
     "metadata": {},
     "output_type": "execute_result"
    }
   ],
   "source": [
    "df_users.tail()"
   ]
  },
  {
   "cell_type": "code",
   "execution_count": 63,
   "metadata": {},
   "outputs": [
    {
     "data": {
      "text/plain": [
       "1"
      ]
     },
     "execution_count": 63,
     "metadata": {},
     "output_type": "execute_result"
    }
   ],
   "source": [
    "(df_users.first_name == 'Fidel').sum()"
   ]
  },
  {
   "cell_type": "code",
   "execution_count": 64,
   "metadata": {},
   "outputs": [
    {
     "data": {
      "text/plain": [
       "1"
      ]
     },
     "execution_count": 64,
     "metadata": {},
     "output_type": "execute_result"
    }
   ],
   "source": [
    "(df4.first_name == 'Fidel').sum()"
   ]
  },
  {
   "cell_type": "code",
   "execution_count": 65,
   "metadata": {},
   "outputs": [
    {
     "data": {
      "text/plain": [
       "2"
      ]
     },
     "execution_count": 65,
     "metadata": {},
     "output_type": "execute_result"
    }
   ],
   "source": [
    "(df_users.first_name == 'Ariel').sum()"
   ]
  },
  {
   "cell_type": "code",
   "execution_count": 66,
   "metadata": {},
   "outputs": [
    {
     "data": {
      "text/plain": [
       "401"
      ]
     },
     "execution_count": 66,
     "metadata": {},
     "output_type": "execute_result"
    }
   ],
   "source": [
    "(df4.first_name == 'Ariel').sum()"
   ]
  },
  {
   "cell_type": "code",
   "execution_count": 68,
   "metadata": {},
   "outputs": [
    {
     "data": {
      "text/html": [
       "<div>\n",
       "<style scoped>\n",
       "    .dataframe tbody tr th:only-of-type {\n",
       "        vertical-align: middle;\n",
       "    }\n",
       "\n",
       "    .dataframe tbody tr th {\n",
       "        vertical-align: top;\n",
       "    }\n",
       "\n",
       "    .dataframe thead th {\n",
       "        text-align: right;\n",
       "    }\n",
       "</style>\n",
       "<table border=\"1\" class=\"dataframe\">\n",
       "  <thead>\n",
       "    <tr style=\"text-align: right;\">\n",
       "      <th></th>\n",
       "      <th>user_id</th>\n",
       "      <th>first_name</th>\n",
       "      <th>last_name</th>\n",
       "      <th>age</th>\n",
       "      <th>city</th>\n",
       "      <th>reg_date</th>\n",
       "      <th>plan</th>\n",
       "      <th>churn_date</th>\n",
       "      <th>id</th>\n",
       "      <th>message_date</th>\n",
       "    </tr>\n",
       "  </thead>\n",
       "  <tbody>\n",
       "    <tr>\n",
       "      <th>8843</th>\n",
       "      <td>1066</td>\n",
       "      <td>Ariel</td>\n",
       "      <td>Woods</td>\n",
       "      <td>61</td>\n",
       "      <td>Boston-Cambridge-Newton, MA-NH MSA</td>\n",
       "      <td>2018-03-08</td>\n",
       "      <td>surf</td>\n",
       "      <td>in use</td>\n",
       "      <td>1066_0</td>\n",
       "      <td>2018-05-30</td>\n",
       "    </tr>\n",
       "    <tr>\n",
       "      <th>8844</th>\n",
       "      <td>1066</td>\n",
       "      <td>Ariel</td>\n",
       "      <td>Woods</td>\n",
       "      <td>61</td>\n",
       "      <td>Boston-Cambridge-Newton, MA-NH MSA</td>\n",
       "      <td>2018-03-08</td>\n",
       "      <td>surf</td>\n",
       "      <td>in use</td>\n",
       "      <td>1066_1</td>\n",
       "      <td>2018-08-29</td>\n",
       "    </tr>\n",
       "    <tr>\n",
       "      <th>8845</th>\n",
       "      <td>1066</td>\n",
       "      <td>Ariel</td>\n",
       "      <td>Woods</td>\n",
       "      <td>61</td>\n",
       "      <td>Boston-Cambridge-Newton, MA-NH MSA</td>\n",
       "      <td>2018-03-08</td>\n",
       "      <td>surf</td>\n",
       "      <td>in use</td>\n",
       "      <td>1066_2</td>\n",
       "      <td>2018-10-27</td>\n",
       "    </tr>\n",
       "    <tr>\n",
       "      <th>8846</th>\n",
       "      <td>1066</td>\n",
       "      <td>Ariel</td>\n",
       "      <td>Woods</td>\n",
       "      <td>61</td>\n",
       "      <td>Boston-Cambridge-Newton, MA-NH MSA</td>\n",
       "      <td>2018-03-08</td>\n",
       "      <td>surf</td>\n",
       "      <td>in use</td>\n",
       "      <td>1066_3</td>\n",
       "      <td>2018-08-07</td>\n",
       "    </tr>\n",
       "    <tr>\n",
       "      <th>8847</th>\n",
       "      <td>1066</td>\n",
       "      <td>Ariel</td>\n",
       "      <td>Woods</td>\n",
       "      <td>61</td>\n",
       "      <td>Boston-Cambridge-Newton, MA-NH MSA</td>\n",
       "      <td>2018-03-08</td>\n",
       "      <td>surf</td>\n",
       "      <td>in use</td>\n",
       "      <td>1066_4</td>\n",
       "      <td>2018-11-19</td>\n",
       "    </tr>\n",
       "    <tr>\n",
       "      <th>8848</th>\n",
       "      <td>1066</td>\n",
       "      <td>Ariel</td>\n",
       "      <td>Woods</td>\n",
       "      <td>61</td>\n",
       "      <td>Boston-Cambridge-Newton, MA-NH MSA</td>\n",
       "      <td>2018-03-08</td>\n",
       "      <td>surf</td>\n",
       "      <td>in use</td>\n",
       "      <td>1066_5</td>\n",
       "      <td>2018-11-19</td>\n",
       "    </tr>\n",
       "    <tr>\n",
       "      <th>8849</th>\n",
       "      <td>1066</td>\n",
       "      <td>Ariel</td>\n",
       "      <td>Woods</td>\n",
       "      <td>61</td>\n",
       "      <td>Boston-Cambridge-Newton, MA-NH MSA</td>\n",
       "      <td>2018-03-08</td>\n",
       "      <td>surf</td>\n",
       "      <td>in use</td>\n",
       "      <td>1066_6</td>\n",
       "      <td>2018-08-02</td>\n",
       "    </tr>\n",
       "  </tbody>\n",
       "</table>\n",
       "</div>"
      ],
      "text/plain": [
       "      user_id first_name last_name  age                                city  \\\n",
       "8843     1066      Ariel     Woods   61  Boston-Cambridge-Newton, MA-NH MSA   \n",
       "8844     1066      Ariel     Woods   61  Boston-Cambridge-Newton, MA-NH MSA   \n",
       "8845     1066      Ariel     Woods   61  Boston-Cambridge-Newton, MA-NH MSA   \n",
       "8846     1066      Ariel     Woods   61  Boston-Cambridge-Newton, MA-NH MSA   \n",
       "8847     1066      Ariel     Woods   61  Boston-Cambridge-Newton, MA-NH MSA   \n",
       "8848     1066      Ariel     Woods   61  Boston-Cambridge-Newton, MA-NH MSA   \n",
       "8849     1066      Ariel     Woods   61  Boston-Cambridge-Newton, MA-NH MSA   \n",
       "\n",
       "       reg_date  plan churn_date      id message_date  \n",
       "8843 2018-03-08  surf     in use  1066_0   2018-05-30  \n",
       "8844 2018-03-08  surf     in use  1066_1   2018-08-29  \n",
       "8845 2018-03-08  surf     in use  1066_2   2018-10-27  \n",
       "8846 2018-03-08  surf     in use  1066_3   2018-08-07  \n",
       "8847 2018-03-08  surf     in use  1066_4   2018-11-19  \n",
       "8848 2018-03-08  surf     in use  1066_5   2018-11-19  \n",
       "8849 2018-03-08  surf     in use  1066_6   2018-08-02  "
      ]
     },
     "execution_count": 68,
     "metadata": {},
     "output_type": "execute_result"
    }
   ],
   "source": [
    "df4[df4.first_name == 'Ariel'].head(7)"
   ]
  },
  {
   "cell_type": "code",
   "execution_count": 69,
   "metadata": {},
   "outputs": [
    {
     "data": {
      "text/html": [
       "<div>\n",
       "<style scoped>\n",
       "    .dataframe tbody tr th:only-of-type {\n",
       "        vertical-align: middle;\n",
       "    }\n",
       "\n",
       "    .dataframe tbody tr th {\n",
       "        vertical-align: top;\n",
       "    }\n",
       "\n",
       "    .dataframe thead th {\n",
       "        text-align: right;\n",
       "    }\n",
       "</style>\n",
       "<table border=\"1\" class=\"dataframe\">\n",
       "  <thead>\n",
       "    <tr style=\"text-align: right;\">\n",
       "      <th></th>\n",
       "      <th>user_id</th>\n",
       "      <th>first_name</th>\n",
       "      <th>last_name</th>\n",
       "      <th>age</th>\n",
       "      <th>city</th>\n",
       "      <th>reg_date</th>\n",
       "      <th>plan</th>\n",
       "      <th>churn_date</th>\n",
       "    </tr>\n",
       "  </thead>\n",
       "  <tbody>\n",
       "    <tr>\n",
       "      <th>66</th>\n",
       "      <td>1066</td>\n",
       "      <td>Ariel</td>\n",
       "      <td>Woods</td>\n",
       "      <td>61</td>\n",
       "      <td>Boston-Cambridge-Newton, MA-NH MSA</td>\n",
       "      <td>2018-03-08</td>\n",
       "      <td>surf</td>\n",
       "      <td>in use</td>\n",
       "    </tr>\n",
       "    <tr>\n",
       "      <th>496</th>\n",
       "      <td>1496</td>\n",
       "      <td>Ariel</td>\n",
       "      <td>Shepherd</td>\n",
       "      <td>49</td>\n",
       "      <td>New Orleans-Metairie, LA MSA</td>\n",
       "      <td>2018-02-20</td>\n",
       "      <td>surf</td>\n",
       "      <td>in use</td>\n",
       "    </tr>\n",
       "  </tbody>\n",
       "</table>\n",
       "</div>"
      ],
      "text/plain": [
       "     user_id first_name last_name  age                                city  \\\n",
       "66      1066      Ariel     Woods   61  Boston-Cambridge-Newton, MA-NH MSA   \n",
       "496     1496      Ariel  Shepherd   49        New Orleans-Metairie, LA MSA   \n",
       "\n",
       "      reg_date  plan churn_date  \n",
       "66  2018-03-08  surf     in use  \n",
       "496 2018-02-20  surf     in use  "
      ]
     },
     "execution_count": 69,
     "metadata": {},
     "output_type": "execute_result"
    }
   ],
   "source": [
    "df_users[df_users.first_name == 'Ariel']"
   ]
  },
  {
   "cell_type": "code",
   "execution_count": null,
   "metadata": {},
   "outputs": [],
   "source": []
  },
  {
   "cell_type": "markdown",
   "metadata": {},
   "source": [
    "### BACK to the original analysis"
   ]
  },
  {
   "cell_type": "code",
   "execution_count": 33,
   "metadata": {},
   "outputs": [],
   "source": [
    "df_dates = df_users.merge(df_messages, how='left').merge(df_calls,how='left').merge(df_internet, how='left')"
   ]
  },
  {
   "cell_type": "code",
   "execution_count": 70,
   "metadata": {},
   "outputs": [
    {
     "data": {
      "text/html": [
       "<div>\n",
       "<style scoped>\n",
       "    .dataframe tbody tr th:only-of-type {\n",
       "        vertical-align: middle;\n",
       "    }\n",
       "\n",
       "    .dataframe tbody tr th {\n",
       "        vertical-align: top;\n",
       "    }\n",
       "\n",
       "    .dataframe thead th {\n",
       "        text-align: right;\n",
       "    }\n",
       "</style>\n",
       "<table border=\"1\" class=\"dataframe\">\n",
       "  <thead>\n",
       "    <tr style=\"text-align: right;\">\n",
       "      <th></th>\n",
       "      <th>user_id</th>\n",
       "      <th>first_name</th>\n",
       "      <th>last_name</th>\n",
       "      <th>age</th>\n",
       "      <th>city</th>\n",
       "      <th>reg_date</th>\n",
       "      <th>plan</th>\n",
       "      <th>churn_date</th>\n",
       "      <th>id</th>\n",
       "      <th>message_date</th>\n",
       "      <th>call_date</th>\n",
       "      <th>duration</th>\n",
       "      <th>total_min_month</th>\n",
       "      <th>session_date</th>\n",
       "      <th>mb_used</th>\n",
       "    </tr>\n",
       "  </thead>\n",
       "  <tbody>\n",
       "    <tr>\n",
       "      <th>0</th>\n",
       "      <td>1000</td>\n",
       "      <td>Anamaria</td>\n",
       "      <td>Bauer</td>\n",
       "      <td>45</td>\n",
       "      <td>Atlanta-Sandy Springs-Roswell, GA MSA</td>\n",
       "      <td>2018-12-24</td>\n",
       "      <td>ultimate</td>\n",
       "      <td>in use</td>\n",
       "      <td>1000_125</td>\n",
       "      <td>2018-12-27</td>\n",
       "      <td>NaT</td>\n",
       "      <td>NaN</td>\n",
       "      <td>NaN</td>\n",
       "      <td>NaT</td>\n",
       "      <td>NaN</td>\n",
       "    </tr>\n",
       "    <tr>\n",
       "      <th>1</th>\n",
       "      <td>1000</td>\n",
       "      <td>Anamaria</td>\n",
       "      <td>Bauer</td>\n",
       "      <td>45</td>\n",
       "      <td>Atlanta-Sandy Springs-Roswell, GA MSA</td>\n",
       "      <td>2018-12-24</td>\n",
       "      <td>ultimate</td>\n",
       "      <td>in use</td>\n",
       "      <td>1000_160</td>\n",
       "      <td>2018-12-31</td>\n",
       "      <td>NaT</td>\n",
       "      <td>NaN</td>\n",
       "      <td>NaN</td>\n",
       "      <td>NaT</td>\n",
       "      <td>NaN</td>\n",
       "    </tr>\n",
       "  </tbody>\n",
       "</table>\n",
       "</div>"
      ],
      "text/plain": [
       "   user_id first_name last_name  age                                   city  \\\n",
       "0     1000   Anamaria     Bauer   45  Atlanta-Sandy Springs-Roswell, GA MSA   \n",
       "1     1000   Anamaria     Bauer   45  Atlanta-Sandy Springs-Roswell, GA MSA   \n",
       "\n",
       "    reg_date      plan churn_date        id message_date call_date  duration  \\\n",
       "0 2018-12-24  ultimate     in use  1000_125   2018-12-27       NaT       NaN   \n",
       "1 2018-12-24  ultimate     in use  1000_160   2018-12-31       NaT       NaN   \n",
       "\n",
       "   total_min_month session_date  mb_used  \n",
       "0              NaN          NaT      NaN  \n",
       "1              NaN          NaT      NaN  "
      ]
     },
     "execution_count": 70,
     "metadata": {},
     "output_type": "execute_result"
    }
   ],
   "source": [
    "df_dates.head(2)"
   ]
  },
  {
   "cell_type": "code",
   "execution_count": 71,
   "metadata": {},
   "outputs": [
    {
     "data": {
      "text/plain": [
       "(76149, 15)"
      ]
     },
     "execution_count": 71,
     "metadata": {},
     "output_type": "execute_result"
    }
   ],
   "source": [
    "df_dates.shape"
   ]
  },
  {
   "cell_type": "code",
   "execution_count": 72,
   "metadata": {},
   "outputs": [
    {
     "data": {
      "text/plain": [
       "((500, 8), (76051, 3), (76149, 10))"
      ]
     },
     "execution_count": 72,
     "metadata": {},
     "output_type": "execute_result"
    }
   ],
   "source": [
    "df_users.shape, df_messages.shape, df4.shape"
   ]
  },
  {
   "cell_type": "code",
   "execution_count": null,
   "metadata": {},
   "outputs": [],
   "source": []
  },
  {
   "cell_type": "code",
   "execution_count": 73,
   "metadata": {},
   "outputs": [
    {
     "data": {
      "text/plain": [
       "0"
      ]
     },
     "execution_count": 73,
     "metadata": {},
     "output_type": "execute_result"
    }
   ],
   "source": [
    "len(df_dates[df_dates['reg_date'] > df_dates['message_date']])"
   ]
  },
  {
   "cell_type": "code",
   "execution_count": 74,
   "metadata": {},
   "outputs": [
    {
     "data": {
      "text/plain": [
       "0"
      ]
     },
     "execution_count": 74,
     "metadata": {},
     "output_type": "execute_result"
    }
   ],
   "source": [
    "len(df_dates[df_dates['reg_date'] > df_dates['call_date']])"
   ]
  },
  {
   "cell_type": "code",
   "execution_count": 75,
   "metadata": {},
   "outputs": [
    {
     "data": {
      "text/plain": [
       "0"
      ]
     },
     "execution_count": 75,
     "metadata": {},
     "output_type": "execute_result"
    }
   ],
   "source": [
    "len(df_dates[df_dates['reg_date'] > df_dates['session_date']])"
   ]
  },
  {
   "cell_type": "markdown",
   "metadata": {},
   "source": [
    "Никаких артефактов в датах не найдено."
   ]
  },
  {
   "cell_type": "markdown",
   "metadata": {},
   "source": [
    "#### Расчеты¶\n",
    "####  Звонков в месяц\n",
    "Чтобы рассчитать количество совершенных звонков и минут, использованных в месяц для каждого пользователя, сначала мы выделим месяц из столбца, а затем сделаем сводную таблицу, группирующую по и .call_dateuser_idcall_month"
   ]
  },
  {
   "cell_type": "code",
   "execution_count": 76,
   "metadata": {},
   "outputs": [],
   "source": [
    "df_calls['month'] = df_calls['call_date'].dt.month"
   ]
  },
  {
   "cell_type": "code",
   "execution_count": 77,
   "metadata": {},
   "outputs": [],
   "source": [
    "calls_per_month = df_calls.pivot_table(index=['user_id','month'], values='total_min_month', aggfunc='sum')\n",
    "calls_per_month = calls_per_month.reset_index()"
   ]
  },
  {
   "cell_type": "code",
   "execution_count": 78,
   "metadata": {},
   "outputs": [
    {
     "data": {
      "text/html": [
       "<div>\n",
       "<style scoped>\n",
       "    .dataframe tbody tr th:only-of-type {\n",
       "        vertical-align: middle;\n",
       "    }\n",
       "\n",
       "    .dataframe tbody tr th {\n",
       "        vertical-align: top;\n",
       "    }\n",
       "\n",
       "    .dataframe thead th {\n",
       "        text-align: right;\n",
       "    }\n",
       "</style>\n",
       "<table border=\"1\" class=\"dataframe\">\n",
       "  <thead>\n",
       "    <tr style=\"text-align: right;\">\n",
       "      <th></th>\n",
       "      <th>user_id</th>\n",
       "      <th>month</th>\n",
       "      <th>total_min_month</th>\n",
       "    </tr>\n",
       "  </thead>\n",
       "  <tbody>\n",
       "    <tr>\n",
       "      <th>0</th>\n",
       "      <td>1000</td>\n",
       "      <td>12</td>\n",
       "      <td>124.0</td>\n",
       "    </tr>\n",
       "    <tr>\n",
       "      <th>1</th>\n",
       "      <td>1001</td>\n",
       "      <td>8</td>\n",
       "      <td>182.0</td>\n",
       "    </tr>\n",
       "    <tr>\n",
       "      <th>2</th>\n",
       "      <td>1001</td>\n",
       "      <td>9</td>\n",
       "      <td>315.0</td>\n",
       "    </tr>\n",
       "    <tr>\n",
       "      <th>3</th>\n",
       "      <td>1001</td>\n",
       "      <td>10</td>\n",
       "      <td>393.0</td>\n",
       "    </tr>\n",
       "    <tr>\n",
       "      <th>4</th>\n",
       "      <td>1001</td>\n",
       "      <td>11</td>\n",
       "      <td>426.0</td>\n",
       "    </tr>\n",
       "    <tr>\n",
       "      <th>...</th>\n",
       "      <td>...</td>\n",
       "      <td>...</td>\n",
       "      <td>...</td>\n",
       "    </tr>\n",
       "    <tr>\n",
       "      <th>2253</th>\n",
       "      <td>1498</td>\n",
       "      <td>12</td>\n",
       "      <td>339.0</td>\n",
       "    </tr>\n",
       "    <tr>\n",
       "      <th>2254</th>\n",
       "      <td>1499</td>\n",
       "      <td>9</td>\n",
       "      <td>346.0</td>\n",
       "    </tr>\n",
       "    <tr>\n",
       "      <th>2255</th>\n",
       "      <td>1499</td>\n",
       "      <td>10</td>\n",
       "      <td>385.0</td>\n",
       "    </tr>\n",
       "    <tr>\n",
       "      <th>2256</th>\n",
       "      <td>1499</td>\n",
       "      <td>11</td>\n",
       "      <td>308.0</td>\n",
       "    </tr>\n",
       "    <tr>\n",
       "      <th>2257</th>\n",
       "      <td>1499</td>\n",
       "      <td>12</td>\n",
       "      <td>496.0</td>\n",
       "    </tr>\n",
       "  </tbody>\n",
       "</table>\n",
       "<p>2258 rows × 3 columns</p>\n",
       "</div>"
      ],
      "text/plain": [
       "      user_id  month  total_min_month\n",
       "0        1000     12            124.0\n",
       "1        1001      8            182.0\n",
       "2        1001      9            315.0\n",
       "3        1001     10            393.0\n",
       "4        1001     11            426.0\n",
       "...       ...    ...              ...\n",
       "2253     1498     12            339.0\n",
       "2254     1499      9            346.0\n",
       "2255     1499     10            385.0\n",
       "2256     1499     11            308.0\n",
       "2257     1499     12            496.0\n",
       "\n",
       "[2258 rows x 3 columns]"
      ]
     },
     "execution_count": 78,
     "metadata": {},
     "output_type": "execute_result"
    }
   ],
   "source": [
    "calls_per_month"
   ]
  },
  {
   "cell_type": "code",
   "execution_count": 79,
   "metadata": {},
   "outputs": [],
   "source": [
    "calls_per_month.columns = [\"user_id\",\"month\",\"total_min_month\"]"
   ]
  },
  {
   "cell_type": "code",
   "execution_count": 80,
   "metadata": {},
   "outputs": [
    {
     "data": {
      "text/html": [
       "<div>\n",
       "<style scoped>\n",
       "    .dataframe tbody tr th:only-of-type {\n",
       "        vertical-align: middle;\n",
       "    }\n",
       "\n",
       "    .dataframe tbody tr th {\n",
       "        vertical-align: top;\n",
       "    }\n",
       "\n",
       "    .dataframe thead th {\n",
       "        text-align: right;\n",
       "    }\n",
       "</style>\n",
       "<table border=\"1\" class=\"dataframe\">\n",
       "  <thead>\n",
       "    <tr style=\"text-align: right;\">\n",
       "      <th></th>\n",
       "      <th>user_id</th>\n",
       "      <th>month</th>\n",
       "      <th>total_min_month</th>\n",
       "    </tr>\n",
       "  </thead>\n",
       "  <tbody>\n",
       "    <tr>\n",
       "      <th>0</th>\n",
       "      <td>1000</td>\n",
       "      <td>12</td>\n",
       "      <td>124.0</td>\n",
       "    </tr>\n",
       "    <tr>\n",
       "      <th>1</th>\n",
       "      <td>1001</td>\n",
       "      <td>8</td>\n",
       "      <td>182.0</td>\n",
       "    </tr>\n",
       "    <tr>\n",
       "      <th>2</th>\n",
       "      <td>1001</td>\n",
       "      <td>9</td>\n",
       "      <td>315.0</td>\n",
       "    </tr>\n",
       "    <tr>\n",
       "      <th>3</th>\n",
       "      <td>1001</td>\n",
       "      <td>10</td>\n",
       "      <td>393.0</td>\n",
       "    </tr>\n",
       "    <tr>\n",
       "      <th>4</th>\n",
       "      <td>1001</td>\n",
       "      <td>11</td>\n",
       "      <td>426.0</td>\n",
       "    </tr>\n",
       "  </tbody>\n",
       "</table>\n",
       "</div>"
      ],
      "text/plain": [
       "   user_id  month  total_min_month\n",
       "0     1000     12            124.0\n",
       "1     1001      8            182.0\n",
       "2     1001      9            315.0\n",
       "3     1001     10            393.0\n",
       "4     1001     11            426.0"
      ]
     },
     "execution_count": 80,
     "metadata": {},
     "output_type": "execute_result"
    }
   ],
   "source": [
    "calls_per_month.head()"
   ]
  },
  {
   "cell_type": "markdown",
   "metadata": {},
   "source": [
    "##### Сообщений в месяц¶\n",
    "Чтобы рассчитать количество текстовых сообщений в месяц для каждого пользователя, сначала мы выделим месяц из столбца, а затем сделаем сводную таблицу, группирующую по и .message_dateuser_idmessage_month"
   ]
  },
  {
   "cell_type": "code",
   "execution_count": 81,
   "metadata": {},
   "outputs": [],
   "source": [
    "df_messages['month'] = df_messages['message_date'].dt.month"
   ]
  },
  {
   "cell_type": "code",
   "execution_count": 82,
   "metadata": {},
   "outputs": [],
   "source": [
    "messages_per_month = df_messages.pivot_table(index=['user_id','month'], values='id', aggfunc='count')\n",
    "messages_per_month = messages_per_month.reset_index()\n",
    "messages_per_month.columns = ['user_id','month','num_messages_month']"
   ]
  },
  {
   "cell_type": "code",
   "execution_count": 83,
   "metadata": {},
   "outputs": [
    {
     "data": {
      "text/html": [
       "<div>\n",
       "<style scoped>\n",
       "    .dataframe tbody tr th:only-of-type {\n",
       "        vertical-align: middle;\n",
       "    }\n",
       "\n",
       "    .dataframe tbody tr th {\n",
       "        vertical-align: top;\n",
       "    }\n",
       "\n",
       "    .dataframe thead th {\n",
       "        text-align: right;\n",
       "    }\n",
       "</style>\n",
       "<table border=\"1\" class=\"dataframe\">\n",
       "  <thead>\n",
       "    <tr style=\"text-align: right;\">\n",
       "      <th></th>\n",
       "      <th>user_id</th>\n",
       "      <th>month</th>\n",
       "      <th>num_messages_month</th>\n",
       "    </tr>\n",
       "  </thead>\n",
       "  <tbody>\n",
       "    <tr>\n",
       "      <th>0</th>\n",
       "      <td>1000</td>\n",
       "      <td>12</td>\n",
       "      <td>11</td>\n",
       "    </tr>\n",
       "    <tr>\n",
       "      <th>1</th>\n",
       "      <td>1001</td>\n",
       "      <td>8</td>\n",
       "      <td>30</td>\n",
       "    </tr>\n",
       "    <tr>\n",
       "      <th>2</th>\n",
       "      <td>1001</td>\n",
       "      <td>9</td>\n",
       "      <td>44</td>\n",
       "    </tr>\n",
       "    <tr>\n",
       "      <th>3</th>\n",
       "      <td>1001</td>\n",
       "      <td>10</td>\n",
       "      <td>53</td>\n",
       "    </tr>\n",
       "    <tr>\n",
       "      <th>4</th>\n",
       "      <td>1001</td>\n",
       "      <td>11</td>\n",
       "      <td>36</td>\n",
       "    </tr>\n",
       "  </tbody>\n",
       "</table>\n",
       "</div>"
      ],
      "text/plain": [
       "   user_id  month  num_messages_month\n",
       "0     1000     12                  11\n",
       "1     1001      8                  30\n",
       "2     1001      9                  44\n",
       "3     1001     10                  53\n",
       "4     1001     11                  36"
      ]
     },
     "execution_count": 83,
     "metadata": {},
     "output_type": "execute_result"
    }
   ],
   "source": [
    "messages_per_month.head()"
   ]
  },
  {
   "cell_type": "markdown",
   "metadata": {},
   "source": [
    "##### Объем данных в месяц¶\n",
    "Чтобы рассчитать объем данных в месяц для каждого пользователя, сначала мы извлекем месяц из столбца, а затем сделаем сводную таблицу, группирующую по и . Для веб-трафика общий объем в мегабайтах за месяц округляется в большую сторону.session_dateuser_idsession_month"
   ]
  },
  {
   "cell_type": "code",
   "execution_count": 28,
   "metadata": {},
   "outputs": [],
   "source": [
    "df_internet['month'] = df_internet['session_date'].dt.month"
   ]
  },
  {
   "cell_type": "code",
   "execution_count": 29,
   "metadata": {},
   "outputs": [],
   "source": [
    "sessions_per_month = df_internet.pivot_table(index=['user_id','month'], values='mb_used', aggfunc='sum')\n",
    "sessions_per_month = sessions_per_month.reset_index()\n",
    "\n",
    "sessions_per_month.columns = ['user_id', 'month', \"mb_volume_month\"]\n",
    "sessions_per_month['gb_volume_month'] = np.ceil((sessions_per_month['mb_volume_month'].values) / 1000).astype(int)"
   ]
  },
  {
   "cell_type": "code",
   "execution_count": 30,
   "metadata": {},
   "outputs": [
    {
     "data": {
      "text/html": [
       "<div>\n",
       "<style scoped>\n",
       "    .dataframe tbody tr th:only-of-type {\n",
       "        vertical-align: middle;\n",
       "    }\n",
       "\n",
       "    .dataframe tbody tr th {\n",
       "        vertical-align: top;\n",
       "    }\n",
       "\n",
       "    .dataframe thead th {\n",
       "        text-align: right;\n",
       "    }\n",
       "</style>\n",
       "<table border=\"1\" class=\"dataframe\">\n",
       "  <thead>\n",
       "    <tr style=\"text-align: right;\">\n",
       "      <th></th>\n",
       "      <th>user_id</th>\n",
       "      <th>month</th>\n",
       "      <th>mb_volume_month</th>\n",
       "      <th>gb_volume_month</th>\n",
       "    </tr>\n",
       "  </thead>\n",
       "  <tbody>\n",
       "    <tr>\n",
       "      <th>0</th>\n",
       "      <td>1000</td>\n",
       "      <td>12</td>\n",
       "      <td>1901.47</td>\n",
       "      <td>2</td>\n",
       "    </tr>\n",
       "    <tr>\n",
       "      <th>1</th>\n",
       "      <td>1001</td>\n",
       "      <td>8</td>\n",
       "      <td>6919.15</td>\n",
       "      <td>7</td>\n",
       "    </tr>\n",
       "    <tr>\n",
       "      <th>2</th>\n",
       "      <td>1001</td>\n",
       "      <td>9</td>\n",
       "      <td>13314.82</td>\n",
       "      <td>14</td>\n",
       "    </tr>\n",
       "    <tr>\n",
       "      <th>3</th>\n",
       "      <td>1001</td>\n",
       "      <td>10</td>\n",
       "      <td>22330.49</td>\n",
       "      <td>23</td>\n",
       "    </tr>\n",
       "    <tr>\n",
       "      <th>4</th>\n",
       "      <td>1001</td>\n",
       "      <td>11</td>\n",
       "      <td>18504.30</td>\n",
       "      <td>19</td>\n",
       "    </tr>\n",
       "  </tbody>\n",
       "</table>\n",
       "</div>"
      ],
      "text/plain": [
       "   user_id  month  mb_volume_month  gb_volume_month\n",
       "0     1000     12          1901.47                2\n",
       "1     1001      8          6919.15                7\n",
       "2     1001      9         13314.82               14\n",
       "3     1001     10         22330.49               23\n",
       "4     1001     11         18504.30               19"
      ]
     },
     "execution_count": 30,
     "metadata": {},
     "output_type": "execute_result"
    }
   ],
   "source": [
    "sessions_per_month.head()"
   ]
  },
  {
   "cell_type": "markdown",
   "metadata": {},
   "source": [
    "##### Ежемесячная прибыль с каждого пользователя¶\n",
    "Чтобы рассчитать это, мы вычтем лимит бесплатного пакета из общего количества звонков, текстовых сообщений и данных. Затем мы умножим результат на значение плана звонков и добавим ежемесячную плату в зависимости от плана звонков."
   ]
  },
  {
   "cell_type": "code",
   "execution_count": 31,
   "metadata": {},
   "outputs": [],
   "source": [
    "user_plan = df_users[['user_id','plan','city']]\n",
    "user_plan = user_plan.merge(df_plans, left_on='plan', right_on='plan_name')"
   ]
  },
  {
   "cell_type": "code",
   "execution_count": 32,
   "metadata": {},
   "outputs": [],
   "source": [
    "df_monthly = (calls_per_month\n",
    "              .merge(messages_per_month, how='outer', on=['user_id','month'])\n",
    "              .merge(sessions_per_month, how='outer', on=['user_id','month'])\n",
    "              .merge(user_plan, on='user_id')\n",
    "             )"
   ]
  },
  {
   "cell_type": "code",
   "execution_count": 33,
   "metadata": {},
   "outputs": [
    {
     "data": {
      "text/html": [
       "<div>\n",
       "<style scoped>\n",
       "    .dataframe tbody tr th:only-of-type {\n",
       "        vertical-align: middle;\n",
       "    }\n",
       "\n",
       "    .dataframe tbody tr th {\n",
       "        vertical-align: top;\n",
       "    }\n",
       "\n",
       "    .dataframe thead th {\n",
       "        text-align: right;\n",
       "    }\n",
       "</style>\n",
       "<table border=\"1\" class=\"dataframe\">\n",
       "  <thead>\n",
       "    <tr style=\"text-align: right;\">\n",
       "      <th></th>\n",
       "      <th>user_id</th>\n",
       "      <th>month</th>\n",
       "      <th>total_min_month</th>\n",
       "      <th>num_messages_month</th>\n",
       "      <th>mb_volume_month</th>\n",
       "      <th>gb_volume_month</th>\n",
       "      <th>plan</th>\n",
       "      <th>city</th>\n",
       "      <th>messages_included</th>\n",
       "      <th>mb_per_month_included</th>\n",
       "      <th>minutes_included</th>\n",
       "      <th>usd_monthly_pay</th>\n",
       "      <th>usd_per_gb</th>\n",
       "      <th>usd_per_message</th>\n",
       "      <th>usd_per_minute</th>\n",
       "      <th>plan_name</th>\n",
       "    </tr>\n",
       "  </thead>\n",
       "  <tbody>\n",
       "    <tr>\n",
       "      <th>0</th>\n",
       "      <td>1000</td>\n",
       "      <td>12</td>\n",
       "      <td>124.0</td>\n",
       "      <td>11.0</td>\n",
       "      <td>1901.47</td>\n",
       "      <td>2.0</td>\n",
       "      <td>ultimate</td>\n",
       "      <td>Atlanta-Sandy Springs-Roswell, GA MSA</td>\n",
       "      <td>1000</td>\n",
       "      <td>30720</td>\n",
       "      <td>3000</td>\n",
       "      <td>70</td>\n",
       "      <td>7</td>\n",
       "      <td>0.01</td>\n",
       "      <td>0.01</td>\n",
       "      <td>ultimate</td>\n",
       "    </tr>\n",
       "    <tr>\n",
       "      <th>1</th>\n",
       "      <td>1001</td>\n",
       "      <td>8</td>\n",
       "      <td>182.0</td>\n",
       "      <td>30.0</td>\n",
       "      <td>6919.15</td>\n",
       "      <td>7.0</td>\n",
       "      <td>surf</td>\n",
       "      <td>Seattle-Tacoma-Bellevue, WA MSA</td>\n",
       "      <td>50</td>\n",
       "      <td>15360</td>\n",
       "      <td>500</td>\n",
       "      <td>20</td>\n",
       "      <td>10</td>\n",
       "      <td>0.03</td>\n",
       "      <td>0.03</td>\n",
       "      <td>surf</td>\n",
       "    </tr>\n",
       "    <tr>\n",
       "      <th>2</th>\n",
       "      <td>1001</td>\n",
       "      <td>9</td>\n",
       "      <td>315.0</td>\n",
       "      <td>44.0</td>\n",
       "      <td>13314.82</td>\n",
       "      <td>14.0</td>\n",
       "      <td>surf</td>\n",
       "      <td>Seattle-Tacoma-Bellevue, WA MSA</td>\n",
       "      <td>50</td>\n",
       "      <td>15360</td>\n",
       "      <td>500</td>\n",
       "      <td>20</td>\n",
       "      <td>10</td>\n",
       "      <td>0.03</td>\n",
       "      <td>0.03</td>\n",
       "      <td>surf</td>\n",
       "    </tr>\n",
       "    <tr>\n",
       "      <th>3</th>\n",
       "      <td>1001</td>\n",
       "      <td>10</td>\n",
       "      <td>393.0</td>\n",
       "      <td>53.0</td>\n",
       "      <td>22330.49</td>\n",
       "      <td>23.0</td>\n",
       "      <td>surf</td>\n",
       "      <td>Seattle-Tacoma-Bellevue, WA MSA</td>\n",
       "      <td>50</td>\n",
       "      <td>15360</td>\n",
       "      <td>500</td>\n",
       "      <td>20</td>\n",
       "      <td>10</td>\n",
       "      <td>0.03</td>\n",
       "      <td>0.03</td>\n",
       "      <td>surf</td>\n",
       "    </tr>\n",
       "    <tr>\n",
       "      <th>4</th>\n",
       "      <td>1001</td>\n",
       "      <td>11</td>\n",
       "      <td>426.0</td>\n",
       "      <td>36.0</td>\n",
       "      <td>18504.30</td>\n",
       "      <td>19.0</td>\n",
       "      <td>surf</td>\n",
       "      <td>Seattle-Tacoma-Bellevue, WA MSA</td>\n",
       "      <td>50</td>\n",
       "      <td>15360</td>\n",
       "      <td>500</td>\n",
       "      <td>20</td>\n",
       "      <td>10</td>\n",
       "      <td>0.03</td>\n",
       "      <td>0.03</td>\n",
       "      <td>surf</td>\n",
       "    </tr>\n",
       "  </tbody>\n",
       "</table>\n",
       "</div>"
      ],
      "text/plain": [
       "   user_id  month  total_min_month  num_messages_month  mb_volume_month  \\\n",
       "0     1000     12            124.0                11.0          1901.47   \n",
       "1     1001      8            182.0                30.0          6919.15   \n",
       "2     1001      9            315.0                44.0         13314.82   \n",
       "3     1001     10            393.0                53.0         22330.49   \n",
       "4     1001     11            426.0                36.0         18504.30   \n",
       "\n",
       "   gb_volume_month      plan                                   city  \\\n",
       "0              2.0  ultimate  Atlanta-Sandy Springs-Roswell, GA MSA   \n",
       "1              7.0      surf        Seattle-Tacoma-Bellevue, WA MSA   \n",
       "2             14.0      surf        Seattle-Tacoma-Bellevue, WA MSA   \n",
       "3             23.0      surf        Seattle-Tacoma-Bellevue, WA MSA   \n",
       "4             19.0      surf        Seattle-Tacoma-Bellevue, WA MSA   \n",
       "\n",
       "   messages_included  mb_per_month_included  minutes_included  \\\n",
       "0               1000                  30720              3000   \n",
       "1                 50                  15360               500   \n",
       "2                 50                  15360               500   \n",
       "3                 50                  15360               500   \n",
       "4                 50                  15360               500   \n",
       "\n",
       "   usd_monthly_pay  usd_per_gb  usd_per_message  usd_per_minute plan_name  \n",
       "0               70           7             0.01            0.01  ultimate  \n",
       "1               20          10             0.03            0.03      surf  \n",
       "2               20          10             0.03            0.03      surf  \n",
       "3               20          10             0.03            0.03      surf  \n",
       "4               20          10             0.03            0.03      surf  "
      ]
     },
     "execution_count": 33,
     "metadata": {},
     "output_type": "execute_result"
    }
   ],
   "source": [
    "df_monthly.head()"
   ]
  },
  {
   "cell_type": "code",
   "execution_count": 34,
   "metadata": {},
   "outputs": [
    {
     "data": {
      "text/plain": [
       "user_id                    0\n",
       "month                      0\n",
       "total_min_month           35\n",
       "num_messages_month       487\n",
       "mb_volume_month           16\n",
       "gb_volume_month           16\n",
       "plan                       0\n",
       "city                       0\n",
       "messages_included          0\n",
       "mb_per_month_included      0\n",
       "minutes_included           0\n",
       "usd_monthly_pay            0\n",
       "usd_per_gb                 0\n",
       "usd_per_message            0\n",
       "usd_per_minute             0\n",
       "plan_name                  0\n",
       "dtype: int64"
      ]
     },
     "execution_count": 34,
     "metadata": {},
     "output_type": "execute_result"
    }
   ],
   "source": [
    "df_monthly.isnull().sum()"
   ]
  },
  {
   "cell_type": "markdown",
   "metadata": {},
   "source": [
    "У нас есть несколько нулевых значений для тех пользователей, которые использовали только 1 или 2 услуги - например, только сообщения и Интернет, но не звонки и так далее. Таким образом, мы заменим эти значения на 0."
   ]
  },
  {
   "cell_type": "code",
   "execution_count": 35,
   "metadata": {},
   "outputs": [],
   "source": [
    "for col in ['total_min_month','num_messages_month','mb_volume_month','gb_volume_month']:\n",
    "    df_monthly[col] = df_monthly[col].fillna(0)"
   ]
  },
  {
   "cell_type": "code",
   "execution_count": 36,
   "metadata": {},
   "outputs": [
    {
     "data": {
      "text/plain": [
       "user_id                  0\n",
       "month                    0\n",
       "total_min_month          0\n",
       "num_messages_month       0\n",
       "mb_volume_month          0\n",
       "gb_volume_month          0\n",
       "plan                     0\n",
       "city                     0\n",
       "messages_included        0\n",
       "mb_per_month_included    0\n",
       "minutes_included         0\n",
       "usd_monthly_pay          0\n",
       "usd_per_gb               0\n",
       "usd_per_message          0\n",
       "usd_per_minute           0\n",
       "plan_name                0\n",
       "dtype: int64"
      ]
     },
     "execution_count": 36,
     "metadata": {},
     "output_type": "execute_result"
    }
   ],
   "source": [
    "df_monthly.isnull().sum()"
   ]
  },
  {
   "cell_type": "markdown",
   "metadata": {},
   "source": [
    "Наконец, давайте рассчитаем ежемесячную прибыль на одного пользователя по следующей формуле:"
   ]
  },
  {
   "cell_type": "code",
   "execution_count": 37,
   "metadata": {},
   "outputs": [],
   "source": [
    "df_monthly['monthly_profit'] = (((df_monthly['num_messages_month']-df_monthly['messages_included']) * df_monthly['usd_per_message'])\n",
    "                                        + ((df_monthly['total_min_month']-df_monthly['minutes_included']) * df_monthly['usd_per_minute'])\n",
    "                                        + ((df_monthly['gb_volume_month']-np.ceil(df_monthly['mb_per_month_included'].values/1000)) * df_monthly['usd_per_gb'])\n",
    "                                        + df_monthly['usd_monthly_pay'])\n"
   ]
  },
  {
   "cell_type": "code",
   "execution_count": 38,
   "metadata": {},
   "outputs": [
    {
     "data": {
      "text/html": [
       "<div>\n",
       "<style scoped>\n",
       "    .dataframe tbody tr th:only-of-type {\n",
       "        vertical-align: middle;\n",
       "    }\n",
       "\n",
       "    .dataframe tbody tr th {\n",
       "        vertical-align: top;\n",
       "    }\n",
       "\n",
       "    .dataframe thead th {\n",
       "        text-align: right;\n",
       "    }\n",
       "</style>\n",
       "<table border=\"1\" class=\"dataframe\">\n",
       "  <thead>\n",
       "    <tr style=\"text-align: right;\">\n",
       "      <th></th>\n",
       "      <th>user_id</th>\n",
       "      <th>month</th>\n",
       "      <th>total_min_month</th>\n",
       "      <th>num_messages_month</th>\n",
       "      <th>mb_volume_month</th>\n",
       "      <th>gb_volume_month</th>\n",
       "      <th>plan</th>\n",
       "      <th>city</th>\n",
       "      <th>messages_included</th>\n",
       "      <th>mb_per_month_included</th>\n",
       "      <th>minutes_included</th>\n",
       "      <th>usd_monthly_pay</th>\n",
       "      <th>usd_per_gb</th>\n",
       "      <th>usd_per_message</th>\n",
       "      <th>usd_per_minute</th>\n",
       "      <th>plan_name</th>\n",
       "      <th>monthly_profit</th>\n",
       "    </tr>\n",
       "  </thead>\n",
       "  <tbody>\n",
       "    <tr>\n",
       "      <th>0</th>\n",
       "      <td>1000</td>\n",
       "      <td>12</td>\n",
       "      <td>124.0</td>\n",
       "      <td>11.0</td>\n",
       "      <td>1901.47</td>\n",
       "      <td>2.0</td>\n",
       "      <td>ultimate</td>\n",
       "      <td>Atlanta-Sandy Springs-Roswell, GA MSA</td>\n",
       "      <td>1000</td>\n",
       "      <td>30720</td>\n",
       "      <td>3000</td>\n",
       "      <td>70</td>\n",
       "      <td>7</td>\n",
       "      <td>0.01</td>\n",
       "      <td>0.01</td>\n",
       "      <td>ultimate</td>\n",
       "      <td>-171.65</td>\n",
       "    </tr>\n",
       "    <tr>\n",
       "      <th>1</th>\n",
       "      <td>1001</td>\n",
       "      <td>8</td>\n",
       "      <td>182.0</td>\n",
       "      <td>30.0</td>\n",
       "      <td>6919.15</td>\n",
       "      <td>7.0</td>\n",
       "      <td>surf</td>\n",
       "      <td>Seattle-Tacoma-Bellevue, WA MSA</td>\n",
       "      <td>50</td>\n",
       "      <td>15360</td>\n",
       "      <td>500</td>\n",
       "      <td>20</td>\n",
       "      <td>10</td>\n",
       "      <td>0.03</td>\n",
       "      <td>0.03</td>\n",
       "      <td>surf</td>\n",
       "      <td>-80.14</td>\n",
       "    </tr>\n",
       "    <tr>\n",
       "      <th>2</th>\n",
       "      <td>1001</td>\n",
       "      <td>9</td>\n",
       "      <td>315.0</td>\n",
       "      <td>44.0</td>\n",
       "      <td>13314.82</td>\n",
       "      <td>14.0</td>\n",
       "      <td>surf</td>\n",
       "      <td>Seattle-Tacoma-Bellevue, WA MSA</td>\n",
       "      <td>50</td>\n",
       "      <td>15360</td>\n",
       "      <td>500</td>\n",
       "      <td>20</td>\n",
       "      <td>10</td>\n",
       "      <td>0.03</td>\n",
       "      <td>0.03</td>\n",
       "      <td>surf</td>\n",
       "      <td>-5.73</td>\n",
       "    </tr>\n",
       "    <tr>\n",
       "      <th>3</th>\n",
       "      <td>1001</td>\n",
       "      <td>10</td>\n",
       "      <td>393.0</td>\n",
       "      <td>53.0</td>\n",
       "      <td>22330.49</td>\n",
       "      <td>23.0</td>\n",
       "      <td>surf</td>\n",
       "      <td>Seattle-Tacoma-Bellevue, WA MSA</td>\n",
       "      <td>50</td>\n",
       "      <td>15360</td>\n",
       "      <td>500</td>\n",
       "      <td>20</td>\n",
       "      <td>10</td>\n",
       "      <td>0.03</td>\n",
       "      <td>0.03</td>\n",
       "      <td>surf</td>\n",
       "      <td>86.88</td>\n",
       "    </tr>\n",
       "    <tr>\n",
       "      <th>4</th>\n",
       "      <td>1001</td>\n",
       "      <td>11</td>\n",
       "      <td>426.0</td>\n",
       "      <td>36.0</td>\n",
       "      <td>18504.30</td>\n",
       "      <td>19.0</td>\n",
       "      <td>surf</td>\n",
       "      <td>Seattle-Tacoma-Bellevue, WA MSA</td>\n",
       "      <td>50</td>\n",
       "      <td>15360</td>\n",
       "      <td>500</td>\n",
       "      <td>20</td>\n",
       "      <td>10</td>\n",
       "      <td>0.03</td>\n",
       "      <td>0.03</td>\n",
       "      <td>surf</td>\n",
       "      <td>47.36</td>\n",
       "    </tr>\n",
       "    <tr>\n",
       "      <th>...</th>\n",
       "      <td>...</td>\n",
       "      <td>...</td>\n",
       "      <td>...</td>\n",
       "      <td>...</td>\n",
       "      <td>...</td>\n",
       "      <td>...</td>\n",
       "      <td>...</td>\n",
       "      <td>...</td>\n",
       "      <td>...</td>\n",
       "      <td>...</td>\n",
       "      <td>...</td>\n",
       "      <td>...</td>\n",
       "      <td>...</td>\n",
       "      <td>...</td>\n",
       "      <td>...</td>\n",
       "      <td>...</td>\n",
       "      <td>...</td>\n",
       "    </tr>\n",
       "    <tr>\n",
       "      <th>2288</th>\n",
       "      <td>1204</td>\n",
       "      <td>12</td>\n",
       "      <td>0.0</td>\n",
       "      <td>78.0</td>\n",
       "      <td>36730.05</td>\n",
       "      <td>37.0</td>\n",
       "      <td>ultimate</td>\n",
       "      <td>Chicago-Naperville-Elgin, IL-IN-WI MSA</td>\n",
       "      <td>1000</td>\n",
       "      <td>30720</td>\n",
       "      <td>3000</td>\n",
       "      <td>70</td>\n",
       "      <td>7</td>\n",
       "      <td>0.01</td>\n",
       "      <td>0.01</td>\n",
       "      <td>ultimate</td>\n",
       "      <td>72.78</td>\n",
       "    </tr>\n",
       "    <tr>\n",
       "      <th>2289</th>\n",
       "      <td>1349</td>\n",
       "      <td>10</td>\n",
       "      <td>0.0</td>\n",
       "      <td>76.0</td>\n",
       "      <td>13093.55</td>\n",
       "      <td>14.0</td>\n",
       "      <td>surf</td>\n",
       "      <td>Boston-Cambridge-Newton, MA-NH MSA</td>\n",
       "      <td>50</td>\n",
       "      <td>15360</td>\n",
       "      <td>500</td>\n",
       "      <td>20</td>\n",
       "      <td>10</td>\n",
       "      <td>0.03</td>\n",
       "      <td>0.03</td>\n",
       "      <td>surf</td>\n",
       "      <td>-14.22</td>\n",
       "    </tr>\n",
       "    <tr>\n",
       "      <th>2290</th>\n",
       "      <td>1349</td>\n",
       "      <td>11</td>\n",
       "      <td>0.0</td>\n",
       "      <td>72.0</td>\n",
       "      <td>17128.26</td>\n",
       "      <td>18.0</td>\n",
       "      <td>surf</td>\n",
       "      <td>Boston-Cambridge-Newton, MA-NH MSA</td>\n",
       "      <td>50</td>\n",
       "      <td>15360</td>\n",
       "      <td>500</td>\n",
       "      <td>20</td>\n",
       "      <td>10</td>\n",
       "      <td>0.03</td>\n",
       "      <td>0.03</td>\n",
       "      <td>surf</td>\n",
       "      <td>25.66</td>\n",
       "    </tr>\n",
       "    <tr>\n",
       "      <th>2291</th>\n",
       "      <td>1349</td>\n",
       "      <td>12</td>\n",
       "      <td>0.0</td>\n",
       "      <td>61.0</td>\n",
       "      <td>13039.91</td>\n",
       "      <td>14.0</td>\n",
       "      <td>surf</td>\n",
       "      <td>Boston-Cambridge-Newton, MA-NH MSA</td>\n",
       "      <td>50</td>\n",
       "      <td>15360</td>\n",
       "      <td>500</td>\n",
       "      <td>20</td>\n",
       "      <td>10</td>\n",
       "      <td>0.03</td>\n",
       "      <td>0.03</td>\n",
       "      <td>surf</td>\n",
       "      <td>-14.67</td>\n",
       "    </tr>\n",
       "    <tr>\n",
       "      <th>2292</th>\n",
       "      <td>1108</td>\n",
       "      <td>12</td>\n",
       "      <td>0.0</td>\n",
       "      <td>0.0</td>\n",
       "      <td>233.17</td>\n",
       "      <td>1.0</td>\n",
       "      <td>ultimate</td>\n",
       "      <td>Salt Lake City, UT MSA</td>\n",
       "      <td>1000</td>\n",
       "      <td>30720</td>\n",
       "      <td>3000</td>\n",
       "      <td>70</td>\n",
       "      <td>7</td>\n",
       "      <td>0.01</td>\n",
       "      <td>0.01</td>\n",
       "      <td>ultimate</td>\n",
       "      <td>-180.00</td>\n",
       "    </tr>\n",
       "  </tbody>\n",
       "</table>\n",
       "<p>2293 rows × 17 columns</p>\n",
       "</div>"
      ],
      "text/plain": [
       "      user_id  month  total_min_month  num_messages_month  mb_volume_month  \\\n",
       "0        1000     12            124.0                11.0          1901.47   \n",
       "1        1001      8            182.0                30.0          6919.15   \n",
       "2        1001      9            315.0                44.0         13314.82   \n",
       "3        1001     10            393.0                53.0         22330.49   \n",
       "4        1001     11            426.0                36.0         18504.30   \n",
       "...       ...    ...              ...                 ...              ...   \n",
       "2288     1204     12              0.0                78.0         36730.05   \n",
       "2289     1349     10              0.0                76.0         13093.55   \n",
       "2290     1349     11              0.0                72.0         17128.26   \n",
       "2291     1349     12              0.0                61.0         13039.91   \n",
       "2292     1108     12              0.0                 0.0           233.17   \n",
       "\n",
       "      gb_volume_month      plan                                    city  \\\n",
       "0                 2.0  ultimate   Atlanta-Sandy Springs-Roswell, GA MSA   \n",
       "1                 7.0      surf         Seattle-Tacoma-Bellevue, WA MSA   \n",
       "2                14.0      surf         Seattle-Tacoma-Bellevue, WA MSA   \n",
       "3                23.0      surf         Seattle-Tacoma-Bellevue, WA MSA   \n",
       "4                19.0      surf         Seattle-Tacoma-Bellevue, WA MSA   \n",
       "...               ...       ...                                     ...   \n",
       "2288             37.0  ultimate  Chicago-Naperville-Elgin, IL-IN-WI MSA   \n",
       "2289             14.0      surf      Boston-Cambridge-Newton, MA-NH MSA   \n",
       "2290             18.0      surf      Boston-Cambridge-Newton, MA-NH MSA   \n",
       "2291             14.0      surf      Boston-Cambridge-Newton, MA-NH MSA   \n",
       "2292              1.0  ultimate                  Salt Lake City, UT MSA   \n",
       "\n",
       "      messages_included  mb_per_month_included  minutes_included  \\\n",
       "0                  1000                  30720              3000   \n",
       "1                    50                  15360               500   \n",
       "2                    50                  15360               500   \n",
       "3                    50                  15360               500   \n",
       "4                    50                  15360               500   \n",
       "...                 ...                    ...               ...   \n",
       "2288               1000                  30720              3000   \n",
       "2289                 50                  15360               500   \n",
       "2290                 50                  15360               500   \n",
       "2291                 50                  15360               500   \n",
       "2292               1000                  30720              3000   \n",
       "\n",
       "      usd_monthly_pay  usd_per_gb  usd_per_message  usd_per_minute plan_name  \\\n",
       "0                  70           7             0.01            0.01  ultimate   \n",
       "1                  20          10             0.03            0.03      surf   \n",
       "2                  20          10             0.03            0.03      surf   \n",
       "3                  20          10             0.03            0.03      surf   \n",
       "4                  20          10             0.03            0.03      surf   \n",
       "...               ...         ...              ...             ...       ...   \n",
       "2288               70           7             0.01            0.01  ultimate   \n",
       "2289               20          10             0.03            0.03      surf   \n",
       "2290               20          10             0.03            0.03      surf   \n",
       "2291               20          10             0.03            0.03      surf   \n",
       "2292               70           7             0.01            0.01  ultimate   \n",
       "\n",
       "      monthly_profit  \n",
       "0            -171.65  \n",
       "1             -80.14  \n",
       "2              -5.73  \n",
       "3              86.88  \n",
       "4              47.36  \n",
       "...              ...  \n",
       "2288           72.78  \n",
       "2289          -14.22  \n",
       "2290           25.66  \n",
       "2291          -14.67  \n",
       "2292         -180.00  \n",
       "\n",
       "[2293 rows x 17 columns]"
      ]
     },
     "execution_count": 38,
     "metadata": {},
     "output_type": "execute_result"
    }
   ],
   "source": [
    "df_monthly"
   ]
  },
  {
   "cell_type": "markdown",
   "metadata": {},
   "source": [
    "Теперь мы сгруппируем таблицу по плану и по месяцам и визуализируем результаты."
   ]
  },
  {
   "cell_type": "code",
   "execution_count": 39,
   "metadata": {},
   "outputs": [],
   "source": [
    "total_profit_month_plan = df_monthly.groupby(['plan','month'])['monthly_profit'].sum().reset_index()"
   ]
  },
  {
   "cell_type": "code",
   "execution_count": 40,
   "metadata": {},
   "outputs": [
    {
     "data": {
      "image/png": "[encoded data removed]",
      "text/plain": [
       "<Figure size 432x288 with 1 Axes>"
      ]
     },
     "metadata": {
      "needs_background": "light"
     },
     "output_type": "display_data"
    }
   ],
   "source": [
    "total_profit_month_plan[total_profit_month_plan['plan'] == 'surf'].plot(y='monthly_profit', x='month', kind='bar')\n",
    "plt.title('Total monthly profit for the \"Surf\" plan');"
   ]
  },
  {
   "cell_type": "code",
   "execution_count": 41,
   "metadata": {},
   "outputs": [
    {
     "data": {
      "image/png": "[encoded data removed]",
      "text/plain": [
       "<Figure size 432x288 with 1 Axes>"
      ]
     },
     "metadata": {
      "needs_background": "light"
     },
     "output_type": "display_data"
    }
   ],
   "source": [
    "total_profit_month_plan[total_profit_month_plan['plan'] == 'ultimate'].plot(y='monthly_profit', x='month', kind='bar')\n",
    "plt.title('Total monthly profit for the \"Ultimate\" plan');"
   ]
  },
  {
   "cell_type": "markdown",
   "metadata": {},
   "source": [
    "Мы видим, что план «Surf» в основном прибыльный в течение всего года с тенденцией к получению все большей прибыли к концу года. В контракте план «Ultimate» в основном не выгоден в течение года, с противоположной тенденцией быть еще более дорогостоящим к концу года. Это можно объяснить тем, что план «Surf» не включает в себя столько бесплатных звонков, сообщений и гигабайт, сколько план «Ultimate», поэтому эти пользователи чаще выходят за рамки плана. Тем не менее, план «Ultimate», похоже, имеет слишком много бесплатных данных, так как почти все его пользователи далеки от пределов к концу месяца. Согласно приведенным выше графикам, условия плана «Окончательный» должны быть пересмотрены."
   ]
  },
  {
   "cell_type": "markdown",
   "metadata": {},
   "source": [
    "### Исследовательский анализ данных\n",
    "#### Анализ распределения¶\n",
    "Теперь мы собираемся дополнительно сравнить два плана, поэтому давайте создадим для них отдельные кадры данных."
   ]
  },
  {
   "cell_type": "code",
   "execution_count": 49,
   "metadata": {},
   "outputs": [],
   "source": [
    "df_surf = df_monthly[df_monthly['plan'] == 'surf']\n",
    "df_ultimate = df_monthly[df_monthly['plan'] == 'ultimate']"
   ]
  },
  {
   "cell_type": "code",
   "execution_count": 50,
   "metadata": {},
   "outputs": [
    {
     "data": {
      "text/plain": [
       "(720, 17)"
      ]
     },
     "execution_count": 50,
     "metadata": {},
     "output_type": "execute_result"
    }
   ],
   "source": [
    "df_ultimate.shape"
   ]
  },
  {
   "cell_type": "code",
   "execution_count": 51,
   "metadata": {},
   "outputs": [
    {
     "data": {
      "text/plain": [
       "(1573, 17)"
      ]
     },
     "execution_count": 51,
     "metadata": {},
     "output_type": "execute_result"
    }
   ],
   "source": [
    "df_surf.shape"
   ]
  },
  {
   "cell_type": "markdown",
   "metadata": {},
   "source": [
    "##### Звонки"
   ]
  },
  {
   "cell_type": "code",
   "execution_count": 52,
   "metadata": {},
   "outputs": [
    {
     "data": {
      "image/png": "[encoded data removed]",
      "text/plain": [
       "<Figure size 432x288 with 1 Axes>"
      ]
     },
     "metadata": {
      "needs_background": "light"
     },
     "output_type": "display_data"
    }
   ],
   "source": [
    "df_surf.hist('total_min_month')\n",
    "plt.title('Monthly calls length, in minutes')\n",
    "plt.suptitle('Plan \"Surf\"')\n",
    "plt.xlabel('minutes')\n",
    "plt.ylabel('frequency');"
   ]
  },
  {
   "cell_type": "code",
   "execution_count": 53,
   "metadata": {},
   "outputs": [
    {
     "name": "stdout",
     "output_type": "stream",
     "text": [
      "Average monthly calls length in minutes, plan \"Surf\": 429\n",
      "Medium monthly calls length in minutes, plan \"Surf\":425\n",
      "Standard deviation for monthly calls length in minutes, plan \"Surf\":234\n"
     ]
    }
   ],
   "source": [
    "print('Average monthly calls length in minutes, plan \"Surf\": {:.0f}'.format(df_surf['total_min_month'].mean()))\n",
    "print('Medium monthly calls length in minutes, plan \"Surf\":{:.0f}'.format(df_surf['total_min_month'].median()))\n",
    "print('Standard deviation for monthly calls length in minutes, plan \"Surf\":{:.0f}'.format(df_surf['total_min_month'].std()))"
   ]
  },
  {
   "cell_type": "code",
   "execution_count": 54,
   "metadata": {},
   "outputs": [
    {
     "data": {
      "image/png": "[encoded data removed]",
      "text/plain": [
       "<Figure size 432x288 with 1 Axes>"
      ]
     },
     "metadata": {
      "needs_background": "light"
     },
     "output_type": "display_data"
    }
   ],
   "source": [
    "df_ultimate.hist('total_min_month')\n",
    "plt.title('Monthly calls length, in minutes')\n",
    "plt.suptitle('Plan \"Ultimate\"')\n",
    "plt.xlabel('minutes')\n",
    "plt.ylabel('frequency');"
   ]
  },
  {
   "cell_type": "code",
   "execution_count": 55,
   "metadata": {},
   "outputs": [
    {
     "name": "stdout",
     "output_type": "stream",
     "text": [
      "Average monthly calls length in minutes, plan \"Ultimate\": 430\n",
      "Medium monthly calls length in minutes, plan \"Ultimate\":424\n",
      "Standard deviation for monthly calls length in minutes, plan \"Ultimate\":241\n"
     ]
    }
   ],
   "source": [
    "print('Average monthly calls length in minutes, plan \"Ultimate\": {:.0f}'.format(df_ultimate['total_min_month'].mean()))\n",
    "print('Medium monthly calls length in minutes, plan \"Ultimate\":{:.0f}'.format(df_ultimate['total_min_month'].median()))\n",
    "print('Standard deviation for monthly calls length in minutes, plan \"Ultimate\":{:.0f}'.format(df_ultimate['total_min_month'].std()))"
   ]
  },
  {
   "cell_type": "markdown",
   "metadata": {},
   "source": [
    "Средняя и средняя ежемесячная продолжительность звонков почти одинакова (около 430-440 минут в месяц) для обоих планов, что является признаком распределения, близкого к нормальному, без каких-либо тяжелых хвостов. Стандартные отклонения также довольно близки (около 230-240 минут)."
   ]
  },
  {
   "cell_type": "code",
   "execution_count": 56,
   "metadata": {},
   "outputs": [
    {
     "name": "stdout",
     "output_type": "stream",
     "text": [
      "People exceeded the \"Surf\" plan limit for calls: 566\n",
      "Ratio of people exceeded the \"Surf\" plan limit for calls: 36%\n"
     ]
    }
   ],
   "source": [
    "print('People exceeded the \"Surf\" plan limit for calls: {:.0f}'.format(len(df_surf.query('total_min_month > 500'))))\n",
    "print('Ratio of people exceeded the \"Surf\" plan limit for calls: {:.0%}'.format(len(df_surf.query('total_min_month > 500')) / len(df_surf)))"
   ]
  },
  {
   "cell_type": "markdown",
   "metadata": {},
   "source": [
    "Лимит плана \"Surf\" составляет 500 минут в месяц. Это значение близко к среднему и медианному, поэтому большинство пользователей остаются в пределах этого предела, в то время как другие - 566 человек (36%), что составляет почти половину! - превысить его. Те, кто превышает лимит, создают прибыль для компании. Лимит тарифного плана «Ultimate» составляет 3000 минут в месяц. Ни один пользователь не тратит столько минут - самое большое число - даже менее 1400 минут в месяц. Именно здесь компания теряет большую прибыль, поэтому этот предел должен быть пересмотрен."
   ]
  },
  {
   "cell_type": "markdown",
   "metadata": {},
   "source": [
    "##### Сообщения"
   ]
  },
  {
   "cell_type": "code",
   "execution_count": 57,
   "metadata": {},
   "outputs": [
    {
     "data": {
      "image/png": "[encoded data removed]",
      "text/plain": [
       "<Figure size 432x288 with 1 Axes>"
      ]
     },
     "metadata": {
      "needs_background": "light"
     },
     "output_type": "display_data"
    }
   ],
   "source": [
    "df_surf.hist('num_messages_month')\n",
    "plt.title('Monthly number of messages')\n",
    "plt.suptitle('Plan \"Surf\"')\n",
    "plt.xlabel('number of messages')\n",
    "plt.ylabel('frequency');"
   ]
  },
  {
   "cell_type": "code",
   "execution_count": 58,
   "metadata": {},
   "outputs": [
    {
     "name": "stdout",
     "output_type": "stream",
     "text": [
      "Average monthly number of messages, plan \"Surf\": 31\n",
      "Medium monthly number of messages, plan \"Surf\":24\n",
      "Standard deviation for monthly number of messages, plan \"Surf\":34\n"
     ]
    }
   ],
   "source": [
    "print('Average monthly number of messages, plan \"Surf\": {:.0f}'.format(df_surf['num_messages_month'].mean()))\n",
    "print('Medium monthly number of messages, plan \"Surf\":{:.0f}'.format(df_surf['num_messages_month'].median()))\n",
    "print('Standard deviation for monthly number of messages, plan \"Surf\":{:.0f}'.format(df_surf['num_messages_month'].std()))"
   ]
  },
  {
   "cell_type": "code",
   "execution_count": 59,
   "metadata": {},
   "outputs": [
    {
     "data": {
      "image/png": "[encoded data removed]",
      "text/plain": [
       "<Figure size 432x288 with 1 Axes>"
      ]
     },
     "metadata": {
      "needs_background": "light"
     },
     "output_type": "display_data"
    }
   ],
   "source": [
    "df_ultimate.hist('num_messages_month')\n",
    "plt.title('Monthly number of messages')\n",
    "plt.suptitle('Plan \"Ultimate\"')\n",
    "plt.xlabel('number of messages')\n",
    "plt.ylabel('frequency');"
   ]
  },
  {
   "cell_type": "code",
   "execution_count": 60,
   "metadata": {},
   "outputs": [
    {
     "name": "stdout",
     "output_type": "stream",
     "text": [
      "Average monthly number of messages, plan \"Ultimate\": 38\n",
      "Medium monthly number of messages, plan \"Ultimate\":30\n",
      "Standard deviation for monthly number of messages, plan \"Ultimate\":35\n"
     ]
    }
   ],
   "source": [
    "print('Average monthly number of messages, plan \"Ultimate\": {:.0f}'.format(df_ultimate['num_messages_month'].mean()))\n",
    "print('Medium monthly number of messages, plan \"Ultimate\":{:.0f}'.format(df_ultimate['num_messages_month'].median()))\n",
    "print('Standard deviation for monthly number of messages, plan \"Ultimate\":{:.0f}'.format(df_ultimate['num_messages_month'].std()))"
   ]
  },
  {
   "cell_type": "markdown",
   "metadata": {},
   "source": [
    "Оба плана показывают одну и ту же картину: эти распределения положительно искажены, стандартное отклонение довольно большое, почти такое же, как среднее. В плане «Surf» немного - около 10 сообщений в месяц - меньше, что логично, поскольку пользователи этого плана имеют более низкий предел, поэтому они, вероятно, пытаются оставаться внутри границ, отправляя меньше сообщений."
   ]
  },
  {
   "cell_type": "code",
   "execution_count": 61,
   "metadata": {},
   "outputs": [
    {
     "name": "stdout",
     "output_type": "stream",
     "text": [
      "People exceeded the \"Surf\" plan limit for messages: 340\n",
      "Ratio of people exceeded the \"Surf\" plan limit for messages: 22%\n"
     ]
    }
   ],
   "source": [
    "print('People exceeded the \"Surf\" plan limit for messages: {:.0f}'.format(len(df_surf.query('num_messages_month > 50'))))\n",
    "print('Ratio of people exceeded the \"Surf\" plan limit for messages: {:.0%}'.format(len(df_surf.query('num_messages_month > 50')) / len(df_surf)))"
   ]
  },
  {
   "cell_type": "markdown",
   "metadata": {},
   "source": [
    "Лимит тарифного плана «Surf» составляет 50 сообщений в месяц. Большинство пользователей остаются в пределах этого предела, в то время как другие - 340 человек (22%) - превышают его. Те, кто превышает лимит, создают прибыль для компании. Лимит тарифного плана «Ultimate» составляет 1000 сообщений в месяц. Ни один пользователь не отправляет столько текстов - наибольшее количество составляет всего 150 сообщений в месяц. Именно здесь компания теряет большую прибыль, поэтому этот предел должен быть пересмотрен."
   ]
  },
  {
   "cell_type": "markdown",
   "metadata": {},
   "source": [
    "##### Интернет"
   ]
  },
  {
   "cell_type": "code",
   "execution_count": 62,
   "metadata": {},
   "outputs": [
    {
     "data": {
      "image/png": "[encoded data removed]",
      "text/plain": [
       "<Figure size 432x288 with 1 Axes>"
      ]
     },
     "metadata": {
      "needs_background": "light"
     },
     "output_type": "display_data"
    }
   ],
   "source": [
    "df_surf.hist('gb_volume_month')\n",
    "plt.title('Monthly web traffic')\n",
    "plt.suptitle('Plan \"Surf\"')\n",
    "plt.xlabel('gigabytes of data')\n",
    "plt.ylabel('frequency');"
   ]
  },
  {
   "cell_type": "code",
   "execution_count": 63,
   "metadata": {},
   "outputs": [
    {
     "name": "stdout",
     "output_type": "stream",
     "text": [
      "Average monthly volume of data, plan \"Surf\": 17\n",
      "Medium monthly volume of data, plan \"Surf\":17\n",
      "Standard deviation for monthly volume of data, plan \"Surf\":8\n"
     ]
    }
   ],
   "source": [
    "print('Average monthly volume of data, plan \"Surf\": {:.0f}'.format(df_surf['gb_volume_month'].mean()))\n",
    "print('Medium monthly volume of data, plan \"Surf\":{:.0f}'.format(df_surf['gb_volume_month'].median()))\n",
    "print('Standard deviation for monthly volume of data, plan \"Surf\":{:.0f}'.format(df_surf['gb_volume_month'].std()))"
   ]
  },
  {
   "cell_type": "code",
   "execution_count": 64,
   "metadata": {},
   "outputs": [
    {
     "data": {
      "image/png": "[encoded data removed]",
      "text/plain": [
       "<Figure size 432x288 with 1 Axes>"
      ]
     },
     "metadata": {
      "needs_background": "light"
     },
     "output_type": "display_data"
    }
   ],
   "source": [
    "df_ultimate.hist('gb_volume_month')\n",
    "plt.title('Monthly web traffic')\n",
    "plt.suptitle('Plan \"Ultimate\"')\n",
    "plt.xlabel('gigabytes of data')\n",
    "plt.ylabel('frequency');"
   ]
  },
  {
   "cell_type": "code",
   "execution_count": 65,
   "metadata": {},
   "outputs": [
    {
     "name": "stdout",
     "output_type": "stream",
     "text": [
      "Average monthly volume of data, plan \"Ultimate\": 18\n",
      "Medium monthly volume of data, plan \"Ultimate\":17\n",
      "Standard deviation for monthly volume of data, plan \"Ultimate\":8\n"
     ]
    }
   ],
   "source": [
    "print('Average monthly volume of data, plan \"Ultimate\": {:.0f}'.format(df_ultimate['gb_volume_month'].mean()))\n",
    "print('Medium monthly volume of data, plan \"Ultimate\":{:.0f}'.format(df_ultimate['gb_volume_month'].median()))\n",
    "print('Standard deviation for monthly volume of data, plan \"Ultimate\":{:.0f}'.format(df_ultimate['gb_volume_month'].std()))"
   ]
  },
  {
   "cell_type": "markdown",
   "metadata": {},
   "source": [
    "Распределение обоих планов очень похоже: меры расположения и дисперсии почти идентичны. Среднее и медианное очень близки (около 17-18 ГБ в месяц), что является признаком распределения, близкого к нормальному. Стандартное отклонение тоже не такое большое – 8 Гб. Количество наблюдений со средним/медианным объемом более чем в два раза больше остальных значений, поэтому выборы обеих гистограмм настолько различимы."
   ]
  },
  {
   "cell_type": "code",
   "execution_count": 66,
   "metadata": {},
   "outputs": [
    {
     "name": "stdout",
     "output_type": "stream",
     "text": [
      "People exceeded the \"Surf\" plan limit for web traffic: 858\n",
      "Ratio of people exceeded the \"Surf\" plan limit for web traffic: 55%\n"
     ]
    }
   ],
   "source": [
    "print('People exceeded the \"Surf\" plan limit for web traffic: {:.0f}'.format(len(df_surf.query('gb_volume_month > 16'))))\n",
    "print('Ratio of people exceeded the \"Surf\" plan limit for web traffic: {:.0%}'.format(len(df_surf.query('gb_volume_month > 16')) / len(df_surf)))"
   ]
  },
  {
   "cell_type": "code",
   "execution_count": 67,
   "metadata": {},
   "outputs": [
    {
     "name": "stdout",
     "output_type": "stream",
     "text": [
      "People exceeded the \"Ultimate\" plan limit for web traffic: 39\n",
      "Ratio of people exceeded the \"Ultimate\" plan limit for web traffic: 2%\n"
     ]
    }
   ],
   "source": [
    "print('People exceeded the \"Ultimate\" plan limit for web traffic: {:.0f}'.format(len(df_ultimate.query('gb_volume_month > 31'))))\n",
    "print('Ratio of people exceeded the \"Ultimate\" plan limit for web traffic: {:.0%}'.format(len(df_ultimate.query('gb_volume_month > 31')) / len(df_surf)))"
   ]
  },
  {
   "cell_type": "markdown",
   "metadata": {},
   "source": [
    "Лимит трафика плана «Surf» составляет 16 ГБ, что немного меньше среднего использования. Почти половина пользователей остаются в пределах этого лимита, в то время как другие - 858 человек (55%) - превышают его. Те, кто превышает лимит, создают прибыль для компании. Поскольку количество людей, которые превышают лимит, значительно, прибыль от интернет-источника, вероятно, является самой большой среди других источников для этого плана.\n",
    "\n",
    "Лимит данных плана «Ultimate» составляет 31 бг. Есть только 39 человек (2%), которые превысили это число, поэтому лимит данных для этого плана должен быть пересмотрен."
   ]
  },
  {
   "cell_type": "markdown",
   "metadata": {},
   "source": [
    "#### Выбросы\n",
    "##### Звонки"
   ]
  },
  {
   "cell_type": "code",
   "execution_count": 68,
   "metadata": {},
   "outputs": [
    {
     "data": {
      "image/png": "[encoded data removed]",
      "text/plain": [
       "<Figure size 432x288 with 1 Axes>"
      ]
     },
     "metadata": {
      "needs_background": "light"
     },
     "output_type": "display_data"
    }
   ],
   "source": [
    "df_surf.boxplot('total_min_month');"
   ]
  },
  {
   "cell_type": "code",
   "execution_count": 69,
   "metadata": {},
   "outputs": [
    {
     "data": {
      "image/png": "[encoded data removed]",
      "text/plain": [
       "<Figure size 432x288 with 1 Axes>"
      ]
     },
     "metadata": {
      "needs_background": "light"
     },
     "output_type": "display_data"
    }
   ],
   "source": [
    "df_ultimate.boxplot('total_min_month');"
   ]
  },
  {
   "cell_type": "markdown",
   "metadata": {},
   "source": [
    "##### Messages"
   ]
  },
  {
   "cell_type": "code",
   "execution_count": 70,
   "metadata": {},
   "outputs": [
    {
     "data": {
      "image/png": "[encoded data removed]",
      "text/plain": [
       "<Figure size 432x288 with 1 Axes>"
      ]
     },
     "metadata": {
      "needs_background": "light"
     },
     "output_type": "display_data"
    }
   ],
   "source": [
    "df_surf.boxplot('num_messages_month');"
   ]
  },
  {
   "cell_type": "code",
   "execution_count": 71,
   "metadata": {},
   "outputs": [
    {
     "data": {
      "image/png": "[encoded data removed]",
      "text/plain": [
       "<Figure size 432x288 with 1 Axes>"
      ]
     },
     "metadata": {
      "needs_background": "light"
     },
     "output_type": "display_data"
    }
   ],
   "source": [
    "df_ultimate.boxplot('num_messages_month');"
   ]
  },
  {
   "cell_type": "markdown",
   "metadata": {},
   "source": [
    "##### Интернет"
   ]
  },
  {
   "cell_type": "code",
   "execution_count": 72,
   "metadata": {},
   "outputs": [
    {
     "data": {
      "image/png": "[encoded data removed]",
      "text/plain": [
       "<Figure size 432x288 with 1 Axes>"
      ]
     },
     "metadata": {
      "needs_background": "light"
     },
     "output_type": "display_data"
    }
   ],
   "source": [
    "df_surf.boxplot('gb_volume_month');"
   ]
  },
  {
   "cell_type": "code",
   "execution_count": 73,
   "metadata": {},
   "outputs": [
    {
     "data": {
      "image/png": "[encoded data removed]",
      "text/plain": [
       "<Figure size 432x288 with 1 Axes>"
      ]
     },
     "metadata": {
      "needs_background": "light"
     },
     "output_type": "display_data"
    }
   ],
   "source": [
    "df_ultimate.boxplot('gb_volume_month');"
   ]
  },
  {
   "cell_type": "markdown",
   "metadata": {},
   "source": [
    "Согласно приведенным выше бокс-графикам, мы видим, что распределения для обоих планов и для обоих и переменных близки к норме, тогда как она положительно искажена для переменной. Однако мы видим только выбросы выше верхнего уса для всех 3 переменных и обоих планов. Поэтому мы применим метод межквартильного диапазона, чтобы удалить их.total_min_monthgb_volume_monthnum_messages_month"
   ]
  },
  {
   "cell_type": "markdown",
   "metadata": {},
   "source": [
    "##### Удаление выбросов\n",
    "Во-первых, давайте рассчитаем верхний ус для каждого плана и для каждой переменной."
   ]
  },
  {
   "cell_type": "code",
   "execution_count": 74,
   "metadata": {},
   "outputs": [
    {
     "name": "stdout",
     "output_type": "stream",
     "text": [
      "\n",
      "Surf\n",
      "total_min_month 1032.0\n",
      "gb_volume_month 34.5\n",
      "num_messages_month 113.0\n",
      "\n",
      "Ultimate\n",
      "total_min_month 1023.125\n",
      "gb_volume_month 35.5\n",
      "num_messages_month 142.0\n"
     ]
    }
   ],
   "source": [
    "df_surf.name = \"Surf\"\n",
    "df_ultimate.name = \"Ultimate\"\n",
    "for df in [df_surf,df_ultimate]:\n",
    "    print()\n",
    "    print(df.name)\n",
    "    for feature in ['total_min_month','gb_volume_month','num_messages_month']:\n",
    "        df[feature] = df[feature].astype(int)\n",
    "        q25 = df[feature].quantile(0.25)\n",
    "        q75 = df[feature].quantile(0.75)\n",
    "        iqr = q75 - q25\n",
    "        # calculate the outlier cutoff and upper limit\n",
    "        cut_off = iqr * 1.5\n",
    "        upper = q75 + cut_off\n",
    "        print(feature, upper)"
   ]
  },
  {
   "cell_type": "markdown",
   "metadata": {},
   "source": [
    "Далее мы сохраним только те строки, для которых каждая переменная находится под верхним пределом."
   ]
  },
  {
   "cell_type": "code",
   "execution_count": 75,
   "metadata": {},
   "outputs": [
    {
     "data": {
      "text/plain": [
       "(1471, 17)"
      ]
     },
     "execution_count": 75,
     "metadata": {},
     "output_type": "execute_result"
    }
   ],
   "source": [
    "df_surf = df_surf[(df_surf['total_min_month']<1032.0) & (df_surf['gb_volume_month']<34.5) & (df_surf['num_messages_month']<113.0)]\n",
    "df_surf.shape"
   ]
  },
  {
   "cell_type": "code",
   "execution_count": 76,
   "metadata": {},
   "outputs": [
    {
     "data": {
      "text/plain": [
       "(671, 17)"
      ]
     },
     "execution_count": 76,
     "metadata": {},
     "output_type": "execute_result"
    }
   ],
   "source": [
    "df_ultimate = df_ultimate[(df_ultimate['total_min_month']<1023.125) & (df_ultimate['gb_volume_month']<35.5) & (df_ultimate['num_messages_month']<142.0)]\n",
    "df_ultimate.shape"
   ]
  },
  {
   "cell_type": "markdown",
   "metadata": {},
   "source": [
    "### Проверка статистических гипотез¶\n",
    "#### Средняя прибыль от пользователей планов Ultimate и Surf отличается: двусторонняя гипотеза"
   ]
  },
  {
   "cell_type": "markdown",
   "metadata": {},
   "source": [
    "##### Шаг 1: нулевая и альтернативная гипотезы\n",
    "**H0:** Средства двух статистических популяций равны. В нашем случае это означает, что средняя прибыль от пользователей планов «Surf» и «Ultimate» одинакова.\n",
    "\n",
    "**Н1:** Средства двух статистических популяций не равны. В нашем случае это означает, что средняя прибыль от пользователей планов «Surf» и «Ultimate» отличается, хотя мы не указываем здесь, какой из них больше."
   ]
  },
  {
   "cell_type": "markdown",
   "metadata": {},
   "source": [
    "##### Шаг 2: Установите критерии для принятия решения\n",
    "В поведенческой науке уровень значимости обычно устанавливается на уровне 5%, и мы также выберем этот критерий. Когда вероятность получения среднего образца составляет менее 5%, если нулевая гипотеза верна, то мы отвергаем значение, указанное в нулевой гипотезе."
   ]
  },
  {
   "cell_type": "markdown",
   "metadata": {},
   "source": [
    "##### Шаг 3. Вычисление тестовой статистики\n",
    "Чтобы проверить нашу гипотезу о том, что средства двух статистических популяций равны на основе выборок, взятых из них, мы применим метод. scipy.stats.ttest_ind()\n",
    "\n",
    "Метод принимает следующие параметры:\n",
    "\n",
    "array1, — массивы, содержащие образцы. Мы будем использовать переменные, рассчитанные ранее для обоих планов;\n",
    "array monthly_profit и\n",
    "equal_var — необязательный параметр, указывающий, следует ли считать дисперсии популяций равными. Чтобы задать этот параметр, давайте проверим, одинаковы ли дисперсии наших образцов."
   ]
  },
  {
   "cell_type": "code",
   "execution_count": 77,
   "metadata": {},
   "outputs": [],
   "source": [
    "sample_1 = df_surf['monthly_profit']\n",
    "sample_2 = df_ultimate['monthly_profit']"
   ]
  },
  {
   "cell_type": "code",
   "execution_count": 78,
   "metadata": {},
   "outputs": [
    {
     "data": {
      "text/plain": [
       "LeveneResult(statistic=98.0356634273378, pvalue=1.24925160887314e-22)"
      ]
     },
     "execution_count": 78,
     "metadata": {},
     "output_type": "execute_result"
    }
   ],
   "source": [
    "st.levene(sample_1, sample_2)"
   ]
  },
  {
   "cell_type": "markdown",
   "metadata": {},
   "source": [
    "Небольшое p-значение предполагает, что популяции не имеют равных дисперсий. Поэтому мы установим для параметра значение False.equal_var"
   ]
  },
  {
   "cell_type": "code",
   "execution_count": 79,
   "metadata": {},
   "outputs": [
    {
     "name": "stdout",
     "output_type": "stream",
     "text": [
      "p-value:  6.754263687330053e-181\n",
      "We reject the null hypothesis\n"
     ]
    }
   ],
   "source": [
    "alpha = .05 # critical statistical significance level\n",
    "                        # if the p-value is less than alpha, we reject the hypothesis\n",
    "\n",
    "results = st.ttest_ind(\n",
    "                        sample_1, \n",
    "                        sample_2, \n",
    "                        equal_var=False)\n",
    "\n",
    "print('p-value: ', results.pvalue)\n",
    "\n",
    "if (results.pvalue < alpha):\n",
    "        print(\"We reject the null hypothesis\")\n",
    "else:\n",
    "        print(\"We retain the null hypothesis\")"
   ]
  },
  {
   "cell_type": "markdown",
   "metadata": {},
   "source": [
    "##### Step 4: Make a decision\n",
    "\n",
    "Based on the results of the test statistic we reach **significance**: the decision is to **reject the null hypothesis**. The equality of samples' means is associated with a low probability of occurrence (much less than 1%) when the null hypothesis is true.\n",
    "\n",
    "Now let's see if this decision stands if we reformulate the alternative hypothesis, so it becomes unilateral."
   ]
  },
  {
   "cell_type": "markdown",
   "metadata": {},
   "source": [
    "#### The average profit from users of Ultimate and Surf plans differs: unilateral hypothesis\n",
    "##### The \"Surf\" plan's average profit is greater than the \"Ultimate\" plan's average profit\n",
    "###### Step 1: the null and alternative hypotheses\n",
    "**H0:** The means of two statistical populations are equal. In our case it means that the average profit from users of \"Surf\" and \"Ultimate\" plans is the same.\n",
    "\n",
    "**H1:** One of the means of two statistical populations is greater than the other. In our case it means that the average profit from users of the \"Surf\" plan is greater than that of the \"Ultimate\" plan."
   ]
  },
  {
   "cell_type": "markdown",
   "metadata": {},
   "source": [
    "###### Step 2: Set the criteria for a decision\n",
    "\n",
    "We will keep the level of significance at 5% for this test as well."
   ]
  },
  {
   "cell_type": "markdown",
   "metadata": {},
   "source": [
    "###### Step 3: Compute the test statistic\n",
    "\n",
    "In order to test our new hypothesis we will also apply the method `scipy.stats.ttest_ind()`. \n",
    "The first 3 parameters stay the same and we will add one more for unilateral hypotheses:\n",
    "- `alternative` is an optional parameter that defines the alternative hypothesis. The following options are available (default is ‘two-sided’). In this section we will set it to 'greater' for our purposes."
   ]
  },
  {
   "cell_type": "code",
   "execution_count": 80,
   "metadata": {},
   "outputs": [
    {
     "name": "stdout",
     "output_type": "stream",
     "text": [
      "p-value:  3.3771318436650265e-181\n",
      "We reject the null hypothesis\n"
     ]
    }
   ],
   "source": [
    "alpha = .05 # critical statistical significance level\n",
    "                        # if the p-value is less than alpha, we reject the hypothesis\n",
    "\n",
    "results = st.ttest_ind(\n",
    "                        sample_1, \n",
    "                        sample_2,\n",
    "                        equal_var=False,\n",
    "                        alternative='greater')\n",
    "\n",
    "print('p-value: ', results.pvalue)\n",
    "\n",
    "if (results.pvalue < alpha):\n",
    "        print(\"We reject the null hypothesis\")\n",
    "else:\n",
    "        print(\"We retain the null hypothesis\")"
   ]
  },
  {
   "cell_type": "markdown",
   "metadata": {},
   "source": [
    "###### Step 4: Make a decision\n",
    "\n",
    "Based on the results of the test statistic we reach **significance**: the decision is to **reject the null hypothesis**. The equality of samples' means is associated with a low probability of occurrence (much less than 1%) when the null hypothesis is true.\n",
    "\n",
    "Now let's see what results we would get if we changed again the alternative hypothesis."
   ]
  },
  {
   "cell_type": "markdown",
   "metadata": {},
   "source": [
    "#### The average profit from users of Ultimate and Surf plans differs: unilateral hypothesis\n",
    "##### The \"Surf\" plan's average profit is less than the \"Ultimate\" plan's average profit\n",
    "###### Step 1: the null and alternative hypotheses\n",
    "**H0:** The means of two statistical populations are equal. In our case it means that the average profit from users of \"Surf\" and \"Ultimate\" plans is the same.\n",
    "\n",
    "**H1:** One of the means of two statistical populations is less than the other. In our case it means that the average profit from users of the \"Surf\" plan is less than that of the \"Ultimate\" plan."
   ]
  },
  {
   "cell_type": "markdown",
   "metadata": {},
   "source": [
    "###### Step 2: Set the criteria for a decision\n",
    "\n",
    "We will keep the level of significance at 5% for this test as well.\n",
    "\n",
    "###### Step 3: Compute the test statistic\n",
    "\n",
    "In order to test our new hypothesis we will also apply the method `scipy.stats.ttest_ind()`. \n",
    "The first 3 parameters stay the same and we will add one more for unilateral hypotheses:\n",
    "- `alternative` is an optional parameter that defines the alternative hypothesis. The following options are available (default is ‘two-sided’). In this section we will set it to 'less' for our purposes."
   ]
  },
  {
   "cell_type": "code",
   "execution_count": 81,
   "metadata": {},
   "outputs": [
    {
     "name": "stdout",
     "output_type": "stream",
     "text": [
      "p-value:  1.0\n",
      "We retain the null hypothesis\n"
     ]
    }
   ],
   "source": [
    "alpha = .05 # critical statistical significance level\n",
    "                        # if the p-value is less than alpha, we reject the hypothesis\n",
    "\n",
    "results = st.ttest_ind(\n",
    "                        sample_1, \n",
    "                        sample_2,\n",
    "                        equal_var=False,\n",
    "                        alternative='less')\n",
    "\n",
    "print('p-value: ', results.pvalue)\n",
    "\n",
    "if (results.pvalue < alpha):\n",
    "        print(\"We reject the null hypothesis\")\n",
    "else:\n",
    "        print(\"We retain the null hypothesis\")"
   ]
  },
  {
   "cell_type": "markdown",
   "metadata": {},
   "source": [
    "###### Step 4: Make a decision\n",
    "\n",
    "Based on the results of the test statistic we **failed to reach significance**: the decision is to **retain the null hypothesis**. The equality of samples' means against such an alternative hypothesis is associated with a 100% probability of occurrence when the null hypothesis is true.\n",
    "\n",
    "This decision is probably an example of a Type II error. With each test we make, there is always some probability that the decision could be a Type II error. In this decision, we decide to retain previous notions of truth that are in fact false (based on previous analysis). While it’s an error, we still did nothing; we retained the null hypothesis. We can always go back and conduct more studies."
   ]
  },
  {
   "cell_type": "markdown",
   "metadata": {},
   "source": [
    "#### The average profit from users in NY-NJ area is different from that of the users from other regions: bilateral hypothesis\n",
    "\n",
    "First, let's from two populations according to the task."
   ]
  },
  {
   "cell_type": "code",
   "execution_count": 82,
   "metadata": {},
   "outputs": [],
   "source": [
    "ny_nj_users = df_monthly[df_monthly['city'] == 'New York-Newark-Jersey City, NY-NJ-PA MSA']"
   ]
  },
  {
   "cell_type": "code",
   "execution_count": 83,
   "metadata": {},
   "outputs": [],
   "source": [
    "other_regions_users = df_monthly[df_monthly['city'] != 'New York-Newark-Jersey City, NY-NJ-PA MSA']"
   ]
  },
  {
   "cell_type": "code",
   "execution_count": 84,
   "metadata": {},
   "outputs": [
    {
     "data": {
      "text/plain": [
       "(1916, 17)"
      ]
     },
     "execution_count": 84,
     "metadata": {},
     "output_type": "execute_result"
    }
   ],
   "source": [
    "other_regions_users.shape"
   ]
  },
  {
   "cell_type": "code",
   "execution_count": 85,
   "metadata": {},
   "outputs": [
    {
     "data": {
      "text/plain": [
       "(377, 17)"
      ]
     },
     "execution_count": 85,
     "metadata": {},
     "output_type": "execute_result"
    }
   ],
   "source": [
    "ny_nj_users.shape"
   ]
  },
  {
   "cell_type": "markdown",
   "metadata": {},
   "source": [
    "##### Step 1: the null and alternative hypotheses\n",
    "**H0**: The means of two statistical populations are equal. In our case it means that the average profit from users in NY-NJ area and users in other regions is the same.\n",
    "\n",
    "**H1**: The means of two statistical populations are not equal. In our case it means that the average profit from users in NY-NJ area and users in other regions differs, although we do not specify here which one is more.\n",
    "\n",
    "##### Step 2: Set the criteria for a decision\n",
    "We will keep the level of significance at 5% for this test as well.\n",
    "\n",
    "##### Step 3: Compute the test statistic\n",
    "In order to test our new hypothesis we will again apply the method scipy.stats.ttest_ind() but first let's test whether variances of these two populations are similar."
   ]
  },
  {
   "cell_type": "code",
   "execution_count": 86,
   "metadata": {},
   "outputs": [
    {
     "data": {
      "text/plain": [
       "LeveneResult(statistic=6.608211517749522, pvalue=0.010213584069727624)"
      ]
     },
     "execution_count": 86,
     "metadata": {},
     "output_type": "execute_result"
    }
   ],
   "source": [
    "sample_3 = ny_nj_users['monthly_profit']\n",
    "sample_4 = other_regions_users['monthly_profit']\n",
    "\n",
    "st.levene(sample_3, sample_4)"
   ]
  },
  {
   "cell_type": "markdown",
   "metadata": {},
   "source": [
    "The small p-value (less that 5%) suggests that the populations do not have equal variances. Hence we will set the `equal_var` parameter to False."
   ]
  },
  {
   "cell_type": "code",
   "execution_count": 87,
   "metadata": {},
   "outputs": [
    {
     "name": "stdout",
     "output_type": "stream",
     "text": [
      "p-value:  0.0004452925660048938\n",
      "We reject the null hypothesis\n"
     ]
    }
   ],
   "source": [
    "alpha = .05 # critical statistical significance level\n",
    "                        # if the p-value is less than alpha, we reject the hypothesis\n",
    "\n",
    "results = st.ttest_ind(\n",
    "                        sample_3, \n",
    "                        sample_4, \n",
    "                        equal_var=False)\n",
    "\n",
    "print('p-value: ', results.pvalue)\n",
    "\n",
    "if (results.pvalue < alpha):\n",
    "        print(\"We reject the null hypothesis\")\n",
    "else:\n",
    "        print(\"We retain the null hypothesis\")"
   ]
  },
  {
   "cell_type": "markdown",
   "metadata": {},
   "source": [
    "##### Step 4: Make a decision\n",
    "\n",
    "Based on the results of the test statistic we reach **significance**: the decision is to **reject the null hypothesis**. The equality of samples' means is associated with a low probability of occurrence (much less than 1%) when the null hypothesis is true.\n",
    "\n",
    "Now let's see if this decision stands if we reformulate the alternative hypothesis, so it becomes unilateral."
   ]
  },
  {
   "cell_type": "markdown",
   "metadata": {},
   "source": [
    "#### The average profit from users of Ultimate and Surf plans differs: unilateral hypothesis\n",
    "##### The \"Surf\" plan's average profit is greater than the \"Ultimate\" plan's average profit\n",
    "###### Step 1: the null and alternative hypotheses\n",
    "**H0:** The means of two statistical populations are equal. In our case it means that the average profit from users in NY-NJ area and users in other regions is the same.\n",
    "\n",
    "**H1:** One of the means of two statistical populations is greater than the other. In our case it means that the average profit from users in NY-NJ area is greater than that of users in other areas."
   ]
  },
  {
   "cell_type": "markdown",
   "metadata": {},
   "source": [
    "###### Step 2: Set the criteria for a decision\n",
    "\n",
    "We will keep the level of significance at 5% for this test as well."
   ]
  },
  {
   "cell_type": "markdown",
   "metadata": {},
   "source": [
    "###### Step 3: Compute the test statistic\n",
    "\n",
    "In order to test our new hypothesis we will also apply the method `scipy.stats.ttest_ind()`. \n",
    "The first 3 parameters stay the same and we will add one more for unilateral hypotheses:\n",
    "- `alternative` is an optional parameter that defines the alternative hypothesis. The following options are available (default is ‘two-sided’). In this section we will set it to 'greater' for our purposes."
   ]
  },
  {
   "cell_type": "code",
   "execution_count": 88,
   "metadata": {},
   "outputs": [
    {
     "name": "stdout",
     "output_type": "stream",
     "text": [
      "p-value:  0.0002226462830024469\n",
      "We reject the null hypothesis\n"
     ]
    }
   ],
   "source": [
    "alpha = .05 # critical statistical significance level\n",
    "                        # if the p-value is less than alpha, we reject the hypothesis\n",
    "\n",
    "results = st.ttest_ind(\n",
    "                        sample_3, \n",
    "                        sample_4,\n",
    "                        equal_var=False,\n",
    "                        alternative='greater')\n",
    "\n",
    "print('p-value: ', results.pvalue)\n",
    "\n",
    "if (results.pvalue < alpha):\n",
    "        print(\"We reject the null hypothesis\")\n",
    "else:\n",
    "        print(\"We retain the null hypothesis\")"
   ]
  },
  {
   "cell_type": "markdown",
   "metadata": {},
   "source": [
    "###### Step 4: Make a decision\n",
    "\n",
    "Based on the results of the test statistic we reach **significance**: the decision is to **reject the null hypothesis**. The equality of samples' means is associated with a low probability of occurrence (much less than 1%) when the null hypothesis is true.\n",
    "\n",
    "Now let's see what results we would get if we changed again the alternative hypothesis."
   ]
  },
  {
   "cell_type": "markdown",
   "metadata": {},
   "source": [
    "#### The average profit from users of Ultimate and Surf plans differs: unilateral hypothesis\n",
    "##### The \"Surf\" plan's average profit is less than the \"Ultimate\" plan's average profit\n",
    "###### Step 1: the null and alternative hypotheses\n",
    "**H0:** The means of two statistical populations are equal. In our case it means that the average profit from users of \"Surf\" and \"Ultimate\" plans is the same.\n",
    "\n",
    "**H1:** One of the means of two statistical populations is less than the other. In our case it means that the average profit from users of the \"Surf\" plan is less than that of the \"Ultimate\" plan."
   ]
  },
  {
   "cell_type": "markdown",
   "metadata": {},
   "source": [
    "###### Step 2: Set the criteria for a decision\n",
    "\n",
    "We will keep the level of significance at 5% for this test as well.\n",
    "\n",
    "###### Step 3: Compute the test statistic\n",
    "\n",
    "In order to test our new hypothesis we will also apply the method `scipy.stats.ttest_ind()`. \n",
    "The first 3 parameters stay the same and we will add one more for unilateral hypotheses:\n",
    "- `alternative` is an optional parameter that defines the alternative hypothesis. The following options are available (default is ‘two-sided’). In this section we will set it to 'less' for our purposes."
   ]
  },
  {
   "cell_type": "code",
   "execution_count": 89,
   "metadata": {},
   "outputs": [
    {
     "name": "stdout",
     "output_type": "stream",
     "text": [
      "p-value:  0.9997773537169975\n",
      "We retain the null hypothesis\n"
     ]
    }
   ],
   "source": [
    "alpha = .05 # critical statistical significance level\n",
    "                        # if the p-value is less than alpha, we reject the hypothesis\n",
    "\n",
    "results = st.ttest_ind(\n",
    "                        sample_3, \n",
    "                        sample_4,\n",
    "                        equal_var=False,\n",
    "                        alternative='less')\n",
    "\n",
    "print('p-value: ', results.pvalue)\n",
    "\n",
    "if (results.pvalue < alpha):\n",
    "        print(\"We reject the null hypothesis\")\n",
    "else:\n",
    "        print(\"We retain the null hypothesis\")"
   ]
  },
  {
   "cell_type": "markdown",
   "metadata": {},
   "source": [
    "###### Step 4: Make a decision\n",
    "\n",
    "Based on the results of the test statistic we **failed to reach significance**: the decision is to **retain the null hypothesis**. The equality of samples' means against such an alternative hypothesis is associated with a 100% probability of occurrence when the null hypothesis is true.\n",
    "\n",
    "This decision is probably an example of a Type II error as well."
   ]
  },
  {
   "cell_type": "markdown",
   "metadata": {},
   "source": [
    "# Conclusion\n",
    "\n",
    "In this report we have analyzed telecom clients' behavior in order to determine which of the two prepaid plans is more profitable and to test two statistical hypotheses.\n",
    "\n",
    "First of all, we have familiarized ourselves with the data by performing the descriptive statistics. Based on that analysis, in the preprocessing step we have changed data type of all the date variables to datetime format.\n",
    "\n",
    "Then we have rounded all the calls to minutes as per the company's policy. \n",
    "\n",
    "Next, we filled some missing values in the `churn_date` column, assuming these clients are still using the service, that is why there is no exit date for them.\n",
    "\n",
    "We have then checked for duplicates and any artifacts in user dates (we made sure the `churn_date` was always later than the `reg_date` and also that all user activity was placed between these two dates). No issues were found in these sections.\n",
    "\n",
    "Next step was to perform a few calculations. For each user, we found:\n",
    "\n",
    "- Total minutes used per month;\n",
    "- The number of text messages sent per month;\n",
    "- The volume of data per month;\n",
    "- The monthly profit from each user (we subtracted the free package limit from the total number of calls, text messages, and data; multiplied the result by the numbers included in the plan and added the monthly plan's charge)\n",
    "\n",
    "In the following section we have performed an exploratory data analysis in order to analyze customer's behavior for each plan and then compare both plans.\n",
    "\n",
    "We found that the \"Surf\" plan is mostly profitable throughout the year with a tendency of being more and more profit-making towards the end of the year. In contract, the \"Ultimate\" plan is mostly not profitable during the year, with the opposite tendency of being even more costly by the end of the year. \n",
    "\n",
    "Distributions for calls and web traffic are close to normal with the mean/median value for calls of 430-440 minutes per month and for web traffic - of 17-18 gb per month for both plans. The distributions for messages are positively skewed with a quite large standard deviation. It means that some people sent large amount of messages compared to the mean number of messages.\n",
    "\n",
    "As for the plans' conditions, the \"Surf\" plan brings some profit because users often exceed the limits. In contract, the \"Ultimate\" plan's limits should be reconsidered as users quite rarely (in 0% for calls and messages and 2% for web traffic cases) reach the limits and usually are far away from them.\n",
    "\n",
    "Next step was statistical hypotheses testing. We tested two hypotheses:\n",
    "1. The average profit from users of Ultimate and Surf plans differs;\n",
    "2. The average profit from users in NY-NJ area is different from that of the users from other regions.\n",
    "\n",
    "For both cases we have tested a bilateral and 2 unilateral hypotheses:\n",
    "- bilateral: in both cases we have rejected the null - each pair of populations does not bring the same average profit to the company;\n",
    "- unilateral:\n",
    "    - 'greater': in both cases we have rejected the nulls in favor of the alternative hypotheses:\n",
    "        - The \"Surf\" plan brings more profit than \"Ultimate\", on average;\n",
    "        - Users from NY-NJ area bring more profit than users from other regions, on average.\n",
    "    - 'less': in both cases we have retained the nulls over the alternative hypotheses:\n",
    "        - The \"Surf\" plan does not bring less profit than \"Ultimate\", on average;\n",
    "        - Users from NY-NJ area does not bring less profit than users from other regions, on average."
   ]
  }
 ],
 "metadata": {
  "kernelspec": {
   "display_name": "Python 3 (ipykernel)",
   "language": "python",
   "name": "python3"
  },
  "language_info": {
   "codemirror_mode": {
    "name": "ipython",
    "version": 3
   },
   "file_extension": ".py",
   "mimetype": "text/x-python",
   "name": "python",
   "nbconvert_exporter": "python",
   "pygments_lexer": "ipython3",
   "version": "3.9.12"
  },
  "toc": {
   "base_numbering": 1,
   "nav_menu": {},
   "number_sections": true,
   "sideBar": true,
   "skip_h1_title": true,
   "title_cell": "Table of Contents",
   "title_sidebar": "Contents",
   "toc_cell": true,
   "toc_position": {},
   "toc_section_display": true,
   "toc_window_display": false
  }
 },
 "nbformat": 4,
 "nbformat_minor": 4
}
