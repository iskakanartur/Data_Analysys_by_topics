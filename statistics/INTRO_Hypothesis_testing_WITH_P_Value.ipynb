{
 "cells": [
  {
   "cell_type": "markdown",
   "id": "170211eb",
   "metadata": {},
   "source": [
    "# P-Value Method For Hypothesis Testing\n",
    "- credits to https://www.youtube.com/watch?v=8Aw45HN5lnA"
   ]
  },
  {
   "cell_type": "code",
   "execution_count": null,
   "id": "fc0cf64f",
   "metadata": {},
   "outputs": [],
   "source": [
    "## At a 95 % Confidence Interval is there enough evidence to reject the Null Hypothesis ?\n",
    "## Use The P value Method"
   ]
  },
  {
   "cell_type": "code",
   "execution_count": null,
   "id": "de82064a",
   "metadata": {},
   "outputs": [],
   "source": [
    "## P value method is to get the P value and compare agains Alpha"
   ]
  },
  {
   "cell_type": "markdown",
   "id": "b90222fa",
   "metadata": {},
   "source": [
    "<img src=\"pics_pvalie_intro/pp1.png\" alt=\"Drawing\" style=\"width: 1100px;\"/>"
   ]
  },
  {
   "cell_type": "markdown",
   "id": "6c118b49",
   "metadata": {},
   "source": [
    "## THE Traditional Method "
   ]
  },
  {
   "cell_type": "code",
   "execution_count": null,
   "id": "698bf5da",
   "metadata": {},
   "outputs": [],
   "source": [
    "## We Calculate the Z value and compare it agains the Z value that is ASSOCIATED\n",
    "## With the Confidence level\n",
    "\n",
    "## We don't have the population SD\n",
    "\n",
    "## IS this a ONE TAIL or TWO TAIL test?\n",
    "## mean NOT EQUAL - means we have 2 tail Test"
   ]
  },
  {
   "cell_type": "code",
   "execution_count": null,
   "id": "2d976b5d",
   "metadata": {},
   "outputs": [],
   "source": [
    "## We set here confidence level of 95% so for the TRADITIONAL METHDO we need to get the Z value\n",
    "## Associated with that 95 Confidence"
   ]
  },
  {
   "cell_type": "markdown",
   "id": "49d31d7c",
   "metadata": {},
   "source": [
    "<img src=\"pics_pvalie_intro/pp2.png\" alt=\"Drawing\" style=\"width: 600px;\"/>"
   ]
  },
  {
   "cell_type": "code",
   "execution_count": null,
   "id": "cc19e2b5",
   "metadata": {},
   "outputs": [],
   "source": [
    "## We are going to use here a CUMULATIVE AREA FUNCTION\n",
    "## That is the area LEFT 0.025 (shaded Rejection area) + 95% = 0.975\n",
    "\n",
    "## We are going to find the Z score that corrseponds to that TOTAL AREA\n",
    "\n",
    "## 1.96 Standard Deviation +- was the 95% Area \n",
    "\n",
    "## in Z score table we find 97.5 (CUMULATIVE AREA FUNCTION) and the corresponding Z score"
   ]
  },
  {
   "cell_type": "markdown",
   "id": "bc1d49e9",
   "metadata": {},
   "source": [
    "<img src=\"pics_pvalie_intro/pp3.png\" alt=\"Drawing\" style=\"width: 900px;\"/>"
   ]
  },
  {
   "cell_type": "code",
   "execution_count": null,
   "id": "986d91eb",
   "metadata": {},
   "outputs": [],
   "source": [
    "## Next we need to compare The Critical values +- 1.96  AGIANTS the Z score that we gonna get from \n",
    "## our Test Statsictic\n",
    "\n",
    "## T test or Z test?\n",
    "## !!!!! A z-test can only be used if the population standard deviation is known and the !!!!\n",
    "## !!!!! sample size is 30 data points or larger. \n",
    "## !!!!! If we don't know POPULATION Standard Deviation and n <30  a t-test should be employed."
   ]
  },
  {
   "cell_type": "markdown",
   "id": "b6260db0",
   "metadata": {},
   "source": [
    "<img src=\"pics_pvalie_intro/pp4.png\" alt=\"Drawing\" style=\"width: 800px;\"/>"
   ]
  },
  {
   "cell_type": "code",
   "execution_count": null,
   "id": "1c5eae32",
   "metadata": {},
   "outputs": [],
   "source": [
    "## FTR - Fail To Reject Region\n",
    "## So based on these Calculated Z statsitcs we Reject Our Null Hypothesis in favor of the ALternative"
   ]
  },
  {
   "cell_type": "markdown",
   "id": "6fbc1994",
   "metadata": {},
   "source": [
    "## The P value Method"
   ]
  },
  {
   "cell_type": "code",
   "execution_count": null,
   "id": "95c66c49",
   "metadata": {},
   "outputs": [],
   "source": [
    "## !!! We need to put here the Calculated Z value !!! \n",
    "## compare againts Z Critical Values of the TRaditional method 1.96\n",
    "\n",
    "## The SHaded Area of The Rejection Region is Going to correspond to our P value\n",
    "## Then we are going to compare it against the Alpha\n",
    "\n"
   ]
  },
  {
   "cell_type": "markdown",
   "id": "bc88a374",
   "metadata": {},
   "source": [
    "<img src=\"pics_pvalie_intro/pp5.png\" alt=\"Drawing\" style=\"width: 800px;\"/>"
   ]
  },
  {
   "cell_type": "code",
   "execution_count": null,
   "id": "6d5d8812",
   "metadata": {},
   "outputs": [],
   "source": [
    "## We have our Calculated Z value 2.31\n",
    "## We find in the Table Z score of 0.98956 Whgich is the\n",
    "## LEFT SHATED AREA + The Belly of the Bell Shape UP TO THE point of the Right Critical value 2.31"
   ]
  },
  {
   "cell_type": "markdown",
   "id": "36b7917f",
   "metadata": {},
   "source": [
    "<img src=\"pics_pvalie_intro/pp6.png\" alt=\"Drawing\" style=\"width: 800px;\"/>"
   ]
  },
  {
   "cell_type": "code",
   "execution_count": null,
   "id": "6a97f7d4",
   "metadata": {},
   "outputs": [],
   "source": [
    "## SO the area to the Right from Positive 2.31 is 1 - 0.98956 == 0.01044\n",
    "\n",
    "## and P value is 2 x 0.01044  Because of thwo Red shaded areas\n",
    "\n",
    "## So we say with 95%  LEVEL of CONFIDENCE We CANNOT ACCEPT OUR NULL HYPOTHESIS\n",
    "## With 95% Evidence we believe we have ENough Evidence To DISCARD THE NULL HYPOTHESIS "
   ]
  },
  {
   "cell_type": "markdown",
   "id": "04c42ae3",
   "metadata": {},
   "source": [
    "<img src=\"pics_pvalie_intro/pp7.png\" alt=\"Drawing\" style=\"width: 800px;\"/>"
   ]
  },
  {
   "cell_type": "code",
   "execution_count": null,
   "id": "2d2605cf",
   "metadata": {},
   "outputs": [],
   "source": []
  },
  {
   "cell_type": "markdown",
   "id": "dc770d1a",
   "metadata": {},
   "source": [
    "### EXAMPLE 2"
   ]
  },
  {
   "cell_type": "code",
   "execution_count": null,
   "id": "ffa9bf0b",
   "metadata": {},
   "outputs": [],
   "source": [
    "## A one Tail or a Two Tail Test\n",
    "## Because Myu < 5 it is a One Tail and LEft Tail test\n",
    "\n",
    "## Strategy Find P value and COmpare againts Alpha\n",
    "\n",
    "## See the FOrmula of Z socre Calc from the Screenshot "
   ]
  },
  {
   "cell_type": "markdown",
   "id": "750f7a81",
   "metadata": {},
   "source": [
    "<img src=\"pics_pvalie_intro/pp9.png\" alt=\"Drawing\" style=\"width: 800px;\"/>"
   ]
  },
  {
   "cell_type": "code",
   "execution_count": null,
   "id": "3a176650",
   "metadata": {},
   "outputs": [],
   "source": [
    "## Find the corresponding Z score from the Table\n",
    "## !!!!!!! This is a table of NEGATIVE Z scores \n",
    "\n",
    "## 0.057 is our P value"
   ]
  },
  {
   "cell_type": "markdown",
   "id": "570e0f10",
   "metadata": {},
   "source": [
    "<img src=\"pics_pvalie_intro/pp10.png\" alt=\"Drawing\" style=\"width: 1100px;\"/>"
   ]
  },
  {
   "cell_type": "code",
   "execution_count": null,
   "id": "1b3c0c72",
   "metadata": {},
   "outputs": [],
   "source": [
    "## ## 0.057 is our P value \n",
    "## Is less than our Alpha so we Reject H0\n",
    "\n",
    "## With 98% Confidence we can say that there is enough evidence to support the idea that the \n",
    "## Warrantly should be Revised "
   ]
  },
  {
   "cell_type": "markdown",
   "id": "3975693e",
   "metadata": {},
   "source": [
    "<img src=\"pics_pvalie_intro/p11.png\" alt=\"Drawing\" style=\"width: 800px;\"/>"
   ]
  },
  {
   "cell_type": "code",
   "execution_count": null,
   "id": "f75da965",
   "metadata": {},
   "outputs": [],
   "source": []
  },
  {
   "cell_type": "code",
   "execution_count": null,
   "id": "ed68225e",
   "metadata": {},
   "outputs": [],
   "source": []
  },
  {
   "cell_type": "code",
   "execution_count": null,
   "id": "8207a236",
   "metadata": {},
   "outputs": [],
   "source": [
    "<img src=\"pics_pvalie_intro/pp1.png\" alt=\"Drawing\" style=\"width: 600px;\"/>"
   ]
  },
  {
   "cell_type": "code",
   "execution_count": null,
   "id": "cf0bfbef",
   "metadata": {},
   "outputs": [],
   "source": []
  },
  {
   "cell_type": "code",
   "execution_count": null,
   "id": "b8bb2a0e",
   "metadata": {},
   "outputs": [],
   "source": [
    "<img src=\"pics_pvalie_intro/pp1.png\" alt=\"Drawing\" style=\"width: 600px;\"/>"
   ]
  }
 ],
 "metadata": {
  "kernelspec": {
   "display_name": "Python 3 (ipykernel)",
   "language": "python",
   "name": "python3"
  },
  "language_info": {
   "codemirror_mode": {
    "name": "ipython",
    "version": 3
   },
   "file_extension": ".py",
   "mimetype": "text/x-python",
   "name": "python",
   "nbconvert_exporter": "python",
   "pygments_lexer": "ipython3",
   "version": "3.9.12"
  }
 },
 "nbformat": 4,
 "nbformat_minor": 5
}
