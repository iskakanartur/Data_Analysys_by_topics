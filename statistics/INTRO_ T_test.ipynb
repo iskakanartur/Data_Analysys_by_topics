{
 "cells": [
  {
   "cell_type": "markdown",
   "id": "821e7d99",
   "metadata": {},
   "source": [
    "# T statistics : As part of Constructing a confidence interval for a population mean\n",
    "- credits https://www.khanacademy.org/math/ap-statistics/xfb5d8e68:inference-quantitative-means/one-sample-t-interval-mean/v/introduction-to-t-statistics\n",
    "- very important souce on t test, z test, chi square test and hypothesis testing visualized https://www.visual-design.net/post/an-interactive-guide-to-hypothesis-testing-in-python"
   ]
  },
  {
   "cell_type": "code",
   "execution_count": null,
   "id": "4144b20d",
   "metadata": {},
   "outputs": [],
   "source": [
    "## There is a parameter associated with a population\n",
    "## For example a Proportion of a population that supports a certain candidate \n",
    "## or the mean height of the country\n",
    "\n",
    "\n",
    "## And there is no way to know the TRUE population mean, or proportion \n",
    "## but we can ESTIMATE IT BY taking a a sample (n samples) \n",
    "## and we calculate a STATITICS based on that SAMPLE"
   ]
  },
  {
   "cell_type": "code",
   "execution_count": null,
   "id": "1d113673",
   "metadata": {},
   "outputs": [],
   "source": [
    "## Not only can we calculate the statistics from a sample\n",
    "## we can also contruct a CONFIDENCE LEVEL based on that statitcis from that SAMPLE\n",
    "\n",
    "## It will be our Statistcis +- some MARGIN OF ERROR (Zstar)"
   ]
  },
  {
   "cell_type": "code",
   "execution_count": null,
   "id": "6fa10d45",
   "metadata": {},
   "outputs": [],
   "source": [
    "## In the example of a Prpoortion of a population supportin this or that presidential candidate we do\n",
    "## P hat is the population sample proportion\n",
    "## +- Z start times STANDARD ERROR of the Statsitcs \n",
    "##  SE because SE is the estimate of sigma (Because we can't calculate the Standrad Deviation \n",
    "## of our whole poulation)"
   ]
  },
  {
   "cell_type": "code",
   "execution_count": null,
   "id": "4f50a8b2",
   "metadata": {},
   "outputs": [],
   "source": [
    "## !!!!!!!!!!!!! WHY Z* x S/sqn not good?\n",
    "## If we know TRUE population standard Deviation that would be good neough\n",
    "## In that case formula would be X (mean) +- Z* x SD/Sqn\n",
    "## But We don't know True SD of population\n",
    "## Intead We try to estimate it with X (mean) +- Z* x S/Sqn where S - Sample SD (not population True SD)\n",
    "## But above method doesn't do a good job of calculation the confidence interval "
   ]
  },
  {
   "cell_type": "code",
   "execution_count": null,
   "id": "acb2cd63",
   "metadata": {},
   "outputs": [],
   "source": [
    "## The MEthod with T statistics gives us a better Confidence interval, when it is 95\n",
    "## We can take as many samples from our TRUE population as We Want (see the circles on the screenhsot)\n",
    "## and 95 Percent of the time this interval (T x S/sqn) will CONTAIN OUR TRUE POPULATION MEAN "
   ]
  },
  {
   "cell_type": "code",
   "execution_count": null,
   "id": "28e45323",
   "metadata": {},
   "outputs": [],
   "source": []
  },
  {
   "cell_type": "markdown",
   "id": "de240434",
   "metadata": {},
   "source": [
    "<img src=\"pics_t_test/t1.png\" alt=\"Drawing\" style=\"width: 600px;\"/>"
   ]
  },
  {
   "cell_type": "code",
   "execution_count": null,
   "id": "8616ec73",
   "metadata": {},
   "outputs": [],
   "source": []
  },
  {
   "cell_type": "markdown",
   "id": "83f47cf9",
   "metadata": {},
   "source": [
    "## Simulation showing value of t statistic"
   ]
  },
  {
   "cell_type": "code",
   "execution_count": null,
   "id": "3ce2de39",
   "metadata": {},
   "outputs": [],
   "source": [
    "## see the video at khan \n",
    "## https://www.youtube.com/watch?v=gLE6y_NwmhQ"
   ]
  },
  {
   "cell_type": "code",
   "execution_count": null,
   "id": "a1fe07c8",
   "metadata": {},
   "outputs": [],
   "source": [
    "<img src=\"pics_t_test/1.png\" alt=\"Drawing\" style=\"width: 600px;\"/>"
   ]
  },
  {
   "cell_type": "code",
   "execution_count": null,
   "id": "41aba92e",
   "metadata": {},
   "outputs": [],
   "source": []
  },
  {
   "cell_type": "code",
   "execution_count": null,
   "id": "c55fac55",
   "metadata": {},
   "outputs": [],
   "source": [
    "<img src=\"pics_t_test/1.png\" alt=\"Drawing\" style=\"width: 600px;\"/>"
   ]
  },
  {
   "cell_type": "code",
   "execution_count": null,
   "id": "b2799851",
   "metadata": {},
   "outputs": [],
   "source": []
  },
  {
   "cell_type": "code",
   "execution_count": null,
   "id": "fc33217f",
   "metadata": {},
   "outputs": [],
   "source": [
    "<img src=\"pics_t_test/1.png\" alt=\"Drawing\" style=\"width: 600px;\"/>"
   ]
  },
  {
   "cell_type": "code",
   "execution_count": null,
   "id": "b5fa6515",
   "metadata": {},
   "outputs": [],
   "source": []
  },
  {
   "cell_type": "code",
   "execution_count": null,
   "id": "000b6157",
   "metadata": {},
   "outputs": [],
   "source": [
    "<img src=\"pics_t_test/1.png\" alt=\"Drawing\" style=\"width: 600px;\"/>"
   ]
  },
  {
   "cell_type": "code",
   "execution_count": null,
   "id": "6fb63552",
   "metadata": {},
   "outputs": [],
   "source": []
  },
  {
   "cell_type": "code",
   "execution_count": null,
   "id": "bb95b520",
   "metadata": {},
   "outputs": [],
   "source": [
    "<img src=\"pics_t_test/1.png\" alt=\"Drawing\" style=\"width: 600px;\"/>"
   ]
  },
  {
   "cell_type": "code",
   "execution_count": null,
   "id": "8805c95c",
   "metadata": {},
   "outputs": [],
   "source": []
  },
  {
   "cell_type": "code",
   "execution_count": null,
   "id": "f8556d94",
   "metadata": {},
   "outputs": [],
   "source": [
    "<img src=\"pics_t_test/1.png\" alt=\"Drawing\" style=\"width: 600px;\"/>"
   ]
  },
  {
   "cell_type": "code",
   "execution_count": null,
   "id": "bf0ea1dd",
   "metadata": {},
   "outputs": [],
   "source": []
  },
  {
   "cell_type": "code",
   "execution_count": null,
   "id": "623be70f",
   "metadata": {},
   "outputs": [],
   "source": [
    "<img src=\"pics_t_test/1.png\" alt=\"Drawing\" style=\"width: 600px;\"/>"
   ]
  },
  {
   "cell_type": "code",
   "execution_count": null,
   "id": "dd66276d",
   "metadata": {},
   "outputs": [],
   "source": []
  },
  {
   "cell_type": "code",
   "execution_count": null,
   "id": "110b4c60",
   "metadata": {},
   "outputs": [],
   "source": [
    "<img src=\"pics_t_test/1.png\" alt=\"Drawing\" style=\"width: 600px;\"/>"
   ]
  },
  {
   "cell_type": "code",
   "execution_count": null,
   "id": "14c1a608",
   "metadata": {},
   "outputs": [],
   "source": []
  },
  {
   "cell_type": "code",
   "execution_count": null,
   "id": "0df4a87b",
   "metadata": {},
   "outputs": [],
   "source": [
    "<img src=\"pics_t_test/1.png\" alt=\"Drawing\" style=\"width: 600px;\"/>"
   ]
  },
  {
   "cell_type": "code",
   "execution_count": null,
   "id": "d5e3818e",
   "metadata": {},
   "outputs": [],
   "source": []
  },
  {
   "cell_type": "code",
   "execution_count": null,
   "id": "c1f05f02",
   "metadata": {},
   "outputs": [],
   "source": []
  },
  {
   "cell_type": "code",
   "execution_count": null,
   "id": "b0560817",
   "metadata": {},
   "outputs": [],
   "source": []
  },
  {
   "cell_type": "code",
   "execution_count": null,
   "id": "a4fa6c78",
   "metadata": {},
   "outputs": [],
   "source": []
  },
  {
   "cell_type": "code",
   "execution_count": null,
   "id": "a2a097ef",
   "metadata": {},
   "outputs": [],
   "source": []
  },
  {
   "cell_type": "code",
   "execution_count": null,
   "id": "0519d75a",
   "metadata": {},
   "outputs": [],
   "source": []
  },
  {
   "cell_type": "code",
   "execution_count": null,
   "id": "ef2e07ec",
   "metadata": {},
   "outputs": [],
   "source": []
  }
 ],
 "metadata": {
  "kernelspec": {
   "display_name": "Python 3 (ipykernel)",
   "language": "python",
   "name": "python3"
  },
  "language_info": {
   "codemirror_mode": {
    "name": "ipython",
    "version": 3
   },
   "file_extension": ".py",
   "mimetype": "text/x-python",
   "name": "python",
   "nbconvert_exporter": "python",
   "pygments_lexer": "ipython3",
   "version": "3.9.12"
  }
 },
 "nbformat": 4,
 "nbformat_minor": 5
}
