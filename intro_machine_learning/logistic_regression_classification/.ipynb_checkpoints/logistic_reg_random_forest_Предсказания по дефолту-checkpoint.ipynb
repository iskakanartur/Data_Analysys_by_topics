{
 "cells": [
  {
   "cell_type": "markdown",
   "metadata": {
    "id": "YPyHCYq85ybg"
   },
   "source": [
    "# Предсказание дефолта по кредиту\n",
    "\n",
    "Многие люди берут кредит в банке. Некоторые не отдают. Если просрочка по кредиту больше 90 дней, банк считает, по данному кредиту произошел дефолт, то есть клиент не в состоянии его отдать.\n",
    "\n",
    "Одна из первых задач, которую решало машинное обучение в банках, - предсказание дефолта.\n",
    "Нужно по данным, которые предоставил потенциальный заемщик, определить, будет у него дефолт или нет.\n",
    "\n",
    "Задача предсказания дефолта - задача классификации, а результат работы модели для конкретного клиента - предсказать произойдет дефолт или нет.\n",
    "В этой тетради мы рассмотрим вопрос измерения качества работы обученных\n",
    "классификаторов. На примерах мы опишем различные метрики качества и способы\n",
    "их подсчёта. Также обратим внимание на адекватность их использования в типичных\n",
    "практических кейсах."
   ]
  },
  {
   "cell_type": "markdown",
   "metadata": {
    "id": "ok6LVW0U5ybi"
   },
   "source": [
    "<img src=\"https://drive.google.com/uc?id=1jQX02vTP_BKJIRPamIDRQ2U1Ub1NONNH\" alt=\"Drawing\" style=\"width: 50px;\" width=\"360\"/>"
   ]
  },
  {
   "cell_type": "markdown",
   "metadata": {
    "id": "eIz0vvTG5ybi"
   },
   "source": [
    "Мы попробуем на данных из Kaggle соревнования _\"Give me some credit\"_ обучить модель машинного обучения, которая будет предсказывать дефолт.\n",
    "https://www.kaggle.com/c/GiveMeSomeCredit#description"
   ]
  },
  {
   "cell_type": "markdown",
   "metadata": {
    "id": "2dUhVZCu5ybj"
   },
   "source": [
    "**Бизнес-постановка задачи** \n",
    "\n",
    "Банк по анкетным данным оценивает вероятность того, что для конкретного клиента произойдет дефолт.\n",
    "Применение модели ясно:\n",
    "* мы хотим выдавать кредиты только хорошим заемщикам, которые отдадут кредит."
   ]
  },
  {
   "cell_type": "markdown",
   "metadata": {
    "id": "EIeWHMYy5ybk"
   },
   "source": [
    "**Постановка задачи анализа данных** \n",
    "\n",
    "Целью данной задачи является построение модели *классификации дефолтов*: на вход модель будет принимать данные о клиенте, а на выходе она должна работать в двух режимах:\n",
    "* выдавать вероятность дефолта для данного клиента,\n",
    "* выдавать правильный с точки зрения модели класс клиента (есть у него дефолт или нет).\n",
    "\n",
    "Обучать модель мы будем по данным с платформы kaggle."
   ]
  },
  {
   "cell_type": "markdown",
   "metadata": {
    "id": "95_CkbI85ybl"
   },
   "source": [
    "**Обзор доступных данных**\n",
    "\n",
    "В выборке 87500 наблюдений и 11 переменных, одна из которых - целевая. \n",
    "Таким образом, про каждого из 87500 клиентов мы знаем значения 11 их характеристик (возраст, доход в месяц), в том числе значение целевой переменной: есть ли у клиента сейчас просрочка более 90 дней.\n",
    "\n",
    "Выборка была разбита на две части для обучения и для тестирования модели.\n",
    "В обучающей выборке 37500 клиентов, в тестовой выборке - 50000."
   ]
  },
  {
   "cell_type": "markdown",
   "metadata": {
    "id": "ajj3mye_5ybl"
   },
   "source": [
    "**Доступные признаки**\n",
    "\n",
    "Данные содержат два типа переменных:\n",
    "\n",
    "* Целевая: **SeriousDlqin2yrs**, есть ли просрочка 90 дней и более\n",
    "* Остальные переменные: 10 переменных, могут использоваться для прогноза целевой переменной.\n",
    "\n",
    "| Имя столбца        | Значение |\n",
    "| :-------------: |:-------------:|\n",
    "| SeriousDlqin2yrs      | **Целевая переменная:** Есть ли просрочка 90 дней и более |\n",
    "| RevolvingUtilizationOfUnsecuredLines      | Доля использованных лимитов по кредитным картам     |\n",
    "| age | Возраст заемщика в годах |\n",
    "| DebtRatio | Отношение суммы долговой нагрузки, расходов на жизнь и алименты к доходу |\n",
    "| MonthlyIncome | Доход в месяц |\n",
    "| NumberOfOpenCreditLinesAndLoans | Количество открытых кредитов и кредитных линий (кредитных карт) |\n",
    "| NumberRealEstateLoansOrLines | Количество ипотек и других кредитных продуктов, связанных с недвижимостью |\n",
    "| NumberOfTime30-59DaysPastDueNotWorse | Сколько раз за последние 2 года у заемщика была просрочка 30-59 дней |\n",
    "| NumberOfTime60-89DaysPastDueNotWorse | Сколько раз за последние 2 года у заемщика была просрочка 60-89 дней |\n",
    "| NumberOfTimes90DaysLate | Сколько раз за последние 2 года у заемщика была просрочка более 90 дней |\n",
    "| NumberOfDependents | Количество иждивенцев в семье (супруг, дети и т.п.) |\n",
    "\t\n"
   ]
  },
  {
   "cell_type": "markdown",
   "metadata": {
    "id": "NR-q19ZE5ybm"
   },
   "source": [
    "## План анализа данных (data mining):\n",
    "\n",
    "  1. Загрузить данные для обучения\n",
    "  2. Обработать данные перед обучением модели\n",
    "  3. Обучить модель на обучающей выборке\n",
    "  4. Загрузить и предобработать данные для тестирования\n",
    "  5. Провалидировать модель на тестовой выборке"
   ]
  },
  {
   "cell_type": "markdown",
   "metadata": {
    "id": "hfVS8uwb5ybn"
   },
   "source": [
    "## 1. Загрузить данные для обучения"
   ]
  },
  {
   "cell_type": "markdown",
   "metadata": {
    "id": "OeyesM8f5ybo"
   },
   "source": [
    "**Шаг 1.1. Загружаем библиотеки** \n",
    "\n",
    "Для корректной работы с данными в python требуется загрузить специальную библиотеку\n",
    "**pandas**, программную библиотеку на языке python для обработки и анализа данных. "
   ]
  },
  {
   "cell_type": "markdown",
   "metadata": {
    "_cell_guid": "cfdaacbc-23a3-423d-8d4d-120939ac7383",
    "collapsed": true,
    "id": "fj3hUwaJ5ybo"
   },
   "source": [
    "Основная нагрузка по обработке входных данных ложится на модуль **pandas**. С\n",
    "помощью функций `pandas.read_*` можно подтягивать данные из простых текстовых\n",
    "файлов `CSV`, таблиц **Excel**, таблиц **HTML**, а также **SQL** запросами\n",
    "из корпоративных баз данных и прочих распределённых хранилищ."
   ]
  },
  {
   "cell_type": "code",
   "execution_count": 1,
   "metadata": {
    "_cell_guid": "cfdaacbc-23a3-423d-8d4d-120939ac7383",
    "id": "mqg4gKIf5ybp"
   },
   "outputs": [],
   "source": [
    "import pandas as pd"
   ]
  },
  {
   "cell_type": "markdown",
   "metadata": {
    "id": "ZecFspPX5ybr"
   },
   "source": [
    "Для корректной работы с графиками в python требуется загрузить специальную библиотеку\n",
    "**matplotlib**, программную библиотеку на языке python для визуализации данных двумерной и трехмерной графикой.\n",
    "\n",
    "Графики используются для облегчения интерпретации полученных результатов, а также в качестве иллюстраций в презентациях и отчетах. \n",
    "\n",
    "Оснвные методы для построения:\n",
    "* plot() - графики\n",
    "* semilogy() - график логарифметический\n",
    "* hist() - гистограммы"
   ]
  },
  {
   "cell_type": "code",
   "execution_count": 2,
   "metadata": {
    "id": "5GLLcTuH5ybt"
   },
   "outputs": [],
   "source": [
    "import matplotlib.pyplot as plt # загружаем библиотеку и для простоты обращения в коде называем её сокращенно plt"
   ]
  },
  {
   "cell_type": "markdown",
   "metadata": {
    "id": "bbQE1yAG5ybv"
   },
   "source": [
    "Основную вычислительную нагрузку берёт на себя модуль **Numpy**, с помощью которого можно быстро производить\n",
    "вычисления сразу над массивами чисел."
   ]
  },
  {
   "cell_type": "code",
   "execution_count": 3,
   "metadata": {
    "id": "43frQkKI5ybw"
   },
   "outputs": [],
   "source": [
    "import numpy as np"
   ]
  },
  {
   "cell_type": "markdown",
   "metadata": {
    "id": "GZtrMuWl5yby"
   },
   "source": [
    "Библиотека **scikit-learn** -- де факто наиболее популярный, разносторонний, хорошо\n",
    "документированный и постоянно обогащающийся инструмент для построения моделей машинного\n",
    "обучения.\n",
    "\n",
    "Выберем из него:\n",
    "* классификатор дерево решений (**DecisionTreeClassifier**);\n",
    "* метод для удобной $k$*-fold* кросс-валидации (**KFold**);\n",
    "* несколько готовых функции для расчёта метрик качества классификации."
   ]
  },
  {
   "cell_type": "code",
   "execution_count": null,
   "metadata": {
    "_cell_guid": "cfdaacbc-23a3-423d-8d4d-120939ac7383",
    "id": "HGe2X5wi5ybz"
   },
   "outputs": [],
   "source": [
    "from sklearn.tree import DecisionTreeClassifier # классификатор дерева решений\n",
    "\n",
    "from sklearn.model_selection import KFold # k-fold кросс-валидация\n",
    "\n",
    "from sklearn.metrics import roc_curve, precision_recall_curve, auc # метрики качества\n",
    "from sklearn.metrics import confusion_matrix, f1_score, accuracy_score # метрики качества\n",
    "from sklearn.metrics import average_precision_score # метрики качества"
   ]
  },
  {
   "cell_type": "markdown",
   "metadata": {
    "id": "ckAa0ePV5yb1"
   },
   "source": [
    "Помимо задачи загрузки, расчётов и обучения моделей, немаловажную роль играет визуализация.\n",
    "Она полезна как для предварительного анализа, так и для исследования метрик качеста, а также\n",
    "упрощяет принятие решений и обобщение результатов.\n",
    "\n",
    "Мы будем использовать библиотеку **MatplotLib**, которая отлично справляется с этой задачей.\n",
    "Модуль **seaborn** устанавливет \"приятные для глаз\" палитры и стили для графиков."
   ]
  },
  {
   "cell_type": "code",
   "execution_count": 4,
   "metadata": {
    "_cell_guid": "cfdaacbc-23a3-423d-8d4d-120939ac7383",
    "id": "u08dEfeV5yb2"
   },
   "outputs": [],
   "source": [
    "%matplotlib inline\n",
    "import matplotlib.pyplot as plt\n",
    "\n",
    "import seaborn as sns\n",
    "sns.set_style('whitegrid') # установить стиль whitegrid, другие стили можно найти в документации к seaborn"
   ]
  },
  {
   "cell_type": "markdown",
   "metadata": {
    "id": "RX5mRb2e5yb4"
   },
   "source": [
    "Некоторые библиотеки могут выводить на экран предупреждения, которые важно учитывать в \"боевых\" задачах. Но в учебной тетради мы укажем Python'у игнорировать их."
   ]
  },
  {
   "cell_type": "code",
   "execution_count": 5,
   "metadata": {
    "id": "l2U8CCem5yb5"
   },
   "outputs": [],
   "source": [
    "import warnings\n",
    "warnings.filterwarnings(\"ignore\")"
   ]
  },
  {
   "cell_type": "markdown",
   "metadata": {
    "id": "SCc6n4VL5yb7"
   },
   "source": [
    "<br/>"
   ]
  },
  {
   "cell_type": "markdown",
   "metadata": {
    "id": "Lc6Zetfi5yb7"
   },
   "source": [
    "**Шаг 1.2. Загрузим данные**\n",
    "\n",
    "Для решения задачи мы будем использовать данные. Они состоят из двух частей: часть для обучения и часть для тестирования модели. Загружаем данные с помощие команды !wget. Для того, чтобы игнорировать сообщения в процессе загрузки используем магическую команду %%capture в первой строке."
   ]
  },
  {
   "cell_type": "code",
   "execution_count": 7,
   "metadata": {
    "id": "Z3QcOnMy-5oa"
   },
   "outputs": [],
   "source": [
    "## SUPER!!!!\n",
    "%%capture\n",
    "!wget https://www.dropbox.com/s/io67uppgq66plbp/training_data.csv\n",
    "!wget https://www.dropbox.com/s/2ga9maqxbsf8xhg/test_data.csv"
   ]
  },
  {
   "cell_type": "code",
   "execution_count": null,
   "metadata": {
    "id": "3_5QKODNCagb"
   },
   "outputs": [],
   "source": []
  },
  {
   "cell_type": "markdown",
   "metadata": {
    "id": "XbQOq5pCJFC9"
   },
   "source": [
    "\n",
    "Наши данные в формате `csv` - comma separated values, значения, разделенные точкой. Обычно data scientists работают с табличными данными, которые представлены именно в таком виде. Чтобы загрузить такие данные, будем использовать функцию **`pd.read_csv()`** из библиотеки `pandas`."
   ]
  },
  {
   "cell_type": "code",
   "execution_count": 8,
   "metadata": {
    "_cell_guid": "3ab4c525-a5cb-4183-9468-c1dd005c4c78",
    "id": "ni39CtSD5yb8"
   },
   "outputs": [],
   "source": [
    "training_data = pd.read_csv('training_data.csv')"
   ]
  },
  {
   "cell_type": "markdown",
   "metadata": {
    "id": "RccdlHBB5yb_"
   },
   "source": [
    "Посмотрим на 10 случайно выбранных записей из обучающего набора, для этого будем использовать функцию **sample()**. Параметр\n",
    "**random_state=123** фиксирует \"случайность\", то есть на любом компьютере метод **sample()** будет работать одинаково. "
   ]
  },
  {
   "cell_type": "code",
   "execution_count": 9,
   "metadata": {
    "colab": {
     "base_uri": "https://localhost:8080/",
     "height": 243
    },
    "id": "rD2nn0xi5yb_",
    "outputId": "b7f5c852-6d32-49c8-dd29-2fc05aa629ae"
   },
   "outputs": [
    {
     "data": {
      "text/html": [
       "<div>\n",
       "<style scoped>\n",
       "    .dataframe tbody tr th:only-of-type {\n",
       "        vertical-align: middle;\n",
       "    }\n",
       "\n",
       "    .dataframe tbody tr th {\n",
       "        vertical-align: top;\n",
       "    }\n",
       "\n",
       "    .dataframe thead th {\n",
       "        text-align: right;\n",
       "    }\n",
       "</style>\n",
       "<table border=\"1\" class=\"dataframe\">\n",
       "  <thead>\n",
       "    <tr style=\"text-align: right;\">\n",
       "      <th></th>\n",
       "      <th>SeriousDlqin2yrs</th>\n",
       "      <th>RevolvingUtilizationOfUnsecuredLines</th>\n",
       "      <th>age</th>\n",
       "      <th>NumberOfTime30-59DaysPastDueNotWorse</th>\n",
       "      <th>DebtRatio</th>\n",
       "      <th>MonthlyIncome</th>\n",
       "      <th>NumberOfOpenCreditLinesAndLoans</th>\n",
       "      <th>NumberOfTimes90DaysLate</th>\n",
       "      <th>NumberRealEstateLoansOrLines</th>\n",
       "      <th>NumberOfTime60-89DaysPastDueNotWorse</th>\n",
       "      <th>NumberOfDependents</th>\n",
       "    </tr>\n",
       "  </thead>\n",
       "  <tbody>\n",
       "    <tr>\n",
       "      <th>11872</th>\n",
       "      <td>0</td>\n",
       "      <td>0.336531</td>\n",
       "      <td>66</td>\n",
       "      <td>0</td>\n",
       "      <td>0.517186</td>\n",
       "      <td>10589.0</td>\n",
       "      <td>9</td>\n",
       "      <td>0</td>\n",
       "      <td>4</td>\n",
       "      <td>0</td>\n",
       "      <td>0.0</td>\n",
       "    </tr>\n",
       "    <tr>\n",
       "      <th>40828</th>\n",
       "      <td>0</td>\n",
       "      <td>0.017424</td>\n",
       "      <td>40</td>\n",
       "      <td>0</td>\n",
       "      <td>0.376570</td>\n",
       "      <td>6051.0</td>\n",
       "      <td>11</td>\n",
       "      <td>0</td>\n",
       "      <td>2</td>\n",
       "      <td>0</td>\n",
       "      <td>1.0</td>\n",
       "    </tr>\n",
       "    <tr>\n",
       "      <th>36400</th>\n",
       "      <td>0</td>\n",
       "      <td>0.079785</td>\n",
       "      <td>42</td>\n",
       "      <td>0</td>\n",
       "      <td>0.786468</td>\n",
       "      <td>6916.0</td>\n",
       "      <td>9</td>\n",
       "      <td>0</td>\n",
       "      <td>3</td>\n",
       "      <td>0</td>\n",
       "      <td>1.0</td>\n",
       "    </tr>\n",
       "    <tr>\n",
       "      <th>5166</th>\n",
       "      <td>0</td>\n",
       "      <td>0.000349</td>\n",
       "      <td>50</td>\n",
       "      <td>1</td>\n",
       "      <td>0.340891</td>\n",
       "      <td>11070.0</td>\n",
       "      <td>7</td>\n",
       "      <td>0</td>\n",
       "      <td>2</td>\n",
       "      <td>0</td>\n",
       "      <td>0.0</td>\n",
       "    </tr>\n",
       "    <tr>\n",
       "      <th>30273</th>\n",
       "      <td>0</td>\n",
       "      <td>1.000714</td>\n",
       "      <td>31</td>\n",
       "      <td>0</td>\n",
       "      <td>0.594670</td>\n",
       "      <td>1800.0</td>\n",
       "      <td>6</td>\n",
       "      <td>0</td>\n",
       "      <td>0</td>\n",
       "      <td>0</td>\n",
       "      <td>1.0</td>\n",
       "    </tr>\n",
       "  </tbody>\n",
       "</table>\n",
       "</div>"
      ],
      "text/plain": [
       "       SeriousDlqin2yrs  RevolvingUtilizationOfUnsecuredLines  age  \\\n",
       "11872                 0                              0.336531   66   \n",
       "40828                 0                              0.017424   40   \n",
       "36400                 0                              0.079785   42   \n",
       "5166                  0                              0.000349   50   \n",
       "30273                 0                              1.000714   31   \n",
       "\n",
       "       NumberOfTime30-59DaysPastDueNotWorse  DebtRatio  MonthlyIncome  \\\n",
       "11872                                     0   0.517186        10589.0   \n",
       "40828                                     0   0.376570         6051.0   \n",
       "36400                                     0   0.786468         6916.0   \n",
       "5166                                      1   0.340891        11070.0   \n",
       "30273                                     0   0.594670         1800.0   \n",
       "\n",
       "       NumberOfOpenCreditLinesAndLoans  NumberOfTimes90DaysLate  \\\n",
       "11872                                9                        0   \n",
       "40828                               11                        0   \n",
       "36400                                9                        0   \n",
       "5166                                 7                        0   \n",
       "30273                                6                        0   \n",
       "\n",
       "       NumberRealEstateLoansOrLines  NumberOfTime60-89DaysPastDueNotWorse  \\\n",
       "11872                             4                                     0   \n",
       "40828                             2                                     0   \n",
       "36400                             3                                     0   \n",
       "5166                              2                                     0   \n",
       "30273                             0                                     0   \n",
       "\n",
       "       NumberOfDependents  \n",
       "11872                 0.0  \n",
       "40828                 1.0  \n",
       "36400                 1.0  \n",
       "5166                  0.0  \n",
       "30273                 1.0  "
      ]
     },
     "execution_count": 9,
     "metadata": {},
     "output_type": "execute_result"
    }
   ],
   "source": [
    "training_data.sample(5, random_state=123)"
   ]
  },
  {
   "cell_type": "markdown",
   "metadata": {
    "id": "8wpDIg0f5ycC"
   },
   "source": [
    "**Шаг 1.3. Посмотрим общую статистику по данным**\n",
    "\n",
    "Посмотрим на технические параметры загруженных данных для обучения. Для этого вызовем метод `describe()` для набора данных `training_data`\n",
    "\n",
    "Для удобства отображения мы транспонируем результат: меняем местами столбцы и строки."
   ]
  },
  {
   "cell_type": "code",
   "execution_count": 10,
   "metadata": {
    "colab": {
     "base_uri": "https://localhost:8080/",
     "height": 388
    },
    "id": "kAoBNr4T5ycD",
    "outputId": "bd186af3-67d1-4b74-df5a-08d7fff15d8f"
   },
   "outputs": [
    {
     "data": {
      "text/html": [
       "<div>\n",
       "<style scoped>\n",
       "    .dataframe tbody tr th:only-of-type {\n",
       "        vertical-align: middle;\n",
       "    }\n",
       "\n",
       "    .dataframe tbody tr th {\n",
       "        vertical-align: top;\n",
       "    }\n",
       "\n",
       "    .dataframe thead th {\n",
       "        text-align: right;\n",
       "    }\n",
       "</style>\n",
       "<table border=\"1\" class=\"dataframe\">\n",
       "  <thead>\n",
       "    <tr style=\"text-align: right;\">\n",
       "      <th></th>\n",
       "      <th>count</th>\n",
       "      <th>mean</th>\n",
       "      <th>std</th>\n",
       "      <th>min</th>\n",
       "      <th>25%</th>\n",
       "      <th>50%</th>\n",
       "      <th>75%</th>\n",
       "      <th>max</th>\n",
       "    </tr>\n",
       "  </thead>\n",
       "  <tbody>\n",
       "    <tr>\n",
       "      <th>SeriousDlqin2yrs</th>\n",
       "      <td>50000.0</td>\n",
       "      <td>0.066860</td>\n",
       "      <td>0.249782</td>\n",
       "      <td>0.0</td>\n",
       "      <td>0.000000</td>\n",
       "      <td>0.000000</td>\n",
       "      <td>0.000000</td>\n",
       "      <td>1.0</td>\n",
       "    </tr>\n",
       "    <tr>\n",
       "      <th>RevolvingUtilizationOfUnsecuredLines</th>\n",
       "      <td>50000.0</td>\n",
       "      <td>7.927880</td>\n",
       "      <td>332.393142</td>\n",
       "      <td>0.0</td>\n",
       "      <td>0.030096</td>\n",
       "      <td>0.154426</td>\n",
       "      <td>0.555651</td>\n",
       "      <td>50708.0</td>\n",
       "    </tr>\n",
       "    <tr>\n",
       "      <th>age</th>\n",
       "      <td>50000.0</td>\n",
       "      <td>52.240520</td>\n",
       "      <td>14.766593</td>\n",
       "      <td>21.0</td>\n",
       "      <td>41.000000</td>\n",
       "      <td>52.000000</td>\n",
       "      <td>63.000000</td>\n",
       "      <td>109.0</td>\n",
       "    </tr>\n",
       "    <tr>\n",
       "      <th>NumberOfTime30-59DaysPastDueNotWorse</th>\n",
       "      <td>50000.0</td>\n",
       "      <td>0.428220</td>\n",
       "      <td>4.269296</td>\n",
       "      <td>0.0</td>\n",
       "      <td>0.000000</td>\n",
       "      <td>0.000000</td>\n",
       "      <td>0.000000</td>\n",
       "      <td>98.0</td>\n",
       "    </tr>\n",
       "    <tr>\n",
       "      <th>DebtRatio</th>\n",
       "      <td>50000.0</td>\n",
       "      <td>352.441921</td>\n",
       "      <td>2006.426016</td>\n",
       "      <td>0.0</td>\n",
       "      <td>0.176304</td>\n",
       "      <td>0.366811</td>\n",
       "      <td>0.862599</td>\n",
       "      <td>329664.0</td>\n",
       "    </tr>\n",
       "    <tr>\n",
       "      <th>MonthlyIncome</th>\n",
       "      <td>40147.0</td>\n",
       "      <td>6642.232222</td>\n",
       "      <td>18122.708690</td>\n",
       "      <td>0.0</td>\n",
       "      <td>3400.000000</td>\n",
       "      <td>5400.000000</td>\n",
       "      <td>8250.000000</td>\n",
       "      <td>3008750.0</td>\n",
       "    </tr>\n",
       "    <tr>\n",
       "      <th>NumberOfOpenCreditLinesAndLoans</th>\n",
       "      <td>50000.0</td>\n",
       "      <td>8.476040</td>\n",
       "      <td>5.172756</td>\n",
       "      <td>0.0</td>\n",
       "      <td>5.000000</td>\n",
       "      <td>8.000000</td>\n",
       "      <td>11.000000</td>\n",
       "      <td>57.0</td>\n",
       "    </tr>\n",
       "    <tr>\n",
       "      <th>NumberOfTimes90DaysLate</th>\n",
       "      <td>50000.0</td>\n",
       "      <td>0.269920</td>\n",
       "      <td>4.243110</td>\n",
       "      <td>0.0</td>\n",
       "      <td>0.000000</td>\n",
       "      <td>0.000000</td>\n",
       "      <td>0.000000</td>\n",
       "      <td>98.0</td>\n",
       "    </tr>\n",
       "    <tr>\n",
       "      <th>NumberRealEstateLoansOrLines</th>\n",
       "      <td>50000.0</td>\n",
       "      <td>1.017500</td>\n",
       "      <td>1.120151</td>\n",
       "      <td>0.0</td>\n",
       "      <td>0.000000</td>\n",
       "      <td>1.000000</td>\n",
       "      <td>2.000000</td>\n",
       "      <td>32.0</td>\n",
       "    </tr>\n",
       "    <tr>\n",
       "      <th>NumberOfTime60-89DaysPastDueNotWorse</th>\n",
       "      <td>50000.0</td>\n",
       "      <td>0.246040</td>\n",
       "      <td>4.231055</td>\n",
       "      <td>0.0</td>\n",
       "      <td>0.000000</td>\n",
       "      <td>0.000000</td>\n",
       "      <td>0.000000</td>\n",
       "      <td>98.0</td>\n",
       "    </tr>\n",
       "    <tr>\n",
       "      <th>NumberOfDependents</th>\n",
       "      <td>48667.0</td>\n",
       "      <td>0.756180</td>\n",
       "      <td>1.114595</td>\n",
       "      <td>0.0</td>\n",
       "      <td>0.000000</td>\n",
       "      <td>0.000000</td>\n",
       "      <td>1.000000</td>\n",
       "      <td>10.0</td>\n",
       "    </tr>\n",
       "  </tbody>\n",
       "</table>\n",
       "</div>"
      ],
      "text/plain": [
       "                                        count         mean           std  \\\n",
       "SeriousDlqin2yrs                      50000.0     0.066860      0.249782   \n",
       "RevolvingUtilizationOfUnsecuredLines  50000.0     7.927880    332.393142   \n",
       "age                                   50000.0    52.240520     14.766593   \n",
       "NumberOfTime30-59DaysPastDueNotWorse  50000.0     0.428220      4.269296   \n",
       "DebtRatio                             50000.0   352.441921   2006.426016   \n",
       "MonthlyIncome                         40147.0  6642.232222  18122.708690   \n",
       "NumberOfOpenCreditLinesAndLoans       50000.0     8.476040      5.172756   \n",
       "NumberOfTimes90DaysLate               50000.0     0.269920      4.243110   \n",
       "NumberRealEstateLoansOrLines          50000.0     1.017500      1.120151   \n",
       "NumberOfTime60-89DaysPastDueNotWorse  50000.0     0.246040      4.231055   \n",
       "NumberOfDependents                    48667.0     0.756180      1.114595   \n",
       "\n",
       "                                       min          25%          50%  \\\n",
       "SeriousDlqin2yrs                       0.0     0.000000     0.000000   \n",
       "RevolvingUtilizationOfUnsecuredLines   0.0     0.030096     0.154426   \n",
       "age                                   21.0    41.000000    52.000000   \n",
       "NumberOfTime30-59DaysPastDueNotWorse   0.0     0.000000     0.000000   \n",
       "DebtRatio                              0.0     0.176304     0.366811   \n",
       "MonthlyIncome                          0.0  3400.000000  5400.000000   \n",
       "NumberOfOpenCreditLinesAndLoans        0.0     5.000000     8.000000   \n",
       "NumberOfTimes90DaysLate                0.0     0.000000     0.000000   \n",
       "NumberRealEstateLoansOrLines           0.0     0.000000     1.000000   \n",
       "NumberOfTime60-89DaysPastDueNotWorse   0.0     0.000000     0.000000   \n",
       "NumberOfDependents                     0.0     0.000000     0.000000   \n",
       "\n",
       "                                              75%        max  \n",
       "SeriousDlqin2yrs                         0.000000        1.0  \n",
       "RevolvingUtilizationOfUnsecuredLines     0.555651    50708.0  \n",
       "age                                     63.000000      109.0  \n",
       "NumberOfTime30-59DaysPastDueNotWorse     0.000000       98.0  \n",
       "DebtRatio                                0.862599   329664.0  \n",
       "MonthlyIncome                         8250.000000  3008750.0  \n",
       "NumberOfOpenCreditLinesAndLoans         11.000000       57.0  \n",
       "NumberOfTimes90DaysLate                  0.000000       98.0  \n",
       "NumberRealEstateLoansOrLines             2.000000       32.0  \n",
       "NumberOfTime60-89DaysPastDueNotWorse     0.000000       98.0  \n",
       "NumberOfDependents                       1.000000       10.0  "
      ]
     },
     "execution_count": 10,
     "metadata": {},
     "output_type": "execute_result"
    }
   ],
   "source": [
    "training_data.describe().T"
   ]
  },
  {
   "cell_type": "markdown",
   "metadata": {
    "id": "rx6NLw5b5ycG"
   },
   "source": [
    "Обратим внимание на общие статистики показателей в данных:\n",
    "* **count** -- количество значений, которые не являются пропущенными (`NaN`);\n",
    "* **mean**, **std** -- среднее и разброс данных в соответствующем поле;\n",
    "* остальные статистики -- минимальное и максимальное значения, и квантили."
   ]
  },
  {
   "cell_type": "markdown",
   "metadata": {
    "id": "iMES1MZQ5ycH"
   },
   "source": [
    "Из таких характеристик столбцов мы уже можем извлечь некоторую информацию о данных:\n",
    "* У столбца **SeriousDlqin2yrs** среднее 0.060. Значит, в нашей выборке только у 6% клиентов есть дефолт.\n",
    "* У столбца **MonthlyIncome** заполнено только 3947 значений из 4900. Минимальное значение дохода - 0, максимальное - 208333.\n",
    "* У столбца **NumberOfDependents** больше половины значений - нулевые."
   ]
  },
  {
   "cell_type": "markdown",
   "metadata": {
    "id": "00EyTVBq5ycI"
   },
   "source": [
    "# 2. Обработать данные перед обучением модели"
   ]
  },
  {
   "cell_type": "markdown",
   "metadata": {
    "id": "TaqYZAxE5ycI"
   },
   "source": [
    "**Шаг 2.1. Проверяем данные на наличие пропусков и типов переменных**\n",
    "\n",
    "Начнем с проверки общей информации о данных.\n",
    "Для того чтобы это сделать, нужно обратиться вызвать у переменной *training_data* метод **info()**.\n",
    "\n",
    "Напомним, что в конце необходимо поставить скобочки."
   ]
  },
  {
   "cell_type": "code",
   "execution_count": 11,
   "metadata": {
    "colab": {
     "base_uri": "https://localhost:8080/"
    },
    "id": "CGVrPipY5ycJ",
    "outputId": "4575fa02-0b76-430e-f663-fa6de52c7a17"
   },
   "outputs": [
    {
     "name": "stdout",
     "output_type": "stream",
     "text": [
      "<class 'pandas.core.frame.DataFrame'>\n",
      "RangeIndex: 50000 entries, 0 to 49999\n",
      "Data columns (total 11 columns):\n",
      " #   Column                                Non-Null Count  Dtype  \n",
      "---  ------                                --------------  -----  \n",
      " 0   SeriousDlqin2yrs                      50000 non-null  int64  \n",
      " 1   RevolvingUtilizationOfUnsecuredLines  50000 non-null  float64\n",
      " 2   age                                   50000 non-null  int64  \n",
      " 3   NumberOfTime30-59DaysPastDueNotWorse  50000 non-null  int64  \n",
      " 4   DebtRatio                             50000 non-null  float64\n",
      " 5   MonthlyIncome                         40147 non-null  float64\n",
      " 6   NumberOfOpenCreditLinesAndLoans       50000 non-null  int64  \n",
      " 7   NumberOfTimes90DaysLate               50000 non-null  int64  \n",
      " 8   NumberRealEstateLoansOrLines          50000 non-null  int64  \n",
      " 9   NumberOfTime60-89DaysPastDueNotWorse  50000 non-null  int64  \n",
      " 10  NumberOfDependents                    48667 non-null  float64\n",
      "dtypes: float64(4), int64(7)\n",
      "memory usage: 4.2 MB\n"
     ]
    }
   ],
   "source": [
    "training_data.info()"
   ]
  },
  {
   "cell_type": "markdown",
   "metadata": {
    "id": "2u202Y0U_u_9"
   },
   "source": [
    "Метод `info()` выводит информацию о таблице типа `pd.DataFrame`, включая формат `dtype` и `dtypes` столбца, ненулевые значения и использование памяти."
   ]
  },
  {
   "cell_type": "markdown",
   "metadata": {
    "id": "euQeNQOT5ycM"
   },
   "source": [
    "**Шаг 2.2. Заполнение пропусков**\n",
    "\n",
    "Рассчитаем средние значения признаков в обучающей выборке, и заполним полученными\n",
    "числами пропуски как в **тестовом наборе** данных, так и в **самой обучающей выборке**.\n",
    "\n",
    "Мы будем заполнять средними значениями из обучающей выборки, так как при решении реальной задачи нам будут доступны только данные для обучения.\n",
    "\n",
    "Для получения средних значений вызовем метод `mean()`. По умолчанию метод считает средним значения по столбцам. После выполнения ячейки средние значения записаны в переменной `train_mean`\n",
    "\n"
   ]
  },
  {
   "cell_type": "code",
   "execution_count": 15,
   "metadata": {
    "colab": {
     "base_uri": "https://localhost:8080/"
    },
    "id": "9uBmGCVY5ycM",
    "outputId": "205ecffd-46e2-4204-b600-bf12eb8fc0cd"
   },
   "outputs": [
    {
     "data": {
      "text/plain": [
       "SeriousDlqin2yrs                           0.066860\n",
       "RevolvingUtilizationOfUnsecuredLines       7.927880\n",
       "age                                       52.240520\n",
       "NumberOfTime30-59DaysPastDueNotWorse       0.428220\n",
       "DebtRatio                                352.441921\n",
       "MonthlyIncome                           6642.232222\n",
       "NumberOfOpenCreditLinesAndLoans            8.476040\n",
       "NumberOfTimes90DaysLate                    0.269920\n",
       "NumberRealEstateLoansOrLines               1.017500\n",
       "NumberOfTime60-89DaysPastDueNotWorse       0.246040\n",
       "NumberOfDependents                         0.756180\n",
       "dtype: float64"
      ]
     },
     "execution_count": 15,
     "metadata": {},
     "output_type": "execute_result"
    }
   ],
   "source": [
    "train_mean = training_data.mean()\n",
    "train_mean"
   ]
  },
  {
   "cell_type": "markdown",
   "metadata": {
    "id": "w1R51bB-5ycQ"
   },
   "source": [
    "Пропуски в данных можно заполнять и разными методами:\n",
    "* выборочной статистикой (среднее, медиана);\n",
    "* прогнозами регрессии по известыми признакам;\n",
    "* случайными значениями.\n",
    "\n",
    "Если относительно небольшая доля наблюдению имеет пропуски, то можно\n",
    "вовсе исключить неполные наблюдения с пропущенными значениями из выборки.\n",
    "\n",
    "Для заполнения средним значеним, передадим на вход методу `fillna` полученный ранее набор средних значений для каждого столбца. Опция `inplace=True` говорит, что мы запишем изменения прямо в существующий массив, а не создадим новый."
   ]
  },
  {
   "cell_type": "code",
   "execution_count": 16,
   "metadata": {
    "id": "nGYMU8LQBFE6"
   },
   "outputs": [],
   "source": [
    "training_data = training_data.fillna(train_mean)"
   ]
  },
  {
   "cell_type": "code",
   "execution_count": 17,
   "metadata": {
    "id": "v3KNUVij5ycQ"
   },
   "outputs": [],
   "source": [
    "training_data.fillna(train_mean, inplace=True)"
   ]
  },
  {
   "cell_type": "code",
   "execution_count": 18,
   "metadata": {
    "colab": {
     "base_uri": "https://localhost:8080/"
    },
    "id": "Ex6aw_7sIgmi",
    "outputId": "ab3ead0d-5bac-4224-a289-af1b9323826b"
   },
   "outputs": [
    {
     "name": "stdout",
     "output_type": "stream",
     "text": [
      "<class 'pandas.core.frame.DataFrame'>\n",
      "RangeIndex: 50000 entries, 0 to 49999\n",
      "Data columns (total 11 columns):\n",
      " #   Column                                Non-Null Count  Dtype  \n",
      "---  ------                                --------------  -----  \n",
      " 0   SeriousDlqin2yrs                      50000 non-null  int64  \n",
      " 1   RevolvingUtilizationOfUnsecuredLines  50000 non-null  float64\n",
      " 2   age                                   50000 non-null  int64  \n",
      " 3   NumberOfTime30-59DaysPastDueNotWorse  50000 non-null  int64  \n",
      " 4   DebtRatio                             50000 non-null  float64\n",
      " 5   MonthlyIncome                         50000 non-null  float64\n",
      " 6   NumberOfOpenCreditLinesAndLoans       50000 non-null  int64  \n",
      " 7   NumberOfTimes90DaysLate               50000 non-null  int64  \n",
      " 8   NumberRealEstateLoansOrLines          50000 non-null  int64  \n",
      " 9   NumberOfTime60-89DaysPastDueNotWorse  50000 non-null  int64  \n",
      " 10  NumberOfDependents                    50000 non-null  float64\n",
      "dtypes: float64(4), int64(7)\n",
      "memory usage: 4.2 MB\n"
     ]
    }
   ],
   "source": [
    "training_data.info()"
   ]
  },
  {
   "cell_type": "markdown",
   "metadata": {
    "id": "yy0tqswo5ycV"
   },
   "source": [
    "**Шаг 2.3. Работаем с целевой переменной**\n",
    "\n",
    "*Какая переменная целевая?*\n",
    "\n",
    "В данном случае по условию задачи мы должны прогнозировать дефолт, поэтому целевая переменная - это наличие дефолта. "
   ]
  },
  {
   "cell_type": "code",
   "execution_count": 19,
   "metadata": {
    "id": "zoBuwFIR5ycX"
   },
   "outputs": [],
   "source": [
    "target_variable_name = 'SeriousDlqin2yrs'"
   ]
  },
  {
   "cell_type": "markdown",
   "metadata": {
    "id": "fC7dfuF75ycc"
   },
   "source": [
    "Обратим внимание на целевой признак **SeriousDlqin2yrs** -- наличие серьёзной просрочки\n",
    "по кредитным выплатам за последние два года. Обычно заёмщики стараются производить выплаты\n",
    "вовремя.\n",
    "\n",
    "Чтобы посчитать количество хороших заемщиков без больших просрочек (значение переменной **SeriousDlqin2yrs** равно нулю) и плохих с просрочкой (значение **SeriousDlqin2yrs** равно единице) вызовем метод `value_counts()`"
   ]
  },
  {
   "cell_type": "code",
   "execution_count": 20,
   "metadata": {
    "colab": {
     "base_uri": "https://localhost:8080/"
    },
    "id": "mki__Z5a5yce",
    "outputId": "d15b7660-eeb2-4c7f-c3db-12b16ffeab18"
   },
   "outputs": [
    {
     "data": {
      "text/plain": [
       "0    46657\n",
       "1     3343\n",
       "Name: SeriousDlqin2yrs, dtype: int64"
      ]
     },
     "execution_count": 20,
     "metadata": {},
     "output_type": "execute_result"
    }
   ],
   "source": [
    "training_data[target_variable_name].value_counts()"
   ]
  },
  {
   "cell_type": "markdown",
   "metadata": {
    "id": "YkI62BHW5yci"
   },
   "source": [
    "Нам нужно выделить в отдельную переменную *training_values* столбец из нашей таблицы, который соответствует определенной выше целевой переменной. Для этого мы у таблицы *training_data* в квадратных скобках указываем имя нужного столбца. В нашем случае это имя записано в переменной *target_variable_name*. "
   ]
  },
  {
   "cell_type": "code",
   "execution_count": 21,
   "metadata": {
    "id": "QlVkHcTv5ycj"
   },
   "outputs": [],
   "source": [
    "training_values = training_data[target_variable_name]"
   ]
  },
  {
   "cell_type": "code",
   "execution_count": 22,
   "metadata": {},
   "outputs": [
    {
     "data": {
      "text/plain": [
       "0        0\n",
       "1        0\n",
       "2        0\n",
       "3        0\n",
       "4        0\n",
       "        ..\n",
       "49995    0\n",
       "49996    0\n",
       "49997    1\n",
       "49998    0\n",
       "49999    0\n",
       "Name: SeriousDlqin2yrs, Length: 50000, dtype: int64"
      ]
     },
     "execution_count": 22,
     "metadata": {},
     "output_type": "execute_result"
    }
   ],
   "source": [
    "training_values"
   ]
  },
  {
   "cell_type": "markdown",
   "metadata": {
    "id": "jyiF_GgO5ycm"
   },
   "source": [
    "Проверим размерность целевой переменной"
   ]
  },
  {
   "cell_type": "code",
   "execution_count": 23,
   "metadata": {
    "colab": {
     "base_uri": "https://localhost:8080/"
    },
    "id": "cbXofKHL5ycn",
    "outputId": "4011cd37-a580-46d4-a651-e482904cb191"
   },
   "outputs": [
    {
     "data": {
      "text/plain": [
       "(50000,)"
      ]
     },
     "execution_count": 23,
     "metadata": {},
     "output_type": "execute_result"
    }
   ],
   "source": [
    "training_values.shape"
   ]
  },
  {
   "cell_type": "markdown",
   "metadata": {
    "id": "805NL69f5ycp"
   },
   "source": [
    "Запись `(50000,)` равносильна `(50000, 1)`.  Она означает, что у нас 50000 столбцов (экземпляров в выборке) и 1 колонка (признак)"
   ]
  },
  {
   "cell_type": "markdown",
   "metadata": {
    "id": "yhmNvWOJ5ycq"
   },
   "source": [
    "Отделим входные переменные от выходной (целевой), чтобы можно было построить модель предсказания целевой переменной по входным. Для это нужно у переменной training_data вызвать метод drop()."
   ]
  },
  {
   "cell_type": "code",
   "execution_count": 24,
   "metadata": {
    "id": "arIkbpOu5ycr"
   },
   "outputs": [],
   "source": [
    "training_points = training_data.drop(target_variable_name, axis=1)"
   ]
  },
  {
   "cell_type": "code",
   "execution_count": 25,
   "metadata": {
    "colab": {
     "base_uri": "https://localhost:8080/"
    },
    "id": "tDeglfc85ycs",
    "outputId": "f0b356c3-722d-4fac-beda-9f0269891e4d"
   },
   "outputs": [
    {
     "data": {
      "text/plain": [
       "(50000, 11)"
      ]
     },
     "execution_count": 25,
     "metadata": {},
     "output_type": "execute_result"
    }
   ],
   "source": [
    "training_data.shape"
   ]
  },
  {
   "cell_type": "code",
   "execution_count": 26,
   "metadata": {
    "colab": {
     "base_uri": "https://localhost:8080/"
    },
    "id": "RK8TKuwo5ycv",
    "outputId": "baa18bfa-eb78-4dbb-fe5f-9eef4a0d96ec"
   },
   "outputs": [
    {
     "data": {
      "text/plain": [
       "(50000, 10)"
      ]
     },
     "execution_count": 26,
     "metadata": {},
     "output_type": "execute_result"
    }
   ],
   "source": [
    "training_points.shape"
   ]
  },
  {
   "cell_type": "markdown",
   "metadata": {
    "id": "fyBa5U8-5ycy"
   },
   "source": [
    "Видно, что столбца действительно нет, а количество строк не изменилось. "
   ]
  },
  {
   "cell_type": "markdown",
   "metadata": {
    "id": "WwTUoxhW5ycy"
   },
   "source": [
    "##   3. Обучить модель на обучающей выборке"
   ]
  },
  {
   "cell_type": "markdown",
   "metadata": {
    "id": "yjkC8cCH5ycz"
   },
   "source": [
    "**Шаг 3.1. Выбираем метод, который будем использовать**\n",
    "\n",
    "Проще всего начать с простых методов. \n",
    "Мы воспользуемся двумя методами для построения моделей классификации и сравним их между собой:\n",
    "* Логистическая регрессия *logistic regression*\n",
    "* Лес решающих деревьев *random forest*\n",
    "\n",
    "Логистическая регрессия - \"адаптация\" линейной регрессии для решения задачи классификации. Она принадлежит к классу обобщенных линейных моделей.\n",
    "А вот с помощью леса решающих деревьев можно хорошо решать и задачу регрессии, и задачу классификации."
   ]
  },
  {
   "cell_type": "markdown",
   "metadata": {
    "id": "5uWT4zDr5yc0"
   },
   "source": [
    "Для корректной работы с методами построения моделей в python требуется загрузить специальную библиотеку\n",
    "**sklearn**, программную библиотеку на языке python для для машинного обучения и анализа данных.\n",
    "\n",
    "Мы импортируем два модуля из этой библиотеки:\n",
    " * *linear_model* - тут находятся все линейные *и обобщенные линейные* модели, в том числе модель логистической регрессии.\n",
    " * *ensemble* - тут находятся модели на основе ансамблей."
   ]
  },
  {
   "cell_type": "code",
   "execution_count": null,
   "metadata": {
    "id": "cGWniaCH5yc0"
   },
   "outputs": [],
   "source": [
    "from sklearn import linear_model, ensemble"
   ]
  },
  {
   "cell_type": "markdown",
   "metadata": {
    "id": "9kh4R3-q5yc6"
   },
   "source": [
    "Чтобы создать модель логистической регресии, пишем имя модуля 'linear_model', затем точку, затем название модели.\n",
    "\n",
    "Для этого нужно выполнить следующий код:\n",
    "\n",
    "```python\n",
    "logistic_regression_model = linear_model.logistic_regression_model()\n",
    "logistic_regression_model\n",
    "```"
   ]
  },
  {
   "cell_type": "code",
   "execution_count": null,
   "metadata": {
    "id": "H0x0p65d5yc7"
   },
   "outputs": [],
   "source": [
    "logistic_regression_model = linear_model.LogisticRegression() # создаем модель"
   ]
  },
  {
   "cell_type": "markdown",
   "metadata": {
    "id": "M376srlA5yc8"
   },
   "source": [
    "Результат выполнения должен быть следующим:\n",
    "\n",
    "```python\n",
    "LogisticRegression(C=1.0, class_weight=None, dual=False, \n",
    "          fit_intercept=True, intercept_scaling=1, \n",
    "          max_iter=100, multi_class='warn', n_jobs=None, \n",
    "          penalty='l2', random_state=None, solver='warn',\n",
    "          tol=0.0001, verbose=0, warm_start=False)\n",
    "```"
   ]
  },
  {
   "cell_type": "code",
   "execution_count": null,
   "metadata": {
    "colab": {
     "base_uri": "https://localhost:8080/"
    },
    "id": "qxrs1oN_5yc9",
    "outputId": "3c56c4ef-5ad5-4c35-8e8a-b4381ebf76c4"
   },
   "outputs": [
    {
     "data": {
      "text/plain": [
       "LogisticRegression(C=1.0, class_weight=None, dual=False, fit_intercept=True,\n",
       "                   intercept_scaling=1, l1_ratio=None, max_iter=100,\n",
       "                   multi_class='auto', n_jobs=None, penalty='l2',\n",
       "                   random_state=None, solver='lbfgs', tol=0.0001, verbose=0,\n",
       "                   warm_start=False)"
      ]
     },
     "execution_count": 25,
     "metadata": {},
     "output_type": "execute_result"
    }
   ],
   "source": [
    "logistic_regression_model # смотрим, что получилось"
   ]
  },
  {
   "cell_type": "markdown",
   "metadata": {
    "id": "HxWO_CHP5ydA"
   },
   "source": [
    "Модель логистической регрессии сложнее, чем модель линейной регрессии. Поэтому параметров у такой модели гораздо больше. Многие из них связаны с тем, с помощью какой процедуры мы будем подбирать параметры модели (*max_iter*, *dual*, *solver*, *tol*, *warm_start*), устойчивостью модели (*C*, *penalty*), тем, что мы решаем задачу классификации, а не регрессии (*class_weight*, *multi_class*)"
   ]
  },
  {
   "cell_type": "markdown",
   "metadata": {
    "id": "yOpnIaw35ydB"
   },
   "source": [
    "Чтобы создать модель случайного леса, пишем имя модуля ensemble, затем точку, затем название модели. \n",
    "\n",
    "Для этого нужно выполнить следующий код:\n",
    "\n",
    "```python\n",
    "random_forest_model = ensemble.RandomForestClassifier()\n",
    "random_forest_model\n",
    "```\n",
    "\n",
    "Код отличается от кода при решении задачи регрессии тем, что теперь нам нужна модель для классификации `RandomForestClassifier`, а не регрессии `RandomForestRegressor`.\n",
    "Результат выполнения должен быть следующим:\n",
    "    \n",
    "```python\n",
    "RandomForestClassifier(bootstrap=True, class_weight=None, \n",
    "            criterion='gini', max_depth=None, max_features='auto', \n",
    "            max_leaf_nodes=None,\n",
    "            min_impurity_decrease=0.0, min_impurity_split=None,\n",
    "            min_samples_leaf=1, min_samples_split=2,\n",
    "            min_weight_fraction_leaf=0.0, n_estimators='warn', \n",
    "            n_jobs=None, oob_score=False, random_state=None, \n",
    "            verbose=0, warm_start=False)\n",
    "```"
   ]
  },
  {
   "cell_type": "code",
   "execution_count": null,
   "metadata": {
    "id": "wlgtW_nl5ydB"
   },
   "outputs": [],
   "source": [
    "random_forest_model = ensemble.RandomForestClassifier(n_estimators=100)"
   ]
  },
  {
   "cell_type": "code",
   "execution_count": null,
   "metadata": {
    "colab": {
     "base_uri": "https://localhost:8080/"
    },
    "id": "wBk50LgG5ydE",
    "outputId": "46428cde-fe97-46ec-9402-046fa119c393"
   },
   "outputs": [
    {
     "data": {
      "text/plain": [
       "RandomForestClassifier(bootstrap=True, ccp_alpha=0.0, class_weight=None,\n",
       "                       criterion='gini', max_depth=None, max_features='auto',\n",
       "                       max_leaf_nodes=None, max_samples=None,\n",
       "                       min_impurity_decrease=0.0, min_impurity_split=None,\n",
       "                       min_samples_leaf=1, min_samples_split=2,\n",
       "                       min_weight_fraction_leaf=0.0, n_estimators=100,\n",
       "                       n_jobs=None, oob_score=False, random_state=None,\n",
       "                       verbose=0, warm_start=False)"
      ]
     },
     "execution_count": 27,
     "metadata": {},
     "output_type": "execute_result"
    }
   ],
   "source": [
    "random_forest_model"
   ]
  },
  {
   "cell_type": "markdown",
   "metadata": {
    "id": "7qMVAxeZ5ydI"
   },
   "source": [
    "У модели классификации на основе случайного леса больше параметров. Рассмотрим наиболее важные:\n",
    "* параметр *n_estimators* определяет, сколько деревьев в лесу,\n",
    "* в параметре *max_depth* устанавливается, какая максимальная глубина у дерева,\n",
    "* в параметре *min_samples_leaf* задается, какое максимальное число объектов может попасть в лист дерева."
   ]
  },
  {
   "cell_type": "markdown",
   "metadata": {
    "id": "5r-rWuo-5ydJ"
   },
   "source": [
    "**Шаг 3.2. Обучить модель**\n",
    "\n",
    "Теперь, когда мы создали прототипы обеих моделей, можем их обучить с помощью обучающей выборки. \n",
    "\n",
    "Для этого вызываем метод **fit()** у каждой модели и передаем ему на вход два аргумента: \n",
    "таблицу входных признаков и столбец значений целевой переменной - (training_points, training_values)"
   ]
  },
  {
   "cell_type": "code",
   "execution_count": null,
   "metadata": {
    "colab": {
     "base_uri": "https://localhost:8080/"
    },
    "id": "8W3-Nf8g5ydK",
    "outputId": "ab35a267-2876-4bcf-c2f1-2e7c7ed35ad5"
   },
   "outputs": [
    {
     "data": {
      "text/plain": [
       "LogisticRegression(C=1.0, class_weight=None, dual=False, fit_intercept=True,\n",
       "                   intercept_scaling=1, l1_ratio=None, max_iter=100,\n",
       "                   multi_class='auto', n_jobs=None, penalty='l2',\n",
       "                   random_state=None, solver='lbfgs', tol=0.0001, verbose=0,\n",
       "                   warm_start=False)"
      ]
     },
     "execution_count": 28,
     "metadata": {},
     "output_type": "execute_result"
    }
   ],
   "source": [
    "logistic_regression_model.fit(training_points, training_values)"
   ]
  },
  {
   "cell_type": "markdown",
   "metadata": {
    "id": "KwFZfh8b5ydM"
   },
   "source": [
    "Делаем тоже самое для модели решающего леса.\n",
    "\n",
    "Возможно, будут предупреждения, о том, что планируются изменения в будущем в этой модели (FutureWarning). "
   ]
  },
  {
   "cell_type": "code",
   "execution_count": null,
   "metadata": {
    "colab": {
     "base_uri": "https://localhost:8080/"
    },
    "id": "w0djXP4P5ydN",
    "outputId": "158b5bae-4d70-4188-bfec-ee77c26a50f1"
   },
   "outputs": [
    {
     "data": {
      "text/plain": [
       "RandomForestClassifier(bootstrap=True, ccp_alpha=0.0, class_weight=None,\n",
       "                       criterion='gini', max_depth=None, max_features='auto',\n",
       "                       max_leaf_nodes=None, max_samples=None,\n",
       "                       min_impurity_decrease=0.0, min_impurity_split=None,\n",
       "                       min_samples_leaf=1, min_samples_split=2,\n",
       "                       min_weight_fraction_leaf=0.0, n_estimators=100,\n",
       "                       n_jobs=None, oob_score=False, random_state=None,\n",
       "                       verbose=0, warm_start=False)"
      ]
     },
     "execution_count": 29,
     "metadata": {},
     "output_type": "execute_result"
    }
   ],
   "source": [
    "random_forest_model.fit(training_points, training_values)"
   ]
  },
  {
   "cell_type": "markdown",
   "metadata": {
    "id": "beMhsTKQ5ydO"
   },
   "source": [
    "* Для двух разных моделей в sklearn методы для обучения модели не отличаются.\n",
    "* Мы получили две обученные модели. \n",
    "* Теперь необходимо провалидировать модели на новых тестовых данных, которые не использовались при обучении модели."
   ]
  },
  {
   "cell_type": "markdown",
   "metadata": {
    "id": "tGhylaB65ydP"
   },
   "source": [
    "## 4. Загрузить и предобработать данные для тестирования"
   ]
  },
  {
   "cell_type": "markdown",
   "metadata": {
    "id": "FFFHXaPZ5ydP"
   },
   "source": [
    "**Шаг 4.1. Загрузим данные для тестирования**\n",
    "\n",
    "Наши данные в формате `csv` - comma separated values, значения, разделенные точкой. Обычно data scientists работают с табличными данными, которые представлены именно в таком виде. Чтобы загрузить такие данные, будем использовать функцию `pd.read_csv` из библиотеки `pandas`."
   ]
  },
  {
   "cell_type": "code",
   "execution_count": null,
   "metadata": {
    "colab": {
     "base_uri": "https://localhost:8080/",
     "height": 461
    },
    "id": "CafHxOcg5ydQ",
    "outputId": "ad60e1d9-ff88-4309-b973-60436b575360"
   },
   "outputs": [
    {
     "data": {
      "text/html": [
       "<div>\n",
       "<style scoped>\n",
       "    .dataframe tbody tr th:only-of-type {\n",
       "        vertical-align: middle;\n",
       "    }\n",
       "\n",
       "    .dataframe tbody tr th {\n",
       "        vertical-align: top;\n",
       "    }\n",
       "\n",
       "    .dataframe thead th {\n",
       "        text-align: right;\n",
       "    }\n",
       "</style>\n",
       "<table border=\"1\" class=\"dataframe\">\n",
       "  <thead>\n",
       "    <tr style=\"text-align: right;\">\n",
       "      <th></th>\n",
       "      <th>SeriousDlqin2yrs</th>\n",
       "      <th>RevolvingUtilizationOfUnsecuredLines</th>\n",
       "      <th>age</th>\n",
       "      <th>NumberOfTime30-59DaysPastDueNotWorse</th>\n",
       "      <th>DebtRatio</th>\n",
       "      <th>MonthlyIncome</th>\n",
       "      <th>NumberOfOpenCreditLinesAndLoans</th>\n",
       "      <th>NumberOfTimes90DaysLate</th>\n",
       "      <th>NumberRealEstateLoansOrLines</th>\n",
       "      <th>NumberOfTime60-89DaysPastDueNotWorse</th>\n",
       "      <th>NumberOfDependents</th>\n",
       "    </tr>\n",
       "  </thead>\n",
       "  <tbody>\n",
       "    <tr>\n",
       "      <th>0</th>\n",
       "      <td>0</td>\n",
       "      <td>0.166035</td>\n",
       "      <td>25</td>\n",
       "      <td>0</td>\n",
       "      <td>687.000000</td>\n",
       "      <td>NaN</td>\n",
       "      <td>9</td>\n",
       "      <td>0</td>\n",
       "      <td>0</td>\n",
       "      <td>0</td>\n",
       "      <td>0.0</td>\n",
       "    </tr>\n",
       "    <tr>\n",
       "      <th>1</th>\n",
       "      <td>1</td>\n",
       "      <td>1.036867</td>\n",
       "      <td>42</td>\n",
       "      <td>3</td>\n",
       "      <td>0.664400</td>\n",
       "      <td>5440.0</td>\n",
       "      <td>12</td>\n",
       "      <td>0</td>\n",
       "      <td>2</td>\n",
       "      <td>0</td>\n",
       "      <td>3.0</td>\n",
       "    </tr>\n",
       "    <tr>\n",
       "      <th>2</th>\n",
       "      <td>0</td>\n",
       "      <td>0.100229</td>\n",
       "      <td>62</td>\n",
       "      <td>2</td>\n",
       "      <td>1.263068</td>\n",
       "      <td>3500.0</td>\n",
       "      <td>11</td>\n",
       "      <td>0</td>\n",
       "      <td>2</td>\n",
       "      <td>0</td>\n",
       "      <td>0.0</td>\n",
       "    </tr>\n",
       "    <tr>\n",
       "      <th>3</th>\n",
       "      <td>0</td>\n",
       "      <td>0.232698</td>\n",
       "      <td>37</td>\n",
       "      <td>0</td>\n",
       "      <td>0.088482</td>\n",
       "      <td>3333.0</td>\n",
       "      <td>5</td>\n",
       "      <td>0</td>\n",
       "      <td>0</td>\n",
       "      <td>0</td>\n",
       "      <td>0.0</td>\n",
       "    </tr>\n",
       "    <tr>\n",
       "      <th>4</th>\n",
       "      <td>1</td>\n",
       "      <td>0.950586</td>\n",
       "      <td>41</td>\n",
       "      <td>2</td>\n",
       "      <td>0.321115</td>\n",
       "      <td>11266.0</td>\n",
       "      <td>6</td>\n",
       "      <td>1</td>\n",
       "      <td>1</td>\n",
       "      <td>0</td>\n",
       "      <td>0.0</td>\n",
       "    </tr>\n",
       "    <tr>\n",
       "      <th>...</th>\n",
       "      <td>...</td>\n",
       "      <td>...</td>\n",
       "      <td>...</td>\n",
       "      <td>...</td>\n",
       "      <td>...</td>\n",
       "      <td>...</td>\n",
       "      <td>...</td>\n",
       "      <td>...</td>\n",
       "      <td>...</td>\n",
       "      <td>...</td>\n",
       "      <td>...</td>\n",
       "    </tr>\n",
       "    <tr>\n",
       "      <th>37495</th>\n",
       "      <td>0</td>\n",
       "      <td>0.065113</td>\n",
       "      <td>45</td>\n",
       "      <td>0</td>\n",
       "      <td>1424.000000</td>\n",
       "      <td>NaN</td>\n",
       "      <td>12</td>\n",
       "      <td>0</td>\n",
       "      <td>1</td>\n",
       "      <td>0</td>\n",
       "      <td>0.0</td>\n",
       "    </tr>\n",
       "    <tr>\n",
       "      <th>37496</th>\n",
       "      <td>0</td>\n",
       "      <td>0.231449</td>\n",
       "      <td>50</td>\n",
       "      <td>0</td>\n",
       "      <td>0.439138</td>\n",
       "      <td>15074.0</td>\n",
       "      <td>15</td>\n",
       "      <td>0</td>\n",
       "      <td>3</td>\n",
       "      <td>0</td>\n",
       "      <td>1.0</td>\n",
       "    </tr>\n",
       "    <tr>\n",
       "      <th>37497</th>\n",
       "      <td>0</td>\n",
       "      <td>0.908877</td>\n",
       "      <td>64</td>\n",
       "      <td>0</td>\n",
       "      <td>0.330960</td>\n",
       "      <td>2667.0</td>\n",
       "      <td>5</td>\n",
       "      <td>0</td>\n",
       "      <td>0</td>\n",
       "      <td>0</td>\n",
       "      <td>0.0</td>\n",
       "    </tr>\n",
       "    <tr>\n",
       "      <th>37498</th>\n",
       "      <td>0</td>\n",
       "      <td>0.139054</td>\n",
       "      <td>64</td>\n",
       "      <td>0</td>\n",
       "      <td>2256.000000</td>\n",
       "      <td>NaN</td>\n",
       "      <td>13</td>\n",
       "      <td>0</td>\n",
       "      <td>1</td>\n",
       "      <td>0</td>\n",
       "      <td>0.0</td>\n",
       "    </tr>\n",
       "    <tr>\n",
       "      <th>37499</th>\n",
       "      <td>0</td>\n",
       "      <td>0.180195</td>\n",
       "      <td>40</td>\n",
       "      <td>0</td>\n",
       "      <td>0.332103</td>\n",
       "      <td>16250.0</td>\n",
       "      <td>12</td>\n",
       "      <td>0</td>\n",
       "      <td>3</td>\n",
       "      <td>0</td>\n",
       "      <td>3.0</td>\n",
       "    </tr>\n",
       "  </tbody>\n",
       "</table>\n",
       "<p>37500 rows × 11 columns</p>\n",
       "</div>"
      ],
      "text/plain": [
       "       SeriousDlqin2yrs  ...  NumberOfDependents\n",
       "0                     0  ...                 0.0\n",
       "1                     1  ...                 3.0\n",
       "2                     0  ...                 0.0\n",
       "3                     0  ...                 0.0\n",
       "4                     1  ...                 0.0\n",
       "...                 ...  ...                 ...\n",
       "37495                 0  ...                 0.0\n",
       "37496                 0  ...                 1.0\n",
       "37497                 0  ...                 0.0\n",
       "37498                 0  ...                 0.0\n",
       "37499                 0  ...                 3.0\n",
       "\n",
       "[37500 rows x 11 columns]"
      ]
     },
     "execution_count": 15,
     "metadata": {},
     "output_type": "execute_result"
    }
   ],
   "source": [
    "test_data = pd.read_csv('test_data.csv')\n",
    "test_data"
   ]
  },
  {
   "cell_type": "code",
   "execution_count": null,
   "metadata": {
    "colab": {
     "base_uri": "https://localhost:8080/"
    },
    "id": "hczsshx_Moq8",
    "outputId": "c09e5874-b484-4a8e-cb54-5b4add3fe147"
   },
   "outputs": [
    {
     "name": "stdout",
     "output_type": "stream",
     "text": [
      "<class 'pandas.core.frame.DataFrame'>\n",
      "RangeIndex: 37500 entries, 0 to 37499\n",
      "Data columns (total 11 columns):\n",
      " #   Column                                Non-Null Count  Dtype  \n",
      "---  ------                                --------------  -----  \n",
      " 0   SeriousDlqin2yrs                      37500 non-null  int64  \n",
      " 1   RevolvingUtilizationOfUnsecuredLines  37500 non-null  float64\n",
      " 2   age                                   37500 non-null  int64  \n",
      " 3   NumberOfTime30-59DaysPastDueNotWorse  37500 non-null  int64  \n",
      " 4   DebtRatio                             37500 non-null  float64\n",
      " 5   MonthlyIncome                         30044 non-null  float64\n",
      " 6   NumberOfOpenCreditLinesAndLoans       37500 non-null  int64  \n",
      " 7   NumberOfTimes90DaysLate               37500 non-null  int64  \n",
      " 8   NumberRealEstateLoansOrLines          37500 non-null  int64  \n",
      " 9   NumberOfTime60-89DaysPastDueNotWorse  37500 non-null  int64  \n",
      " 10  NumberOfDependents                    36521 non-null  float64\n",
      "dtypes: float64(4), int64(7)\n",
      "memory usage: 3.1 MB\n"
     ]
    }
   ],
   "source": [
    "test_data.info()\n"
   ]
  },
  {
   "cell_type": "markdown",
   "metadata": {
    "id": "C17rc2605ydS"
   },
   "source": [
    "**Шаг 4.2. Предобработка данных для тестирования**"
   ]
  },
  {
   "cell_type": "markdown",
   "metadata": {
    "id": "H3kB-L_R5ydS"
   },
   "source": [
    "Тестовые данные нужно предобработать аналогично обучающим. Поэтому заполним сперва пропуски в данных.\n",
    "\n",
    "Для заполнения средним значеним, передадим на вход методу `fillna` полученный ранее набор средних значений для каждого столбца. Опция `inplace=True` говорит, что мы запишем изменения прямо в существующий массив, а не создадим новый"
   ]
  },
  {
   "cell_type": "code",
   "execution_count": null,
   "metadata": {
    "id": "9HWGt5dt5ydT"
   },
   "outputs": [],
   "source": [
    "test_data.fillna(train_mean, inplace=True)"
   ]
  },
  {
   "cell_type": "markdown",
   "metadata": {
    "id": "S7qga1Yb5ydV"
   },
   "source": [
    "**Шаг 4.3. Отделяем целевую переменную**"
   ]
  },
  {
   "cell_type": "markdown",
   "metadata": {
    "id": "bjfkOv8v5ydV"
   },
   "source": [
    "Нам нужно выделить в отдельную переменную *test_values* столбец из нашей таблицы, который соответствует определенной выше целевой переменной. Для этого мы у таблицы *test_data* в квадратных скобках указываем имя нужного столбца. В нашем случае это имя записано в переменной *target_variable_name*. "
   ]
  },
  {
   "cell_type": "code",
   "execution_count": null,
   "metadata": {
    "id": "ZJPVGyur5ydW"
   },
   "outputs": [],
   "source": [
    "test_values = test_data[target_variable_name]"
   ]
  },
  {
   "cell_type": "markdown",
   "metadata": {
    "id": "NI1fwuhh5ydX"
   },
   "source": [
    "И проверяем результат записанный в test_points"
   ]
  },
  {
   "cell_type": "code",
   "execution_count": null,
   "metadata": {
    "id": "Yr7Ol_MO5ydY"
   },
   "outputs": [],
   "source": [
    "test_points = test_data.drop(target_variable_name, axis=1)"
   ]
  },
  {
   "cell_type": "code",
   "execution_count": null,
   "metadata": {
    "id": "nVe__XvS0-5X"
   },
   "outputs": [],
   "source": []
  },
  {
   "cell_type": "code",
   "execution_count": null,
   "metadata": {
    "colab": {
     "base_uri": "https://localhost:8080/"
    },
    "id": "0_mD8QMa5ydZ",
    "outputId": "8e63739b-3746-428b-f24f-a0a17e8dd861"
   },
   "outputs": [
    {
     "data": {
      "text/plain": [
       "(37500, 10)"
      ]
     },
     "execution_count": 35,
     "metadata": {},
     "output_type": "execute_result"
    }
   ],
   "source": [
    "test_points.shape"
   ]
  },
  {
   "cell_type": "markdown",
   "metadata": {
    "id": "eZlE_oH45ydb"
   },
   "source": [
    "# 5. Провалидировать модель на тестовой выборке"
   ]
  },
  {
   "cell_type": "markdown",
   "metadata": {
    "id": "-p8veWCx5ydb"
   },
   "source": [
    "<img src=\"https://drive.google.com/uc?id=1QbHrix_UrbD77BmIGiitiaH8nB8UdUmj\" alt=\"Drawing\" style=\"width: 400px;\"/>\n",
    "\n"
   ]
  },
  {
   "cell_type": "markdown",
   "metadata": {
    "id": "Kurbyi0n5ydc"
   },
   "source": [
    "Сначала получим прогноз модели на тестовых данных *`test_points`* с помощью моделей логистической регрессии и решающего леса.\n",
    "Для этого для обеих моделей запустим метод **`predict()`**."
   ]
  },
  {
   "cell_type": "code",
   "execution_count": null,
   "metadata": {
    "id": "TVnx32rB5ydc"
   },
   "outputs": [],
   "source": [
    "test_predictions_logistic_regression = logistic_regression_model.predict(test_points)"
   ]
  },
  {
   "cell_type": "code",
   "execution_count": null,
   "metadata": {
    "id": "gg4PPJtC5yde"
   },
   "outputs": [],
   "source": [
    "test_predictions_random_forest = random_forest_model.predict(test_points)"
   ]
  },
  {
   "cell_type": "markdown",
   "metadata": {
    "id": "l9_fs-c45ydi"
   },
   "source": [
    "Посмотрим, сколько предсказаний каждого вида (дефолтов и возвратов кредитов) спрогнозировали модели. Для этого необходимо вызвать функцию **`value_counts()`** из библиотеки **`pandas`** для полученных прогнозов.\n"
   ]
  },
  {
   "cell_type": "code",
   "execution_count": null,
   "metadata": {
    "colab": {
     "base_uri": "https://localhost:8080/"
    },
    "id": "TJIg0oAn5ydi",
    "outputId": "b21675a8-c2e0-445e-de33-1251aada8d72"
   },
   "outputs": [
    {
     "data": {
      "text/plain": [
       "0    37436\n",
       "1       64\n",
       "dtype: int64"
      ]
     },
     "execution_count": 38,
     "metadata": {},
     "output_type": "execute_result"
    }
   ],
   "source": [
    "pd.value_counts(test_predictions_logistic_regression)"
   ]
  },
  {
   "cell_type": "markdown",
   "metadata": {
    "id": "5scX1Ksp5ydm"
   },
   "source": [
    "Модель логичстической регрессии предсказывает 64 неуплаты и 37436 возврата кредита в срок.  "
   ]
  },
  {
   "cell_type": "code",
   "execution_count": null,
   "metadata": {
    "colab": {
     "base_uri": "https://localhost:8080/"
    },
    "id": "pMZ2eocK5ydn",
    "outputId": "3791d36d-0ddf-4860-9e6e-1e175f5169a7"
   },
   "outputs": [
    {
     "data": {
      "text/plain": [
       "0    36617\n",
       "1      883\n",
       "dtype: int64"
      ]
     },
     "execution_count": 39,
     "metadata": {},
     "output_type": "execute_result"
    }
   ],
   "source": [
    "pd.value_counts(test_predictions_random_forest)"
   ]
  },
  {
   "cell_type": "markdown",
   "metadata": {
    "id": "QqP-TMmm5ydp"
   },
   "source": [
    "Модель решающего леса предсказывает 897 случай неуплаты и 36603 возврата кредита в срок.  "
   ]
  },
  {
   "cell_type": "markdown",
   "metadata": {
    "id": "8NWiOeAO5ydq"
   },
   "source": [
    "### Шаг 5.1. Точность прогноза"
   ]
  },
  {
   "cell_type": "markdown",
   "metadata": {
    "id": "B0coP1Xa5ydr"
   },
   "source": [
    "Естественный способ измерить качество модели - посчитать долю правильных предсказаний, то есть, сколько в процентном соотношении от размера тестовой выборки модель угадала единичек и сколько угадала ноликов. Такая метрика называется точность (accuracy). "
   ]
  },
  {
   "cell_type": "markdown",
   "metadata": {
    "id": "dq1y86vu5ydr"
   },
   "source": [
    "<img src=\"https://drive.google.com/uc?id=1ITTp5pCtDKszhkkLXzXiuCWi09VJaioA\" alt=\"Drawing\" style=\"width: 600px;\"/>"
   ]
  },
  {
   "cell_type": "markdown",
   "metadata": {
    "id": "e9aBjkCB5yds"
   },
   "source": [
    "Функция для подсчета точности реализована в библиотеке **sklearn** и называется **`accuracy_score()`**. Импортируем её. "
   ]
  },
  {
   "cell_type": "code",
   "execution_count": null,
   "metadata": {
    "id": "AIGg7pNl5ydt"
   },
   "outputs": [],
   "source": [
    "from sklearn.metrics import accuracy_score"
   ]
  },
  {
   "cell_type": "markdown",
   "metadata": {
    "id": "oaVzimJQ5ydv"
   },
   "source": [
    "В функцию **`accuracy_score()`** необходимо передать два аргумента:\n",
    "* истинные значения меток - *test_values*\n",
    "* предсказания модели - *test_predictions_logistic_regression* или *test_predictions_random_forest*"
   ]
  },
  {
   "cell_type": "code",
   "execution_count": null,
   "metadata": {
    "colab": {
     "base_uri": "https://localhost:8080/"
    },
    "id": "8ukyCHxY5ydw",
    "outputId": "6f2b9959-2337-4b8b-b248-f86c6be3b684"
   },
   "outputs": [
    {
     "name": "stdout",
     "output_type": "stream",
     "text": [
      "0.9324533333333334\n",
      "0.93376\n"
     ]
    }
   ],
   "source": [
    "print(accuracy_score(test_values, test_predictions_logistic_regression))\n",
    "print(accuracy_score(test_values, test_predictions_random_forest))"
   ]
  },
  {
   "cell_type": "markdown",
   "metadata": {
    "id": "7CwAf3u55yd1"
   },
   "source": [
    "**Как понять, хорошо работает модель или нет?**"
   ]
  },
  {
   "cell_type": "markdown",
   "metadata": {
    "id": "j2rmmswr5yd2"
   },
   "source": [
    "Из значения точности мы никак не можем понять, сколько меток каждого класса правильно предсказала модель. В нашей задаче мало значений с классом 1 (дефолт), но много 0 (возврат кредита). Может быть такая ситуация, когда модель очень хорошо научилась выделять характеристики большого класса, в нашем случае 0, но совсем не умеет выделять характеристики маленького класса. А часто именно последние в большей степени интересуют аналитиков. "
   ]
  },
  {
   "cell_type": "markdown",
   "metadata": {
    "id": "vnUXSb8z5yd3"
   },
   "source": [
    "Самый простой способ проверить - это сравнить значения точности для наших моделей с точностью для константного классификатора, модели, которая всегда бы предсказывала больший класс, в нашем случае 0. \n",
    "Для этого можно в функцию **`accuracy_score()`** в качестве второго аргумента передать массив нулей такого же размера, как и *test_values*. Это делается с помощью функции **`zeros_like()`** из библиотеки numpy, у которой один аргумент - *test_values*, массив с размером которого будет создан массив нулей. "
   ]
  },
  {
   "cell_type": "code",
   "execution_count": null,
   "metadata": {
    "colab": {
     "base_uri": "https://localhost:8080/"
    },
    "id": "stJFl6dx5yd3",
    "outputId": "897d6fc1-4215-44f4-e5e9-811aa732745a"
   },
   "outputs": [
    {
     "name": "stdout",
     "output_type": "stream",
     "text": [
      "0.9326133333333333\n"
     ]
    }
   ],
   "source": [
    "print(accuracy_score(test_values, np.zeros_like(test_values)))"
   ]
  },
  {
   "cell_type": "markdown",
   "metadata": {
    "id": "xGmNWcL_5yd5"
   },
   "source": [
    "Действительно, для логистической регрессии точность очень близка к точности константного классификатора. Это не означает, что логистическая регрессия работает определенно плохо, но необходимо проверить дополнительные метрики. "
   ]
  },
  {
   "cell_type": "markdown",
   "metadata": {
    "id": "GdKe23aH5yd5"
   },
   "source": [
    "### Шаг 5.2. Таблица сопряженности модели классификации"
   ]
  },
  {
   "cell_type": "markdown",
   "metadata": {
    "id": "sxY2MFXW5yd6"
   },
   "source": [
    "Другой способ оценивать качество работы классификатора - использовать таблицу сопряженности. \n",
    "\n",
    "**Таблица сопряжённости** (матрица неточности, или Confusion matrix) содержит сводные показатели качества работы классификатора. **Строки** этой таблицы соответствуют **фактическим классам** тестового набора, а **столбцы** - **предсказанным** классификатором меткам.\n",
    "\n",
    "Импортируем функцию для построения таблицы сопряженности из библиотеки **`sklearn`**."
   ]
  },
  {
   "cell_type": "code",
   "execution_count": null,
   "metadata": {
    "id": "YZ6q33GC5yd6"
   },
   "outputs": [],
   "source": [
    "from sklearn.metrics import confusion_matrix"
   ]
  },
  {
   "cell_type": "markdown",
   "metadata": {
    "id": "OmOcyFVh5yd-"
   },
   "source": [
    "Таблица содержит четыре сводных показателя, каждый из которых отражает количество объектов в одной и четырех\n",
    "категорий: \n",
    "* **истинно позитивный** (*True positive*, **TP**) -- объект\n",
    "класса `1` был верно помечен меткой `1`;\n",
    "* **ложно позитивный** (*False positive*, **FP**) -- объект\n",
    "фактически принадлежит классу `0`, но помечен меткой `1`;\n",
    "* **истинно отрицательный** (*True negative*, **TN**) -- классификатор\n",
    "верно определил, что объект класса `0` принадлежит классу `0`;\n",
    "* **ложно отрицательный** (*False negative*, **FN**) -- классификатор\n",
    "пометил объект меткой `0`, однако на самом деле объект принадлежит классу `1`.\n",
    "\n",
    "\n",
    "Замечание: ошибки False positive часто называют **ложной тревогой**, а False negative - **пропуском цели**. "
   ]
  },
  {
   "cell_type": "markdown",
   "metadata": {
    "id": "26ZVEH1P5yd_"
   },
   "source": [
    "|                   |  Предсказано `0` |  Предсказано `1` |\n",
    "|:-------------------|:------------------|:------------------|\n",
    "|**Фактически** `0`  |       TN         |       FP         |\n",
    "|**Фактически** `1`  |       FN         |       TP         | "
   ]
  },
  {
   "cell_type": "markdown",
   "metadata": {
    "id": "cPRJg0CW5yeA",
    "scrolled": true
   },
   "source": [
    "Посмотрим на таблицу сопряженности для логистической регрессии и случайного леса. Для этого в функцию **`confusion_matrix()`** необходимо передать два аргумента:\n",
    "* истинные значения меток - *test_values*\n",
    "* предсказания модели - *test_predictions_random_forest*\n",
    "\n",
    "Далее для удобства мы запишем полученную матрицу в удобный табличный вид, воспользовавшись функцией **`DataFrame()`** из библиотеки **pandas**. "
   ]
  },
  {
   "cell_type": "code",
   "execution_count": null,
   "metadata": {
    "colab": {
     "base_uri": "https://localhost:8080/",
     "height": 110
    },
    "id": "PzjpLH4adsXt",
    "outputId": "a77d1713-8d0d-466e-c3a8-e867ad611103"
   },
   "outputs": [
    {
     "data": {
      "text/html": [
       "<div>\n",
       "<style scoped>\n",
       "    .dataframe tbody tr th:only-of-type {\n",
       "        vertical-align: middle;\n",
       "    }\n",
       "\n",
       "    .dataframe tbody tr th {\n",
       "        vertical-align: top;\n",
       "    }\n",
       "\n",
       "    .dataframe thead th {\n",
       "        text-align: right;\n",
       "    }\n",
       "</style>\n",
       "<table border=\"1\" class=\"dataframe\">\n",
       "  <thead>\n",
       "    <tr style=\"text-align: right;\">\n",
       "      <th></th>\n",
       "      <th>0</th>\n",
       "      <th>1</th>\n",
       "    </tr>\n",
       "  </thead>\n",
       "  <tbody>\n",
       "    <tr>\n",
       "      <th>0</th>\n",
       "      <td>34938</td>\n",
       "      <td>35</td>\n",
       "    </tr>\n",
       "    <tr>\n",
       "      <th>1</th>\n",
       "      <td>2498</td>\n",
       "      <td>29</td>\n",
       "    </tr>\n",
       "  </tbody>\n",
       "</table>\n",
       "</div>"
      ],
      "text/plain": [
       "       0   1\n",
       "0  34938  35\n",
       "1   2498  29"
      ]
     },
     "execution_count": 44,
     "metadata": {},
     "output_type": "execute_result"
    }
   ],
   "source": [
    "logistic_regression_confusion_matrix = confusion_matrix(test_values, test_predictions_logistic_regression)\n",
    "logistic_regression_confusion_matrix = pd.DataFrame(logistic_regression_confusion_matrix)\n",
    "\n",
    "logistic_regression_confusion_matrix"
   ]
  },
  {
   "cell_type": "code",
   "execution_count": null,
   "metadata": {
    "colab": {
     "base_uri": "https://localhost:8080/",
     "height": 110
    },
    "id": "y2MCVPIy5yeC",
    "outputId": "0cd88939-1021-44ee-a519-9f7199be0cd9"
   },
   "outputs": [
    {
     "data": {
      "text/html": [
       "<div>\n",
       "<style scoped>\n",
       "    .dataframe tbody tr th:only-of-type {\n",
       "        vertical-align: middle;\n",
       "    }\n",
       "\n",
       "    .dataframe tbody tr th {\n",
       "        vertical-align: top;\n",
       "    }\n",
       "\n",
       "    .dataframe thead th {\n",
       "        text-align: right;\n",
       "    }\n",
       "</style>\n",
       "<table border=\"1\" class=\"dataframe\">\n",
       "  <thead>\n",
       "    <tr style=\"text-align: right;\">\n",
       "      <th></th>\n",
       "      <th>0</th>\n",
       "      <th>1</th>\n",
       "    </tr>\n",
       "  </thead>\n",
       "  <tbody>\n",
       "    <tr>\n",
       "      <th>0</th>\n",
       "      <td>34553</td>\n",
       "      <td>420</td>\n",
       "    </tr>\n",
       "    <tr>\n",
       "      <th>1</th>\n",
       "      <td>2064</td>\n",
       "      <td>463</td>\n",
       "    </tr>\n",
       "  </tbody>\n",
       "</table>\n",
       "</div>"
      ],
      "text/plain": [
       "       0    1\n",
       "0  34553  420\n",
       "1   2064  463"
      ]
     },
     "execution_count": 45,
     "metadata": {},
     "output_type": "execute_result"
    }
   ],
   "source": [
    "random_forest_confusion_matrix = confusion_matrix(test_values, test_predictions_random_forest)\n",
    "random_forest_confusion_matrix = pd.DataFrame(random_forest_confusion_matrix)\n",
    "\n",
    "random_forest_confusion_matrix"
   ]
  },
  {
   "cell_type": "markdown",
   "metadata": {
    "id": "wX_FXro15yeF"
   },
   "source": [
    "Разберем полученные значения подробнее:"
   ]
  },
  {
   "cell_type": "markdown",
   "metadata": {
    "id": "mIfEqxCo5yeJ"
   },
   "source": [
    "<img src=\"https://drive.google.com/uc?id=1xBlpY2UwXy94IYxAme4OXZxxaNm57A3x\" alt=\"Drawing\" style=\"width: 400px;\" width=\"700\"/>\n"
   ]
  },
  {
   "cell_type": "markdown",
   "metadata": {
    "id": "lMCGbSJr5yeK"
   },
   "source": [
    "Почему значения на картинке отличаются от тех, которые мы получили?\n",
    "\n",
    "`random_seed` не был зафиксирован в модели Случайных лесов, и мы видим незначительные отклонения в результатах предсказания."
   ]
  },
  {
   "cell_type": "markdown",
   "metadata": {
    "id": "E-Nw2vS65yeK"
   },
   "source": [
    "### Шаг 5.3. Прогноз вероятности принадлежности к классу\n",
    "\n",
    "Вместо прогноза меток классов модель может с помощью метода **`predict_proba()`** выдавать метки вероятности принадлежности к классам.\n",
    "Так как класса у нас 2: заемщики с дефолтом и без, то матрица будет размером **(количество объектов в тестовой выборке, 2)**."
   ]
  },
  {
   "cell_type": "code",
   "execution_count": null,
   "metadata": {
    "id": "eDjtP_yP5yeL"
   },
   "outputs": [],
   "source": [
    "test_probabilities = logistic_regression_model.predict_proba(test_points)"
   ]
  },
  {
   "cell_type": "markdown",
   "metadata": {
    "id": "cz7jY6sG5yeO"
   },
   "source": [
    "Посмотрим на первые пять значений этой матрицу: "
   ]
  },
  {
   "cell_type": "code",
   "execution_count": null,
   "metadata": {
    "colab": {
     "base_uri": "https://localhost:8080/"
    },
    "id": "6EEhJRGF5yeO",
    "outputId": "f8593521-af02-440c-8e21-858ecfeedc3f"
   },
   "outputs": [
    {
     "data": {
      "text/plain": [
       "array([[0.82112443, 0.17887557],\n",
       "       [0.83652575, 0.16347425],\n",
       "       [0.94724488, 0.05275512],\n",
       "       [0.88775488, 0.11224512],\n",
       "       [0.92403724, 0.07596276]])"
      ]
     },
     "execution_count": 47,
     "metadata": {},
     "output_type": "execute_result"
    }
   ],
   "source": [
    "test_probabilities[:5, :]"
   ]
  },
  {
   "cell_type": "markdown",
   "metadata": {
    "id": "JzmGja-r5yeR"
   },
   "source": [
    "Вероятность принадлежности ко второму классу - во втором столбце матрицы вероятностей."
   ]
  },
  {
   "cell_type": "code",
   "execution_count": null,
   "metadata": {
    "id": "41JFjmFu5yeR"
   },
   "outputs": [],
   "source": [
    "test_probabilities = test_probabilities[:, 1]"
   ]
  },
  {
   "cell_type": "markdown",
   "metadata": {
    "id": "1vkDrwX25yeZ"
   },
   "source": [
    "Посмотрим на распределение предсказанной классификатором вероятности дефолта, метки `1`."
   ]
  },
  {
   "cell_type": "code",
   "execution_count": null,
   "metadata": {
    "colab": {
     "base_uri": "https://localhost:8080/",
     "height": 343
    },
    "id": "bE0-qMli5yeb",
    "outputId": "f15d4d96-8771-416d-9b9c-2f2f240aadbb"
   },
   "outputs": [
    {
     "data": {
      "image/png": "[encoded data removed]",
      "text/plain": [
       "<Figure size 576x360 with 1 Axes>"
      ]
     },
     "metadata": {},
     "output_type": "display_data"
    }
   ],
   "source": [
    "plt.figure(figsize=(8, 5))\n",
    "\n",
    "plt.hist(test_probabilities, bins=100)\n",
    "plt.vlines(0.3, 0, 12000)\n",
    "\n",
    "plt.xlabel('Предсказанная вероятность дефолта', fontsize=20)\n",
    "plt.ylabel('Количество заемщиков', fontsize=20);"
   ]
  },
  {
   "cell_type": "markdown",
   "metadata": {
    "id": "3DyqKm-25yeg"
   },
   "source": [
    "Распределение сконцентрировано на отрезке от `0` до `0.3` и лишь незначительная часть вероятностей превышает порог `0.5`. Из\n",
    "этого можно предположить, что классификатор склонен классифицировать все\n",
    "объекты скорее как `0`, игнорируя метку `1`. Это происходит потому, что меток `1` в обучающей выборке сильно меньше, чем меток `0`."
   ]
  },
  {
   "cell_type": "markdown",
   "metadata": {
    "id": "j5OHMpZO5yeh"
   },
   "source": [
    "### Шаг 5.4. Выбор порога классификатора"
   ]
  },
  {
   "cell_type": "markdown",
   "metadata": {
    "id": "cQtqh0jZ5yeh"
   },
   "source": [
    "На самом деле, при вызове метода **`predict()`** классификатор преобразует полученные вероятности в метки. По умолчанию для этого используется сравнение с порогом $0.5$: если вероятность объекта меньше порога, то этот объект относится к классу 0, если больше - к классу 1.  \n",
    "\n",
    "По умолчанию классификатор использует порог $0.5$, чтобы из вероятностей принадлежности к классу сделать метки классов.  "
   ]
  },
  {
   "cell_type": "markdown",
   "metadata": {
    "id": "T-pYot-Q5yeh"
   },
   "source": [
    "**За что отвечает порог классификатора?**\n",
    "\n",
    "Порог классификатора контролирует соотношение между количеством False positive и False negative. Если мы задаем слишком высокий порог классификатора, то он редко предсказывает 1, но часто 0, таким образом, увеличивается количество False negative и уменьшается количество False positive. Если же порог низкий - мы часто предсказываем 1, а 0 реже, значит увеличивается количество False positive и уменьшается False negative. \n",
    "\n",
    "Что это значит в нашей задаче кредитного скоринга? Если порог высокий, то мы реже считаем клиентов подозрительными и чаще выдаем клиентам кредит. В этом случае банк может потерять много денег из-за невозвратов. Если же порог низкий, то мы чаще считаем клиентов подозрительными и выдаем мало кредитов. Очевидно, это тоже плохо, так как мы часто не выдаем кредиты честным клиентам, что отражается на прибыли банка."
   ]
  },
  {
   "cell_type": "markdown",
   "metadata": {
    "id": "ucdkjV3V5yei"
   },
   "source": [
    "Посмотрим на то, как влияет порог на матрицу сопряженности.  "
   ]
  },
  {
   "cell_type": "code",
   "execution_count": null,
   "metadata": {
    "id": "6zxRWCkx5yei"
   },
   "outputs": [],
   "source": [
    "higher_thershold = 0.7\n",
    "alternative_test_predictions = test_probabilities > higher_thershold"
   ]
  },
  {
   "cell_type": "code",
   "execution_count": null,
   "metadata": {
    "colab": {
     "base_uri": "https://localhost:8080/",
     "height": 110
    },
    "id": "3ZUg7Bs25yej",
    "outputId": "fa18576b-678e-4cf7-9199-006c5b33f269"
   },
   "outputs": [
    {
     "data": {
      "text/html": [
       "<div>\n",
       "<style scoped>\n",
       "    .dataframe tbody tr th:only-of-type {\n",
       "        vertical-align: middle;\n",
       "    }\n",
       "\n",
       "    .dataframe tbody tr th {\n",
       "        vertical-align: top;\n",
       "    }\n",
       "\n",
       "    .dataframe thead th {\n",
       "        text-align: right;\n",
       "    }\n",
       "</style>\n",
       "<table border=\"1\" class=\"dataframe\">\n",
       "  <thead>\n",
       "    <tr style=\"text-align: right;\">\n",
       "      <th></th>\n",
       "      <th>0</th>\n",
       "      <th>1</th>\n",
       "    </tr>\n",
       "  </thead>\n",
       "  <tbody>\n",
       "    <tr>\n",
       "      <th>0</th>\n",
       "      <td>34947</td>\n",
       "      <td>26</td>\n",
       "    </tr>\n",
       "    <tr>\n",
       "      <th>1</th>\n",
       "      <td>2508</td>\n",
       "      <td>19</td>\n",
       "    </tr>\n",
       "  </tbody>\n",
       "</table>\n",
       "</div>"
      ],
      "text/plain": [
       "       0   1\n",
       "0  34947  26\n",
       "1   2508  19"
      ]
     },
     "execution_count": 51,
     "metadata": {},
     "output_type": "execute_result"
    }
   ],
   "source": [
    "alternative_confusion_matrix = pd.DataFrame(confusion_matrix(test_values, alternative_test_predictions))\n",
    "alternative_confusion_matrix"
   ]
  },
  {
   "cell_type": "markdown",
   "metadata": {
    "id": "KGAmbShg5yem"
   },
   "source": [
    "Действительно, количество ложно-отрицательных (False negative) срабатываний увеличилось, а количество ложно-положительных срабатываний (False positive) уменьшилось. "
   ]
  },
  {
   "cell_type": "markdown",
   "metadata": {
    "id": "b10M0w1Q5yem"
   },
   "source": [
    "**Задание:** получите confusion matrix для уменьшенного значения порога 0.3"
   ]
  },
  {
   "cell_type": "code",
   "execution_count": null,
   "metadata": {
    "colab": {
     "base_uri": "https://localhost:8080/",
     "height": 110
    },
    "id": "lafdBV1s5yen",
    "outputId": "0366db3c-e99a-464e-94ba-ec8e7e400a98"
   },
   "outputs": [
    {
     "data": {
      "text/html": [
       "<div>\n",
       "<style scoped>\n",
       "    .dataframe tbody tr th:only-of-type {\n",
       "        vertical-align: middle;\n",
       "    }\n",
       "\n",
       "    .dataframe tbody tr th {\n",
       "        vertical-align: top;\n",
       "    }\n",
       "\n",
       "    .dataframe thead th {\n",
       "        text-align: right;\n",
       "    }\n",
       "</style>\n",
       "<table border=\"1\" class=\"dataframe\">\n",
       "  <thead>\n",
       "    <tr style=\"text-align: right;\">\n",
       "      <th></th>\n",
       "      <th>0</th>\n",
       "      <th>1</th>\n",
       "    </tr>\n",
       "  </thead>\n",
       "  <tbody>\n",
       "    <tr>\n",
       "      <th>0</th>\n",
       "      <td>34925</td>\n",
       "      <td>48</td>\n",
       "    </tr>\n",
       "    <tr>\n",
       "      <th>1</th>\n",
       "      <td>2483</td>\n",
       "      <td>44</td>\n",
       "    </tr>\n",
       "  </tbody>\n",
       "</table>\n",
       "</div>"
      ],
      "text/plain": [
       "       0   1\n",
       "0  34925  48\n",
       "1   2483  44"
      ]
     },
     "execution_count": 52,
     "metadata": {},
     "output_type": "execute_result"
    }
   ],
   "source": [
    "# Ваш код тут...\n",
    "higher_thershold = 0.3\n",
    "alternative_test_predictions = test_probabilities > higher_thershold\n",
    "alternative_confusion_matrix = pd.DataFrame(confusion_matrix(test_values, alternative_test_predictions))\n",
    "alternative_confusion_matrix"
   ]
  },
  {
   "cell_type": "markdown",
   "metadata": {
    "id": "isaLYaqS5yeq"
   },
   "source": [
    "### *Бонус:  ROC кривая классификатора"
   ]
  },
  {
   "cell_type": "markdown",
   "metadata": {
    "id": "fSe79hj75yeq"
   },
   "source": [
    "Если хотят сравнить метрики на разных наборах данных, обычно работают не с абсолютными значениями True Positive и False Positive, а с их долями:\n",
    "\n",
    "* Доля ложноположительных срабатываний $\\text{FPR} = \\frac{FP}{FP + TN}$;\n",
    "* Доля истинно положительных срабатываний $\\text{TPR} = \\frac{TP}{TP + FN}$.\n",
    "\n",
    "Заметим, что $FP + TN$ дает общее число объектов класса $0$, а $TP + FN$ - общее число объектов класса $1$. "
   ]
  },
  {
   "cell_type": "markdown",
   "metadata": {
    "id": "f5nm_bAR5yeq"
   },
   "source": [
    "Одной из самых популярных метрик для задачи классификации является ROC кривая. ROC расшифровывается как *Receiver Operating Characteristic*. Эта кривая наглядно показывает зависимость доли истинно позитивных срабатываний (**TPR**) от доли ложно позитивных срабатываний (**FPR**) при изменении порога классификации."
   ]
  },
  {
   "cell_type": "markdown",
   "metadata": {
    "id": "twvcSW7V5yer"
   },
   "source": [
    "Функция **roc_curve()** из **scikit-learn** позволяет получить координаты точек ROC кривой, а также значения порога **threshold**, при котором достигается соответствующие значения метрик **FPR** и **TPR**.\n",
    "\n",
    "На вход функции **roc_curve()** необходимо передать два аргумента:\n",
    "* истинные значения меток - *test_values*\n",
    "* вероятности, предсказанные моделью - *test_probabilities*"
   ]
  },
  {
   "cell_type": "code",
   "execution_count": null,
   "metadata": {
    "id": "rePH4FgT5yes"
   },
   "outputs": [],
   "source": [
    "false_positive_rates, true_positive_rates, threshold = roc_curve(test_values, test_probabilities)"
   ]
  },
  {
   "cell_type": "markdown",
   "metadata": {
    "id": "oVSqwTNo5yet"
   },
   "source": [
    "Нарисуем кривую"
   ]
  },
  {
   "cell_type": "code",
   "execution_count": null,
   "metadata": {
    "colab": {
     "base_uri": "https://localhost:8080/",
     "height": 458
    },
    "id": "Dmkvvm455yeu",
    "outputId": "4e0d39bc-58e8-4b17-c248-4e0acb6c19c3"
   },
   "outputs": [
    {
     "data": {
      "image/png": "[encoded data removed]",
      "text/plain": [
       "<Figure size 504x504 with 1 Axes>"
      ]
     },
     "metadata": {},
     "output_type": "display_data"
    }
   ],
   "source": [
    "# создаём график\n",
    "plt.figure(figsize=(7, 7))\n",
    "\n",
    "# рисуем кривую\n",
    "plt.plot(false_positive_rates, true_positive_rates, label='Сглаженные значения ROC-AUC')\n",
    "\n",
    "# кривая, соответствующая случайному угадыванию\n",
    "plt.plot([0, 1], [0, 1], color='k', lw=2, linestyle=':', label='Модель, выдающая случайное значение')\n",
    "\n",
    "plt.title('ROC curve')\n",
    "plt.xlabel('False Positive Rate')\n",
    "plt.ylabel('True Positive Rate')\n",
    "\n",
    "plt.fill_between(false_positive_rates, true_positive_rates, step=\"mid\", alpha=0.4, label='Площадь под кривой (ROC-AUC)')\n",
    "plt.legend()\n",
    "plt.show()"
   ]
  },
  {
   "cell_type": "markdown",
   "metadata": {
    "id": "rqV1cHuj5yew"
   },
   "source": [
    "Чем ближе в целом кривая **ROC** к **левому верхнему** углу, тем лучше качество классификации."
   ]
  },
  {
   "cell_type": "markdown",
   "metadata": {
    "id": "4uBWO7Bt5yex"
   },
   "source": [
    "Несмотря на наглядность, иногда требуется некоторое число, обобщающее весь\n",
    "график. Для ROC кривой таким числом является \"площадь под кривой\" (**ROC-AUC**). \n",
    "\n",
    "В **sklearn** есть специальная функция **roc_auc_score()** для подсчёта\n",
    "площади под ROC-кривой. "
   ]
  },
  {
   "cell_type": "code",
   "execution_count": null,
   "metadata": {
    "id": "PZFwHXTZ5yex"
   },
   "outputs": [],
   "source": [
    "from sklearn.metrics import roc_auc_score"
   ]
  },
  {
   "cell_type": "markdown",
   "metadata": {
    "id": "Z5lZEu1V5ye3"
   },
   "source": [
    "Типичная шкала для **ROC-AUC** (часто все зависит от задачи):\n",
    "* $0.90$ - $1.00$ отлично;\n",
    "* $0.80$ - $0.90$ хорошо;\n",
    "* $0.70$ - $0.80$ удовлетворительно;\n",
    "* $0.60$ - $0.70$ плохо;\n",
    "* $0.50$ - $0.60$ очень плохо;\n",
    "* $0.00$ - $0.50$ классификатор перепутал метки."
   ]
  },
  {
   "cell_type": "markdown",
   "metadata": {
    "id": "pCT21EAqrrfS"
   },
   "source": [
    "# Новый раздел"
   ]
  },
  {
   "cell_type": "code",
   "execution_count": null,
   "metadata": {
    "colab": {
     "base_uri": "https://localhost:8080/"
    },
    "id": "a5uXMrEs5ye3",
    "outputId": "100d5da2-f3ef-4601-ac21-4031de2c379a"
   },
   "outputs": [
    {
     "name": "stdout",
     "output_type": "stream",
     "text": [
      "ROC-AUC на тестовой выборке: 0.6618061832107444\n"
     ]
    }
   ],
   "source": [
    "roc_auc_value = roc_auc_score(test_values, test_probabilities)\n",
    "\n",
    "print(\"ROC-AUC на тестовой выборке:\", roc_auc_value) "
   ]
  },
  {
   "cell_type": "code",
   "execution_count": null,
   "metadata": {
    "id": "cQuW1KsXTdO0"
   },
   "outputs": [],
   "source": [
    "precision, recall, _ = precision_recall_curve(test_values, test_probabilities)"
   ]
  },
  {
   "cell_type": "code",
   "execution_count": null,
   "metadata": {
    "colab": {
     "base_uri": "https://localhost:8080/",
     "height": 467
    },
    "id": "ah34k-SmTd5w",
    "outputId": "67677a5b-db8f-43a0-9736-8b80413410a7"
   },
   "outputs": [
    {
     "data": {
      "image/png": "[encoded data removed]",
      "text/plain": [
       "<Figure size 504x504 with 1 Axes>"
      ]
     },
     "metadata": {},
     "output_type": "display_data"
    }
   ],
   "source": [
    "plt.figure(figsize=(7, 7))\n",
    "\n",
    "plt.plot(precision, recall, color='darkorange')\n",
    "\n",
    "plt.title('Precision-Recall curve', fontsize=18)\n",
    "plt.xlabel('Полнота (Recall)', fontsize=16)\n",
    "plt.ylabel('Точность (Precision)', fontsize=16)\n",
    "\n",
    "plt.show()"
   ]
  },
  {
   "cell_type": "code",
   "execution_count": null,
   "metadata": {
    "id": "zeWXMmV8UVbn"
   },
   "outputs": [],
   "source": [
    "confusion_matrix_rand_for = confusion_matrix(test_values, test_predictions_random_forest)"
   ]
  },
  {
   "cell_type": "code",
   "execution_count": null,
   "metadata": {
    "id": "T3EdmTqKTwT7"
   },
   "outputs": [],
   "source": [
    "TN, FP = confusion_matrix_rand_for[0, 0], confusion_matrix_rand_for[0, 1]\n",
    "\n",
    "FN, TP = confusion_matrix_rand_for[1, 0], confusion_matrix_rand_for[1, 1]"
   ]
  },
  {
   "cell_type": "code",
   "execution_count": null,
   "metadata": {
    "colab": {
     "base_uri": "https://localhost:8080/"
    },
    "id": "7jOGFjlcUNxY",
    "outputId": "641bb7ba-5e73-4f39-fd0d-e3b5ac4259e5"
   },
   "outputs": [
    {
     "name": "stdout",
     "output_type": "stream",
     "text": [
      "Точность: 52.43%\n"
     ]
    }
   ],
   "source": [
    "precision = TP / (TP + FP)\n",
    "\n",
    "print(\"Точность: %.2f%%\" % (100 * precision))"
   ]
  },
  {
   "cell_type": "code",
   "execution_count": null,
   "metadata": {
    "colab": {
     "base_uri": "https://localhost:8080/"
    },
    "id": "zrk8_e7BVVsN",
    "outputId": "60e30749-607f-434c-8ac9-5715700d6f06"
   },
   "outputs": [
    {
     "name": "stdout",
     "output_type": "stream",
     "text": [
      "Полнота: 18.32%\n"
     ]
    }
   ],
   "source": [
    "recall = TP / (TP + FN)\n",
    "\n",
    "print(\"Полнота: %.2f%%\" % (100 * recall))"
   ]
  },
  {
   "cell_type": "code",
   "execution_count": null,
   "metadata": {
    "id": "WrBgz0DVVnXh"
   },
   "outputs": [],
   "source": []
  }
 ],
 "metadata": {
  "_change_revision": 36,
  "_is_fork": false,
  "colab": {
   "collapsed_sections": [
    "tGhylaB65ydP"
   ],
   "provenance": []
  },
  "kernelspec": {
   "display_name": "Python 3 (ipykernel)",
   "language": "python",
   "name": "python3"
  },
  "language_info": {
   "codemirror_mode": {
    "name": "ipython",
    "version": 3
   },
   "file_extension": ".py",
   "mimetype": "text/x-python",
   "name": "python",
   "nbconvert_exporter": "python",
   "pygments_lexer": "ipython3",
   "version": "3.9.12"
  }
 },
 "nbformat": 4,
 "nbformat_minor": 1
}
