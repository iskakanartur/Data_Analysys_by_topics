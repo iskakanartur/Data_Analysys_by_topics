{
 "cells": [
  {
   "cell_type": "markdown",
   "id": "1837a6ea",
   "metadata": {},
   "source": [
    "# Logistic Regression - for classification\n",
    "- target value is a binary variable instead of a continuous value\n",
    "- The effect of applying the logistic function is to compress the output of the linear function so that it's limited to a range between 0 and 1."
   ]
  },
  {
   "cell_type": "markdown",
   "id": "08941716",
   "metadata": {},
   "source": [
    "## PART 1 - A quick Intro \n",
    "- credits https://www.youtube.com/watch?v=yIYKR4sgzI8"
   ]
  },
  {
   "cell_type": "code",
   "execution_count": null,
   "id": "63bf842a",
   "metadata": {},
   "outputs": [],
   "source": [
    "### Review - Linear Regression "
   ]
  },
  {
   "cell_type": "markdown",
   "id": "a03fc43f",
   "metadata": {},
   "source": [
    "<img src=\"pics_logistic/l1.png\" alt=\"Drawing\" style=\"width: 600px;\"/>"
   ]
  },
  {
   "cell_type": "code",
   "execution_count": 2,
   "id": "5558316f",
   "metadata": {},
   "outputs": [],
   "source": [
    "### Logistic Regression - First glance"
   ]
  },
  {
   "cell_type": "markdown",
   "id": "66a33365",
   "metadata": {},
   "source": [
    "<img src=\"pics_logistic/l2.png\" alt=\"Drawing\" style=\"width: 600px;\"/>"
   ]
  },
  {
   "cell_type": "code",
   "execution_count": null,
   "id": "00ac3740",
   "metadata": {},
   "outputs": [],
   "source": [
    "## Instead of fitting a line to the data logsistic regression is an S shape function \n",
    "## the curve goes from 0 to 1 and that means that the curve tells you the probability \n",
    "## that a mouse is obese based on its weight "
   ]
  },
  {
   "cell_type": "markdown",
   "id": "b9ec0cb3",
   "metadata": {},
   "source": [
    "<img src=\"pics_logistic/l3.png\" alt=\"Drawing\" style=\"width: 600px;\"/>"
   ]
  },
  {
   "cell_type": "code",
   "execution_count": null,
   "id": "79c35b12",
   "metadata": {},
   "outputs": [],
   "source": [
    "### Logistic regression for classification\n",
    "### see probabilties on picture at different postions. Heavy mouse 80 % prob that is obese\n",
    "### etc"
   ]
  },
  {
   "cell_type": "markdown",
   "id": "711f6e42",
   "metadata": {},
   "source": [
    "<img src=\"pics_logistic/l4.png\" alt=\"Drawing\" style=\"width: 600px;\"/>"
   ]
  },
  {
   "cell_type": "code",
   "execution_count": null,
   "id": "0ac4838f",
   "metadata": {},
   "outputs": [],
   "source": [
    "### Classification Obese not obese"
   ]
  },
  {
   "cell_type": "markdown",
   "id": "05ed1f1d",
   "metadata": {},
   "source": [
    "<img src=\"pics_logistic/l5.png\" alt=\"Drawing\" style=\"width: 600px;\"/>"
   ]
  },
  {
   "cell_type": "code",
   "execution_count": null,
   "id": "7bb4e054",
   "metadata": {},
   "outputs": [],
   "source": [
    "## Logistic Regression as a machine learning model to make preditcions:\n",
    "### continuous and categorical data"
   ]
  },
  {
   "cell_type": "markdown",
   "id": "b82bf849",
   "metadata": {},
   "source": [
    "<img src=\"pics_logistic/l6.png\" alt=\"Drawing\" style=\"width: 600px;\"/>"
   ]
  },
  {
   "cell_type": "code",
   "execution_count": null,
   "id": "276f3430",
   "metadata": {},
   "outputs": [],
   "source": [
    "### We can TEST THE SIGNIFICANCE OF EACH VARIABLE IN PREDICTIONS!!!"
   ]
  },
  {
   "cell_type": "markdown",
   "id": "e4e9cb19",
   "metadata": {},
   "source": [
    "<img src=\"pics_logistic/l7.png\" alt=\"Drawing\" style=\"width: 600px;\"/>"
   ]
  },
  {
   "cell_type": "code",
   "execution_count": 1,
   "id": "45ad66ed",
   "metadata": {},
   "outputs": [],
   "source": [
    "#### HOW IMPORTANT IS THE VARIABLE IN THE MODEL? Test to see if a variable's effect\n",
    "### on the prediction is different from 0"
   ]
  },
  {
   "cell_type": "markdown",
   "id": "ab82c3a3",
   "metadata": {},
   "source": [
    "<img src=\"pics_logistic/l8.png\" alt=\"Drawing\" style=\"width: 600px;\"/>"
   ]
  },
  {
   "cell_type": "code",
   "execution_count": null,
   "id": "f0f96cec",
   "metadata": {},
   "outputs": [],
   "source": [
    "### Difference Logistic vs Linear Regression "
   ]
  },
  {
   "cell_type": "markdown",
   "id": "ff1364e2",
   "metadata": {},
   "source": [
    "<img src=\"pics_logistic/l9.png\" alt=\"Drawing\" style=\"width: 600px;\"/>"
   ]
  },
  {
   "cell_type": "code",
   "execution_count": null,
   "id": "b9861a89",
   "metadata": {},
   "outputs": [],
   "source": [
    "### Lieanr Regression - Least Squares method to minimize Error (y hat minus y)"
   ]
  },
  {
   "cell_type": "markdown",
   "id": "92be0419",
   "metadata": {},
   "source": [
    "<img src=\"pics_logistic/l10.png\" alt=\"Drawing\" style=\"width: 600px;\"/>"
   ]
  },
  {
   "cell_type": "code",
   "execution_count": 3,
   "id": "7dfbb5ef",
   "metadata": {},
   "outputs": [],
   "source": [
    "### No R suqared for ligistic Regression"
   ]
  },
  {
   "cell_type": "markdown",
   "id": "b750ac40",
   "metadata": {},
   "source": [
    "<img src=\"pics_logistic/l11.png\" alt=\"Drawing\" style=\"width: 600px;\"/>"
   ]
  },
  {
   "cell_type": "code",
   "execution_count": null,
   "id": "ae15d35b",
   "metadata": {},
   "outputs": [],
   "source": [
    "### Logistic Regression - MAXIMUM LIKELIHOOD\n",
    "### step 1"
   ]
  },
  {
   "cell_type": "markdown",
   "id": "43fe20c8",
   "metadata": {},
   "source": [
    "<img src=\"pics_logistic/l12.png\" alt=\"Drawing\" style=\"width: 600px;\"/>"
   ]
  },
  {
   "cell_type": "code",
   "execution_count": null,
   "id": "e5cdf399",
   "metadata": {},
   "outputs": [],
   "source": [
    "### Logistic Regression - MAXIMUM LIKELIHOOD\n",
    "### step 1"
   ]
  },
  {
   "cell_type": "markdown",
   "id": "5371db75",
   "metadata": {},
   "source": [
    "<img src=\"pics_logistic/l4.png\" alt=\"Drawing\" style=\"width: 600px;\"/>"
   ]
  },
  {
   "cell_type": "code",
   "execution_count": null,
   "id": "ce9249cd",
   "metadata": {},
   "outputs": [],
   "source": [
    "### Logistic Regression - MAXIMUM LIKELIHOOD\n",
    "### step 2"
   ]
  },
  {
   "cell_type": "markdown",
   "id": "645f3fac",
   "metadata": {},
   "source": [
    "<img src=\"pics_logistic/l13.png\" alt=\"Drawing\" style=\"width: 600px;\"/>"
   ]
  },
  {
   "cell_type": "code",
   "execution_count": null,
   "id": "48275023",
   "metadata": {},
   "outputs": [],
   "source": [
    "### Logistic Regression - MAXIMUM LIKELIHOOD\n",
    "### step 2"
   ]
  },
  {
   "cell_type": "markdown",
   "id": "faa47346",
   "metadata": {},
   "source": [
    "<img src=\"pics_logistic/l14.png\" alt=\"Drawing\" style=\"width: 600px;\"/>"
   ]
  },
  {
   "cell_type": "code",
   "execution_count": null,
   "id": "a663bfd4",
   "metadata": {},
   "outputs": [],
   "source": [
    "### Logistic Regression - MAXIMUM LIKELIHOOD\n",
    "### step 3"
   ]
  },
  {
   "cell_type": "markdown",
   "id": "a1e00d85",
   "metadata": {},
   "source": [
    "<img src=\"pics_logistic/l15.png\" alt=\"Drawing\" style=\"width: 600px;\"/>"
   ]
  },
  {
   "cell_type": "code",
   "execution_count": null,
   "id": "f7696de9",
   "metadata": {},
   "outputs": [],
   "source": [
    "### Logistic Regression - MAXIMUM LIKELIHOOD\n",
    "### Then you shift the line and calculate the new likelihood of the data (see pale dotted lines)\n",
    "### Then shift the line anc calculate the likelihood again\n",
    "### (pale dotted lines)\n",
    "### FINALLY THE LINE WITH MAX LIKELIHOOD IS SELECTED"
   ]
  },
  {
   "cell_type": "markdown",
   "id": "d6fcb40f",
   "metadata": {},
   "source": [
    "<img src=\"pics_logistic/l16.png\" alt=\"Drawing\" style=\"width: 600px;\"/>"
   ]
  },
  {
   "cell_type": "code",
   "execution_count": null,
   "id": "acc18cfb",
   "metadata": {},
   "outputs": [],
   "source": []
  },
  {
   "cell_type": "code",
   "execution_count": null,
   "id": "624bbcbf",
   "metadata": {},
   "outputs": [],
   "source": []
  },
  {
   "cell_type": "code",
   "execution_count": null,
   "id": "77c5f7d0",
   "metadata": {},
   "outputs": [],
   "source": [
    "### On Logistic Regression COeffs https://www.youtube.com/watch?v=vN5cNN2-HWE"
   ]
  },
  {
   "cell_type": "code",
   "execution_count": null,
   "id": "46611a5a",
   "metadata": {},
   "outputs": [],
   "source": [
    "### Logistci Regression Y axis takes probabilities of from 0 to 1, so to solve that problem\n",
    "### we take the log . So like the y axis of a LINEAR reg, it can go from minus infinity to plus infinity"
   ]
  },
  {
   "cell_type": "markdown",
   "id": "8439dd55",
   "metadata": {},
   "source": [
    "<img src=\"pics_logistic/l17.png\" alt=\"Drawing\" style=\"width: 600px;\"/>"
   ]
  },
  {
   "cell_type": "code",
   "execution_count": null,
   "id": "71cb9925",
   "metadata": {},
   "outputs": [],
   "source": [
    "### Logistc Regression y axis transfomtaion from 0 t0 1 to ifinites"
   ]
  },
  {
   "cell_type": "markdown",
   "id": "e0ee5e87",
   "metadata": {},
   "source": [
    "<img src=\"pics_logistic/l18.png\" alt=\"Drawing\" style=\"width: 600px;\"/>"
   ]
  },
  {
   "cell_type": "code",
   "execution_count": null,
   "id": "f92d66b4",
   "metadata": {},
   "outputs": [],
   "source": []
  },
  {
   "cell_type": "markdown",
   "id": "abf7976b",
   "metadata": {},
   "source": [
    "## PART 2 : Categorical Variables, Problems with linear models, Logistic Model\n",
    "- Negative probabilities in linear models \n",
    "- https://www.youtube.com/watch?v=gNhogKJ_q7U"
   ]
  },
  {
   "cell_type": "code",
   "execution_count": null,
   "id": "5c4d780f",
   "metadata": {},
   "outputs": [],
   "source": [
    "##CONTINUOUS vs Categorical Variables : General Linear Model"
   ]
  },
  {
   "cell_type": "markdown",
   "id": "634d5051",
   "metadata": {},
   "source": [
    "<img src=\"pics_logistic/l19.png\" alt=\"Drawing\" style=\"width: 600px;\"/>"
   ]
  },
  {
   "cell_type": "code",
   "execution_count": null,
   "id": "a21deaee",
   "metadata": {},
   "outputs": [],
   "source": [
    "## EXAMPLES OF BINARY OUTCOMES\n"
   ]
  },
  {
   "cell_type": "markdown",
   "id": "2cb4cb5d",
   "metadata": {},
   "source": [
    "<img src=\"pics_logistic/l20.png\" alt=\"Drawing\" style=\"width: 600px;\"/>"
   ]
  },
  {
   "cell_type": "code",
   "execution_count": null,
   "id": "7702fb80",
   "metadata": {},
   "outputs": [],
   "source": [
    "## Binary Outcomes YES OR NO"
   ]
  },
  {
   "cell_type": "markdown",
   "id": "2dec3af3",
   "metadata": {},
   "source": [
    "<img src=\"pics_logistic/l21.png\" alt=\"Drawing\" style=\"width: 600px;\"/>"
   ]
  },
  {
   "cell_type": "code",
   "execution_count": null,
   "id": "bc2924d0",
   "metadata": {},
   "outputs": [],
   "source": [
    "## Example "
   ]
  },
  {
   "cell_type": "markdown",
   "id": "a69978ef",
   "metadata": {},
   "source": [
    "<img src=\"pics_logistic/l22.png\" alt=\"Drawing\" style=\"width: 600px;\"/>"
   ]
  },
  {
   "cell_type": "code",
   "execution_count": null,
   "id": "4ca3be2b",
   "metadata": {},
   "outputs": [],
   "source": [
    "## COULD WE USE A INEAR REGRESSION IN THE EXAMPLE?\n",
    "## We could and here it is"
   ]
  },
  {
   "cell_type": "markdown",
   "id": "9edd6048",
   "metadata": {},
   "source": [
    "<img src=\"pics_logistic/l23.png\" alt=\"Drawing\" style=\"width: 600px;\"/>"
   ]
  },
  {
   "cell_type": "code",
   "execution_count": null,
   "id": "007accbc",
   "metadata": {},
   "outputs": [],
   "source": [
    "## And the Statistics output of Regression model is\n",
    "##"
   ]
  },
  {
   "cell_type": "markdown",
   "id": "d6bce1d8",
   "metadata": {},
   "source": [
    "<img src=\"pics_logistic/l24.png\" alt=\"Drawing\" style=\"width: 600px;\"/>"
   ]
  },
  {
   "cell_type": "code",
   "execution_count": null,
   "id": "790de171",
   "metadata": {},
   "outputs": [],
   "source": [
    "#### Still with the Linear Regression : INTERPRETING THE RESULTS\n",
    "## EVERY ADDITIONAL YEAR OF AGE INCREASES the PROBABIITY OF\n",
    "## SUBSCRIPTION BY 6.4%"
   ]
  },
  {
   "cell_type": "markdown",
   "id": "9b8bc78e",
   "metadata": {},
   "source": [
    "<img src=\"pics_logistic/l25.png\" alt=\"Drawing\" style=\"width: 600px;\"/>"
   ]
  },
  {
   "cell_type": "code",
   "execution_count": null,
   "id": "1a52aa2b",
   "metadata": {},
   "outputs": [],
   "source": [
    "## PROBLEMS WITH LINEAR REGRESSION (NEGATIVE PROBABILITIES)"
   ]
  },
  {
   "cell_type": "markdown",
   "id": "5fdfb27f",
   "metadata": {},
   "source": [
    "<img src=\"pics_logistic/l26.png\" alt=\"Drawing\" style=\"width: 600px;\"/>"
   ]
  },
  {
   "cell_type": "code",
   "execution_count": null,
   "id": "bb4cab40",
   "metadata": {},
   "outputs": [],
   "source": [
    "#### Trying to handle negative probabilities by cutting the edges - making them zero \n",
    "### Hint doesn't work well"
   ]
  },
  {
   "cell_type": "markdown",
   "id": "8eb265da",
   "metadata": {},
   "source": [
    "<img src=\"pics_logistic/l27.png\" alt=\"Drawing\" style=\"width: 600px;\"/>"
   ]
  },
  {
   "cell_type": "code",
   "execution_count": 3,
   "id": "eb26a719",
   "metadata": {},
   "outputs": [],
   "source": [
    "### Fixing the Prior Approach "
   ]
  },
  {
   "cell_type": "markdown",
   "id": "7878fb77",
   "metadata": {},
   "source": [
    "<img src=\"pics_logistic/l28.png\" alt=\"Drawing\" style=\"width: 600px;\"/>"
   ]
  },
  {
   "cell_type": "code",
   "execution_count": null,
   "id": "e39303b2",
   "metadata": {},
   "outputs": [],
   "source": [
    "## 2 Codnitions - Proprtions \n",
    "##  Dividing the same number with a number greater than istelf (+1) gives a smaller ratio"
   ]
  },
  {
   "cell_type": "markdown",
   "id": "842fd0e6",
   "metadata": {},
   "source": [
    "<img src=\"pics_logistic/l30.png\" alt=\"Drawing\" style=\"width: 600px;\"/>"
   ]
  },
  {
   "cell_type": "code",
   "execution_count": null,
   "id": "45134aa6",
   "metadata": {},
   "outputs": [],
   "source": [
    "## LINEAR FUNCTION IS NOT GONE\n",
    "## ln for log"
   ]
  },
  {
   "cell_type": "markdown",
   "id": "c3792b52",
   "metadata": {},
   "source": [
    "<img src=\"pics_logistic/l31.png\" alt=\"Drawing\" style=\"width: 600px;\"/>"
   ]
  },
  {
   "cell_type": "code",
   "execution_count": null,
   "id": "da0f1600",
   "metadata": {},
   "outputs": [],
   "source": []
  },
  {
   "cell_type": "markdown",
   "id": "63125e13",
   "metadata": {},
   "source": [
    "<img src=\"pics_logistic/l33a.png\" alt=\"Drawing\" style=\"width: 600px;\"/>"
   ]
  },
  {
   "cell_type": "markdown",
   "id": "23b48d15",
   "metadata": {},
   "source": [
    "<img src=\"pics_logistic/l33.png\" alt=\"Drawing\" style=\"width: 600px;\"/>"
   ]
  },
  {
   "cell_type": "code",
   "execution_count": null,
   "id": "3cf2afc5",
   "metadata": {},
   "outputs": [],
   "source": [
    "## The Logsitic Regression Model\n",
    "## No negative probabilities any more\n",
    "## Rather as the customer gets older the probability of becoming a subcriber\n",
    "## asimptotically gets coser to 1"
   ]
  },
  {
   "cell_type": "markdown",
   "id": "ac69db89",
   "metadata": {},
   "source": [
    "<img src=\"pics_logistic/l34.png\" alt=\"Drawing\" style=\"width: 600px;\"/>"
   ]
  },
  {
   "cell_type": "code",
   "execution_count": null,
   "id": "eb91fc26",
   "metadata": {},
   "outputs": [],
   "source": []
  },
  {
   "cell_type": "markdown",
   "id": "2e12b474",
   "metadata": {},
   "source": [
    "## PART 3 CLASSIFICATION : Linear Models for Classification"
   ]
  },
  {
   "cell_type": "code",
   "execution_count": null,
   "id": "487e8678",
   "metadata": {},
   "outputs": [],
   "source": [
    "## Here, we show the same type of diagram that we showed for linear regression with the input variables,  \n",
    "## xi in the left boxes and the model coefficients wi and b above the arrows. T\n",
    "## he logistic regression model still computes a weighted sum of the input features xi \n",
    "## and the intercept term b, \n",
    "## but it runs this result through a special non-linear function f, \n",
    "## the logistic function represented by this new box in the middle of the diagram to produce the output y."
   ]
  },
  {
   "cell_type": "markdown",
   "id": "792bb161",
   "metadata": {},
   "source": [
    "<img src=\"pics_logistic/l35.png\" alt=\"Drawing\" style=\"width: 700px;\"/>"
   ]
  },
  {
   "cell_type": "code",
   "execution_count": null,
   "id": "2e38605e",
   "metadata": {},
   "outputs": [],
   "source": [
    "#### LOGISTIC REGRESSION A REALISTIC EXAMPLE\n",
    "### Suppose we want to whether or not a student will pass a final exam based on a single input variable \n",
    "## that's the number of hours they spend studying for the exam.\n",
    "\n",
    "## Students who end up failing the exam are assigned to the negative class, which corresponds to a \n",
    "##target value of 0. And students who pass the exam are assigned to the positive class and \n",
    "## associated with a target value of 1.\n",
    "\n",
    "##This plot shows an example training set. The x-axis corresponds to the number of hours studied \n",
    "## and the y-axis corresponds to the probability of passing the exam.\n",
    "##The red points to the left, with a target value of 0 represent points in the training set, \n",
    "##which are examples of students who failed the exam, along with the number of hours they spent studying.\n",
    "\n",
    "## Likewise, the blue points with target value 1 on the right represent points in the training set, \n",
    "## corresponding to students who passed the exam. With their x values representing the number of \n",
    "##hours those students spent studying.\n",
    "\n",
    "## Using logistic regression, we can estimate model coefficients for w hat and b hat that \n",
    "## produce a logistic curve that best fits these training points."
   ]
  },
  {
   "cell_type": "code",
   "execution_count": null,
   "id": "c15a3e75",
   "metadata": {},
   "outputs": [],
   "source": [
    "### AND THE CLASSIFICATION !!!\n",
    "## Students who estimated probability of passing the exam is greater than or equal to 50% are\n",
    "## predicted to be in the positive class. Otherwise, they're predicted to be in the negative class."
   ]
  },
  {
   "cell_type": "markdown",
   "id": "829e8cd7",
   "metadata": {},
   "source": [
    "<img src=\"pics_logistic/l39.png\" alt=\"Drawing\" style=\"width: 600px;\"/>"
   ]
  },
  {
   "cell_type": "code",
   "execution_count": null,
   "id": "32b34dbf",
   "metadata": {},
   "outputs": [],
   "source": [
    "### and then we can go to 3DIMENSIONAL space - with 2 Features\n",
    "\n",
    "### Once this logistic function has been estimated from the training data, we can use it \n",
    "## to predict the class membership for any point, given its Feature 1 and Feature 2 values, \n",
    "##same way we did for the exam example.\n",
    "\n",
    "### Any data instances whose logistic probability estimate y hat is greater than or equal to 0.5 are \n",
    "## predicted to be in the positive blue class,\n",
    "## otherwise, in the other red class."
   ]
  },
  {
   "cell_type": "markdown",
   "id": "a46f5bd7",
   "metadata": {},
   "source": [
    "<img src=\"pics_logistic/l40.png\" alt=\"Drawing\" style=\"width: 700px;\"/>"
   ]
  },
  {
   "cell_type": "code",
   "execution_count": null,
   "id": "b8fc2d5a",
   "metadata": {},
   "outputs": [],
   "source": [
    "### THE BOUNDYRY  using logistic regression gives a linear decision boundary between the classes as shown here."
   ]
  },
  {
   "cell_type": "markdown",
   "id": "a66a7aed",
   "metadata": {},
   "source": [
    "<img src=\"pics_logistic/l41.png\" alt=\"Drawing\" style=\"width: 700px;\"/>"
   ]
  },
  {
   "cell_type": "code",
   "execution_count": null,
   "id": "1509ad34",
   "metadata": {},
   "outputs": [],
   "source": []
  },
  {
   "cell_type": "markdown",
   "id": "a66cfe33",
   "metadata": {},
   "source": [
    "## PART 3 : EVALUATION : Confusion Matrices, ROC Curve and Basic Evaluation Metrics"
   ]
  },
  {
   "cell_type": "code",
   "execution_count": 33,
   "id": "ebf1c865",
   "metadata": {},
   "outputs": [],
   "source": [
    "## Represent Train  Evaluate Refine Cycle\n",
    "## Its an Art))))"
   ]
  },
  {
   "cell_type": "markdown",
   "id": "42978f54",
   "metadata": {},
   "source": [
    "<img src=\"pics_logistic/l55.png\" alt=\"Drawing\" style=\"width: 800px;\"/>"
   ]
  },
  {
   "cell_type": "code",
   "execution_count": null,
   "id": "09a8c394",
   "metadata": {},
   "outputs": [],
   "source": []
  },
  {
   "cell_type": "code",
   "execution_count": null,
   "id": "055ff70d",
   "metadata": {},
   "outputs": [],
   "source": [
    "## Confusion Matrices & Basic Evaluation Metrics\n",
    "## DIFFERENT ERROR TYPES\n",
    "\n",
    "## The black points here are the instances with true class positive namely the digit one and \n",
    "## the white points have true class negative, that is, there are all the other digits except for one. \n",
    "\n",
    "## The black line shows a hypothetical linear classifier's decision BOUNDRY  for which any instance \n",
    "## to the left of the decision boundary is predicted to be in the positive class and everything to \n",
    "##the right of the decision boundary is predicted to be in the negative class. \n",
    "\n",
    "##The true positive points are those black points in the positive prediction region and \n",
    "## false positives are those white points in the positive prediction region. \n",
    "\n",
    "## Likewise, true negatives are the white points in the negative prediction region and false negatives \n",
    "## are black points in the negative prediction region."
   ]
  },
  {
   "cell_type": "markdown",
   "id": "36267113",
   "metadata": {},
   "source": [
    "<img src=\"pics_logistic/l42.png\" alt=\"Drawing\" style=\"width: 1000px;\"/>"
   ]
  },
  {
   "cell_type": "code",
   "execution_count": null,
   "id": "67b7cff5",
   "metadata": {},
   "outputs": [],
   "source": [
    "## ACCURACY\n",
    "\n",
    "## "
   ]
  },
  {
   "cell_type": "markdown",
   "id": "68e80aa4",
   "metadata": {},
   "source": [
    "<img src=\"pics_logistic/l43.png\" alt=\"Drawing\" style=\"width: 700px;\"/>"
   ]
  },
  {
   "cell_type": "code",
   "execution_count": null,
   "id": "1efef354",
   "metadata": {},
   "outputs": [],
   "source": [
    "## CLASSIFICATION ERROR "
   ]
  },
  {
   "cell_type": "markdown",
   "id": "9867a2d4",
   "metadata": {},
   "source": [
    "<img src=\"pics_logistic/l44.png\" alt=\"Drawing\" style=\"width: 700px;\"/>"
   ]
  },
  {
   "cell_type": "code",
   "execution_count": null,
   "id": "452daac1",
   "metadata": {},
   "outputs": [],
   "source": [
    "## !!! RECALL OR TRUE POSITIVE RATE\n"
   ]
  },
  {
   "cell_type": "markdown",
   "id": "ee53b06f",
   "metadata": {},
   "source": [
    "<img src=\"pics_logistic/l45.png\" alt=\"Drawing\" style=\"width: 700px;\"/>"
   ]
  },
  {
   "cell_type": "code",
   "execution_count": null,
   "id": "f551e416",
   "metadata": {},
   "outputs": [],
   "source": [
    "## SPECIFICITY - FALSE POSITIVE RATE"
   ]
  },
  {
   "cell_type": "markdown",
   "id": "5a4b7f72",
   "metadata": {},
   "source": [
    "<img src=\"pics_logistic/l46.png\" alt=\"Drawing\" style=\"width: 700px;\"/>"
   ]
  },
  {
   "cell_type": "code",
   "execution_count": null,
   "id": "740bd250",
   "metadata": {},
   "outputs": [],
   "source": [
    "## PRECISION RECALL TRADEOFF\n",
    "\n",
    "\n",
    "## We can see that a PRECISION of 0.68 means that about 68 percent of the points in the \n",
    "## positive prediction region to the left of the decision boundary or 13 out of the 19 instances \n",
    "## are correctly labeled as positive. \n",
    "\n",
    "## A RECALL  of 0.87 means, that of all true positive instances, so all black points in the figure, \n",
    "## the positive prediction region has 'found about 87 percent of them' or 13 out of 15.\n",
    "\n"
   ]
  },
  {
   "cell_type": "markdown",
   "id": "7cc4c290",
   "metadata": {},
   "source": [
    "<img src=\"pics_logistic/l47.png\" alt=\"Drawing\" style=\"width: 700px;\"/>"
   ]
  },
  {
   "cell_type": "code",
   "execution_count": null,
   "id": "b9689d67",
   "metadata": {},
   "outputs": [],
   "source": [
    "## High precision low Recall: IT HAS A COST !!! SEE BELOW\n",
    "\n",
    "## SOMETIMES WE WANT HIGHER PRECISION SUCH AS SEARCH ENGINE QUERYIES\n",
    "## If we wanted a classifier that was oriented towards higher levels of precision like \n",
    "## in the search engine query suggestion task, we might want a decision boundary instead that look like this.\n",
    "\n",
    "## THE COST\n",
    "## Now, this comes at a cost because out of the 15 total positive instances 8 of them are now FALSE negatives, \n",
    "## in other words, they're INCORRECTLY  PREDICTED as being negative. \n",
    "## And so, recall drops to 7 divided by 15 or 0.47"
   ]
  },
  {
   "cell_type": "markdown",
   "id": "4985c454",
   "metadata": {},
   "source": [
    "<img src=\"pics_logistic/l48.png\" alt=\"Drawing\" style=\"width: 700px;\"/>"
   ]
  },
  {
   "cell_type": "code",
   "execution_count": null,
   "id": "ab737c71",
   "metadata": {},
   "outputs": [],
   "source": [
    "## Tumor Detection Type of Tasks where the Error is VERY COSTLY\n",
    "\n",
    "## On the other hand, if our classification task is like the tumor detection example, \n",
    "## we want to minimize false negatives and obtain high recall. \n",
    "## In which case, we would want the classifier's decision boundary to look more like this. \n",
    "## Now, all 15 positive instances have been correctly predicted as being in the positive class, \n",
    "## which means these tumors have all been detected. \n",
    "\n",
    "##However, this also comes with a cost since the number of false positives, \n",
    "## things that the detector triggers as possible tumors for example that are actually not, \n",
    "## has gone up. So, recall is a perfect 1.0 score but the precision has dropped to 15 out of 42 or 0.36. \n",
    "\n",
    "## These examples illustrate a classic trade-off that often appears in machine learning applications"
   ]
  },
  {
   "cell_type": "markdown",
   "id": "76fbc822",
   "metadata": {},
   "source": [
    "<img src=\"pics_logistic/l49.png\" alt=\"Drawing\" style=\"width: 700px;\"/>"
   ]
  },
  {
   "cell_type": "code",
   "execution_count": null,
   "id": "6eb85158",
   "metadata": {},
   "outputs": [],
   "source": [
    "## THE TRADEOFF PRECISION - RECALL and APPLICATIONS"
   ]
  },
  {
   "cell_type": "markdown",
   "id": "0844e343",
   "metadata": {},
   "source": [
    "<img src=\"pics_logistic/l50.png\" alt=\"Drawing\" style=\"width: 700px;\"/>"
   ]
  },
  {
   "cell_type": "code",
   "execution_count": null,
   "id": "b72bf34a",
   "metadata": {},
   "outputs": [],
   "source": [
    "## F SCORE !!! PARAMETER BETA - Adjust Precision vs Recall with Beta\n",
    "\n",
    "## This F1 score is a special case of a more general evaluation metric known as an F score \n",
    "## that introduces a PARAMETER BETA. \n",
    "\n",
    "## By ADJSUTING  BETA we can CONTROL  how much emphasis an evaluation is given to precision versus recall. \n",
    "\n",
    "## For example, if we have PRECISION ORINETED users, we might say a beta equal to 0.5, \n",
    "## since we want false positives to hurt performance more than false negatives. \n",
    "\n",
    "## For RECALL  ORIENTED situations, we might set beta to a number larger than one, say two, \n",
    "## to emphasize that false negatives should hurt performance more than false positives. \n",
    "\n",
    "## The setting of beta equals one corresponds to the F1 score special case that we just saw \n",
    "## that weights precision and recall equally."
   ]
  },
  {
   "cell_type": "markdown",
   "id": "8b338d55",
   "metadata": {},
   "source": [
    "<img src=\"pics_logistic/l51.png\" alt=\"Drawing\" style=\"width: 700px;\"/>"
   ]
  },
  {
   "cell_type": "code",
   "execution_count": null,
   "id": "1f9d83cb",
   "metadata": {},
   "outputs": [],
   "source": [
    "## PRECSION RECALL CURVES"
   ]
  },
  {
   "cell_type": "markdown",
   "id": "a68a411c",
   "metadata": {},
   "source": [
    "<img src=\"pics_logistic/l52.png\" alt=\"Drawing\" style=\"width: 700px;\"/>"
   ]
  },
  {
   "cell_type": "code",
   "execution_count": null,
   "id": "b3df4717",
   "metadata": {},
   "outputs": [],
   "source": [
    "## ROC CURVES \n",
    "\n",
    "## ROC curves or receiver operating characteristic curves are a very widely used visualization method \n",
    "## that illustrate the performance of a binary classifier.\n",
    "\n",
    "## ROC curves on the X-axis show a classifier's False Positive Rate so that would go \n",
    "## from 0 to 1.0, and on the Y-axis they show a classifier's True Positive Rate so that will also go \n",
    "## from 0 to 1.0. \n",
    "\n",
    "## The ideal point in ROC space is one where the classifier achieves zero, \n",
    "## a false positive rate of zero, and a true positive rate of one. So that would be the upper left corner."
   ]
  },
  {
   "cell_type": "markdown",
   "id": "9c6a0a2c",
   "metadata": {},
   "source": [
    "<img src=\"pics_logistic/l54.png\" alt=\"Drawing\" style=\"width: 700px;\"/>"
   ]
  },
  {
   "cell_type": "code",
   "execution_count": null,
   "id": "0ef4a075",
   "metadata": {},
   "outputs": [],
   "source": []
  },
  {
   "cell_type": "code",
   "execution_count": null,
   "id": "1ff31edb",
   "metadata": {},
   "outputs": [],
   "source": [
    "<img src=\"pics_logistic/l49.png\" alt=\"Drawing\" style=\"width: 700px;\"/>"
   ]
  },
  {
   "cell_type": "code",
   "execution_count": null,
   "id": "7d2da44e",
   "metadata": {},
   "outputs": [],
   "source": []
  },
  {
   "cell_type": "code",
   "execution_count": null,
   "id": "1d96be3e",
   "metadata": {},
   "outputs": [],
   "source": [
    "<img src=\"pics_logistic/l49.png\" alt=\"Drawing\" style=\"width: 700px;\"/>"
   ]
  },
  {
   "cell_type": "code",
   "execution_count": null,
   "id": "08a91b31",
   "metadata": {},
   "outputs": [],
   "source": []
  },
  {
   "cell_type": "code",
   "execution_count": null,
   "id": "286d1d45",
   "metadata": {},
   "outputs": [],
   "source": []
  },
  {
   "cell_type": "code",
   "execution_count": null,
   "id": "3c8e80a4",
   "metadata": {},
   "outputs": [],
   "source": []
  },
  {
   "cell_type": "code",
   "execution_count": null,
   "id": "83e56f30",
   "metadata": {},
   "outputs": [],
   "source": []
  },
  {
   "cell_type": "markdown",
   "id": "dfaa2e13",
   "metadata": {},
   "source": [
    "## PART 4 : Practical - predict diabetes using the Logistic Regression Classifier.\n",
    "-allcredist go to https://www.datacamp.com/tutorial/understanding-logistic-regression-python"
   ]
  },
  {
   "cell_type": "code",
   "execution_count": 21,
   "id": "0291075c",
   "metadata": {},
   "outputs": [
    {
     "data": {
      "text/html": [
       "<div>\n",
       "<style scoped>\n",
       "    .dataframe tbody tr th:only-of-type {\n",
       "        vertical-align: middle;\n",
       "    }\n",
       "\n",
       "    .dataframe tbody tr th {\n",
       "        vertical-align: top;\n",
       "    }\n",
       "\n",
       "    .dataframe thead th {\n",
       "        text-align: right;\n",
       "    }\n",
       "</style>\n",
       "<table border=\"1\" class=\"dataframe\">\n",
       "  <thead>\n",
       "    <tr style=\"text-align: right;\">\n",
       "      <th></th>\n",
       "      <th>pregnant</th>\n",
       "      <th>glucose</th>\n",
       "      <th>bp</th>\n",
       "      <th>skin</th>\n",
       "      <th>insulin</th>\n",
       "      <th>bmi</th>\n",
       "      <th>pedigree</th>\n",
       "      <th>age</th>\n",
       "      <th>label</th>\n",
       "    </tr>\n",
       "  </thead>\n",
       "  <tbody>\n",
       "    <tr>\n",
       "      <th>0</th>\n",
       "      <td>6</td>\n",
       "      <td>148</td>\n",
       "      <td>72</td>\n",
       "      <td>35</td>\n",
       "      <td>0</td>\n",
       "      <td>33.6</td>\n",
       "      <td>0.627</td>\n",
       "      <td>50</td>\n",
       "      <td>1</td>\n",
       "    </tr>\n",
       "    <tr>\n",
       "      <th>1</th>\n",
       "      <td>1</td>\n",
       "      <td>85</td>\n",
       "      <td>66</td>\n",
       "      <td>29</td>\n",
       "      <td>0</td>\n",
       "      <td>26.6</td>\n",
       "      <td>0.351</td>\n",
       "      <td>31</td>\n",
       "      <td>0</td>\n",
       "    </tr>\n",
       "    <tr>\n",
       "      <th>2</th>\n",
       "      <td>8</td>\n",
       "      <td>183</td>\n",
       "      <td>64</td>\n",
       "      <td>0</td>\n",
       "      <td>0</td>\n",
       "      <td>23.3</td>\n",
       "      <td>0.672</td>\n",
       "      <td>32</td>\n",
       "      <td>1</td>\n",
       "    </tr>\n",
       "  </tbody>\n",
       "</table>\n",
       "</div>"
      ],
      "text/plain": [
       "   pregnant  glucose  bp  skin  insulin   bmi  pedigree  age  label\n",
       "0         6      148  72    35        0  33.6     0.627   50      1\n",
       "1         1       85  66    29        0  26.6     0.351   31      0\n",
       "2         8      183  64     0        0  23.3     0.672   32      1"
      ]
     },
     "execution_count": 21,
     "metadata": {},
     "output_type": "execute_result"
    }
   ],
   "source": [
    "#import pandas\n",
    "import pandas as pd\n",
    "col_names = ['pregnant', 'glucose', 'bp', 'skin', 'insulin', 'bmi', 'pedigree', 'age', 'label']\n",
    "# load dataset\n",
    "pima = pd.read_csv(\"pima-indians-diabetes.csv\", header=None, names=col_names)\n",
    "#pima = pd.read_csv(\"diabetes.csv\", header=None, names=col_names)\n",
    "#pima = pima[1:]\n",
    "pima.head(3)"
   ]
  },
  {
   "cell_type": "code",
   "execution_count": 14,
   "id": "9d11ace7",
   "metadata": {},
   "outputs": [
    {
     "data": {
      "text/html": [
       "<div>\n",
       "<style scoped>\n",
       "    .dataframe tbody tr th:only-of-type {\n",
       "        vertical-align: middle;\n",
       "    }\n",
       "\n",
       "    .dataframe tbody tr th {\n",
       "        vertical-align: top;\n",
       "    }\n",
       "\n",
       "    .dataframe thead th {\n",
       "        text-align: right;\n",
       "    }\n",
       "</style>\n",
       "<table border=\"1\" class=\"dataframe\">\n",
       "  <thead>\n",
       "    <tr style=\"text-align: right;\">\n",
       "      <th></th>\n",
       "      <th>pregnant</th>\n",
       "      <th>glucose</th>\n",
       "      <th>bp</th>\n",
       "      <th>skin</th>\n",
       "      <th>insulin</th>\n",
       "      <th>bmi</th>\n",
       "      <th>pedigree</th>\n",
       "      <th>age</th>\n",
       "      <th>label</th>\n",
       "    </tr>\n",
       "  </thead>\n",
       "  <tbody>\n",
       "    <tr>\n",
       "      <th>pregnant</th>\n",
       "      <td>1.000000</td>\n",
       "      <td>0.129459</td>\n",
       "      <td>0.141282</td>\n",
       "      <td>-0.081672</td>\n",
       "      <td>-0.073535</td>\n",
       "      <td>0.017683</td>\n",
       "      <td>-0.033523</td>\n",
       "      <td>0.544341</td>\n",
       "      <td>0.221898</td>\n",
       "    </tr>\n",
       "    <tr>\n",
       "      <th>glucose</th>\n",
       "      <td>0.129459</td>\n",
       "      <td>1.000000</td>\n",
       "      <td>0.152590</td>\n",
       "      <td>0.057328</td>\n",
       "      <td>0.331357</td>\n",
       "      <td>0.221071</td>\n",
       "      <td>0.137337</td>\n",
       "      <td>0.263514</td>\n",
       "      <td>0.466581</td>\n",
       "    </tr>\n",
       "    <tr>\n",
       "      <th>bp</th>\n",
       "      <td>0.141282</td>\n",
       "      <td>0.152590</td>\n",
       "      <td>1.000000</td>\n",
       "      <td>0.207371</td>\n",
       "      <td>0.088933</td>\n",
       "      <td>0.281805</td>\n",
       "      <td>0.041265</td>\n",
       "      <td>0.239528</td>\n",
       "      <td>0.065068</td>\n",
       "    </tr>\n",
       "    <tr>\n",
       "      <th>skin</th>\n",
       "      <td>-0.081672</td>\n",
       "      <td>0.057328</td>\n",
       "      <td>0.207371</td>\n",
       "      <td>1.000000</td>\n",
       "      <td>0.436783</td>\n",
       "      <td>0.392573</td>\n",
       "      <td>0.183928</td>\n",
       "      <td>-0.113970</td>\n",
       "      <td>0.074752</td>\n",
       "    </tr>\n",
       "    <tr>\n",
       "      <th>insulin</th>\n",
       "      <td>-0.073535</td>\n",
       "      <td>0.331357</td>\n",
       "      <td>0.088933</td>\n",
       "      <td>0.436783</td>\n",
       "      <td>1.000000</td>\n",
       "      <td>0.197859</td>\n",
       "      <td>0.185071</td>\n",
       "      <td>-0.042163</td>\n",
       "      <td>0.130548</td>\n",
       "    </tr>\n",
       "    <tr>\n",
       "      <th>bmi</th>\n",
       "      <td>0.017683</td>\n",
       "      <td>0.221071</td>\n",
       "      <td>0.281805</td>\n",
       "      <td>0.392573</td>\n",
       "      <td>0.197859</td>\n",
       "      <td>1.000000</td>\n",
       "      <td>0.140647</td>\n",
       "      <td>0.036242</td>\n",
       "      <td>0.292695</td>\n",
       "    </tr>\n",
       "    <tr>\n",
       "      <th>pedigree</th>\n",
       "      <td>-0.033523</td>\n",
       "      <td>0.137337</td>\n",
       "      <td>0.041265</td>\n",
       "      <td>0.183928</td>\n",
       "      <td>0.185071</td>\n",
       "      <td>0.140647</td>\n",
       "      <td>1.000000</td>\n",
       "      <td>0.033561</td>\n",
       "      <td>0.173844</td>\n",
       "    </tr>\n",
       "    <tr>\n",
       "      <th>age</th>\n",
       "      <td>0.544341</td>\n",
       "      <td>0.263514</td>\n",
       "      <td>0.239528</td>\n",
       "      <td>-0.113970</td>\n",
       "      <td>-0.042163</td>\n",
       "      <td>0.036242</td>\n",
       "      <td>0.033561</td>\n",
       "      <td>1.000000</td>\n",
       "      <td>0.238356</td>\n",
       "    </tr>\n",
       "    <tr>\n",
       "      <th>label</th>\n",
       "      <td>0.221898</td>\n",
       "      <td>0.466581</td>\n",
       "      <td>0.065068</td>\n",
       "      <td>0.074752</td>\n",
       "      <td>0.130548</td>\n",
       "      <td>0.292695</td>\n",
       "      <td>0.173844</td>\n",
       "      <td>0.238356</td>\n",
       "      <td>1.000000</td>\n",
       "    </tr>\n",
       "  </tbody>\n",
       "</table>\n",
       "</div>"
      ],
      "text/plain": [
       "          pregnant   glucose        bp      skin   insulin       bmi  \\\n",
       "pregnant  1.000000  0.129459  0.141282 -0.081672 -0.073535  0.017683   \n",
       "glucose   0.129459  1.000000  0.152590  0.057328  0.331357  0.221071   \n",
       "bp        0.141282  0.152590  1.000000  0.207371  0.088933  0.281805   \n",
       "skin     -0.081672  0.057328  0.207371  1.000000  0.436783  0.392573   \n",
       "insulin  -0.073535  0.331357  0.088933  0.436783  1.000000  0.197859   \n",
       "bmi       0.017683  0.221071  0.281805  0.392573  0.197859  1.000000   \n",
       "pedigree -0.033523  0.137337  0.041265  0.183928  0.185071  0.140647   \n",
       "age       0.544341  0.263514  0.239528 -0.113970 -0.042163  0.036242   \n",
       "label     0.221898  0.466581  0.065068  0.074752  0.130548  0.292695   \n",
       "\n",
       "          pedigree       age     label  \n",
       "pregnant -0.033523  0.544341  0.221898  \n",
       "glucose   0.137337  0.263514  0.466581  \n",
       "bp        0.041265  0.239528  0.065068  \n",
       "skin      0.183928 -0.113970  0.074752  \n",
       "insulin   0.185071 -0.042163  0.130548  \n",
       "bmi       0.140647  0.036242  0.292695  \n",
       "pedigree  1.000000  0.033561  0.173844  \n",
       "age       0.033561  1.000000  0.238356  \n",
       "label     0.173844  0.238356  1.000000  "
      ]
     },
     "execution_count": 14,
     "metadata": {},
     "output_type": "execute_result"
    }
   ],
   "source": [
    "pima.corr()"
   ]
  },
  {
   "cell_type": "code",
   "execution_count": 8,
   "id": "5254c980",
   "metadata": {},
   "outputs": [
    {
     "data": {
      "text/plain": [
       "(768, 9)"
      ]
     },
     "execution_count": 8,
     "metadata": {},
     "output_type": "execute_result"
    }
   ],
   "source": [
    "pima.shape"
   ]
  },
  {
   "cell_type": "code",
   "execution_count": 12,
   "id": "dab670a2",
   "metadata": {},
   "outputs": [
    {
     "data": {
      "text/plain": [
       "(268, 9)"
      ]
     },
     "execution_count": 12,
     "metadata": {},
     "output_type": "execute_result"
    }
   ],
   "source": [
    "pima[pima.label == 1].shape"
   ]
  },
  {
   "cell_type": "code",
   "execution_count": 13,
   "id": "a0883222",
   "metadata": {},
   "outputs": [
    {
     "data": {
      "text/plain": [
       "(500, 9)"
      ]
     },
     "execution_count": 13,
     "metadata": {},
     "output_type": "execute_result"
    }
   ],
   "source": [
    "pima[pima.label == 0].shape"
   ]
  },
  {
   "cell_type": "code",
   "execution_count": null,
   "id": "81c97644",
   "metadata": {},
   "outputs": [],
   "source": [
    "## Selecting Feature\n",
    "## Here, you need to divide the given columns into two types of variables dependent(or target variable) \n",
    "## and independent variable(or feature variables)."
   ]
  },
  {
   "cell_type": "code",
   "execution_count": 22,
   "id": "e7969fec",
   "metadata": {},
   "outputs": [],
   "source": [
    "## split dataset in features and target variable\n",
    "feature_cols = ['pregnant', 'insulin', 'bmi', 'age','glucose','bp','pedigree']\n",
    "## feature_cols = ['bmi', 'age','glucose','bp'] TEST\n",
    "X = pima[feature_cols] # Features\n",
    "y = pima.label # Target variable"
   ]
  },
  {
   "cell_type": "code",
   "execution_count": null,
   "id": "d3cba68e",
   "metadata": {},
   "outputs": [],
   "source": [
    "## Splitting Data\n",
    "## To understand model performance, dividing the dataset into a training set and a test set \n",
    "## is a good strategy. Let's split the dataset by using the function train_test_split(). \n",
    "##You need to pass 3 parameters: features, target, and test_set size. \n",
    "## Additionally, you can use random_state to select records randomly."
   ]
  },
  {
   "cell_type": "code",
   "execution_count": 23,
   "id": "7b662249",
   "metadata": {},
   "outputs": [],
   "source": [
    "# split X and y into training and testing sets\n",
    "from sklearn.model_selection import train_test_split\n",
    "\n",
    "X_train, X_test, y_train, y_test = train_test_split(X, y, test_size=0.25, random_state=16)"
   ]
  },
  {
   "cell_type": "code",
   "execution_count": null,
   "id": "712cee94",
   "metadata": {},
   "outputs": [],
   "source": [
    "## Model Development and Prediction\n",
    "## First, import the Logistic Regression module and create a Logistic Regression classifier object\n",
    "## using the LogisticRegression() function with random_state for reproducibility. \n",
    "##Then, fit your model on the train set using fit() and perform prediction on the test set using predict(). "
   ]
  },
  {
   "cell_type": "code",
   "execution_count": 24,
   "id": "64336c23",
   "metadata": {},
   "outputs": [],
   "source": [
    "# import the class\n",
    "from sklearn.linear_model import LogisticRegression\n",
    "\n",
    "# instantiate the model (using the default parameters)\n",
    "logreg = LogisticRegression(random_state=16)\n",
    "\n",
    "# fit the model with data\n",
    "logreg.fit(X_train, y_train)\n",
    "\n",
    "y_pred = logreg.predict(X_test)"
   ]
  },
  {
   "cell_type": "code",
   "execution_count": 6,
   "id": "8f2a5492",
   "metadata": {},
   "outputs": [
    {
     "data": {
      "text/plain": [
       "array([1, 0, 0, 0, 0, 1, 0, 0, 0, 0, 0, 0, 1, 1, 0, 0, 1, 0, 0, 0, 0, 0,\n",
       "       0, 0, 0, 0, 1, 0, 0, 0, 0, 0, 0, 0, 0, 0, 0, 1, 0, 0, 0, 1, 0, 1,\n",
       "       0, 0, 1, 0, 0, 0, 0, 1, 0, 0, 0, 0, 0, 1, 1, 0, 0, 0, 0, 0, 1, 1,\n",
       "       0, 1, 0, 0, 0, 0, 1, 0, 0, 0, 0, 1, 0, 0, 0, 0, 1, 1, 1, 0, 0, 0,\n",
       "       0, 0, 1, 1, 1, 0, 0, 0, 0, 1, 0, 1, 0, 1, 0, 0, 0, 0, 0, 0, 0, 1,\n",
       "       0, 0, 1, 1, 0, 0, 1, 0, 0, 0, 1, 0, 0, 0, 0, 1, 0, 0, 0, 1, 0, 1,\n",
       "       0, 0, 1, 0, 0, 0, 0, 0, 1, 0, 0, 0, 0, 0, 0, 1, 0, 0, 0, 1, 0, 0,\n",
       "       1, 0, 0, 0, 1, 0, 0, 1, 0, 0, 0, 0, 0, 1, 0, 0, 0, 0, 0, 1, 0, 0,\n",
       "       1, 0, 1, 1, 0, 0, 0, 1, 0, 1, 1, 0, 0, 0, 1, 1])"
      ]
     },
     "execution_count": 6,
     "metadata": {},
     "output_type": "execute_result"
    }
   ],
   "source": [
    "y_pred"
   ]
  },
  {
   "cell_type": "code",
   "execution_count": null,
   "id": "5f5462a9",
   "metadata": {},
   "outputs": [],
   "source": []
  },
  {
   "cell_type": "code",
   "execution_count": null,
   "id": "bfabe0ce",
   "metadata": {},
   "outputs": [],
   "source": []
  },
  {
   "cell_type": "code",
   "execution_count": null,
   "id": "29fc31af",
   "metadata": {},
   "outputs": [],
   "source": [
    "## Model Evaluation using Confusion Matrix\n",
    "## A confusion matrix is a table that is used to evaluate the performance of a classification model. \n",
    "## You can also visualize the performance of an algorithm. The fundamental of a confusion matrix is the number of\n",
    "## correct and incorrect predictions summed up class-wise"
   ]
  },
  {
   "cell_type": "code",
   "execution_count": 23,
   "id": "80076044",
   "metadata": {},
   "outputs": [
    {
     "data": {
      "text/plain": [
       "array([[115,  10],\n",
       "       [ 25,  42]])"
      ]
     },
     "execution_count": 23,
     "metadata": {},
     "output_type": "execute_result"
    }
   ],
   "source": [
    "# import the metrics class\n",
    "## Here, you can see the confusion matrix in the form of the array object. \n",
    "## The dimension of this matrix is 2*2 because this model is binary classification. \n",
    "## You have two classes 0 and 1. \n",
    "## Diagonal values represent accurate predictions, while non-diagonal elements are inaccurate predictions. \n",
    "## In the output, 115 and 42 are actual predictions, and 25 and 10 are incorrect predictions\n",
    "from sklearn import metrics\n",
    "\n",
    "cnf_matrix = metrics.confusion_matrix(y_test, y_pred)\n",
    "cnf_matrix"
   ]
  },
  {
   "cell_type": "code",
   "execution_count": null,
   "id": "74fd474d",
   "metadata": {},
   "outputs": [],
   "source": [
    "## Visualizing Confusion Matrix using Heatmap\n",
    "## Let's visualize the results of the model in the form of a confusion matrix using matplotlib and seaborn.\n",
    "## Here, you will visualize the confusion matrix using Heatmap."
   ]
  },
  {
   "cell_type": "code",
   "execution_count": 25,
   "id": "697820ea",
   "metadata": {},
   "outputs": [
    {
     "data": {
      "text/plain": [
       "Text(0.5, 257.44, 'Predicted label')"
      ]
     },
     "execution_count": 25,
     "metadata": {},
     "output_type": "execute_result"
    },
    {
     "data": {
      "image/png": "[encoded data removed]",
      "text/plain": [
       "<Figure size 432x288 with 2 Axes>"
      ]
     },
     "metadata": {
      "needs_background": "light"
     },
     "output_type": "display_data"
    }
   ],
   "source": [
    "# import required modules\n",
    "import numpy as np\n",
    "import matplotlib.pyplot as plt\n",
    "import seaborn as sns\n",
    "\n",
    "class_names=[0,1] # name  of classes\n",
    "fig, ax = plt.subplots()\n",
    "tick_marks = np.arange(len(class_names))\n",
    "plt.xticks(tick_marks, class_names)\n",
    "plt.yticks(tick_marks, class_names)\n",
    "# create heatmap\n",
    "sns.heatmap(pd.DataFrame(cnf_matrix), annot=True, cmap=\"YlGnBu\" ,fmt='g')\n",
    "ax.xaxis.set_label_position(\"top\")\n",
    "plt.tight_layout()\n",
    "plt.title('Confusion matrix', y=1.1)\n",
    "plt.ylabel('Actual label')\n",
    "plt.xlabel('Predicted label')\n",
    "\n",
    "#Text(0.5,257.44,'Predicted label');"
   ]
  },
  {
   "cell_type": "code",
   "execution_count": 9,
   "id": "e3473898",
   "metadata": {},
   "outputs": [
    {
     "data": {
      "text/plain": [
       "(768, 9)"
      ]
     },
     "execution_count": 9,
     "metadata": {},
     "output_type": "execute_result"
    }
   ],
   "source": [
    "pima.shape"
   ]
  },
  {
   "cell_type": "code",
   "execution_count": null,
   "id": "c7bed00f",
   "metadata": {},
   "outputs": [],
   "source": [
    "## Confusion Matrix Evaluation Metrics\n",
    "## Let's evaluate the model using classification_report for accuracy, precision, and recall."
   ]
  },
  {
   "cell_type": "code",
   "execution_count": 26,
   "id": "c7d9a768",
   "metadata": {},
   "outputs": [
    {
     "name": "stdout",
     "output_type": "stream",
     "text": [
      "                  precision    recall  f1-score   support\n",
      "\n",
      "without diabetes       0.82      0.92      0.87       125\n",
      "   with diabetes       0.81      0.63      0.71        67\n",
      "\n",
      "        accuracy                           0.82       192\n",
      "       macro avg       0.81      0.77      0.79       192\n",
      "    weighted avg       0.82      0.82      0.81       192\n",
      "\n"
     ]
    }
   ],
   "source": [
    "from sklearn.metrics import classification_report\n",
    "target_names = ['without diabetes', 'with diabetes']\n",
    "print(classification_report(y_test, y_pred, target_names=target_names))\n",
    "\n",
    "## Well, you got a classification rate of 80%, considered as good accuracy. \n",
    "\n",
    "## PRECISION : Precision is about being precise, i.e., how accurate your model is. In other words, \n",
    "## you can say, when a model makes a prediction, how often it is correct. \n",
    "## In your prediction case, when your Logistic Regression model predicted patients are going to \n",
    "## suffer from diabetes, that patients have 73% of the time. \n",
    "\n",
    "## RECALL: If there are patients who have diabetes in the test set and your Logistic Regression model can identify it 57% of the time."
   ]
  },
  {
   "cell_type": "code",
   "execution_count": null,
   "id": "df35c3f9",
   "metadata": {},
   "outputs": [],
   "source": [
    "## ROC Curve\n",
    "## Receiver Operating Characteristic(ROC) curve is a plot of the true positive rate against \n",
    "## the false positive rate. It shows the tradeoff between sensitivity and specificity.\n",
    "\n",
    "## AUC score for the case is 0.88. AUC score 1 represents a perfect classifier, \n",
    "## and 0.5 represents a worthless classifier."
   ]
  },
  {
   "cell_type": "code",
   "execution_count": 27,
   "id": "2e5230d6",
   "metadata": {},
   "outputs": [
    {
     "data": {
      "image/png": "[encoded data removed]",
      "text/plain": [
       "<Figure size 432x288 with 1 Axes>"
      ]
     },
     "metadata": {
      "needs_background": "light"
     },
     "output_type": "display_data"
    }
   ],
   "source": [
    "y_pred_proba = logreg.predict_proba(X_test)[::,1]\n",
    "fpr, tpr, _ = metrics.roc_curve(y_test,  y_pred_proba)\n",
    "auc = metrics.roc_auc_score(y_test, y_pred_proba)\n",
    "plt.plot(fpr,tpr,label=\"data 1, auc=\"+str(auc))\n",
    "plt.legend(loc=4)\n",
    "plt.show()"
   ]
  },
  {
   "cell_type": "code",
   "execution_count": null,
   "id": "11714adb",
   "metadata": {},
   "outputs": [],
   "source": []
  },
  {
   "cell_type": "code",
   "execution_count": null,
   "id": "930ff9ad",
   "metadata": {},
   "outputs": [],
   "source": []
  },
  {
   "cell_type": "code",
   "execution_count": null,
   "id": "cb038aa9",
   "metadata": {},
   "outputs": [],
   "source": []
  },
  {
   "cell_type": "code",
   "execution_count": null,
   "id": "a2b730f6",
   "metadata": {},
   "outputs": [],
   "source": []
  },
  {
   "cell_type": "code",
   "execution_count": null,
   "id": "cb1ee737",
   "metadata": {},
   "outputs": [],
   "source": []
  },
  {
   "cell_type": "code",
   "execution_count": null,
   "id": "bb4b508d",
   "metadata": {},
   "outputs": [],
   "source": []
  },
  {
   "cell_type": "code",
   "execution_count": null,
   "id": "ea7aea58",
   "metadata": {},
   "outputs": [],
   "source": []
  }
 ],
 "metadata": {
  "kernelspec": {
   "display_name": "Python 3 (ipykernel)",
   "language": "python",
   "name": "python3"
  },
  "language_info": {
   "codemirror_mode": {
    "name": "ipython",
    "version": 3
   },
   "file_extension": ".py",
   "mimetype": "text/x-python",
   "name": "python",
   "nbconvert_exporter": "python",
   "pygments_lexer": "ipython3",
   "version": "3.9.12"
  }
 },
 "nbformat": 4,
 "nbformat_minor": 5
}
