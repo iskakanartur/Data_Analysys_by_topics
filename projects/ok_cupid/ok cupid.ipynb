{
 "cells": [
  {
   "cell_type": "markdown",
   "id": "fe9066de",
   "metadata": {},
   "source": [
    "## Ok Cupid Analysys\n",
    "- data https://www.kaggle.com/datasets/andrewmvd/okcupid-profiles\n",
    "- credits https://github.com/gkar90/OKCupid-Project/blob/main/date-a-scientist.ipynb"
   ]
  },
  {
   "cell_type": "code",
   "execution_count": 58,
   "id": "16cf6d45",
   "metadata": {},
   "outputs": [],
   "source": [
    "import pandas as pd\n",
    "import numpy as np\n",
    "import seaborn as sns\n",
    "\n",
    "import warnings\n",
    "warnings.filterwarnings('ignore')"
   ]
  },
  {
   "cell_type": "code",
   "execution_count": 2,
   "id": "8235dae3",
   "metadata": {},
   "outputs": [
    {
     "data": {
      "text/html": [
       "<div>\n",
       "<style scoped>\n",
       "    .dataframe tbody tr th:only-of-type {\n",
       "        vertical-align: middle;\n",
       "    }\n",
       "\n",
       "    .dataframe tbody tr th {\n",
       "        vertical-align: top;\n",
       "    }\n",
       "\n",
       "    .dataframe thead th {\n",
       "        text-align: right;\n",
       "    }\n",
       "</style>\n",
       "<table border=\"1\" class=\"dataframe\">\n",
       "  <thead>\n",
       "    <tr style=\"text-align: right;\">\n",
       "      <th></th>\n",
       "      <th>age</th>\n",
       "      <th>status</th>\n",
       "      <th>sex</th>\n",
       "      <th>orientation</th>\n",
       "      <th>body_type</th>\n",
       "      <th>diet</th>\n",
       "      <th>drinks</th>\n",
       "      <th>drugs</th>\n",
       "      <th>education</th>\n",
       "      <th>ethnicity</th>\n",
       "      <th>...</th>\n",
       "      <th>essay0</th>\n",
       "      <th>essay1</th>\n",
       "      <th>essay2</th>\n",
       "      <th>essay3</th>\n",
       "      <th>essay4</th>\n",
       "      <th>essay5</th>\n",
       "      <th>essay6</th>\n",
       "      <th>essay7</th>\n",
       "      <th>essay8</th>\n",
       "      <th>essay9</th>\n",
       "    </tr>\n",
       "  </thead>\n",
       "  <tbody>\n",
       "    <tr>\n",
       "      <th>0</th>\n",
       "      <td>22</td>\n",
       "      <td>single</td>\n",
       "      <td>m</td>\n",
       "      <td>straight</td>\n",
       "      <td>a little extra</td>\n",
       "      <td>strictly anything</td>\n",
       "      <td>socially</td>\n",
       "      <td>never</td>\n",
       "      <td>working on college/university</td>\n",
       "      <td>asian, white</td>\n",
       "      <td>...</td>\n",
       "      <td>about me:  i would love to think that i was so...</td>\n",
       "      <td>currently working as an international agent fo...</td>\n",
       "      <td>making people laugh. ranting about a good salt...</td>\n",
       "      <td>the way i look. i am a six foot half asian, ha...</td>\n",
       "      <td>books: absurdistan, the republic, of mice and ...</td>\n",
       "      <td>food. water. cell phone. shelter.</td>\n",
       "      <td>duality and humorous things</td>\n",
       "      <td>trying to find someone to hang out with. i am ...</td>\n",
       "      <td>i am new to california and looking for someone...</td>\n",
       "      <td>you want to be swept off your feet! you are ti...</td>\n",
       "    </tr>\n",
       "    <tr>\n",
       "      <th>1</th>\n",
       "      <td>35</td>\n",
       "      <td>single</td>\n",
       "      <td>m</td>\n",
       "      <td>straight</td>\n",
       "      <td>average</td>\n",
       "      <td>mostly other</td>\n",
       "      <td>often</td>\n",
       "      <td>sometimes</td>\n",
       "      <td>working on space camp</td>\n",
       "      <td>white</td>\n",
       "      <td>...</td>\n",
       "      <td>i am a chef: this is what that means. 1. i am ...</td>\n",
       "      <td>dedicating everyday to being an unbelievable b...</td>\n",
       "      <td>being silly. having ridiculous amonts of fun w...</td>\n",
       "      <td>NaN</td>\n",
       "      <td>i am die hard christopher moore fan. i don't r...</td>\n",
       "      <td>delicious porkness in all of its glories. my b...</td>\n",
       "      <td>NaN</td>\n",
       "      <td>NaN</td>\n",
       "      <td>i am very open and will share just about anyth...</td>\n",
       "      <td>NaN</td>\n",
       "    </tr>\n",
       "  </tbody>\n",
       "</table>\n",
       "<p>2 rows × 31 columns</p>\n",
       "</div>"
      ],
      "text/plain": [
       "   age  status sex orientation       body_type               diet    drinks  \\\n",
       "0   22  single   m    straight  a little extra  strictly anything  socially   \n",
       "1   35  single   m    straight         average       mostly other     often   \n",
       "\n",
       "       drugs                      education     ethnicity  ...  \\\n",
       "0      never  working on college/university  asian, white  ...   \n",
       "1  sometimes          working on space camp         white  ...   \n",
       "\n",
       "                                              essay0  \\\n",
       "0  about me:  i would love to think that i was so...   \n",
       "1  i am a chef: this is what that means. 1. i am ...   \n",
       "\n",
       "                                              essay1  \\\n",
       "0  currently working as an international agent fo...   \n",
       "1  dedicating everyday to being an unbelievable b...   \n",
       "\n",
       "                                              essay2  \\\n",
       "0  making people laugh. ranting about a good salt...   \n",
       "1  being silly. having ridiculous amonts of fun w...   \n",
       "\n",
       "                                              essay3  \\\n",
       "0  the way i look. i am a six foot half asian, ha...   \n",
       "1                                                NaN   \n",
       "\n",
       "                                              essay4  \\\n",
       "0  books: absurdistan, the republic, of mice and ...   \n",
       "1  i am die hard christopher moore fan. i don't r...   \n",
       "\n",
       "                                              essay5  \\\n",
       "0                  food. water. cell phone. shelter.   \n",
       "1  delicious porkness in all of its glories. my b...   \n",
       "\n",
       "                        essay6  \\\n",
       "0  duality and humorous things   \n",
       "1                          NaN   \n",
       "\n",
       "                                              essay7  \\\n",
       "0  trying to find someone to hang out with. i am ...   \n",
       "1                                                NaN   \n",
       "\n",
       "                                              essay8  \\\n",
       "0  i am new to california and looking for someone...   \n",
       "1  i am very open and will share just about anyth...   \n",
       "\n",
       "                                              essay9  \n",
       "0  you want to be swept off your feet! you are ti...  \n",
       "1                                                NaN  \n",
       "\n",
       "[2 rows x 31 columns]"
      ]
     },
     "execution_count": 2,
     "metadata": {},
     "output_type": "execute_result"
    }
   ],
   "source": [
    "df = pd.read_csv('data/okcupid_profiles.csv')\n",
    "df.head(2)"
   ]
  },
  {
   "cell_type": "markdown",
   "id": "c5502cda",
   "metadata": {},
   "source": [
    "### A quick look"
   ]
  },
  {
   "cell_type": "code",
   "execution_count": 3,
   "id": "2c591985",
   "metadata": {},
   "outputs": [
    {
     "data": {
      "text/plain": [
       "Index(['age', 'status', 'sex', 'orientation', 'body_type', 'diet', 'drinks',\n",
       "       'drugs', 'education', 'ethnicity', 'height', 'income', 'job',\n",
       "       'last_online', 'location', 'offspring', 'pets', 'religion', 'sign',\n",
       "       'smokes', 'speaks', 'essay0', 'essay1', 'essay2', 'essay3', 'essay4',\n",
       "       'essay5', 'essay6', 'essay7', 'essay8', 'essay9'],\n",
       "      dtype='object')"
      ]
     },
     "execution_count": 3,
     "metadata": {},
     "output_type": "execute_result"
    }
   ],
   "source": [
    "df.columns"
   ]
  },
  {
   "cell_type": "code",
   "execution_count": 4,
   "id": "9f43458f",
   "metadata": {},
   "outputs": [
    {
     "name": "stdout",
     "output_type": "stream",
     "text": [
      "<class 'pandas.core.frame.DataFrame'>\n",
      "RangeIndex: 59946 entries, 0 to 59945\n",
      "Data columns (total 31 columns):\n",
      " #   Column       Non-Null Count  Dtype  \n",
      "---  ------       --------------  -----  \n",
      " 0   age          59946 non-null  int64  \n",
      " 1   status       59946 non-null  object \n",
      " 2   sex          59946 non-null  object \n",
      " 3   orientation  59946 non-null  object \n",
      " 4   body_type    54650 non-null  object \n",
      " 5   diet         35551 non-null  object \n",
      " 6   drinks       56961 non-null  object \n",
      " 7   drugs        45866 non-null  object \n",
      " 8   education    53318 non-null  object \n",
      " 9   ethnicity    54266 non-null  object \n",
      " 10  height       59943 non-null  float64\n",
      " 11  income       59946 non-null  int64  \n",
      " 12  job          51748 non-null  object \n",
      " 13  last_online  59946 non-null  object \n",
      " 14  location     59946 non-null  object \n",
      " 15  offspring    24385 non-null  object \n",
      " 16  pets         40025 non-null  object \n",
      " 17  religion     39720 non-null  object \n",
      " 18  sign         48890 non-null  object \n",
      " 19  smokes       54434 non-null  object \n",
      " 20  speaks       59896 non-null  object \n",
      " 21  essay0       54458 non-null  object \n",
      " 22  essay1       52374 non-null  object \n",
      " 23  essay2       50308 non-null  object \n",
      " 24  essay3       48470 non-null  object \n",
      " 25  essay4       49409 non-null  object \n",
      " 26  essay5       49096 non-null  object \n",
      " 27  essay6       46175 non-null  object \n",
      " 28  essay7       47495 non-null  object \n",
      " 29  essay8       40721 non-null  object \n",
      " 30  essay9       47343 non-null  object \n",
      "dtypes: float64(1), int64(2), object(28)\n",
      "memory usage: 14.2+ MB\n"
     ]
    }
   ],
   "source": [
    "df.info()"
   ]
  },
  {
   "cell_type": "code",
   "execution_count": 5,
   "id": "52492856",
   "metadata": {},
   "outputs": [
    {
     "data": {
      "text/html": [
       "<div>\n",
       "<style scoped>\n",
       "    .dataframe tbody tr th:only-of-type {\n",
       "        vertical-align: middle;\n",
       "    }\n",
       "\n",
       "    .dataframe tbody tr th {\n",
       "        vertical-align: top;\n",
       "    }\n",
       "\n",
       "    .dataframe thead th {\n",
       "        text-align: right;\n",
       "    }\n",
       "</style>\n",
       "<table border=\"1\" class=\"dataframe\">\n",
       "  <thead>\n",
       "    <tr style=\"text-align: right;\">\n",
       "      <th></th>\n",
       "      <th>age</th>\n",
       "      <th>height</th>\n",
       "      <th>income</th>\n",
       "    </tr>\n",
       "  </thead>\n",
       "  <tbody>\n",
       "    <tr>\n",
       "      <th>count</th>\n",
       "      <td>59946.000000</td>\n",
       "      <td>59943.000000</td>\n",
       "      <td>59946.000000</td>\n",
       "    </tr>\n",
       "    <tr>\n",
       "      <th>mean</th>\n",
       "      <td>32.340290</td>\n",
       "      <td>68.295281</td>\n",
       "      <td>20033.222534</td>\n",
       "    </tr>\n",
       "    <tr>\n",
       "      <th>std</th>\n",
       "      <td>9.452779</td>\n",
       "      <td>3.994803</td>\n",
       "      <td>97346.192104</td>\n",
       "    </tr>\n",
       "    <tr>\n",
       "      <th>min</th>\n",
       "      <td>18.000000</td>\n",
       "      <td>1.000000</td>\n",
       "      <td>-1.000000</td>\n",
       "    </tr>\n",
       "    <tr>\n",
       "      <th>25%</th>\n",
       "      <td>26.000000</td>\n",
       "      <td>66.000000</td>\n",
       "      <td>-1.000000</td>\n",
       "    </tr>\n",
       "    <tr>\n",
       "      <th>50%</th>\n",
       "      <td>30.000000</td>\n",
       "      <td>68.000000</td>\n",
       "      <td>-1.000000</td>\n",
       "    </tr>\n",
       "    <tr>\n",
       "      <th>75%</th>\n",
       "      <td>37.000000</td>\n",
       "      <td>71.000000</td>\n",
       "      <td>-1.000000</td>\n",
       "    </tr>\n",
       "    <tr>\n",
       "      <th>max</th>\n",
       "      <td>110.000000</td>\n",
       "      <td>95.000000</td>\n",
       "      <td>1000000.000000</td>\n",
       "    </tr>\n",
       "  </tbody>\n",
       "</table>\n",
       "</div>"
      ],
      "text/plain": [
       "                age        height          income\n",
       "count  59946.000000  59943.000000    59946.000000\n",
       "mean      32.340290     68.295281    20033.222534\n",
       "std        9.452779      3.994803    97346.192104\n",
       "min       18.000000      1.000000       -1.000000\n",
       "25%       26.000000     66.000000       -1.000000\n",
       "50%       30.000000     68.000000       -1.000000\n",
       "75%       37.000000     71.000000       -1.000000\n",
       "max      110.000000     95.000000  1000000.000000"
      ]
     },
     "execution_count": 5,
     "metadata": {},
     "output_type": "execute_result"
    }
   ],
   "source": [
    "df.describe()"
   ]
  },
  {
   "cell_type": "markdown",
   "id": "864b6084",
   "metadata": {},
   "source": [
    "### Descriptive Statistics - Continuous Variables"
   ]
  },
  {
   "cell_type": "code",
   "execution_count": 6,
   "id": "15695849",
   "metadata": {},
   "outputs": [
    {
     "data": {
      "image/png": "[encoded data removed]",
      "text/plain": [
       "<Figure size 864x288 with 3 Axes>"
      ]
     },
     "metadata": {
      "needs_background": "light"
     },
     "output_type": "display_data"
    }
   ],
   "source": [
    "import matplotlib.pyplot as plt\n",
    "%matplotlib inline\n",
    "\n",
    "figure, axes = plt.subplots(1, 3, figsize=(12,4))\n",
    "\n",
    "sns.histplot(df.age, kde=True, bins = 60, ax=axes[0])\n",
    "sns.histplot(df.height, kde=True, bins = 60, ax=axes[1])\n",
    "sns.histplot(df.income,kde=True, bins = 60, ax=axes[2])\n",
    "\n",
    "plt.tight_layout()\n",
    "plt.show()"
   ]
  },
  {
   "cell_type": "code",
   "execution_count": null,
   "id": "92578e11",
   "metadata": {},
   "outputs": [],
   "source": []
  },
  {
   "cell_type": "code",
   "execution_count": 7,
   "id": "ec571aac",
   "metadata": {},
   "outputs": [
    {
     "data": {
      "image/png": "[encoded data removed]",
      "text/plain": [
       "<Figure size 864x288 with 3 Axes>"
      ]
     },
     "metadata": {
      "needs_background": "light"
     },
     "output_type": "display_data"
    }
   ],
   "source": [
    "import matplotlib.pyplot as plt\n",
    "%matplotlib inline\n",
    "\n",
    "figure, axes = plt.subplots(1, 3, figsize=(12,4))\n",
    "\n",
    "sns.boxplot(x=df.age, ax=axes[0])\n",
    "sns.boxplot(x = df.height, ax=axes[1])\n",
    "sns.boxplot(x = df.income, ax=axes[2])\n",
    "\n",
    "plt.tight_layout()\n",
    "plt.show()"
   ]
  },
  {
   "cell_type": "markdown",
   "id": "3eb4e3cd",
   "metadata": {},
   "source": [
    "### AGE"
   ]
  },
  {
   "cell_type": "code",
   "execution_count": 8,
   "id": "eb24a71c",
   "metadata": {},
   "outputs": [
    {
     "data": {
      "text/plain": [
       "count    59946.000000\n",
       "mean        32.340290\n",
       "std          9.452779\n",
       "min         18.000000\n",
       "25%         26.000000\n",
       "50%         30.000000\n",
       "75%         37.000000\n",
       "max        110.000000\n",
       "Name: age, dtype: float64"
      ]
     },
     "execution_count": 8,
     "metadata": {},
     "output_type": "execute_result"
    }
   ],
   "source": [
    "df.age.describe()"
   ]
  },
  {
   "cell_type": "code",
   "execution_count": 9,
   "id": "f56a0570",
   "metadata": {},
   "outputs": [
    {
     "data": {
      "text/plain": [
       "count    24117.000000\n",
       "mean        32.818220\n",
       "std         10.025385\n",
       "min         18.000000\n",
       "25%         26.000000\n",
       "50%         30.000000\n",
       "75%         37.000000\n",
       "max        110.000000\n",
       "Name: age, dtype: float64"
      ]
     },
     "execution_count": 9,
     "metadata": {},
     "output_type": "execute_result"
    }
   ],
   "source": [
    "df[df.sex == 'f'].age.describe()"
   ]
  },
  {
   "cell_type": "code",
   "execution_count": 10,
   "id": "571ad6d8",
   "metadata": {},
   "outputs": [
    {
     "data": {
      "text/plain": [
       "count    35829.000000\n",
       "mean        32.018588\n",
       "std          9.032881\n",
       "min         18.000000\n",
       "25%         26.000000\n",
       "50%         30.000000\n",
       "75%         36.000000\n",
       "max        109.000000\n",
       "Name: age, dtype: float64"
      ]
     },
     "execution_count": 10,
     "metadata": {},
     "output_type": "execute_result"
    }
   ],
   "source": [
    "df[df.sex == 'm'].age.describe()"
   ]
  },
  {
   "cell_type": "code",
   "execution_count": 11,
   "id": "8da9bc22",
   "metadata": {},
   "outputs": [
    {
     "data": {
      "text/plain": [
       "sex\n",
       "f    24117\n",
       "m    35829\n",
       "Name: age, dtype: int64"
      ]
     },
     "execution_count": 11,
     "metadata": {},
     "output_type": "execute_result"
    }
   ],
   "source": [
    "df.groupby('sex')['age'].count()"
   ]
  },
  {
   "cell_type": "code",
   "execution_count": 12,
   "id": "99e58f45",
   "metadata": {},
   "outputs": [
    {
     "data": {
      "image/png": "[encoded data removed]",
      "text/plain": [
       "<Figure size 576x432 with 1 Axes>"
      ]
     },
     "metadata": {
      "needs_background": "light"
     },
     "output_type": "display_data"
    }
   ],
   "source": [
    "figure, axes = plt.subplots(figsize=(8,6))\n",
    "\n",
    "ax = sns.histplot(x = df.age, hue = df.sex, binwidth = 2, multiple = 'stack')\n",
    "\n",
    "plt.tight_layout()\n",
    "plt.show()"
   ]
  },
  {
   "cell_type": "markdown",
   "id": "031c428c",
   "metadata": {},
   "source": [
    "### HEIGHT"
   ]
  },
  {
   "cell_type": "code",
   "execution_count": 13,
   "id": "aacf7d02",
   "metadata": {},
   "outputs": [
    {
     "data": {
      "text/plain": [
       "count    59943.000000\n",
       "mean        68.295281\n",
       "std          3.994803\n",
       "min          1.000000\n",
       "25%         66.000000\n",
       "50%         68.000000\n",
       "75%         71.000000\n",
       "max         95.000000\n",
       "Name: height, dtype: float64"
      ]
     },
     "execution_count": 13,
     "metadata": {},
     "output_type": "execute_result"
    }
   ],
   "source": [
    "df.height.describe()"
   ]
  },
  {
   "cell_type": "code",
   "execution_count": 14,
   "id": "ac4b95be",
   "metadata": {},
   "outputs": [
    {
     "data": {
      "image/png": "[encoded data removed]",
      "text/plain": [
       "<Figure size 576x432 with 1 Axes>"
      ]
     },
     "metadata": {
      "needs_background": "light"
     },
     "output_type": "display_data"
    }
   ],
   "source": [
    "figure, axes = plt.subplots(figsize=(8,6))\n",
    "\n",
    "ax = sns.histplot(x = df.height, binwidth = 2, multiple = 'stack')\n",
    "\n",
    "plt.tight_layout()\n",
    "plt.show()"
   ]
  },
  {
   "cell_type": "markdown",
   "id": "02e61d70",
   "metadata": {},
   "source": [
    "### INCOME"
   ]
  },
  {
   "cell_type": "code",
   "execution_count": 15,
   "id": "7ad17253",
   "metadata": {},
   "outputs": [
    {
     "data": {
      "text/plain": [
       "count      59946.000000\n",
       "mean       20033.222534\n",
       "std        97346.192104\n",
       "min           -1.000000\n",
       "25%           -1.000000\n",
       "50%           -1.000000\n",
       "75%           -1.000000\n",
       "max      1000000.000000\n",
       "Name: income, dtype: float64"
      ]
     },
     "execution_count": 15,
     "metadata": {},
     "output_type": "execute_result"
    }
   ],
   "source": [
    "df.income.describe()"
   ]
  },
  {
   "cell_type": "code",
   "execution_count": 16,
   "id": "88faacaf",
   "metadata": {},
   "outputs": [
    {
     "data": {
      "text/plain": [
       "sex\n",
       "f    11181.697392\n",
       "m    25991.307656\n",
       "Name: income, dtype: float64"
      ]
     },
     "execution_count": 16,
     "metadata": {},
     "output_type": "execute_result"
    }
   ],
   "source": [
    "df.groupby('sex')['income'].mean()"
   ]
  },
  {
   "cell_type": "code",
   "execution_count": 17,
   "id": "ec57dbd7",
   "metadata": {},
   "outputs": [
    {
     "data": {
      "text/plain": [
       "sex\n",
       "f   -1.0\n",
       "m   -1.0\n",
       "Name: income, dtype: float64"
      ]
     },
     "execution_count": 17,
     "metadata": {},
     "output_type": "execute_result"
    }
   ],
   "source": [
    "df.groupby('sex')['income'].median()"
   ]
  },
  {
   "cell_type": "code",
   "execution_count": 19,
   "id": "1eb80c92",
   "metadata": {},
   "outputs": [
    {
     "data": {
      "image/png": "[encoded data removed]",
      "text/plain": [
       "<Figure size 576x432 with 1 Axes>"
      ]
     },
     "metadata": {
      "needs_background": "light"
     },
     "output_type": "display_data"
    }
   ],
   "source": [
    "ax = sns.displot(data = df, x = 'income', binwidth = 20000, hue = 'sex')\n",
    "ax.fig.set_figwidth(8)\n",
    "ax.fig.set_figheight(6)"
   ]
  },
  {
   "cell_type": "code",
   "execution_count": 20,
   "id": "74fbaf4a",
   "metadata": {},
   "outputs": [
    {
     "name": "stdout",
     "output_type": "stream",
     "text": [
      "Average income: 20033.22\n",
      "Average income for females is 11181.7 while males incomes is 25991.31.\n"
     ]
    }
   ],
   "source": [
    "#hard to see but can still see average income per sex:\n",
    "\n",
    "mean_income = np.mean(df.income)\n",
    "\n",
    "print(\"Average income: {}\".format(round(mean_income, 2)))\n",
    "\n",
    "#per sex:\n",
    "sex_avg_income = df.groupby(\"sex\").income.mean()\n",
    "#print(sex_avg_height)\n",
    "\n",
    "print(\"Average income for females is {} while males incomes is {}.\".format(\n",
    "    round(sex_avg_income[0], 2), round(sex_avg_income[1], 2)))\n"
   ]
  },
  {
   "cell_type": "code",
   "execution_count": null,
   "id": "88e4e79b",
   "metadata": {},
   "outputs": [],
   "source": [
    "## PAUSE BREAK - based on these results wh should pay on a date? )"
   ]
  },
  {
   "cell_type": "markdown",
   "id": "918cf54e",
   "metadata": {},
   "source": [
    "### Descriptive Statistics - Discreet/Categorical Variables:"
   ]
  },
  {
   "cell_type": "markdown",
   "id": "d1b3ed7e",
   "metadata": {},
   "source": [
    "#### SEX"
   ]
  },
  {
   "cell_type": "code",
   "execution_count": 21,
   "id": "c7a3f639",
   "metadata": {},
   "outputs": [
    {
     "data": {
      "text/plain": [
       "<AxesSubplot:xlabel='sex', ylabel='count'>"
      ]
     },
     "execution_count": 21,
     "metadata": {},
     "output_type": "execute_result"
    },
    {
     "data": {
      "image/png": "[encoded data removed]",
      "text/plain": [
       "<Figure size 576x432 with 1 Axes>"
      ]
     },
     "metadata": {
      "needs_background": "light"
     },
     "output_type": "display_data"
    }
   ],
   "source": [
    "fig = plt.figure(figsize = (8,6))\n",
    "sns.countplot(data = df, x = 'sex')"
   ]
  },
  {
   "cell_type": "markdown",
   "id": "666ef6d9",
   "metadata": {},
   "source": [
    "#### BODY TYPE"
   ]
  },
  {
   "cell_type": "code",
   "execution_count": 22,
   "id": "02401ebb",
   "metadata": {},
   "outputs": [
    {
     "data": {
      "image/png": "[encoded data removed]",
      "text/plain": [
       "<Figure size 576x432 with 1 Axes>"
      ]
     },
     "metadata": {
      "needs_background": "light"
     },
     "output_type": "display_data"
    }
   ],
   "source": [
    "plt.figure(figsize = (8,6))\n",
    "sns.countplot(data = df, x = 'body_type', hue = 'sex')\n",
    "plt.xticks(rotation = 45)\n",
    "plt.show()"
   ]
  },
  {
   "cell_type": "markdown",
   "id": "a1fb36e8",
   "metadata": {},
   "source": [
    "#### OBSERVATIONS -Interesting to see how people label themselves\n",
    "- Most men are average, athletic, or fit\n",
    "- Most women are average, thin, athletic, fit, or curvy\n",
    "- The one that caught my eye is the difference in label between men and women for \"a little extra\" and \"curvy\" Men it seems tend to go with \"a little extra\" instead of using \"curvy\""
   ]
  },
  {
   "cell_type": "markdown",
   "id": "af2a497e",
   "metadata": {},
   "source": [
    "#### DIET"
   ]
  },
  {
   "cell_type": "code",
   "execution_count": 26,
   "id": "6b0d3362",
   "metadata": {},
   "outputs": [
    {
     "data": {
      "image/png": "[encoded data removed]",
      "text/plain": [
       "<Figure size 720x432 with 1 Axes>"
      ]
     },
     "metadata": {
      "needs_background": "light"
     },
     "output_type": "display_data"
    }
   ],
   "source": [
    "plt.figure(figsize = (10,6))\n",
    "sns.countplot(data = df, x = 'diet', hue = 'sex')\n",
    "plt.xticks(rotation = 75)\n",
    "plt.show()"
   ]
  },
  {
   "cell_type": "markdown",
   "id": "3ba27e08",
   "metadata": {},
   "source": [
    "#### SIGN"
   ]
  },
  {
   "cell_type": "code",
   "execution_count": 27,
   "id": "a51ad57e",
   "metadata": {},
   "outputs": [
    {
     "data": {
      "text/plain": [
       "<AxesSubplot:xlabel='sign', ylabel='count'>"
      ]
     },
     "execution_count": 27,
     "metadata": {},
     "output_type": "execute_result"
    },
    {
     "data": {
      "image/png": "[encoded data removed]",
      "text/plain": [
       "<Figure size 576x432 with 1 Axes>"
      ]
     },
     "metadata": {
      "needs_background": "light"
     },
     "output_type": "display_data"
    }
   ],
   "source": [
    "plt.figure(figsize = (8,6))\n",
    "sns.countplot(data = df, x = 'sign')"
   ]
  },
  {
   "cell_type": "code",
   "execution_count": null,
   "id": "3c5a2d00",
   "metadata": {},
   "outputs": [],
   "source": [
    "## Let's correct the x axis"
   ]
  },
  {
   "cell_type": "code",
   "execution_count": 29,
   "id": "befd8b62",
   "metadata": {},
   "outputs": [
    {
     "data": {
      "text/plain": [
       "gemini and it&rsquo;s fun to think about     1782\n",
       "scorpio and it&rsquo;s fun to think about    1772\n",
       "leo and it&rsquo;s fun to think about        1692\n",
       "libra and it&rsquo;s fun to think about      1649\n",
       "taurus and it&rsquo;s fun to think about     1640\n",
       "cancer and it&rsquo;s fun to think about     1597\n",
       "pisces and it&rsquo;s fun to think about     1592\n",
       "Name: sign, dtype: int64"
      ]
     },
     "execution_count": 29,
     "metadata": {},
     "output_type": "execute_result"
    }
   ],
   "source": [
    "df.sign.value_counts().head(7)"
   ]
  },
  {
   "cell_type": "code",
   "execution_count": 32,
   "id": "cc1e76d8",
   "metadata": {},
   "outputs": [
    {
     "data": {
      "text/plain": [
       "leo        4374\n",
       "gemini     4310\n",
       "libra      4207\n",
       "cancer     4206\n",
       "virgo      4141\n",
       "taurus     4140\n",
       "scorpio    4134\n",
       "aries      3989\n",
       "Name: zodiac, dtype: int64"
      ]
     },
     "execution_count": 32,
     "metadata": {},
     "output_type": "execute_result"
    }
   ],
   "source": [
    "#ok lets separate values into a new column because the values we actually want are just the \n",
    "#[0] index of the string \n",
    "\n",
    "\n",
    "df['zodiac'] = df.sign.str.split(\" \").str.get(0)\n",
    "\n",
    "df.zodiac.value_counts().head(8)"
   ]
  },
  {
   "cell_type": "code",
   "execution_count": 33,
   "id": "de45cddd",
   "metadata": {},
   "outputs": [
    {
     "data": {
      "text/plain": [
       "agnosticism     8812\n",
       "other           7743\n",
       "atheism         6985\n",
       "christianity    5787\n",
       "catholicism     4758\n",
       "judaism         3098\n",
       "buddhism        1948\n",
       "hinduism         450\n",
       "Name: religion_clean, dtype: int64"
      ]
     },
     "execution_count": 33,
     "metadata": {},
     "output_type": "execute_result"
    }
   ],
   "source": [
    "#after looking at the other columns, tthe religion column stood out as well as needing some cleaning up\n",
    "\n",
    "df['religion_clean'] = df.religion.str.split(\" \").str.get(0)\n",
    "\n",
    "df.religion_clean.value_counts().head(8)"
   ]
  },
  {
   "cell_type": "code",
   "execution_count": 34,
   "id": "aa4db9a3",
   "metadata": {},
   "outputs": [
    {
     "data": {
      "image/png": "[encoded data removed]",
      "text/plain": [
       "<Figure size 576x432 with 1 Axes>"
      ]
     },
     "metadata": {
      "needs_background": "light"
     },
     "output_type": "display_data"
    }
   ],
   "source": [
    "plt.figure(figsize = (8,6))\n",
    "sns.countplot(data = df, x = 'zodiac')\n",
    "plt.xticks(rotation = 30)\n",
    "plt.show()"
   ]
  },
  {
   "cell_type": "code",
   "execution_count": null,
   "id": "9e7410ef",
   "metadata": {},
   "outputs": [],
   "source": []
  },
  {
   "cell_type": "markdown",
   "id": "508b1c50",
   "metadata": {},
   "source": [
    "## Modeling / Machine Learning\n",
    "OK, so let's think about what we can do here. We've got a bunch of dating profiles. We've got a bunch of info on the people in this dataset. one of the basic ones thats asked:\n",
    "\n",
    "- Can we figure out a persons zodiac sign based off of other features?\n",
    "Some people don't care for zodiac, some read their horoscopes daily. Let's look at a few variables and see what we can do\n",
    "\n",
    "There's tons of models and machine learning algorithms out there, but for the purpose of this dataset and for practice, will look at:\n",
    "\n",
    "- Logistic Regression\n",
    "- KNeighbors Classification\n",
    "- Decision Tree Classification"
   ]
  },
  {
   "cell_type": "code",
   "execution_count": 41,
   "id": "2d5a781b",
   "metadata": {},
   "outputs": [],
   "source": [
    "df_new = df[['drinks', 'smokes', 'drugs', 'zodiac']]"
   ]
  },
  {
   "cell_type": "code",
   "execution_count": 36,
   "id": "22e8c314",
   "metadata": {},
   "outputs": [
    {
     "data": {
      "text/html": [
       "<div>\n",
       "<style scoped>\n",
       "    .dataframe tbody tr th:only-of-type {\n",
       "        vertical-align: middle;\n",
       "    }\n",
       "\n",
       "    .dataframe tbody tr th {\n",
       "        vertical-align: top;\n",
       "    }\n",
       "\n",
       "    .dataframe thead th {\n",
       "        text-align: right;\n",
       "    }\n",
       "</style>\n",
       "<table border=\"1\" class=\"dataframe\">\n",
       "  <thead>\n",
       "    <tr style=\"text-align: right;\">\n",
       "      <th></th>\n",
       "      <th>drinks</th>\n",
       "      <th>smokes</th>\n",
       "      <th>drugs</th>\n",
       "      <th>zodiac</th>\n",
       "    </tr>\n",
       "  </thead>\n",
       "  <tbody>\n",
       "    <tr>\n",
       "      <th>0</th>\n",
       "      <td>socially</td>\n",
       "      <td>sometimes</td>\n",
       "      <td>never</td>\n",
       "      <td>gemini</td>\n",
       "    </tr>\n",
       "    <tr>\n",
       "      <th>1</th>\n",
       "      <td>often</td>\n",
       "      <td>no</td>\n",
       "      <td>sometimes</td>\n",
       "      <td>cancer</td>\n",
       "    </tr>\n",
       "    <tr>\n",
       "      <th>2</th>\n",
       "      <td>socially</td>\n",
       "      <td>no</td>\n",
       "      <td>NaN</td>\n",
       "      <td>pisces</td>\n",
       "    </tr>\n",
       "  </tbody>\n",
       "</table>\n",
       "</div>"
      ],
      "text/plain": [
       "     drinks     smokes      drugs  zodiac\n",
       "0  socially  sometimes      never  gemini\n",
       "1     often         no  sometimes  cancer\n",
       "2  socially         no        NaN  pisces"
      ]
     },
     "execution_count": 36,
     "metadata": {},
     "output_type": "execute_result"
    }
   ],
   "source": [
    "df_new.head(3)"
   ]
  },
  {
   "cell_type": "code",
   "execution_count": 42,
   "id": "21bf3be9",
   "metadata": {},
   "outputs": [
    {
     "data": {
      "text/plain": [
       "drinks     2985\n",
       "smokes     5512\n",
       "drugs     14080\n",
       "zodiac    11056\n",
       "dtype: int64"
      ]
     },
     "execution_count": 42,
     "metadata": {},
     "output_type": "execute_result"
    }
   ],
   "source": [
    "df_new.isna().sum()"
   ]
  },
  {
   "cell_type": "code",
   "execution_count": 43,
   "id": "1d3987a3",
   "metadata": {},
   "outputs": [
    {
     "data": {
      "text/plain": [
       "(59946, 4)"
      ]
     },
     "execution_count": 43,
     "metadata": {},
     "output_type": "execute_result"
    }
   ],
   "source": [
    "df_new.shape"
   ]
  },
  {
   "cell_type": "code",
   "execution_count": 44,
   "id": "7765f32d",
   "metadata": {},
   "outputs": [],
   "source": [
    "## dropna\n",
    "df_new_clean = df_new.dropna()"
   ]
  },
  {
   "cell_type": "code",
   "execution_count": 45,
   "id": "07ef4a88",
   "metadata": {},
   "outputs": [
    {
     "data": {
      "text/plain": [
       "drinks    0\n",
       "smokes    0\n",
       "drugs     0\n",
       "zodiac    0\n",
       "dtype: int64"
      ]
     },
     "execution_count": 45,
     "metadata": {},
     "output_type": "execute_result"
    }
   ],
   "source": [
    "df_new_clean.isna().sum()"
   ]
  },
  {
   "cell_type": "code",
   "execution_count": 46,
   "id": "2224e5cb",
   "metadata": {},
   "outputs": [
    {
     "data": {
      "text/html": [
       "<div>\n",
       "<style scoped>\n",
       "    .dataframe tbody tr th:only-of-type {\n",
       "        vertical-align: middle;\n",
       "    }\n",
       "\n",
       "    .dataframe tbody tr th {\n",
       "        vertical-align: top;\n",
       "    }\n",
       "\n",
       "    .dataframe thead th {\n",
       "        text-align: right;\n",
       "    }\n",
       "</style>\n",
       "<table border=\"1\" class=\"dataframe\">\n",
       "  <thead>\n",
       "    <tr style=\"text-align: right;\">\n",
       "      <th></th>\n",
       "      <th>drinks</th>\n",
       "      <th>smokes</th>\n",
       "      <th>drugs</th>\n",
       "      <th>zodiac</th>\n",
       "    </tr>\n",
       "  </thead>\n",
       "  <tbody>\n",
       "    <tr>\n",
       "      <th>0</th>\n",
       "      <td>socially</td>\n",
       "      <td>sometimes</td>\n",
       "      <td>never</td>\n",
       "      <td>gemini</td>\n",
       "    </tr>\n",
       "    <tr>\n",
       "      <th>1</th>\n",
       "      <td>often</td>\n",
       "      <td>no</td>\n",
       "      <td>sometimes</td>\n",
       "      <td>cancer</td>\n",
       "    </tr>\n",
       "    <tr>\n",
       "      <th>4</th>\n",
       "      <td>socially</td>\n",
       "      <td>no</td>\n",
       "      <td>never</td>\n",
       "      <td>aquarius</td>\n",
       "    </tr>\n",
       "  </tbody>\n",
       "</table>\n",
       "</div>"
      ],
      "text/plain": [
       "     drinks     smokes      drugs    zodiac\n",
       "0  socially  sometimes      never    gemini\n",
       "1     often         no  sometimes    cancer\n",
       "4  socially         no      never  aquarius"
      ]
     },
     "execution_count": 46,
     "metadata": {},
     "output_type": "execute_result"
    }
   ],
   "source": [
    "df_new_clean.head(3)"
   ]
  },
  {
   "cell_type": "code",
   "execution_count": 47,
   "id": "0a748bb3",
   "metadata": {},
   "outputs": [
    {
     "data": {
      "text/plain": [
       "(35570, 15)"
      ]
     },
     "execution_count": 47,
     "metadata": {},
     "output_type": "execute_result"
    }
   ],
   "source": [
    "## Get dummies\n",
    "colums = ['drinks', 'smokes', 'drugs', 'zodiac']\n",
    "\n",
    "for col in colums[:-1]:\n",
    "    df_new_clean = pd.get_dummies(df_new_clean, columns = [col], prefix = [col])\n",
    "    \n",
    "df_new_clean.shape"
   ]
  },
  {
   "cell_type": "code",
   "execution_count": 48,
   "id": "7cca0948",
   "metadata": {},
   "outputs": [
    {
     "data": {
      "text/html": [
       "<div>\n",
       "<style scoped>\n",
       "    .dataframe tbody tr th:only-of-type {\n",
       "        vertical-align: middle;\n",
       "    }\n",
       "\n",
       "    .dataframe tbody tr th {\n",
       "        vertical-align: top;\n",
       "    }\n",
       "\n",
       "    .dataframe thead th {\n",
       "        text-align: right;\n",
       "    }\n",
       "</style>\n",
       "<table border=\"1\" class=\"dataframe\">\n",
       "  <thead>\n",
       "    <tr style=\"text-align: right;\">\n",
       "      <th></th>\n",
       "      <th>zodiac</th>\n",
       "      <th>drinks_desperately</th>\n",
       "      <th>drinks_not at all</th>\n",
       "      <th>drinks_often</th>\n",
       "      <th>drinks_rarely</th>\n",
       "      <th>drinks_socially</th>\n",
       "      <th>drinks_very often</th>\n",
       "      <th>smokes_no</th>\n",
       "      <th>smokes_sometimes</th>\n",
       "      <th>smokes_trying to quit</th>\n",
       "      <th>smokes_when drinking</th>\n",
       "      <th>smokes_yes</th>\n",
       "      <th>drugs_never</th>\n",
       "      <th>drugs_often</th>\n",
       "      <th>drugs_sometimes</th>\n",
       "    </tr>\n",
       "  </thead>\n",
       "  <tbody>\n",
       "    <tr>\n",
       "      <th>0</th>\n",
       "      <td>gemini</td>\n",
       "      <td>0</td>\n",
       "      <td>0</td>\n",
       "      <td>0</td>\n",
       "      <td>0</td>\n",
       "      <td>1</td>\n",
       "      <td>0</td>\n",
       "      <td>0</td>\n",
       "      <td>1</td>\n",
       "      <td>0</td>\n",
       "      <td>0</td>\n",
       "      <td>0</td>\n",
       "      <td>1</td>\n",
       "      <td>0</td>\n",
       "      <td>0</td>\n",
       "    </tr>\n",
       "    <tr>\n",
       "      <th>1</th>\n",
       "      <td>cancer</td>\n",
       "      <td>0</td>\n",
       "      <td>0</td>\n",
       "      <td>1</td>\n",
       "      <td>0</td>\n",
       "      <td>0</td>\n",
       "      <td>0</td>\n",
       "      <td>1</td>\n",
       "      <td>0</td>\n",
       "      <td>0</td>\n",
       "      <td>0</td>\n",
       "      <td>0</td>\n",
       "      <td>0</td>\n",
       "      <td>0</td>\n",
       "      <td>1</td>\n",
       "    </tr>\n",
       "    <tr>\n",
       "      <th>4</th>\n",
       "      <td>aquarius</td>\n",
       "      <td>0</td>\n",
       "      <td>0</td>\n",
       "      <td>0</td>\n",
       "      <td>0</td>\n",
       "      <td>1</td>\n",
       "      <td>0</td>\n",
       "      <td>1</td>\n",
       "      <td>0</td>\n",
       "      <td>0</td>\n",
       "      <td>0</td>\n",
       "      <td>0</td>\n",
       "      <td>1</td>\n",
       "      <td>0</td>\n",
       "      <td>0</td>\n",
       "    </tr>\n",
       "  </tbody>\n",
       "</table>\n",
       "</div>"
      ],
      "text/plain": [
       "     zodiac  drinks_desperately  drinks_not at all  drinks_often  \\\n",
       "0    gemini                   0                  0             0   \n",
       "1    cancer                   0                  0             1   \n",
       "4  aquarius                   0                  0             0   \n",
       "\n",
       "   drinks_rarely  drinks_socially  drinks_very often  smokes_no  \\\n",
       "0              0                1                  0          0   \n",
       "1              0                0                  0          1   \n",
       "4              0                1                  0          1   \n",
       "\n",
       "   smokes_sometimes  smokes_trying to quit  smokes_when drinking  smokes_yes  \\\n",
       "0                 1                      0                     0           0   \n",
       "1                 0                      0                     0           0   \n",
       "4                 0                      0                     0           0   \n",
       "\n",
       "   drugs_never  drugs_often  drugs_sometimes  \n",
       "0            1            0                0  \n",
       "1            0            0                1  \n",
       "4            1            0                0  "
      ]
     },
     "execution_count": 48,
     "metadata": {},
     "output_type": "execute_result"
    }
   ],
   "source": [
    "df_new_clean.head(3)"
   ]
  },
  {
   "cell_type": "code",
   "execution_count": 49,
   "id": "2f526af1",
   "metadata": {},
   "outputs": [
    {
     "data": {
      "text/plain": [
       "leo            3160\n",
       "gemini         3117\n",
       "cancer         3076\n",
       "virgo          3074\n",
       "libra          3050\n",
       "taurus         3024\n",
       "scorpio        2992\n",
       "aries          2925\n",
       "aquarius       2851\n",
       "sagittarius    2842\n",
       "pisces         2814\n",
       "capricorn      2645\n",
       "Name: zodiac, dtype: int64"
      ]
     },
     "execution_count": 49,
     "metadata": {},
     "output_type": "execute_result"
    }
   ],
   "source": [
    "df_new_clean.zodiac.value_counts()"
   ]
  },
  {
   "cell_type": "markdown",
   "id": "fe56da8f",
   "metadata": {},
   "source": [
    "#### LOGISTIC REGRESSION"
   ]
  },
  {
   "cell_type": "code",
   "execution_count": 50,
   "id": "2b53cb76",
   "metadata": {},
   "outputs": [],
   "source": [
    "from sklearn.linear_model import LogisticRegression\n",
    "from sklearn.model_selection import train_test_split\n",
    "from sklearn.metrics import classification_report"
   ]
  },
  {
   "cell_type": "code",
   "execution_count": 52,
   "id": "9f6448a8",
   "metadata": {},
   "outputs": [],
   "source": [
    "col_length = len(df_new_clean)\n",
    "\n",
    "X = df_new_clean.iloc[:, 1:col_length]\n",
    "Y = df_new_clean.iloc[:, 0:1]\n",
    "\n",
    "X_train, X_test, Y_train, Y_test = train_test_split(X, Y, test_size = 0.20, random_state = 0)\n",
    "\n",
    "Y_train = Y_train.to_numpy().ravel()\n",
    "Y_test = Y_test.to_numpy().ravel()"
   ]
  },
  {
   "cell_type": "code",
   "execution_count": 53,
   "id": "d5db5550",
   "metadata": {},
   "outputs": [
    {
     "data": {
      "text/plain": [
       "array([[1, 2, 3],\n",
       "       [4, 5, 6]])"
      ]
     },
     "execution_count": 53,
     "metadata": {},
     "output_type": "execute_result"
    }
   ],
   "source": [
    "## Ravel It is equivalent to reshape(-1, order=order)\n",
    "x = np.array([[1, 2, 3], [4, 5, 6]])\n",
    "x"
   ]
  },
  {
   "cell_type": "code",
   "execution_count": 54,
   "id": "df37c3e7",
   "metadata": {},
   "outputs": [
    {
     "data": {
      "text/plain": [
       "array([1, 2, 3, 4, 5, 6])"
      ]
     },
     "execution_count": 54,
     "metadata": {},
     "output_type": "execute_result"
    }
   ],
   "source": [
    "x.reshape(-1)"
   ]
  },
  {
   "cell_type": "code",
   "execution_count": 55,
   "id": "f86a1287",
   "metadata": {},
   "outputs": [
    {
     "data": {
      "text/plain": [
       "array([1, 4, 2, 5, 3, 6])"
      ]
     },
     "execution_count": 55,
     "metadata": {},
     "output_type": "execute_result"
    }
   ],
   "source": [
    "np.ravel(x, order='F')"
   ]
  },
  {
   "cell_type": "code",
   "execution_count": 59,
   "id": "f5cca5fe",
   "metadata": {},
   "outputs": [],
   "source": [
    "lr_model = LogisticRegression(multi_class=\"multinomial\")\n",
    "\n",
    "lr_model.fit(X_train, Y_train)\n",
    "\n",
    "lr_predictions = lr_model.predict(X_train)"
   ]
  },
  {
   "cell_type": "code",
   "execution_count": 60,
   "id": "188ee9b4",
   "metadata": {},
   "outputs": [
    {
     "name": "stdout",
     "output_type": "stream",
     "text": [
      "              precision    recall  f1-score   support\n",
      "\n",
      "    aquarius       0.00      0.00      0.00      2260\n",
      "       aries       0.09      0.03      0.05      2298\n",
      "      cancer       0.10      0.08      0.09      2452\n",
      "   capricorn       0.00      0.00      0.00      2110\n",
      "      gemini       0.09      0.54      0.15      2507\n",
      "         leo       0.09      0.06      0.07      2523\n",
      "       libra       0.09      0.05      0.06      2454\n",
      "      pisces       0.00      0.00      0.00      2253\n",
      " sagittarius       0.00      0.00      0.00      2299\n",
      "     scorpio       0.10      0.12      0.11      2394\n",
      "      taurus       0.09      0.17      0.12      2485\n",
      "       virgo       0.07      0.00      0.01      2421\n",
      "\n",
      "    accuracy                           0.09     28456\n",
      "   macro avg       0.06      0.09      0.05     28456\n",
      "weighted avg       0.06      0.09      0.06     28456\n",
      "\n"
     ]
    }
   ],
   "source": [
    "print(classification_report(Y_train, lr_predictions))"
   ]
  },
  {
   "cell_type": "markdown",
   "id": "f4be8408",
   "metadata": {},
   "source": [
    "#### Model notes\n",
    "- OK so...that is pretty horrible results. the F1 scores are mostly around or below .1 (meaning 10% accurately predicting our zodiac sign) which is saying our prediction model is pretty inaccurate. Lets try another."
   ]
  },
  {
   "cell_type": "code",
   "execution_count": null,
   "id": "d3467dd4",
   "metadata": {},
   "outputs": [],
   "source": []
  },
  {
   "cell_type": "markdown",
   "id": "fdaa5592",
   "metadata": {},
   "source": [
    "#### K-Nearest Neighbor"
   ]
  },
  {
   "cell_type": "code",
   "execution_count": 61,
   "id": "69b29161",
   "metadata": {},
   "outputs": [],
   "source": [
    "from sklearn.neighbors import KNeighborsClassifier"
   ]
  },
  {
   "cell_type": "code",
   "execution_count": 62,
   "id": "d95f9d5f",
   "metadata": {},
   "outputs": [],
   "source": [
    "kneighbor = KNeighborsClassifier(n_neighbors = 5)\n",
    "\n",
    "kneighbor.fit(X_train, Y_train)\n",
    "\n",
    "kn_predictions = kneighbor.predict(X_train)"
   ]
  },
  {
   "cell_type": "code",
   "execution_count": 63,
   "id": "e909c9f5",
   "metadata": {},
   "outputs": [
    {
     "name": "stdout",
     "output_type": "stream",
     "text": [
      "              precision    recall  f1-score   support\n",
      "\n",
      "    aquarius       0.08      0.19      0.11      2260\n",
      "       aries       0.08      0.55      0.14      2298\n",
      "      cancer       0.09      0.02      0.03      2452\n",
      "   capricorn       0.08      0.11      0.09      2110\n",
      "      gemini       0.10      0.04      0.06      2507\n",
      "         leo       0.21      0.01      0.01      2523\n",
      "       libra       0.09      0.04      0.05      2454\n",
      "      pisces       0.12      0.01      0.02      2253\n",
      " sagittarius       0.08      0.01      0.01      2299\n",
      "     scorpio       0.18      0.01      0.02      2394\n",
      "      taurus       0.10      0.01      0.02      2485\n",
      "       virgo       0.09      0.04      0.06      2421\n",
      "\n",
      "    accuracy                           0.08     28456\n",
      "   macro avg       0.11      0.09      0.05     28456\n",
      "weighted avg       0.11      0.08      0.05     28456\n",
      "\n"
     ]
    }
   ],
   "source": [
    "print(classification_report(Y_train, kn_predictions))"
   ]
  },
  {
   "cell_type": "code",
   "execution_count": null,
   "id": "141d6099",
   "metadata": {},
   "outputs": [],
   "source": [
    "## still bad. F1 scores are in the .05 range...half as good as our LR model"
   ]
  },
  {
   "cell_type": "markdown",
   "id": "d7d7326d",
   "metadata": {},
   "source": [
    "#### DECISION TREE"
   ]
  },
  {
   "cell_type": "code",
   "execution_count": 64,
   "id": "7028876c",
   "metadata": {},
   "outputs": [],
   "source": [
    "from sklearn.tree import DecisionTreeClassifier\n"
   ]
  },
  {
   "cell_type": "code",
   "execution_count": 65,
   "id": "4ccc6bdf",
   "metadata": {},
   "outputs": [],
   "source": [
    "tree = DecisionTreeClassifier()\n",
    "\n",
    "tree.fit(X_train, Y_train)\n",
    "\n",
    "tree_predictions = tree.predict(X_train)"
   ]
  },
  {
   "cell_type": "code",
   "execution_count": 66,
   "id": "9bf17ca7",
   "metadata": {},
   "outputs": [
    {
     "name": "stdout",
     "output_type": "stream",
     "text": [
      "              precision    recall  f1-score   support\n",
      "\n",
      "    aquarius       0.13      0.02      0.04      2260\n",
      "       aries       0.11      0.06      0.07      2298\n",
      "      cancer       0.11      0.14      0.12      2452\n",
      "   capricorn       0.17      0.01      0.02      2110\n",
      "      gemini       0.11      0.06      0.08      2507\n",
      "         leo       0.09      0.55      0.16      2523\n",
      "       libra       0.14      0.03      0.05      2454\n",
      "      pisces       0.13      0.02      0.03      2253\n",
      " sagittarius       0.15      0.00      0.01      2299\n",
      "     scorpio       0.10      0.12      0.11      2394\n",
      "      taurus       0.12      0.03      0.05      2485\n",
      "       virgo       0.11      0.10      0.10      2421\n",
      "\n",
      "    accuracy                           0.10     28456\n",
      "   macro avg       0.12      0.10      0.07     28456\n",
      "weighted avg       0.12      0.10      0.07     28456\n",
      "\n"
     ]
    }
   ],
   "source": [
    "print(classification_report(Y_train, tree_predictions))"
   ]
  },
  {
   "cell_type": "code",
   "execution_count": null,
   "id": "bfd82d0b",
   "metadata": {},
   "outputs": [],
   "source": [
    "## still no good. F1 score of around .06...our model does a bad job at predicting zodiacs \n",
    "## based off of drinking, smoking, and drug use"
   ]
  },
  {
   "cell_type": "markdown",
   "id": "30e469bc",
   "metadata": {},
   "source": [
    "#### 3-PARAMETER MODEL limitations\n",
    "- 3 parameters was horrible. Lets see if we can change the columns, get new parameters, and run it back"
   ]
  },
  {
   "cell_type": "code",
   "execution_count": 67,
   "id": "63598ecf",
   "metadata": {},
   "outputs": [
    {
     "data": {
      "text/plain": [
       "(16453, 8)"
      ]
     },
     "execution_count": 67,
     "metadata": {},
     "output_type": "execute_result"
    }
   ],
   "source": [
    "new_df = df[['body_type', 'diet', 'orientation', 'pets', 'sex', 'religion_clean', 'job', 'zodiac']]\n",
    "\n",
    "new_df_clean = new_df.dropna()\n",
    "\n",
    "new_df_clean.shape"
   ]
  },
  {
   "cell_type": "code",
   "execution_count": 68,
   "id": "7222fcc4",
   "metadata": {},
   "outputs": [
    {
     "data": {
      "text/html": [
       "<div>\n",
       "<style scoped>\n",
       "    .dataframe tbody tr th:only-of-type {\n",
       "        vertical-align: middle;\n",
       "    }\n",
       "\n",
       "    .dataframe tbody tr th {\n",
       "        vertical-align: top;\n",
       "    }\n",
       "\n",
       "    .dataframe thead th {\n",
       "        text-align: right;\n",
       "    }\n",
       "</style>\n",
       "<table border=\"1\" class=\"dataframe\">\n",
       "  <thead>\n",
       "    <tr style=\"text-align: right;\">\n",
       "      <th></th>\n",
       "      <th>zodiac</th>\n",
       "      <th>body_type_a little extra</th>\n",
       "      <th>body_type_athletic</th>\n",
       "      <th>body_type_average</th>\n",
       "      <th>body_type_curvy</th>\n",
       "      <th>body_type_fit</th>\n",
       "      <th>body_type_full figured</th>\n",
       "      <th>body_type_jacked</th>\n",
       "      <th>body_type_overweight</th>\n",
       "      <th>body_type_rather not say</th>\n",
       "      <th>...</th>\n",
       "      <th>job_military</th>\n",
       "      <th>job_other</th>\n",
       "      <th>job_political / government</th>\n",
       "      <th>job_rather not say</th>\n",
       "      <th>job_retired</th>\n",
       "      <th>job_sales / marketing / biz dev</th>\n",
       "      <th>job_science / tech / engineering</th>\n",
       "      <th>job_student</th>\n",
       "      <th>job_transportation</th>\n",
       "      <th>job_unemployed</th>\n",
       "    </tr>\n",
       "  </thead>\n",
       "  <tbody>\n",
       "    <tr>\n",
       "      <th>0</th>\n",
       "      <td>gemini</td>\n",
       "      <td>1</td>\n",
       "      <td>0</td>\n",
       "      <td>0</td>\n",
       "      <td>0</td>\n",
       "      <td>0</td>\n",
       "      <td>0</td>\n",
       "      <td>0</td>\n",
       "      <td>0</td>\n",
       "      <td>0</td>\n",
       "      <td>...</td>\n",
       "      <td>0</td>\n",
       "      <td>0</td>\n",
       "      <td>0</td>\n",
       "      <td>0</td>\n",
       "      <td>0</td>\n",
       "      <td>0</td>\n",
       "      <td>0</td>\n",
       "      <td>0</td>\n",
       "      <td>1</td>\n",
       "      <td>0</td>\n",
       "    </tr>\n",
       "    <tr>\n",
       "      <th>1</th>\n",
       "      <td>cancer</td>\n",
       "      <td>0</td>\n",
       "      <td>0</td>\n",
       "      <td>1</td>\n",
       "      <td>0</td>\n",
       "      <td>0</td>\n",
       "      <td>0</td>\n",
       "      <td>0</td>\n",
       "      <td>0</td>\n",
       "      <td>0</td>\n",
       "      <td>...</td>\n",
       "      <td>0</td>\n",
       "      <td>0</td>\n",
       "      <td>0</td>\n",
       "      <td>0</td>\n",
       "      <td>0</td>\n",
       "      <td>0</td>\n",
       "      <td>0</td>\n",
       "      <td>0</td>\n",
       "      <td>0</td>\n",
       "      <td>0</td>\n",
       "    </tr>\n",
       "    <tr>\n",
       "      <th>5</th>\n",
       "      <td>taurus</td>\n",
       "      <td>0</td>\n",
       "      <td>0</td>\n",
       "      <td>1</td>\n",
       "      <td>0</td>\n",
       "      <td>0</td>\n",
       "      <td>0</td>\n",
       "      <td>0</td>\n",
       "      <td>0</td>\n",
       "      <td>0</td>\n",
       "      <td>...</td>\n",
       "      <td>0</td>\n",
       "      <td>0</td>\n",
       "      <td>0</td>\n",
       "      <td>0</td>\n",
       "      <td>0</td>\n",
       "      <td>0</td>\n",
       "      <td>0</td>\n",
       "      <td>0</td>\n",
       "      <td>0</td>\n",
       "      <td>0</td>\n",
       "    </tr>\n",
       "    <tr>\n",
       "      <th>7</th>\n",
       "      <td>sagittarius</td>\n",
       "      <td>0</td>\n",
       "      <td>0</td>\n",
       "      <td>1</td>\n",
       "      <td>0</td>\n",
       "      <td>0</td>\n",
       "      <td>0</td>\n",
       "      <td>0</td>\n",
       "      <td>0</td>\n",
       "      <td>0</td>\n",
       "      <td>...</td>\n",
       "      <td>0</td>\n",
       "      <td>0</td>\n",
       "      <td>0</td>\n",
       "      <td>0</td>\n",
       "      <td>0</td>\n",
       "      <td>0</td>\n",
       "      <td>0</td>\n",
       "      <td>0</td>\n",
       "      <td>0</td>\n",
       "      <td>0</td>\n",
       "    </tr>\n",
       "    <tr>\n",
       "      <th>9</th>\n",
       "      <td>cancer</td>\n",
       "      <td>0</td>\n",
       "      <td>1</td>\n",
       "      <td>0</td>\n",
       "      <td>0</td>\n",
       "      <td>0</td>\n",
       "      <td>0</td>\n",
       "      <td>0</td>\n",
       "      <td>0</td>\n",
       "      <td>0</td>\n",
       "      <td>...</td>\n",
       "      <td>0</td>\n",
       "      <td>0</td>\n",
       "      <td>0</td>\n",
       "      <td>0</td>\n",
       "      <td>0</td>\n",
       "      <td>0</td>\n",
       "      <td>0</td>\n",
       "      <td>1</td>\n",
       "      <td>0</td>\n",
       "      <td>0</td>\n",
       "    </tr>\n",
       "  </tbody>\n",
       "</table>\n",
       "<p>5 rows × 81 columns</p>\n",
       "</div>"
      ],
      "text/plain": [
       "        zodiac  body_type_a little extra  body_type_athletic  \\\n",
       "0       gemini                         1                   0   \n",
       "1       cancer                         0                   0   \n",
       "5       taurus                         0                   0   \n",
       "7  sagittarius                         0                   0   \n",
       "9       cancer                         0                   1   \n",
       "\n",
       "   body_type_average  body_type_curvy  body_type_fit  body_type_full figured  \\\n",
       "0                  0                0              0                       0   \n",
       "1                  1                0              0                       0   \n",
       "5                  1                0              0                       0   \n",
       "7                  1                0              0                       0   \n",
       "9                  0                0              0                       0   \n",
       "\n",
       "   body_type_jacked  body_type_overweight  body_type_rather not say  ...  \\\n",
       "0                 0                     0                         0  ...   \n",
       "1                 0                     0                         0  ...   \n",
       "5                 0                     0                         0  ...   \n",
       "7                 0                     0                         0  ...   \n",
       "9                 0                     0                         0  ...   \n",
       "\n",
       "   job_military  job_other  job_political / government  job_rather not say  \\\n",
       "0             0          0                           0                   0   \n",
       "1             0          0                           0                   0   \n",
       "5             0          0                           0                   0   \n",
       "7             0          0                           0                   0   \n",
       "9             0          0                           0                   0   \n",
       "\n",
       "   job_retired  job_sales / marketing / biz dev  \\\n",
       "0            0                                0   \n",
       "1            0                                0   \n",
       "5            0                                0   \n",
       "7            0                                0   \n",
       "9            0                                0   \n",
       "\n",
       "   job_science / tech / engineering  job_student  job_transportation  \\\n",
       "0                                 0            0                   1   \n",
       "1                                 0            0                   0   \n",
       "5                                 0            0                   0   \n",
       "7                                 0            0                   0   \n",
       "9                                 0            1                   0   \n",
       "\n",
       "   job_unemployed  \n",
       "0               0  \n",
       "1               0  \n",
       "5               0  \n",
       "7               0  \n",
       "9               0  \n",
       "\n",
       "[5 rows x 81 columns]"
      ]
     },
     "execution_count": 68,
     "metadata": {},
     "output_type": "execute_result"
    }
   ],
   "source": [
    "colums1 = ['body_type', 'diet', 'orientation', 'pets', 'sex', 'religion_clean', 'job', 'zodiac']\n",
    "\n",
    "for col in colums1[:-1]:\n",
    "    new_df_clean = pd.get_dummies(new_df_clean, columns = [col], prefix = [col])\n",
    "\n",
    "new_df_clean.head()"
   ]
  },
  {
   "cell_type": "code",
   "execution_count": 69,
   "id": "2203dd6b",
   "metadata": {},
   "outputs": [],
   "source": [
    "new_col_len = len(new_df_clean)\n",
    "\n",
    "X_new = new_df_clean.iloc[:, 1:new_col_len]\n",
    "Y_new = new_df_clean.iloc[:, 0:1]\n",
    "\n",
    "X_new_train, X_new_test, Y_new_train, Y_new_test = train_test_split(X_new, Y_new, test_size = 0.20, random_state = 0)\n",
    "\n",
    "Y_new_train = Y_new_train.to_numpy().ravel()\n",
    "Y_new_test = Y_new_test.to_numpy().ravel()"
   ]
  },
  {
   "cell_type": "code",
   "execution_count": null,
   "id": "633263b6",
   "metadata": {},
   "outputs": [],
   "source": []
  },
  {
   "cell_type": "markdown",
   "id": "83ecfaf0",
   "metadata": {},
   "source": [
    "#### K-Neighbor"
   ]
  },
  {
   "cell_type": "code",
   "execution_count": 70,
   "id": "1f6ecfa4",
   "metadata": {},
   "outputs": [],
   "source": [
    "kneighbor_new = KNeighborsClassifier(n_neighbors = 5)\n",
    "\n",
    "kneighbor_new.fit(X_new_train, Y_new_train)\n",
    "\n",
    "kn_predictions_new = kneighbor_new.predict(X_new_train)"
   ]
  },
  {
   "cell_type": "code",
   "execution_count": 71,
   "id": "a0868379",
   "metadata": {},
   "outputs": [
    {
     "name": "stdout",
     "output_type": "stream",
     "text": [
      "              precision    recall  f1-score   support\n",
      "\n",
      "    aquarius       0.26      0.66      0.37      1031\n",
      "       aries       0.27      0.53      0.36      1043\n",
      "      cancer       0.30      0.43      0.35      1190\n",
      "   capricorn       0.31      0.33      0.32       952\n",
      "      gemini       0.35      0.30      0.32      1200\n",
      "         leo       0.40      0.28      0.33      1208\n",
      "       libra       0.37      0.27      0.31      1090\n",
      "      pisces       0.41      0.24      0.31      1059\n",
      " sagittarius       0.41      0.21      0.28      1051\n",
      "     scorpio       0.41      0.23      0.30      1072\n",
      "      taurus       0.41      0.23      0.29      1102\n",
      "       virgo       0.41      0.26      0.32      1164\n",
      "\n",
      "    accuracy                           0.33     13162\n",
      "   macro avg       0.36      0.33      0.32     13162\n",
      "weighted avg       0.36      0.33      0.32     13162\n",
      "\n"
     ]
    }
   ],
   "source": [
    "print(classification_report(Y_new_train, kn_predictions_new))"
   ]
  },
  {
   "cell_type": "code",
   "execution_count": null,
   "id": "5666a57b",
   "metadata": {},
   "outputs": [],
   "source": [
    "## OK now we're in business. The additional parameters has given us a score of 0.33 \n",
    "## (about 33% accurately predicting a persons Zodiac sign based off of the inputs above)"
   ]
  },
  {
   "cell_type": "markdown",
   "id": "d752c144",
   "metadata": {},
   "source": [
    "#### Tree Classifier"
   ]
  },
  {
   "cell_type": "code",
   "execution_count": 72,
   "id": "e3d5b31f",
   "metadata": {},
   "outputs": [],
   "source": [
    "tree_new = DecisionTreeClassifier()\n",
    "\n",
    "tree_new.fit(X_new_train, Y_new_train)\n",
    "\n",
    "tree_new_predictions = tree_new.predict(X_new_train)"
   ]
  },
  {
   "cell_type": "code",
   "execution_count": 73,
   "id": "9f457572",
   "metadata": {},
   "outputs": [
    {
     "name": "stdout",
     "output_type": "stream",
     "text": [
      "              precision    recall  f1-score   support\n",
      "\n",
      "    aquarius       0.66      0.94      0.78      1031\n",
      "       aries       0.66      0.87      0.75      1043\n",
      "      cancer       0.69      0.85      0.77      1190\n",
      "   capricorn       0.74      0.83      0.78       952\n",
      "      gemini       0.78      0.79      0.78      1200\n",
      "         leo       0.79      0.80      0.79      1208\n",
      "       libra       0.78      0.76      0.77      1090\n",
      "      pisces       0.82      0.73      0.77      1059\n",
      " sagittarius       0.91      0.69      0.78      1051\n",
      "     scorpio       0.87      0.71      0.78      1072\n",
      "      taurus       0.92      0.70      0.79      1102\n",
      "       virgo       0.91      0.67      0.77      1164\n",
      "\n",
      "    accuracy                           0.78     13162\n",
      "   macro avg       0.79      0.78      0.78     13162\n",
      "weighted avg       0.80      0.78      0.78     13162\n",
      "\n"
     ]
    }
   ],
   "source": [
    "print(classification_report(Y_new_train, tree_new_predictions))"
   ]
  },
  {
   "cell_type": "markdown",
   "id": "b1622a19",
   "metadata": {},
   "source": [
    "#### NOTES \n",
    "- Even better! So adding more parameters has increased our likelyhood of predicting Zodiac sign based off other parameters in the description like body type, diet, orientation, pets, sex, job, and religion.\n",
    "- F1 score of .78 is signficantly better than our 3 parameter model off of drinking, smoking, and drugs (meaning its about 78% accurate)."
   ]
  },
  {
   "cell_type": "code",
   "execution_count": null,
   "id": "c1648500",
   "metadata": {},
   "outputs": [],
   "source": []
  },
  {
   "cell_type": "markdown",
   "id": "e5939bfe",
   "metadata": {},
   "source": [
    "#### Heatmap Using Our Decision Tree Model"
   ]
  },
  {
   "cell_type": "code",
   "execution_count": 74,
   "id": "ac0410dd",
   "metadata": {},
   "outputs": [],
   "source": [
    "from sklearn.metrics import confusion_matrix"
   ]
  },
  {
   "cell_type": "code",
   "execution_count": 75,
   "id": "d6d58eaa",
   "metadata": {},
   "outputs": [],
   "source": [
    "cm = confusion_matrix(Y_new_train, tree_new_predictions)\n",
    "cm_labels = tree_new.classes_"
   ]
  },
  {
   "cell_type": "code",
   "execution_count": 76,
   "id": "a5d21bc8",
   "metadata": {},
   "outputs": [
    {
     "data": {
      "image/png": "[encoded data removed]",
      "text/plain": [
       "<Figure size 720x504 with 2 Axes>"
      ]
     },
     "metadata": {
      "needs_background": "light"
     },
     "output_type": "display_data"
    }
   ],
   "source": [
    "plt.figure(figsize=(10,7))\n",
    "\n",
    "ax= plt.subplot()\n",
    "sns.heatmap(cm, annot=True, ax=ax, fmt=\"d\");\n",
    "\n",
    "# labels, title and ticks\n",
    "ax.set_xlabel('Predicted labels');\n",
    "ax.set_ylabel('True labels'); \n",
    "ax.set_title('Confusion Matrix');\n",
    "ax.yaxis.set_tick_params(rotation=360)\n",
    "ax.xaxis.set_tick_params(rotation=90)\n",
    "ax.xaxis.set_ticklabels(cm_labels); \n",
    "ax.yaxis.set_ticklabels(cm_labels);"
   ]
  },
  {
   "cell_type": "markdown",
   "id": "2c33edda",
   "metadata": {},
   "source": [
    "#### NOTES\n",
    "- Pretty cool, so it predicted cancer, leo, and aquarius most accurately and was least accurate on scorpio, sagittarius, and taurus.\n"
   ]
  },
  {
   "cell_type": "code",
   "execution_count": null,
   "id": "a139954b",
   "metadata": {},
   "outputs": [],
   "source": []
  },
  {
   "cell_type": "code",
   "execution_count": null,
   "id": "1e7de845",
   "metadata": {},
   "outputs": [],
   "source": []
  },
  {
   "cell_type": "code",
   "execution_count": null,
   "id": "3a7452d2",
   "metadata": {},
   "outputs": [],
   "source": []
  },
  {
   "cell_type": "code",
   "execution_count": null,
   "id": "7243a3b7",
   "metadata": {},
   "outputs": [],
   "source": []
  },
  {
   "cell_type": "code",
   "execution_count": null,
   "id": "4244c0a6",
   "metadata": {},
   "outputs": [],
   "source": []
  }
 ],
 "metadata": {
  "kernelspec": {
   "display_name": "Python 3 (ipykernel)",
   "language": "python",
   "name": "python3"
  },
  "language_info": {
   "codemirror_mode": {
    "name": "ipython",
    "version": 3
   },
   "file_extension": ".py",
   "mimetype": "text/x-python",
   "name": "python",
   "nbconvert_exporter": "python",
   "pygments_lexer": "ipython3",
   "version": "3.9.12"
  }
 },
 "nbformat": 4,
 "nbformat_minor": 5
}
